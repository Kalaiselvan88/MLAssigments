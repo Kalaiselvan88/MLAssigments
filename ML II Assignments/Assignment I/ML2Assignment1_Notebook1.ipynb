{
 "cells": [
  {
   "cell_type": "markdown",
   "metadata": {
    "colab_type": "text",
    "id": "view-in-github"
   },
   "source": [
    "<a href=\"https://colab.research.google.com/github/Kalaiselvan88/MLAssignments/blob/main/ML2Assignment1_Notebook1.ipynb\" target=\"_parent\"><img src=\"https://colab.research.google.com/assets/colab-badge.svg\" alt=\"Open In Colab\"/></a>"
   ]
  },
  {
   "cell_type": "code",
   "execution_count": null,
   "metadata": {
    "id": "Otv0eaVtSap-"
   },
   "outputs": [],
   "source": [
    "# Setting the environment variables"
   ]
  },
  {
   "cell_type": "code",
   "execution_count": null,
   "metadata": {
    "id": "0_x1wGvXSaqA"
   },
   "outputs": [],
   "source": [
    "import os\n",
    "import sys\n",
    "os.environ[\"PYSPARK_PYTHON\"]=\"/usr/bin/python3\"\n",
    "os.environ[\"PYSPARK_DRIVER_PYTHON\"]=\"/usr/bin/python3\"\n",
    "os.environ[\"PYSPARK_DRIVER_PYTHON_OPTS\"]=\"notebook --no-browser\"\n",
    "os.environ[\"JAVA_HOME\"] = \"/usr/java/jdk1.8.0_161/jre\"\n",
    "os.environ[\"SPARK_HOME\"] = \"/home/ec2-user/spark-2.4.4-bin-hadoop2.7\"\n",
    "os.environ[\"PYLIB\"] = os.environ[\"SPARK_HOME\"] + \"/python/lib\"\n",
    "sys.path.insert(0, os.environ[\"PYLIB\"] + \"/py4j-0.10.7-src.zip\")\n",
    "sys.path.insert(0, os.environ[\"PYLIB\"] + \"/pyspark.zip\")"
   ]
  },
  {
   "cell_type": "markdown",
   "metadata": {
    "id": "zc8Fw1YmSaqA"
   },
   "source": [
    "# Ecommerce Churn Assignment"
   ]
  },
  {
   "cell_type": "markdown",
   "metadata": {
    "id": "WdqyK1NYSaqB"
   },
   "source": [
    "The aim of the assignment is to build a model that predicts whether a person purchases an item after it has been added to the cart or not. Being a classification problem, you are expected to use your understanding of all the three models covered till now. You must select the most robust model and provide a solution that predicts the churn in the most suitable manner. \n",
    "\n",
    "For this assignment, you are provided the data associated with an e-commerce company for the month of October 2019. Your task is to first analyse the data, and then perform multiple steps towards the model building process.\n",
    "\n",
    "The broad tasks are:\n",
    "- Data Exploration\n",
    "- Feature Engineering\n",
    "- Model Selection\n",
    "- Model Inference"
   ]
  },
  {
   "cell_type": "markdown",
   "metadata": {
    "id": "eg_TcSf3SaqB"
   },
   "source": [
    "### Data description"
   ]
  },
  {
   "cell_type": "markdown",
   "metadata": {
    "id": "iD2_dPe8SaqB"
   },
   "source": [
    "The dataset stores the information of a customer session on the e-commerce platform. It records the activity and the associated parameters with it.\n",
    "\n",
    "- **event_time**: Date and time when user accesses the platform\n",
    "- **event_type**: Action performed by the customer\n",
    "            - View\n",
    "            - Cart\n",
    "            - Purchase\n",
    "            - Remove from cart\n",
    "- **product_id**: Unique number to identify the product in the event\n",
    "- **category_id**: Unique number to identify the category of the product\n",
    "- **category_code**: Stores primary and secondary categories of the product\n",
    "- **brand**: Brand associated with the product\n",
    "- **price**: Price of the product\n",
    "- **user_id**: Unique ID for a customer\n",
    "- **user_session**: Session ID for a user\n"
   ]
  },
  {
   "cell_type": "markdown",
   "metadata": {
    "id": "T2PJ4vlJSaqC"
   },
   "source": [
    "### Initialising the SparkSession"
   ]
  },
  {
   "cell_type": "markdown",
   "metadata": {
    "id": "O-7_xzYQSaqC"
   },
   "source": [
    "The dataset provided is 5 GBs in size. Therefore, it is expected that you increase the driver memory to a greater number."
   ]
  },
  {
   "cell_type": "code",
   "execution_count": null,
   "metadata": {
    "id": "5BIgmMD3SaqC"
   },
   "outputs": [],
   "source": [
    "# Spark environment\n",
    "from pyspark import SparkConf\n",
    "from pyspark.sql import SparkSession"
   ]
  },
  {
   "cell_type": "code",
   "execution_count": null,
   "metadata": {
    "id": "5xOAo0HqSaqD",
    "outputId": "fd252dcb-5207-4c0f-f7c7-6e22a144a9ad"
   },
   "outputs": [
    {
     "data": {
      "text/html": [
       "\n",
       "            <div>\n",
       "                <p><b>SparkSession - in-memory</b></p>\n",
       "                \n",
       "        <div>\n",
       "            <p><b>SparkContext</b></p>\n",
       "\n",
       "            <p><a href=\"http://ip-172-31-90-29.ec2.internal:4040\">Spark UI</a></p>\n",
       "\n",
       "            <dl>\n",
       "              <dt>Version</dt>\n",
       "                <dd><code>v2.4.4</code></dd>\n",
       "              <dt>Master</dt>\n",
       "                <dd><code>local[*]</code></dd>\n",
       "              <dt>AppName</dt>\n",
       "                <dd><code>demo</code></dd>\n",
       "            </dl>\n",
       "        </div>\n",
       "        \n",
       "            </div>\n",
       "        "
      ],
      "text/plain": [
       "<pyspark.sql.session.SparkSession at 0x7f8d30684a50>"
      ]
     },
     "execution_count": 4,
     "metadata": {
      "tags": []
     },
     "output_type": "execute_result"
    }
   ],
   "source": [
    "# initialising the session with 14 GB driver memory\n",
    "MAX_MEMORY = \"14G\"\n",
    "\n",
    "spark = SparkSession \\\n",
    "    .builder \\\n",
    "    .appName(\"demo\") \\\n",
    "    .config(\"spark.driver.memory\", MAX_MEMORY) \\\n",
    "    .getOrCreate()\n",
    "\n",
    "spark"
   ]
  },
  {
   "cell_type": "code",
   "execution_count": null,
   "metadata": {
    "id": "r7KyH-q5SaqD",
    "outputId": "c360ec76-a8f0-48d2-cf7c-3f43aa56c53b"
   },
   "outputs": [
    {
     "data": {
      "text/plain": [
       "'14G'"
      ]
     },
     "execution_count": 5,
     "metadata": {
      "tags": []
     },
     "output_type": "execute_result"
    }
   ],
   "source": [
    "# Spark session with 14 GB driver memory\n",
    "spark.sparkContext.getConf().get('spark.driver.memory')"
   ]
  },
  {
   "cell_type": "code",
   "execution_count": null,
   "metadata": {
    "id": "a69UOI9lSaqE"
   },
   "outputs": [],
   "source": [
    "# loading the dataset from the EC2 instance - 2019-Oct.csv\n",
    "df = spark.read.csv('inputdata/2019-Oct.csv', header = True, inferSchema = True)"
   ]
  },
  {
   "cell_type": "code",
   "execution_count": null,
   "metadata": {
    "id": "onX3BKNRSaqE",
    "outputId": "13349d53-fcf7-4f00-efe7-0b9ea36f147c"
   },
   "outputs": [
    {
     "name": "stdout",
     "output_type": "stream",
     "text": [
      "+--------------------+----------+----------+-------------------+--------------------+--------+-------+---------+--------------------+\n",
      "|          event_time|event_type|product_id|        category_id|       category_code|   brand|  price|  user_id|        user_session|\n",
      "+--------------------+----------+----------+-------------------+--------------------+--------+-------+---------+--------------------+\n",
      "|2019-10-01 00:00:...|      view|  44600062|2103807459595387724|                null|shiseido|  35.79|541312140|72d76fde-8bb3-4e0...|\n",
      "|2019-10-01 00:00:...|      view|   3900821|2053013552326770905|appliances.enviro...|    aqua|   33.2|554748717|9333dfbd-b87a-470...|\n",
      "|2019-10-01 00:00:...|      view|  17200506|2053013559792632471|furniture.living_...|    null|  543.1|519107250|566511c2-e2e3-422...|\n",
      "|2019-10-01 00:00:...|      view|   1307067|2053013558920217191|  computers.notebook|  lenovo| 251.74|550050854|7c90fc70-0e80-459...|\n",
      "|2019-10-01 00:00:...|      view|   1004237|2053013555631882655|electronics.smart...|   apple|1081.98|535871217|c6bd7419-2748-4c5...|\n",
      "|2019-10-01 00:00:...|      view|   1480613|2053013561092866779|   computers.desktop|  pulser| 908.62|512742880|0d0d91c2-c9c2-4e8...|\n",
      "|2019-10-01 00:00:...|      view|  17300353|2053013553853497655|                null|   creed| 380.96|555447699|4fe811e9-91de-46d...|\n",
      "|2019-10-01 00:00:...|      view|  31500053|2053013558031024687|                null|luminarc|  41.16|550978835|6280d577-25c8-414...|\n",
      "|2019-10-01 00:00:...|      view|  28719074|2053013565480109009|  apparel.shoes.keds|   baden| 102.71|520571932|ac1cd4e5-a3ce-422...|\n",
      "|2019-10-01 00:00:...|      view|   1004545|2053013555631882655|electronics.smart...|  huawei| 566.01|537918940|406c46ed-90a4-478...|\n",
      "|2019-10-01 00:00:...|      view|   2900536|2053013554776244595|appliances.kitche...|elenberg|  51.46|555158050|b5bdd0b3-4ca2-4c5...|\n",
      "|2019-10-01 00:00:...|      view|   1005011|2053013555631882655|electronics.smart...| samsung| 900.64|530282093|50a293fb-5940-41b...|\n",
      "|2019-10-01 00:00:...|      view|   3900746|2053013552326770905|appliances.enviro...|   haier| 102.38|555444559|98b88fa0-d8fa-4b9...|\n",
      "|2019-10-01 00:00:...|      view|  44600062|2103807459595387724|                null|shiseido|  35.79|541312140|72d76fde-8bb3-4e0...|\n",
      "|2019-10-01 00:00:...|      view|  13500240|2053013557099889147|furniture.bedroom...|     brw|  93.18|555446365|7f0062d8-ead0-4e0...|\n",
      "|2019-10-01 00:00:...|      view|  23100006|2053013561638126333|                null|    null| 357.79|513642368|17566c27-0a8f-450...|\n",
      "|2019-10-01 00:00:...|      view|   1801995|2053013554415534427|electronics.video.tv|   haier| 193.03|537192226|e3151795-c355-4ef...|\n",
      "|2019-10-01 00:00:...|      view|  10900029|2053013555069845885|appliances.kitche...|   bosch|  58.95|519528062|901b9e3c-3f8f-414...|\n",
      "|2019-10-01 00:00:...|      view|   1306631|2053013558920217191|  computers.notebook|      hp| 580.89|550050854|7c90fc70-0e80-459...|\n",
      "|2019-10-01 00:00:...|      view|   1005135|2053013555631882655|electronics.smart...|   apple|1747.79|535871217|c6bd7419-2748-4c5...|\n",
      "+--------------------+----------+----------+-------------------+--------------------+--------+-------+---------+--------------------+\n",
      "only showing top 20 rows\n",
      "\n"
     ]
    }
   ],
   "source": [
    "# exploring the dataframe - top 20 rows\n",
    "df.show()"
   ]
  },
  {
   "cell_type": "code",
   "execution_count": null,
   "metadata": {
    "id": "579BBvjFSaqF",
    "outputId": "2a7957a5-773c-4385-ca8f-bf7e590c3273",
    "scrolled": true
   },
   "outputs": [
    {
     "name": "stdout",
     "output_type": "stream",
     "text": [
      "root\n",
      " |-- event_time: string (nullable = true)\n",
      " |-- event_type: string (nullable = true)\n",
      " |-- product_id: integer (nullable = true)\n",
      " |-- category_id: long (nullable = true)\n",
      " |-- category_code: string (nullable = true)\n",
      " |-- brand: string (nullable = true)\n",
      " |-- price: double (nullable = true)\n",
      " |-- user_id: integer (nullable = true)\n",
      " |-- user_session: string (nullable = true)\n",
      "\n"
     ]
    }
   ],
   "source": [
    "# exploring the dataframe - schema\n",
    "df.printSchema()"
   ]
  },
  {
   "cell_type": "code",
   "execution_count": null,
   "metadata": {
    "id": "HcajoQH6SaqF",
    "outputId": "3ba1a519-4f60-4f5c-eeca-06f506262c95"
   },
   "outputs": [
    {
     "data": {
      "text/plain": [
       "42448764"
      ]
     },
     "execution_count": 9,
     "metadata": {
      "tags": []
     },
     "output_type": "execute_result"
    }
   ],
   "source": [
    "# Number of rows and columns in the dataset\n",
    "df.count()"
   ]
  },
  {
   "cell_type": "markdown",
   "metadata": {
    "id": "V0X6lPdNSaqG"
   },
   "source": [
    "So, we have a huge dataset that contains 42 million rows.\n",
    "\n",
    "Now, tha dataset is loaded in Spark environment. Let's proceed with the desired tasks."
   ]
  },
  {
   "cell_type": "markdown",
   "metadata": {
    "id": "S1wjWSBVSaqG"
   },
   "source": [
    "<hr>"
   ]
  },
  {
   "cell_type": "markdown",
   "metadata": {
    "id": "Z8Q12ssKSaqG"
   },
   "source": [
    "## Task 1 - Data Exploration\n",
    "\n",
    "**Find**\n",
    "- 5 most popular:\n",
    "    - Products sold by the e-commerce company in the month\n",
    "    - Brands on the platform\n",
    "    - Product categories\n",
    "- Number of unique users and the most active user on the platform\n",
    "- Average and maximum price for smartphones purchased by the customers\n",
    "<br>\n",
    "\n",
    "**Plot and comment**\n",
    "- Event-type funnel distribution in e-commerce shopping journey\n",
    "- Traffic on different days of the week\n",
    "\n",
    "Provide the results in a separate report."
   ]
  },
  {
   "cell_type": "code",
   "execution_count": null,
   "metadata": {
    "id": "Zz3vgs0-SaqH",
    "outputId": "6a3683f9-6bb6-472f-ebf8-4f97021980c1"
   },
   "outputs": [
    {
     "name": "stdout",
     "output_type": "stream",
     "text": [
      "+----------+--------+\n",
      "|event_type|   count|\n",
      "+----------+--------+\n",
      "|      view|40779399|\n",
      "|      cart|  926516|\n",
      "|  purchase|  742849|\n",
      "+----------+--------+\n",
      "\n"
     ]
    }
   ],
   "source": [
    "# Let us first see what are the possible values for event_type column\n",
    "df.groupBy('event_type').count().orderBy('count', ascending = 0).show()"
   ]
  },
  {
   "cell_type": "code",
   "execution_count": null,
   "metadata": {
    "id": "9PvcOcdhSaqH",
    "outputId": "afa321e3-3671-4616-f5df-8c843806a3db",
    "scrolled": true
   },
   "outputs": [
    {
     "name": "stdout",
     "output_type": "stream",
     "text": [
      "+----------+-----+\n",
      "|product_id|count|\n",
      "+----------+-----+\n",
      "|   1004856|28944|\n",
      "|   1004767|21806|\n",
      "|   1004833|12697|\n",
      "|   1005115|12543|\n",
      "|   4804056|12381|\n",
      "+----------+-----+\n",
      "only showing top 5 rows\n",
      "\n"
     ]
    }
   ],
   "source": [
    "# 5 most popular products sold\n",
    "df.filter(df['event_type'] == 'purchase').groupBy(\"product_id\").count().orderBy(\"count\", ascending = False).show(5)"
   ]
  },
  {
   "cell_type": "code",
   "execution_count": null,
   "metadata": {
    "id": "NG21lM8tSaqH",
    "outputId": "886df936-0370-4953-eee8-78022641150d"
   },
   "outputs": [
    {
     "name": "stdout",
     "output_type": "stream",
     "text": [
      "+-------+-------+\n",
      "|  brand|  count|\n",
      "+-------+-------+\n",
      "|   null|6113008|\n",
      "|samsung|5282775|\n",
      "|  apple|4122554|\n",
      "| xiaomi|3083763|\n",
      "| huawei|1111205|\n",
      "+-------+-------+\n",
      "only showing top 5 rows\n",
      "\n"
     ]
    }
   ],
   "source": [
    "# 5 most popular brands\n",
    "df.groupBy(\"brand\").count().orderBy(\"count\", ascending = False).show(5)"
   ]
  },
  {
   "cell_type": "code",
   "execution_count": null,
   "metadata": {
    "id": "nDLE6XvpSaqI",
    "outputId": "56e98a39-ceea-4e85-8ff0-7f58dc691141"
   },
   "outputs": [
    {
     "name": "stdout",
     "output_type": "stream",
     "text": [
      "+-------+-------+\n",
      "|  brand|  count|\n",
      "+-------+-------+\n",
      "|   null|6113008|\n",
      "|samsung|5282775|\n",
      "|  apple|4122554|\n",
      "| xiaomi|3083763|\n",
      "| huawei|1111205|\n",
      "|lucente| 655861|\n",
      "+-------+-------+\n",
      "only showing top 6 rows\n",
      "\n"
     ]
    }
   ],
   "source": [
    "# Since above is showing null with high count let us increase count by 1\n",
    "df.groupBy(\"brand\").count().orderBy(\"count\", ascending = False).show(6)"
   ]
  },
  {
   "cell_type": "code",
   "execution_count": null,
   "metadata": {
    "id": "3mEekWdXSaqI",
    "outputId": "14adb7dc-3612-47ae-8a1b-2a88503ebaba"
   },
   "outputs": [
    {
     "name": "stdout",
     "output_type": "stream",
     "text": [
      "+---------------------------+--------+\n",
      "|category_code              |count   |\n",
      "+---------------------------+--------+\n",
      "|null                       |13515609|\n",
      "|electronics.smartphone     |11507231|\n",
      "|electronics.clocks         |1311033 |\n",
      "|computers.notebook         |1137623 |\n",
      "|electronics.video.tv       |1113750 |\n",
      "|electronics.audio.headphone|1100188 |\n",
      "+---------------------------+--------+\n",
      "only showing top 6 rows\n",
      "\n"
     ]
    }
   ],
   "source": [
    "# 5 most popular product categories\n",
    "df.groupBy(\"category_code\").count().orderBy(\"count\", ascending = False).show(6, False)"
   ]
  },
  {
   "cell_type": "code",
   "execution_count": null,
   "metadata": {
    "id": "hdaC0zD2SaqI",
    "outputId": "0a45974e-e857-4266-c57a-1fc5333719ad",
    "scrolled": true
   },
   "outputs": [
    {
     "data": {
      "text/plain": [
       "3022290"
      ]
     },
     "execution_count": 15,
     "metadata": {
      "tags": []
     },
     "output_type": "execute_result"
    }
   ],
   "source": [
    "# Number of unique users\n",
    "df.select(\"user_id\").distinct().count()"
   ]
  },
  {
   "cell_type": "code",
   "execution_count": null,
   "metadata": {
    "id": "xap-dgyJSaqJ",
    "outputId": "b2a2e202-ed6d-43f0-d48b-e966240c3c0f",
    "scrolled": true
   },
   "outputs": [
    {
     "name": "stdout",
     "output_type": "stream",
     "text": [
      "+---------+-----+\n",
      "|  user_id|count|\n",
      "+---------+-----+\n",
      "|512475445| 7436|\n",
      "+---------+-----+\n",
      "only showing top 1 row\n",
      "\n"
     ]
    }
   ],
   "source": [
    "# The most active user on the platform\n",
    "df.groupBy(\"user_id\").count().orderBy(\"count\", ascending = False).show(1)"
   ]
  },
  {
   "cell_type": "code",
   "execution_count": null,
   "metadata": {
    "id": "A2jOKhECSaqJ",
    "outputId": "77c57a66-6c20-4c15-80c4-56f668bfd237"
   },
   "outputs": [
    {
     "data": {
      "text/plain": [
       "[Row(avg(price)=464.6191130945664)]"
      ]
     },
     "execution_count": 17,
     "metadata": {
      "tags": []
     },
     "output_type": "execute_result"
    }
   ],
   "source": [
    "# Average and Maximum price for smartphones purchased by the customers\n",
    "# Below code gives the average price\n",
    "df.filter(\"category_code == 'electronics.smartphone' AND event_type == 'purchase'\").agg({\"price\": \"avg\"}).collect()"
   ]
  },
  {
   "cell_type": "code",
   "execution_count": null,
   "metadata": {
    "id": "RoW7sHYuSaqJ",
    "outputId": "1ad33afb-5725-4a9a-e151-531bee264e11"
   },
   "outputs": [
    {
     "data": {
      "text/plain": [
       "[Row(max(price)=2110.45)]"
      ]
     },
     "execution_count": 18,
     "metadata": {
      "tags": []
     },
     "output_type": "execute_result"
    }
   ],
   "source": [
    "# Below code gives the maximum price\n",
    "df.filter(\"category_code == 'electronics.smartphone' AND event_type == 'purchase'\").agg({\"price\": \"max\"}).collect()"
   ]
  },
  {
   "cell_type": "markdown",
   "metadata": {
    "id": "P88tYeunSaqK"
   },
   "source": [
    " "
   ]
  },
  {
   "cell_type": "code",
   "execution_count": null,
   "metadata": {
    "id": "eKfWa5VPSaqK",
    "outputId": "f5889a87-460a-4b6a-cd02-fa1ce971db2d"
   },
   "outputs": [
    {
     "name": "stdout",
     "output_type": "stream",
     "text": [
      "Defaulting to user installation because normal site-packages is not writeable\n",
      "Requirement already satisfied: matplotlib in ./.local/lib/python3.7/site-packages (3.3.3)\n",
      "Requirement already satisfied: numpy>=1.15 in ./.local/lib/python3.7/site-packages (from matplotlib) (1.19.1)\n",
      "Requirement already satisfied: cycler>=0.10 in ./.local/lib/python3.7/site-packages (from matplotlib) (0.10.0)\n",
      "Requirement already satisfied: python-dateutil>=2.1 in ./.local/lib/python3.7/site-packages (from matplotlib) (2.8.1)\n",
      "Requirement already satisfied: kiwisolver>=1.0.1 in ./.local/lib/python3.7/site-packages (from matplotlib) (1.3.1)\n",
      "Requirement already satisfied: pillow>=6.2.0 in ./.local/lib/python3.7/site-packages (from matplotlib) (8.1.0)\n",
      "Requirement already satisfied: pyparsing!=2.0.4,!=2.1.2,!=2.1.6,>=2.0.3 in ./.local/lib/python3.7/site-packages (from matplotlib) (2.4.7)\n",
      "Requirement already satisfied: six in ./.local/lib/python3.7/site-packages (from cycler>=0.10->matplotlib) (1.15.0)\n"
     ]
    }
   ],
   "source": [
    "# Event-type funnel distribution\n",
    "# Remember Spark dataframe cannot be visualised directly\n",
    "# Install matplotlib\n",
    "! pip3 install matplotlib "
   ]
  },
  {
   "cell_type": "code",
   "execution_count": null,
   "metadata": {
    "id": "C4wAiifISaqK"
   },
   "outputs": [],
   "source": [
    "# Convert the spark to Pandas dataframe. Let us take just 1 column which is needed as data is huge.\n",
    "pd_df_event_type = df.groupBy(\"event_type\").count().orderBy(\"count\", ascending = False).toPandas()"
   ]
  },
  {
   "cell_type": "code",
   "execution_count": null,
   "metadata": {
    "id": "dnrh_TBrSaqK",
    "outputId": "94f41713-2f6c-479c-b0f2-829d8315c5ed"
   },
   "outputs": [
    {
     "data": {
      "image/png": "[encoded data removed]",
      "text/plain": [
       "<Figure size 432x288 with 1 Axes>"
      ]
     },
     "metadata": {
      "needs_background": "light",
      "tags": []
     },
     "output_type": "display_data"
    }
   ],
   "source": [
    "import matplotlib.pyplot as plt\n",
    "pd_df_event_type.plot(x = 'event_type', y = 'count', kind='bar', color = \"blue\")\n",
    "\n",
    "plt.title('Event-type funnel distribution')\n",
    "plt.ylabel('Amount of Event for each type')\n",
    "plt.xlabel('Event type')\n",
    "plt.show()"
   ]
  },
  {
   "cell_type": "code",
   "execution_count": null,
   "metadata": {
    "id": "qBqlBHo8SaqL",
    "outputId": "ba463f78-bbb4-4e28-8c8e-0347b5b1a496"
   },
   "outputs": [
    {
     "name": "stdout",
     "output_type": "stream",
     "text": [
      "+-----------------------+\n",
      "|event_time             |\n",
      "+-----------------------+\n",
      "|2019-10-01 00:00:00 UTC|\n",
      "|2019-10-01 00:00:00 UTC|\n",
      "|2019-10-01 00:00:01 UTC|\n",
      "|2019-10-01 00:00:01 UTC|\n",
      "|2019-10-01 00:00:04 UTC|\n",
      "|2019-10-01 00:00:05 UTC|\n",
      "|2019-10-01 00:00:08 UTC|\n",
      "|2019-10-01 00:00:08 UTC|\n",
      "|2019-10-01 00:00:10 UTC|\n",
      "|2019-10-01 00:00:11 UTC|\n",
      "|2019-10-01 00:00:11 UTC|\n",
      "|2019-10-01 00:00:11 UTC|\n",
      "|2019-10-01 00:00:13 UTC|\n",
      "|2019-10-01 00:00:15 UTC|\n",
      "|2019-10-01 00:00:16 UTC|\n",
      "|2019-10-01 00:00:17 UTC|\n",
      "|2019-10-01 00:00:18 UTC|\n",
      "|2019-10-01 00:00:18 UTC|\n",
      "|2019-10-01 00:00:19 UTC|\n",
      "|2019-10-01 00:00:19 UTC|\n",
      "+-----------------------+\n",
      "only showing top 20 rows\n",
      "\n"
     ]
    }
   ],
   "source": [
    "# Traffic on different days of the week\n",
    "# Remember Spark dataframe cannot be visualised directly\n",
    "\n",
    "# Let us view the event_time column\n",
    "df.select('event_time').show(20,False)"
   ]
  },
  {
   "cell_type": "code",
   "execution_count": null,
   "metadata": {
    "id": "8Xoy28l0SaqL",
    "outputId": "b4a157e0-965c-4284-9fc4-b788ef98f11e"
   },
   "outputs": [
    {
     "name": "stdout",
     "output_type": "stream",
     "text": [
      "+-------------------+\n",
      "|event_timestamp    |\n",
      "+-------------------+\n",
      "|2019-10-01 00:00:00|\n",
      "|2019-10-01 00:00:00|\n",
      "|2019-10-01 00:00:01|\n",
      "|2019-10-01 00:00:01|\n",
      "|2019-10-01 00:00:04|\n",
      "|2019-10-01 00:00:05|\n",
      "|2019-10-01 00:00:08|\n",
      "|2019-10-01 00:00:08|\n",
      "|2019-10-01 00:00:10|\n",
      "|2019-10-01 00:00:11|\n",
      "|2019-10-01 00:00:11|\n",
      "|2019-10-01 00:00:11|\n",
      "|2019-10-01 00:00:13|\n",
      "|2019-10-01 00:00:15|\n",
      "|2019-10-01 00:00:16|\n",
      "|2019-10-01 00:00:17|\n",
      "|2019-10-01 00:00:18|\n",
      "|2019-10-01 00:00:18|\n",
      "|2019-10-01 00:00:19|\n",
      "|2019-10-01 00:00:19|\n",
      "+-------------------+\n",
      "only showing top 20 rows\n",
      "\n"
     ]
    }
   ],
   "source": [
    "# Changing the type of column Date to timestamp\n",
    "from pyspark.sql.functions import to_timestamp\n",
    "df = df.withColumn(\"event_timestamp\",to_timestamp('event_time',\"yyyy-MM-dd H:m:s\"))\n",
    "df.select('event_timestamp').show(20, False)"
   ]
  },
  {
   "cell_type": "code",
   "execution_count": null,
   "metadata": {
    "id": "eMMPmYCbSaqL",
    "outputId": "c1288208-a23e-4b21-f205-58320d546952"
   },
   "outputs": [
    {
     "name": "stdout",
     "output_type": "stream",
     "text": [
      "+-----------+----+\n",
      "|day_of_week|hour|\n",
      "+-----------+----+\n",
      "|3          |0   |\n",
      "|3          |0   |\n",
      "|3          |0   |\n",
      "|3          |0   |\n",
      "|3          |0   |\n",
      "|3          |0   |\n",
      "|3          |0   |\n",
      "|3          |0   |\n",
      "|3          |0   |\n",
      "|3          |0   |\n",
      "|3          |0   |\n",
      "|3          |0   |\n",
      "|3          |0   |\n",
      "|3          |0   |\n",
      "|3          |0   |\n",
      "|3          |0   |\n",
      "|3          |0   |\n",
      "|3          |0   |\n",
      "|3          |0   |\n",
      "|3          |0   |\n",
      "+-----------+----+\n",
      "only showing top 20 rows\n",
      "\n"
     ]
    }
   ],
   "source": [
    "### Extract day of week and hour from date in pyspark\n",
    "from pyspark.sql.functions import dayofweek, hour\n",
    "\n",
    "# create a new column for dayofweek from event_time\n",
    "df = df.withColumn('day_of_week', dayofweek(df[\"event_timestamp\"]))\n",
    "df = df.withColumn('hour', hour(df[\"event_timestamp\"]))\n",
    "df.select('day_of_week','hour').show(20, False)"
   ]
  },
  {
   "cell_type": "code",
   "execution_count": null,
   "metadata": {
    "id": "oc8Swg03SaqM",
    "outputId": "762fb20f-1394-4204-ba67-16af28d5846e"
   },
   "outputs": [
    {
     "name": "stdout",
     "output_type": "stream",
     "text": [
      "root\n",
      " |-- event_time: string (nullable = true)\n",
      " |-- event_type: string (nullable = true)\n",
      " |-- product_id: integer (nullable = true)\n",
      " |-- category_id: long (nullable = true)\n",
      " |-- category_code: string (nullable = true)\n",
      " |-- brand: string (nullable = true)\n",
      " |-- price: double (nullable = true)\n",
      " |-- user_id: integer (nullable = true)\n",
      " |-- user_session: string (nullable = true)\n",
      " |-- event_timestamp: timestamp (nullable = true)\n",
      " |-- day_of_week: integer (nullable = true)\n",
      " |-- hour: integer (nullable = true)\n",
      "\n"
     ]
    }
   ],
   "source": [
    "# Check schema\n",
    "df.printSchema()"
   ]
  },
  {
   "cell_type": "code",
   "execution_count": null,
   "metadata": {
    "id": "pNdYjG-vSaqM"
   },
   "outputs": [],
   "source": [
    "# Convert the spark to Pandas dataframe. Let us take just 1 column which is needed as data is huge.\n",
    "pd_df_day_week = df.groupBy(\"day_of_week\").count().orderBy(\"day_of_week\").toPandas()"
   ]
  },
  {
   "cell_type": "code",
   "execution_count": null,
   "metadata": {
    "id": "_E0TKOZKSaqM",
    "outputId": "dec5aa18-bc68-4e4f-90b2-d7c8d7a50a3e"
   },
   "outputs": [
    {
     "data": {
      "image/png": "[encoded data removed]",
      "text/plain": [
       "<Figure size 432x288 with 1 Axes>"
      ]
     },
     "metadata": {
      "needs_background": "light",
      "tags": []
     },
     "output_type": "display_data"
    }
   ],
   "source": [
    "pd_df_day_week.plot(x = 'day_of_week', y = 'count', kind='bar', color = \"green\")\n",
    "\n",
    "plt.title('Day of week Traffic distribution')\n",
    "plt.ylabel('Traffic on each day')\n",
    "plt.xlabel('Day of week')\n",
    "plt.show()"
   ]
  },
  {
   "cell_type": "code",
   "execution_count": null,
   "metadata": {
    "id": "ffHWJgCVSaqN",
    "outputId": "378c8100-09fc-4168-8acf-c3f9afd2b2bb"
   },
   "outputs": [
    {
     "name": "stdout",
     "output_type": "stream",
     "text": [
      "root\n",
      " |-- event_type: string (nullable = true)\n",
      " |-- product_id: integer (nullable = true)\n",
      " |-- category_id: long (nullable = true)\n",
      " |-- category_code: string (nullable = true)\n",
      " |-- brand: string (nullable = true)\n",
      " |-- price: double (nullable = true)\n",
      " |-- user_id: integer (nullable = true)\n",
      " |-- user_session: string (nullable = true)\n",
      " |-- day_of_week: integer (nullable = true)\n",
      " |-- hour: integer (nullable = true)\n",
      "\n"
     ]
    }
   ],
   "source": [
    "# drop redundant column(s), if any\n",
    "# Let us drop the event_time and event_timestamp columns as we have day_of_week and hour columns now\n",
    "df = df.drop('event_time','event_timestamp')\n",
    "df.printSchema()"
   ]
  },
  {
   "cell_type": "markdown",
   "metadata": {
    "id": "cbcy6bB_SaqN"
   },
   "source": [
    "<hr>"
   ]
  },
  {
   "cell_type": "markdown",
   "metadata": {
    "id": "NIZLzb00SaqN"
   },
   "source": [
    "## Task 2 - Feature Engineering\n",
    "\n",
    "- Handle missing values (provide justification for approach)\n",
    "- Generate the category code at 2 levels (Split into 2 columns)\n",
    "    - Example: electronics.video.tv - electronics, video\n",
    "- Capture user activity in different columns\n",
    "    - Total activities (view/cart/etc.) in the session\n",
    "    - Affinity towards a particular product (Product count for user)\n",
    "    - Affinity towards a category (Secondary category count for user)\n",
    "    - Average shopping expense for a product category (secondary)\n",
    "    - Number of user sessions\n",
    "- Impact of time: Day and Hour (Binning hours into 4 buckets)\n",
    "- Reduction in brands for analysis: Top 20 + ‘others’\n",
    "- Target variable generation: is_purchased\n"
   ]
  },
  {
   "cell_type": "code",
   "execution_count": null,
   "metadata": {
    "id": "JlJjBvovSaqS",
    "outputId": "7fca33ac-a94e-48f2-e1c6-4d4fbbb2ff49",
    "scrolled": true
   },
   "outputs": [
    {
     "name": "stdout",
     "output_type": "stream",
     "text": [
      "+----------+----------+-----------+-------------+-----+-----+-------+------------+-----------+----+\n",
      "|event_type|product_id|category_id|category_code|brand|price|user_id|user_session|day_of_week|hour|\n",
      "+----------+----------+-----------+-------------+-----+-----+-------+------------+-----------+----+\n",
      "|         0|         0|          0|            0|    0|    0|      0|           0|          0|   0|\n",
      "+----------+----------+-----------+-------------+-----+-----+-------+------------+-----------+----+\n",
      "\n"
     ]
    }
   ],
   "source": [
    "# Handling missing values\n",
    "from pyspark.sql.functions import *\n",
    "# Let us check for nan values\n",
    "df.select([count(when(isnan(c),c)).alias(c) for c in df.columns]).show()"
   ]
  },
  {
   "cell_type": "code",
   "execution_count": null,
   "metadata": {
    "id": "3le6Lw_lSaqS",
    "outputId": "13b6b35a-d7e6-4f9e-8859-3e74a027ddaa"
   },
   "outputs": [
    {
     "name": "stdout",
     "output_type": "stream",
     "text": [
      "+----------+----------+-----------+-------------+-------+-----+-------+------------+-----------+----+\n",
      "|event_type|product_id|category_id|category_code|  brand|price|user_id|user_session|day_of_week|hour|\n",
      "+----------+----------+-----------+-------------+-------+-----+-------+------------+-----------+----+\n",
      "|         0|         0|          0|     13515609|6113008|    0|      0|           2|          0|   0|\n",
      "+----------+----------+-----------+-------------+-------+-----+-------+------------+-----------+----+\n",
      "\n"
     ]
    }
   ],
   "source": [
    "# Let us also check for Null values\n",
    "df.select([count(when(isnull(c),c)).alias(c) for c in df.columns]).show()"
   ]
  },
  {
   "cell_type": "code",
   "execution_count": null,
   "metadata": {
    "id": "qwWk5yzGSaqS",
    "outputId": "17d910bc-3817-4cb1-b61b-cf9a7403a607"
   },
   "outputs": [
    {
     "data": {
      "text/plain": [
       "0.14400909293848932"
      ]
     },
     "execution_count": 31,
     "metadata": {
      "tags": []
     },
     "output_type": "execute_result"
    }
   ],
   "source": [
    "# Let us have a look at what percentage of data is brand null\n",
    "df.filter(df['brand'].isNull()).count()/df.count()"
   ]
  },
  {
   "cell_type": "code",
   "execution_count": null,
   "metadata": {
    "id": "JQYl_FlUSaqT",
    "outputId": "62a656ee-4360-4fc8-855b-08ae31c36cbb"
   },
   "outputs": [
    {
     "data": {
      "text/plain": [
       "0.3183981752684248"
      ]
     },
     "execution_count": 32,
     "metadata": {
      "tags": []
     },
     "output_type": "execute_result"
    }
   ],
   "source": [
    "# Let us have a look at what percentage of data is category_code null\n",
    "df.filter(df['category_code'].isNull()).count()/df.count()"
   ]
  },
  {
   "cell_type": "markdown",
   "metadata": {
    "id": "Xqn3Fa2RSaqT"
   },
   "source": [
    "#### Reason for the action performed:\n",
    "Since there are a lot of rows with null values and we still need those rows to track other activities of user, let us impute the null rows with 'NA' value since the columns which has Null values are string"
   ]
  },
  {
   "cell_type": "code",
   "execution_count": null,
   "metadata": {
    "id": "8WfxBCqSSaqT",
    "outputId": "f6abf7e2-a9a8-4c14-c430-f3311e59d674"
   },
   "outputs": [
    {
     "name": "stdout",
     "output_type": "stream",
     "text": [
      "+----------+----------+-----------+-------------+-----+-----+-------+------------+-----------+----+\n",
      "|event_type|product_id|category_id|category_code|brand|price|user_id|user_session|day_of_week|hour|\n",
      "+----------+----------+-----------+-------------+-----+-----+-------+------------+-----------+----+\n",
      "|         0|         0|          0|            0|    0|    0|      0|           0|          0|   0|\n",
      "+----------+----------+-----------+-------------+-----+-----+-------+------------+-----------+----+\n",
      "\n"
     ]
    }
   ],
   "source": [
    "# Imputing the Null values\n",
    "df = df.na.fill('NA')\n",
    "df.select([count(when(isnull(c),c)).alias(c) for c in df.columns]).show()"
   ]
  },
  {
   "cell_type": "code",
   "execution_count": null,
   "metadata": {
    "id": "jwLlOdyZSaqT",
    "outputId": "5d086dbe-79f5-49db-c60a-7b720dcfc998"
   },
   "outputs": [
    {
     "data": {
      "text/plain": [
       "42448764"
      ]
     },
     "execution_count": 34,
     "metadata": {
      "tags": []
     },
     "output_type": "execute_result"
    }
   ],
   "source": [
    "# Check for total row count\n",
    "df.count()"
   ]
  },
  {
   "cell_type": "markdown",
   "metadata": {
    "id": "0EUTlkPASaqT"
   },
   "source": [
    "The count is same and we have not lost anything"
   ]
  },
  {
   "cell_type": "code",
   "execution_count": null,
   "metadata": {
    "id": "kDP9u2CpSaqU",
    "outputId": "8a9ab6c5-819f-41b2-f49a-97502d679c46"
   },
   "outputs": [
    {
     "data": {
      "text/plain": [
       "12765846"
      ]
     },
     "execution_count": 35,
     "metadata": {
      "tags": []
     },
     "output_type": "execute_result"
    }
   ],
   "source": [
    "# Checking for duplicate entries\n",
    "df_distinct = df.distinct()\n",
    "duplicates = df.count() - df_distinct.count()\n",
    "duplicates"
   ]
  },
  {
   "cell_type": "code",
   "execution_count": null,
   "metadata": {
    "id": "uhJi0hHQSaqU"
   },
   "outputs": [],
   "source": [
    "# Take required action here\n",
    "df = df.dropDuplicates()"
   ]
  },
  {
   "cell_type": "code",
   "execution_count": null,
   "metadata": {
    "id": "bNDhZQJLSaqU",
    "outputId": "fdf8f21f-f1bc-412f-a6ce-bab7846964e4",
    "scrolled": true
   },
   "outputs": [
    {
     "name": "stdout",
     "output_type": "stream",
     "text": [
      "root\n",
      " |-- event_type: string (nullable = false)\n",
      " |-- product_id: integer (nullable = true)\n",
      " |-- category_id: long (nullable = true)\n",
      " |-- category_code: string (nullable = false)\n",
      " |-- brand: string (nullable = false)\n",
      " |-- price: double (nullable = true)\n",
      " |-- user_id: integer (nullable = true)\n",
      " |-- user_session: string (nullable = false)\n",
      " |-- day_of_week: integer (nullable = true)\n",
      " |-- hour: integer (nullable = true)\n",
      "\n"
     ]
    }
   ],
   "source": [
    "# drop redundant column(s), if any\n",
    "df.printSchema()"
   ]
  },
  {
   "cell_type": "markdown",
   "metadata": {
    "id": "OGxcpV-NSaqU"
   },
   "source": [
    "There are no redundant columns"
   ]
  },
  {
   "cell_type": "markdown",
   "metadata": {
    "id": "aO2l1uJBSaqU"
   },
   "source": [
    " "
   ]
  },
  {
   "cell_type": "code",
   "execution_count": null,
   "metadata": {
    "id": "J2m9RlLTSaqU"
   },
   "outputs": [],
   "source": [
    "# Generating 2 columns from category code\n",
    "# Columns have only single entity (electronics.video.tv: electronics, video)\n",
    "# Check if split command works with '.' or Spark treats it as special character\n",
    "import pyspark.sql.functions as F\n",
    "split_col = F.split(df['category_code'], '\\.')\n",
    "df = df.withColumn('cat_l1', split_col.getItem(0))\n",
    "df = df.withColumn('cat_l2', split_col.getItem(1))"
   ]
  },
  {
   "cell_type": "code",
   "execution_count": null,
   "metadata": {
    "id": "UVnx7NB4SaqV",
    "outputId": "aeec9590-20dc-42ab-a272-de8f8439c978"
   },
   "outputs": [
    {
     "name": "stdout",
     "output_type": "stream",
     "text": [
      "+--------------------+-----------+-----------+\n",
      "|       category_code|     cat_l1|     cat_l2|\n",
      "+--------------------+-----------+-----------+\n",
      "|       apparel.shoes|    apparel|      shoes|\n",
      "|                  NA|         NA|       null|\n",
      "|electronics.smart...|electronics| smartphone|\n",
      "|                  NA|         NA|       null|\n",
      "|                  NA|         NA|       null|\n",
      "|appliances.person...| appliances|   personal|\n",
      "|       apparel.shoes|    apparel|      shoes|\n",
      "|appliances.kitche...| appliances|    kitchen|\n",
      "|  electronics.clocks|electronics|     clocks|\n",
      "|electronics.smart...|electronics| smartphone|\n",
      "|computers.periphe...|  computers|peripherals|\n",
      "|  accessories.wallet|accessories|     wallet|\n",
      "|       kids.carriage|       kids|   carriage|\n",
      "|electronics.smart...|electronics| smartphone|\n",
      "|auto.accessories....|       auto|accessories|\n",
      "|  apparel.shoes.keds|    apparel|      shoes|\n",
      "|                  NA|         NA|       null|\n",
      "|                  NA|         NA|       null|\n",
      "|                  NA|         NA|       null|\n",
      "|                  NA|         NA|       null|\n",
      "+--------------------+-----------+-----------+\n",
      "only showing top 20 rows\n",
      "\n"
     ]
    }
   ],
   "source": [
    "# Check if the column is added\n",
    "df.select('category_code','cat_l1','cat_l2').show()"
   ]
  },
  {
   "cell_type": "code",
   "execution_count": null,
   "metadata": {
    "id": "DZf-lQL8SaqV",
    "outputId": "47de0a4f-2bab-4bc3-cecd-36e61a84c561"
   },
   "outputs": [
    {
     "name": "stdout",
     "output_type": "stream",
     "text": [
      "+--------------------+-----------+-----------+\n",
      "|       category_code|     cat_l1|     cat_l2|\n",
      "+--------------------+-----------+-----------+\n",
      "|       apparel.shoes|    apparel|      shoes|\n",
      "|                  NA|         NA|         NA|\n",
      "|electronics.smart...|electronics| smartphone|\n",
      "|                  NA|         NA|         NA|\n",
      "|                  NA|         NA|         NA|\n",
      "|appliances.person...| appliances|   personal|\n",
      "|       apparel.shoes|    apparel|      shoes|\n",
      "|appliances.kitche...| appliances|    kitchen|\n",
      "|  electronics.clocks|electronics|     clocks|\n",
      "|electronics.smart...|electronics| smartphone|\n",
      "|computers.periphe...|  computers|peripherals|\n",
      "|  accessories.wallet|accessories|     wallet|\n",
      "|       kids.carriage|       kids|   carriage|\n",
      "|electronics.smart...|electronics| smartphone|\n",
      "|auto.accessories....|       auto|accessories|\n",
      "|  apparel.shoes.keds|    apparel|      shoes|\n",
      "|                  NA|         NA|         NA|\n",
      "|                  NA|         NA|         NA|\n",
      "|                  NA|         NA|         NA|\n",
      "|                  NA|         NA|         NA|\n",
      "+--------------------+-----------+-----------+\n",
      "only showing top 20 rows\n",
      "\n"
     ]
    }
   ],
   "source": [
    "# Fill Null values for new category columns\n",
    "df = df.na.fill('NA')\n",
    "df.select('category_code','cat_l1','cat_l2').show()"
   ]
  },
  {
   "cell_type": "markdown",
   "metadata": {
    "id": "S7zNhBs2SaqV"
   },
   "source": [
    " "
   ]
  },
  {
   "cell_type": "code",
   "execution_count": null,
   "metadata": {
    "id": "9CbTOyctSaqV",
    "outputId": "46732670-a99a-4ecf-db6b-a1ca956c5817"
   },
   "outputs": [
    {
     "name": "stdout",
     "output_type": "stream",
     "text": [
      "+---------+------------------------------------+--------------+\n",
      "|user_id  |user_session                        |activity_count|\n",
      "+---------+------------------------------------+--------------+\n",
      "|564555327|00019495-9f33-48fa-ae79-c94c951aba40|1             |\n",
      "|543073137|0002854a-13ef-490a-a838-b3be082eedd4|17            |\n",
      "|513193974|0002a642-8f4a-48cb-89b6-260cc37073e8|1             |\n",
      "|513257116|0002af2d-cbff-4557-b6fd-ee00a86de4c1|1             |\n",
      "|553177004|00084f25-74e3-4df7-be8c-5504588f1f45|1             |\n",
      "|519287061|00088378-6d3f-40cf-ad96-6e3a5aa24d6b|1             |\n",
      "|554129220|000a2754-1167-47ce-88c7-92fa7eae9d6d|7             |\n",
      "|513649894|000a378f-37b9-4f8c-b315-679003e41053|9             |\n",
      "|547170917|000b2a8a-194b-40be-b4ba-e3f01b6a895c|6             |\n",
      "|393914239|000d8e70-ed4a-4d51-b7a9-035168d79efd|1             |\n",
      "|555374095|000d99dc-b6e9-4305-938e-3a4bc45a2052|5             |\n",
      "|555623672|000e9abc-3a8b-4bc8-9139-2cf954973750|6             |\n",
      "|523101797|000eef2b-65e5-4eaa-8768-f1689e9e5c34|1             |\n",
      "|551354237|000f63ed-a15f-4c08-a5ca-ca3cc0e0d10f|1             |\n",
      "|561407991|0010ac52-cc78-4062-aa55-4ba087a0d1d2|3             |\n",
      "|512437916|0010c8e5-44fd-40b4-ab8d-135bfda49879|2             |\n",
      "|540528317|0010f624-b475-4253-bc94-b0d09a9e67be|2             |\n",
      "|519250415|0012b8f1-5965-45df-b8a7-98541b8aeeaf|1             |\n",
      "|520061567|00131c36-c6b4-4ebc-95b2-59101cafe1e4|2             |\n",
      "|559713985|00135fcf-bd50-46af-88fa-5e2293488b5c|3             |\n",
      "|556059985|00137b31-7cbe-400a-bdce-f1c82ed976a6|1             |\n",
      "|548323545|0016ef79-082c-4d7c-ba13-3cdd7b7af123|1             |\n",
      "|530830066|00170aeb-bee0-44bc-a756-3eddab08ac26|3             |\n",
      "|565066597|001aec60-3725-44c0-9635-337cfb8c9a1a|11            |\n",
      "|561438023|001c083e-1790-498f-953b-39120eea51fb|5             |\n",
      "|540149843|001d6bea-536e-44f0-a01d-6f8dc9f5a481|1             |\n",
      "|518675792|001df4c7-5ce3-481c-aa90-cf5e09cf3cde|1             |\n",
      "|513683876|001e637c-818d-4ccd-8c25-152f6c124de6|1             |\n",
      "|554232041|002086fa-cc20-43c2-aa32-9fd378b8fdb7|2             |\n",
      "|519131275|0022ecd6-9306-4e80-ab33-ed2b6147ad50|2             |\n",
      "+---------+------------------------------------+--------------+\n",
      "only showing top 30 rows\n",
      "\n"
     ]
    }
   ],
   "source": [
    "# Activities in a session by the user\n",
    "# Window functions can be helpful here\n",
    "from pyspark.sql import Window\n",
    "session_window = Window.partitionBy(\"user_session\")\n",
    "df.withColumn(\"activity_count\", F.count(\"event_type\").over(session_window)).select('user_id','user_session','activity_count').dropDuplicates().show(30, False)"
   ]
  },
  {
   "cell_type": "code",
   "execution_count": null,
   "metadata": {
    "id": "auM7009aSaqV",
    "outputId": "2bf97381-93fd-4b0a-83f5-0cd584c82ec5"
   },
   "outputs": [
    {
     "name": "stdout",
     "output_type": "stream",
     "text": [
      "+---------+----------+----------+\n",
      "|user_id  |product_id|view_count|\n",
      "+---------+----------+----------+\n",
      "|240522111|5100565   |27        |\n",
      "|240522111|4804056   |27        |\n",
      "|240522111|5100566   |27        |\n",
      "|240522111|5100854   |27        |\n",
      "|240522111|4804055   |27        |\n",
      "|240522111|4802036   |27        |\n",
      "|240522111|18500054  |27        |\n",
      "|240522111|5100567   |27        |\n",
      "|240522111|4803976   |27        |\n",
      "|277067319|3701151   |5         |\n",
      "|277067319|3700412   |5         |\n",
      "|277067319|17200971  |5         |\n",
      "|277067319|3701429   |5         |\n",
      "|277067319|3701101   |5         |\n",
      "|303418896|13900421  |5         |\n",
      "|303418896|36600080  |5         |\n",
      "|303418896|36600091  |5         |\n",
      "|303418896|36600096  |5         |\n",
      "|303418896|36600028  |5         |\n",
      "|356463487|1003315   |3         |\n",
      "|356463487|1004238   |3         |\n",
      "|357446328|2600940   |18        |\n",
      "|357446328|2600574   |18        |\n",
      "|357446328|2600652   |18        |\n",
      "|357446328|2601430   |18        |\n",
      "|357446328|2601340   |18        |\n",
      "|357446328|2600446   |18        |\n",
      "|357446328|2602135   |18        |\n",
      "|357446328|2601122   |18        |\n",
      "|357446328|2601106   |18        |\n",
      "|357446328|2600801   |18        |\n",
      "|357446328|2601157   |18        |\n",
      "|357446328|2601292   |18        |\n",
      "|357446328|2601354   |18        |\n",
      "|357446328|2602023   |18        |\n",
      "|357446328|2600435   |18        |\n",
      "|357446328|2600524   |18        |\n",
      "|366968564|21401437  |6         |\n",
      "|366968564|21401444  |6         |\n",
      "|366968564|7000764   |6         |\n",
      "|366968564|21408700  |6         |\n",
      "|366968564|21401550  |6         |\n",
      "|366968564|21408704  |6         |\n",
      "|369454898|50700005  |1         |\n",
      "|370633539|23000218  |1         |\n",
      "|389518481|3701062   |5         |\n",
      "|389518481|3701005   |5         |\n",
      "|389518481|34700019  |5         |\n",
      "|391260478|23800075  |7         |\n",
      "|391260478|23800085  |7         |\n",
      "|391260478|16200000  |7         |\n",
      "|391260478|23800093  |7         |\n",
      "|391260478|12000262  |7         |\n",
      "|391260478|12000021  |7         |\n",
      "|406827257|1004833   |1         |\n",
      "|410271694|1004794   |2         |\n",
      "|410271694|1004856   |2         |\n",
      "|420155938|1003317   |1         |\n",
      "|420412138|1004956   |3         |\n",
      "|420412138|1004792   |3         |\n",
      "+---------+----------+----------+\n",
      "only showing top 60 rows\n",
      "\n"
     ]
    }
   ],
   "source": [
    "# View count for a product by the user\n",
    "# Window functions can be helpful here\n",
    "user_window = Window.partitionBy(\"product_id\").partitionBy(\"user_id\")\n",
    "df_view_count = df.filter(\"event_type == 'view'\")\n",
    "df_view_count.withColumn(\"view_count\", F.count(\"event_type\").over(user_window)).select('user_id','product_id','view_count').dropDuplicates().show(60, False)"
   ]
  },
  {
   "cell_type": "code",
   "execution_count": null,
   "metadata": {
    "id": "hOihXpUDSaqW",
    "outputId": "1f2f56ea-ff95-4d0f-c008-e7de213e9480"
   },
   "outputs": [
    {
     "name": "stdout",
     "output_type": "stream",
     "text": [
      "+---------+--------------+----------+\n",
      "|user_id  |cat_l2        |view_count|\n",
      "+---------+--------------+----------+\n",
      "|240522111|clocks        |27        |\n",
      "|240522111|audio         |27        |\n",
      "|240522111|tablet        |27        |\n",
      "|277067319|environment   |5         |\n",
      "|277067319|living_room   |5         |\n",
      "|303418896|components    |1         |\n",
      "|356463487|smartphone    |3         |\n",
      "|366968564|clocks        |6         |\n",
      "|366968564|carriage      |6         |\n",
      "|389518481|environment   |4         |\n",
      "|391260478|fmcg          |1         |\n",
      "|406827257|smartphone    |1         |\n",
      "|410271694|smartphone    |2         |\n",
      "|420155938|smartphone    |1         |\n",
      "|420412138|smartphone    |3         |\n",
      "|424456347|smartphone    |1         |\n",
      "|425909320|smartphone    |1         |\n",
      "|429549742|smartphone    |4         |\n",
      "|439042093|sewing_machine|1         |\n",
      "|445162060|tablet        |23        |\n",
      "|445162060|environment   |23        |\n",
      "|445162060|kitchen       |23        |\n",
      "|445162060|iron          |23        |\n",
      "|447882609|smartphone    |2         |\n",
      "|450641019|smartphone    |1         |\n",
      "|453573642|tools         |4         |\n",
      "|454388908|smartphone    |2         |\n",
      "|455624703|environment   |10        |\n",
      "|456119138|smartphone    |1         |\n",
      "|457561774|smartphone    |2         |\n",
      "+---------+--------------+----------+\n",
      "only showing top 30 rows\n",
      "\n"
     ]
    }
   ],
   "source": [
    "# View count for the secondary category by the user\n",
    "# Window functions can be helpful here\n",
    "user_window = Window.partitionBy(\"cat_l2\").partitionBy(\"user_id\")\n",
    "df_view_cat_filter = df.filter(\"event_type == 'view'\").filter(\"cat_l2 != 'NA'\")\n",
    "df_view_cat_filter.withColumn(\"view_count\", F.count(\"event_type\").over(user_window)).select('user_id','cat_l2','view_count').dropDuplicates().show(30, False)"
   ]
  },
  {
   "cell_type": "code",
   "execution_count": null,
   "metadata": {
    "id": "1UWGUFjmSaqW",
    "outputId": "2efd4bbb-764d-4022-d351-f451db9cad7c"
   },
   "outputs": [
    {
     "name": "stdout",
     "output_type": "stream",
     "text": [
      "+-----------+------------------+\n",
      "|cat_l2     |avg_price         |\n",
      "+-----------+------------------+\n",
      "|clocks     |267.6873304091836 |\n",
      "|desktop    |346.98866493842996|\n",
      "|peripherals|149.08874292643486|\n",
      "|shoes      |79.2413671817497  |\n",
      "|shirt      |51.64783783783781 |\n",
      "|smartphone |464.1542272617024 |\n",
      "|jumper     |30.63             |\n",
      "|bedroom    |154.22857561793043|\n",
      "|fmcg       |13.71985155195684 |\n",
      "|trainer    |302.36889830508477|\n",
      "|wallet     |48.96971530249106 |\n",
      "|shorts     |16.09             |\n",
      "|cartrige   |15.267538461538452|\n",
      "|ski        |244.89875         |\n",
      "|umbrella   |25.480000000000008|\n",
      "|tablet     |277.41042915136035|\n",
      "|lawn_mower |148.05837209302322|\n",
      "|skates     |286.8628310502271 |\n",
      "|kitchen    |212.4026546304877 |\n",
      "|dress      |58.087333333333326|\n",
      "|jeans      |44.02307142857143 |\n",
      "|iron       |61.28573277074591 |\n",
      "|belt       |58.209523809523816|\n",
      "|living_room|299.32971859588224|\n",
      "|audio      |115.86345935268335|\n",
      "|bathroom   |83.90974358974363 |\n",
      "|ebooks     |162.4964184397166 |\n",
      "|underwear  |21.8390322580645  |\n",
      "|accessories|119.2177050645484 |\n",
      "|cultivator |327.8992592592592 |\n",
      "+-----------+------------------+\n",
      "only showing top 30 rows\n",
      "\n"
     ]
    }
   ],
   "source": [
    "# Average shopping expense for a product category\n",
    "# Window functions can be helpful here\n",
    "cat_window = Window.partitionBy(\"cat_l2\")\n",
    "df_shop_cat_filter = df.filter(\"event_type == 'purchase'\").filter(\"cat_l2 != 'NA'\")\n",
    "df_shop_cat_filter.withColumn(\"avg_price\", F.avg(\"price\").over(cat_window)).select('cat_l2','avg_price').dropDuplicates().show(30, False)"
   ]
  },
  {
   "cell_type": "code",
   "execution_count": null,
   "metadata": {
    "id": "kZ32A2luSaqW",
    "outputId": "25f2e2b8-06e9-430d-8540-c79f64466359"
   },
   "outputs": [
    {
     "name": "stdout",
     "output_type": "stream",
     "text": [
      "+---------+-------------+\n",
      "|user_id  |session_count|\n",
      "+---------+-------------+\n",
      "|240522111|27           |\n",
      "|277067319|5            |\n",
      "|303418896|5            |\n",
      "|356463487|3            |\n",
      "|357446328|18           |\n",
      "|366968564|6            |\n",
      "|369454898|1            |\n",
      "|370633539|1            |\n",
      "|389518481|5            |\n",
      "|391260478|7            |\n",
      "|406827257|1            |\n",
      "|410271694|2            |\n",
      "|420155938|1            |\n",
      "|420412138|3            |\n",
      "|424456347|1            |\n",
      "|425909320|2            |\n",
      "|429549742|4            |\n",
      "|438192512|3            |\n",
      "|439042093|1            |\n",
      "|445162060|50           |\n",
      "|446123093|1            |\n",
      "|446135485|3            |\n",
      "|447882609|2            |\n",
      "|448241309|8            |\n",
      "|448790742|1            |\n",
      "|450641019|1            |\n",
      "|453573642|4            |\n",
      "|454388908|3            |\n",
      "|455624703|14           |\n",
      "|456119138|2            |\n",
      "+---------+-------------+\n",
      "only showing top 30 rows\n",
      "\n"
     ]
    }
   ],
   "source": [
    "# Session count for a user\n",
    "# Window functions can be helpful here\n",
    "user_window = Window.partitionBy(\"user_id\")\n",
    "df.withColumn(\"session_count\", F.count(\"user_session\").over(user_window)).select('user_id','session_count').dropDuplicates().show(30, False)"
   ]
  },
  {
   "cell_type": "markdown",
   "metadata": {
    "id": "RqzsHYbCSaqW"
   },
   "source": [
    " "
   ]
  },
  {
   "cell_type": "code",
   "execution_count": null,
   "metadata": {
    "id": "HufkZNiSSaqW",
    "outputId": "cc5e992c-50e2-4ebd-b281-df80be6071d3"
   },
   "outputs": [
    {
     "name": "stdout",
     "output_type": "stream",
     "text": [
      "+----------+----------+-------------------+-------------------------------+-------+------+---------+------------------------------------+-----------+----+-----------+----------+\n",
      "|event_type|product_id|category_id        |category_code                  |brand  |price |user_id  |user_session                        |day_of_week|hour|cat_l1     |cat_l2    |\n",
      "+----------+----------+-------------------+-------------------------------+-------+------+---------+------------------------------------+-----------+----+-----------+----------+\n",
      "|view      |28718142  |2053013565782098913|apparel.shoes                  |fassen |51.22 |518471395|52053f12-5030-4484-82fb-d20dc4062a27|3          |0   |apparel    |shoes     |\n",
      "|view      |10800048  |2053013554994348409|NA                             |redmond|66.29 |539194858|5fe9d0a0-0de6-47de-a55a-eae9f89475cd|3          |0   |NA         |NA        |\n",
      "|view      |1004659   |2053013555631882655|electronics.smartphone         |samsung|787.18|514218020|d7c4761f-de75-454b-9164-177db5e53695|3          |0   |electronics|smartphone|\n",
      "|view      |13400622  |2053013557066334713|NA                             |bts    |61.75 |515225374|f05a6d28-f388-4bb6-afc2-c3f974a93cad|3          |2   |NA         |NA        |\n",
      "|view      |12705292  |2053013553559896355|NA                             |matador|83.4  |545595028|764a133d-eded-4e53-a4be-acc857acfc50|3          |2   |NA         |NA        |\n",
      "|view      |8700331   |2053013563097744201|appliances.personal.hair_cutter|philips|41.16 |532137440|ffecf7c3-5348-49cd-aa68-419a8654367e|3          |2   |appliances |personal  |\n",
      "|view      |28716519  |2053013565228450757|apparel.shoes                  |NA     |69.24 |513728430|cb71a204-4518-43e5-b885-4f5acbd394ca|3          |2   |apparel    |shoes     |\n",
      "|view      |4600542   |2053013563944993659|appliances.kitchen.dishwasher  |beko   |300.85|517732701|c03280ba-1fff-40e3-a406-f4724b367497|3          |2   |appliances |kitchen   |\n",
      "|view      |21408474  |2053013561579406073|electronics.clocks             |orient |78.25 |542135335|e764459c-5b39-43ed-86f8-939fca357de7|3          |2   |electronics|clocks    |\n",
      "|view      |1003306   |2053013555631882655|electronics.smartphone         |apple  |588.77|514790077|2c68ad82-bd86-4cf2-a7a4-aaa708634fd8|3          |2   |electronics|smartphone|\n",
      "+----------+----------+-------------------+-------------------------------+-------+------+---------+------------------------------------+-----------+----+-----------+----------+\n",
      "only showing top 10 rows\n",
      "\n"
     ]
    }
   ],
   "source": [
    "# Generating the hour variable\n",
    "# We have already generated the hour variable above\n",
    "df.show(10, False)"
   ]
  },
  {
   "cell_type": "code",
   "execution_count": null,
   "metadata": {
    "id": "6EDs3wxCSaqX",
    "outputId": "adb774e1-e471-4638-a5b3-4fccb6b8484e"
   },
   "outputs": [
    {
     "name": "stdout",
     "output_type": "stream",
     "text": [
      "+----+-----------+\n",
      "|hour|hour_bucket|\n",
      "+----+-----------+\n",
      "|   0|        0.0|\n",
      "|   0|        0.0|\n",
      "|   0|        0.0|\n",
      "|   2|        0.0|\n",
      "|   2|        0.0|\n",
      "|   2|        0.0|\n",
      "|   2|        0.0|\n",
      "|   2|        0.0|\n",
      "|   2|        0.0|\n",
      "|   2|        0.0|\n",
      "|   2|        0.0|\n",
      "|   2|        0.0|\n",
      "|   2|        0.0|\n",
      "|   2|        0.0|\n",
      "|   2|        0.0|\n",
      "|   2|        0.0|\n",
      "|   2|        0.0|\n",
      "|   2|        0.0|\n",
      "|   2|        0.0|\n",
      "|   2|        0.0|\n",
      "+----+-----------+\n",
      "only showing top 20 rows\n",
      "\n"
     ]
    }
   ],
   "source": [
    "# Impact of time: Day and Hour (Binning hours into 4 buckets)\n",
    "from pyspark.ml.feature import Bucketizer\n",
    "# Here we are splitting into 4 as midnight and early morning, morning, noon, evening and night\n",
    "bucketizer = Bucketizer(splits=[0,8,12,16,23],inputCol=\"hour\", outputCol=\"hour_bucket\")\n",
    "df = bucketizer.setHandleInvalid(\"keep\").transform(df)\n",
    "df.select('hour','hour_bucket').show()"
   ]
  },
  {
   "cell_type": "markdown",
   "metadata": {
    "id": "THDiChp5SaqX"
   },
   "source": [
    " "
   ]
  },
  {
   "cell_type": "code",
   "execution_count": null,
   "metadata": {
    "id": "UmaOgQyVSaqX",
    "outputId": "eb0cdf86-fd80-41ef-8ff1-b7160038fe65"
   },
   "outputs": [
    {
     "name": "stdout",
     "output_type": "stream",
     "text": [
      "+--------+-------+\n",
      "|brand   |count  |\n",
      "+--------+-------+\n",
      "|NA      |4542823|\n",
      "|samsung |3580281|\n",
      "|apple   |3058048|\n",
      "|xiaomi  |1940090|\n",
      "|huawei  |736368 |\n",
      "|lucente |498799 |\n",
      "|bosch   |364026 |\n",
      "|lg      |360396 |\n",
      "|oppo    |327184 |\n",
      "|sony    |307580 |\n",
      "|acer    |275298 |\n",
      "|cordiant|255957 |\n",
      "|respect |225769 |\n",
      "|lenovo  |220647 |\n",
      "|artel   |206830 |\n",
      "|hp      |199882 |\n",
      "|indesit |193595 |\n",
      "|casio   |187350 |\n",
      "|dauscher|186141 |\n",
      "|philips |183704 |\n",
      "|stels   |182506 |\n",
      "+--------+-------+\n",
      "only showing top 21 rows\n",
      "\n"
     ]
    }
   ],
   "source": [
    "# Reduction in brands for analysis: Top 20 + ‘others'\n",
    "# Let us first get top 20 brands based on different events. Hence the row count should help here.\n",
    "df.groupBy('brand').count().orderBy('count', ascending = 0).show(21, False)"
   ]
  },
  {
   "cell_type": "code",
   "execution_count": null,
   "metadata": {
    "id": "vG5U2-YPSaqY",
    "outputId": "4bfd190d-14ee-4d62-c875-8a846c62cca8"
   },
   "outputs": [
    {
     "name": "stdout",
     "output_type": "stream",
     "text": [
      "+---------+---------+\n",
      "|    brand|brand_red|\n",
      "+---------+---------+\n",
      "|   fassen|   others|\n",
      "|  redmond|   others|\n",
      "|  samsung|  samsung|\n",
      "|      bts|   others|\n",
      "|  matador|   others|\n",
      "|  philips|  philips|\n",
      "|       NA|   others|\n",
      "|     beko|   others|\n",
      "|   orient|   others|\n",
      "|    apple|    apple|\n",
      "|       lg|       lg|\n",
      "|    karya|   others|\n",
      "|wingoffly|   others|\n",
      "|    apple|    apple|\n",
      "|   alpine|   others|\n",
      "|    escan|   others|\n",
      "| nestogen|   others|\n",
      "|    lider|   others|\n",
      "|  navitel|   others|\n",
      "|legeartis|   others|\n",
      "+---------+---------+\n",
      "only showing top 20 rows\n",
      "\n"
     ]
    }
   ],
   "source": [
    "top_brands = ['samsung','apple','xiaomi','huawei','lucente','bosch','lg','oppo','sony','acer','cordiant','respect',\n",
    "             'lenovo',\n",
    "             'artel',\n",
    "             'hp',\n",
    "             'indesit',\n",
    "             'casio',\n",
    "             'dauscher',\n",
    "             'philips',\n",
    "             'stels']\n",
    "\n",
    "df = df.withColumn('brand_red', when(col('brand').isin(top_brands), col('brand')).otherwise('others'))\n",
    "df.select('brand','brand_red').show()"
   ]
  },
  {
   "cell_type": "markdown",
   "metadata": {
    "id": "oEaTIAzsSaqY"
   },
   "source": [
    " "
   ]
  },
  {
   "cell_type": "code",
   "execution_count": null,
   "metadata": {
    "id": "cpFdQ0mjSaqY",
    "outputId": "8def2e03-ab5b-4149-8147-5e5d9610c84d"
   },
   "outputs": [
    {
     "name": "stdout",
     "output_type": "stream",
     "text": [
      "+----------+------------+\n",
      "|event_type|is_purchased|\n",
      "+----------+------------+\n",
      "|      view|           0|\n",
      "|      view|           0|\n",
      "|      view|           0|\n",
      "|      view|           0|\n",
      "|      view|           0|\n",
      "|      view|           0|\n",
      "|      view|           0|\n",
      "|      view|           0|\n",
      "|      view|           0|\n",
      "|      view|           0|\n",
      "|      view|           0|\n",
      "|      view|           0|\n",
      "|      view|           0|\n",
      "|      view|           0|\n",
      "|      view|           0|\n",
      "|      view|           0|\n",
      "|      view|           0|\n",
      "|      view|           0|\n",
      "|      view|           0|\n",
      "|      view|           0|\n",
      "+----------+------------+\n",
      "only showing top 20 rows\n",
      "\n"
     ]
    }
   ],
   "source": [
    "# Generating 'is_purchased' variable\n",
    "df = df.withColumn('is_purchased', when(col('event_type') == 'purchase', 1).otherwise(0))\n",
    "df.select('event_type','is_purchased').show()"
   ]
  },
  {
   "cell_type": "code",
   "execution_count": null,
   "metadata": {
    "id": "GuNBpd7QSaqY"
   },
   "outputs": [],
   "source": [
    "# Dropping the redundant columns \n",
    "df = df.drop('event_type','category_code','brand','hour')"
   ]
  },
  {
   "cell_type": "code",
   "execution_count": null,
   "metadata": {
    "id": "Wtfh3Mg2SaqY",
    "outputId": "4daf633a-86f8-437b-a47b-f2594baefebd"
   },
   "outputs": [
    {
     "name": "stdout",
     "output_type": "stream",
     "text": [
      "+----------+-------------------+------+---------+--------------------+-----------+-----------+-----------+-----------+---------+------------+\n",
      "|product_id|        category_id| price|  user_id|        user_session|day_of_week|     cat_l1|     cat_l2|hour_bucket|brand_red|is_purchased|\n",
      "+----------+-------------------+------+---------+--------------------+-----------+-----------+-----------+-----------+---------+------------+\n",
      "|  28718142|2053013565782098913| 51.22|518471395|52053f12-5030-448...|          3|    apparel|      shoes|        0.0|   others|           0|\n",
      "|  10800048|2053013554994348409| 66.29|539194858|5fe9d0a0-0de6-47d...|          3|         NA|         NA|        0.0|   others|           0|\n",
      "|   1004659|2053013555631882655|787.18|514218020|d7c4761f-de75-454...|          3|electronics| smartphone|        0.0|  samsung|           0|\n",
      "|  13400622|2053013557066334713| 61.75|515225374|f05a6d28-f388-4bb...|          3|         NA|         NA|        0.0|   others|           0|\n",
      "|  12705292|2053013553559896355|  83.4|545595028|764a133d-eded-4e5...|          3|         NA|         NA|        0.0|   others|           0|\n",
      "|   8700331|2053013563097744201| 41.16|532137440|ffecf7c3-5348-49c...|          3| appliances|   personal|        0.0|  philips|           0|\n",
      "|  28716519|2053013565228450757| 69.24|513728430|cb71a204-4518-43e...|          3|    apparel|      shoes|        0.0|   others|           0|\n",
      "|   4600542|2053013563944993659|300.85|517732701|c03280ba-1fff-40e...|          3| appliances|    kitchen|        0.0|   others|           0|\n",
      "|  21408474|2053013561579406073| 78.25|542135335|e764459c-5b39-43e...|          3|electronics|     clocks|        0.0|   others|           0|\n",
      "|   1003306|2053013555631882655|588.77|514790077|2c68ad82-bd86-4cf...|          3|electronics| smartphone|        0.0|    apple|           0|\n",
      "|   1701452|2053013553031414015| 94.93|555462311|ac919fb5-d4fc-43e...|          3|  computers|peripherals|        0.0|       lg|           0|\n",
      "|  28300461|2053013566243472379| 38.61|552589969|c5f15ab9-65cc-47c...|          3|accessories|     wallet|        0.0|   others|           0|\n",
      "|   7002254|2053013560346280633|118.27|518617421|d78beff4-7a3e-412...|          3|       kids|   carriage|        0.0|   others|           0|\n",
      "|   1002544|2053013555631882655|464.13|554681270|8a5fe308-dc62-438...|          3|electronics| smartphone|        0.0|    apple|           0|\n",
      "|   5701031|2053013553970938175| 823.7|516524141|bcad6a51-8a38-41f...|          3|       auto|accessories|        0.0|   others|           0|\n",
      "|  28715116|2053013565480109009| 51.22|539238830|25048d1c-3878-4b3...|          3|    apparel|      shoes|        0.0|   others|           0|\n",
      "|  19700111|2053013559104766575|  5.15|548117029|d1bce74c-45c4-437...|          3|         NA|         NA|        0.0|   others|           0|\n",
      "|  15100147|2053013557024391671|425.21|545730349|92c6d7b7-21cc-47e...|          3|         NA|         NA|        0.0|   others|           0|\n",
      "|   5900113|2053013560841208525|115.81|513389645|a4f6b75d-14fe-48a...|          3|         NA|         NA|        0.0|   others|           0|\n",
      "|  13102082|2053013553526341921|445.52|555463254|4d046399-00c1-415...|          3|         NA|         NA|        0.0|   others|           0|\n",
      "+----------+-------------------+------+---------+--------------------+-----------+-----------+-----------+-----------+---------+------------+\n",
      "only showing top 20 rows\n",
      "\n"
     ]
    }
   ],
   "source": [
    "# Printing the top 20 rows as output\n",
    "df.show()"
   ]
  },
  {
   "cell_type": "code",
   "execution_count": null,
   "metadata": {
    "id": "snW-ifKSSaqZ"
   },
   "outputs": [],
   "source": [
    "# Dropping redundant rows\n",
    "df = df.dropDuplicates()"
   ]
  },
  {
   "cell_type": "code",
   "execution_count": null,
   "metadata": {
    "id": "DlEmzqOiSaqZ",
    "outputId": "f9985586-7655-4a95-b7fc-924eca9c62ac"
   },
   "outputs": [
    {
     "name": "stdout",
     "output_type": "stream",
     "text": [
      "root\n",
      " |-- product_id: integer (nullable = true)\n",
      " |-- category_id: long (nullable = true)\n",
      " |-- price: double (nullable = true)\n",
      " |-- user_id: integer (nullable = true)\n",
      " |-- user_session: string (nullable = false)\n",
      " |-- day_of_week: integer (nullable = true)\n",
      " |-- cat_l1: string (nullable = false)\n",
      " |-- cat_l2: string (nullable = false)\n",
      " |-- hour_bucket: double (nullable = true)\n",
      " |-- brand_red: string (nullable = false)\n",
      " |-- is_purchased: integer (nullable = false)\n",
      "\n"
     ]
    }
   ],
   "source": [
    "# Columns in df after feature engineering\n",
    "df.printSchema()"
   ]
  },
  {
   "cell_type": "code",
   "execution_count": null,
   "metadata": {
    "id": "aqvnAz_ESaqZ"
   },
   "outputs": [],
   "source": [
    "# Storing the cleaned df in the instance to prevent repetition of steps again\n",
    "# Rename the file based on your preferences\n",
    "df.coalesce(1).write.option(\"header\", \"true\").parquet(\"cleaned_df.parquet\")"
   ]
  },
  {
   "cell_type": "markdown",
   "metadata": {
    "id": "xhbKScnHSaqZ"
   },
   "source": [
    "Proceed to another notebooks after saving the dataframe."
   ]
  }
 ],
 "metadata": {
  "colab": {
   "include_colab_link": true,
   "name": "ML2Assignment1_Notebook1.ipynb",
   "provenance": []
  },
  "kernelspec": {
   "display_name": "Python 3",
   "language": "python",
   "name": "python3"
  },
  "language_info": {
   "codemirror_mode": {
    "name": "ipython",
    "version": 3
   },
   "file_extension": ".py",
   "mimetype": "text/x-python",
   "name": "python",
   "nbconvert_exporter": "python",
   "pygments_lexer": "ipython3",
   "version": "3.8.8"
  }
 },
 "nbformat": 4,
 "nbformat_minor": 1
}
