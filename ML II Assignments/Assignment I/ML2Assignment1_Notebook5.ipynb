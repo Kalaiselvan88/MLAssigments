{
  "nbformat": 4,
  "nbformat_minor": 0,
  "metadata": {
    "kernelspec": {
      "display_name": "Python 3",
      "language": "python",
      "name": "python3"
    },
    "language_info": {
      "codemirror_mode": {
        "name": "ipython",
        "version": 3
      },
      "file_extension": ".py",
      "mimetype": "text/x-python",
      "name": "python",
      "nbconvert_exporter": "python",
      "pygments_lexer": "ipython3",
      "version": "3.8.3"
    },
    "colab": {
      "name": "ML2Assignment1_Notebook5.ipynb",
      "provenance": [],
      "include_colab_link": true
    }
  },
  "cells": [
    {
      "cell_type": "markdown",
      "metadata": {
        "id": "view-in-github",
        "colab_type": "text"
      },
      "source": [
        "<a href=\"https://colab.research.google.com/github/Kalaiselvan88/MLAssignments/blob/main/ML2Assignment1_Notebook5.ipynb\" target=\"_parent\"><img src=\"https://colab.research.google.com/assets/colab-badge.svg\" alt=\"Open In Colab\"/></a>"
      ]
    },
    {
      "cell_type": "code",
      "metadata": {
        "id": "wZ71pgXVR8uL"
      },
      "source": [
        "# Setting the environment variables"
      ],
      "execution_count": null,
      "outputs": []
    },
    {
      "cell_type": "code",
      "metadata": {
        "id": "WVxSTbhnR8uU"
      },
      "source": [
        "import os\n",
        "import sys\n",
        "os.environ[\"PYSPARK_PYTHON\"]=\"/usr/bin/python3\"\n",
        "os.environ[\"PYSPARK_DRIVER_PYTHON\"]=\"/usr/bin/python3\"\n",
        "os.environ[\"PYSPARK_DRIVER_PYTHON_OPTS\"]=\"notebook --no-browser\"\n",
        "os.environ[\"JAVA_HOME\"] = \"/usr/java/jdk1.8.0_161/jre\"\n",
        "os.environ[\"SPARK_HOME\"] = \"/home/ec2-user/spark-2.4.4-bin-hadoop2.7\"\n",
        "os.environ[\"PYLIB\"] = os.environ[\"SPARK_HOME\"] + \"/python/lib\"\n",
        "sys.path.insert(0, os.environ[\"PYLIB\"] + \"/py4j-0.10.7-src.zip\")\n",
        "sys.path.insert(0, os.environ[\"PYLIB\"] + \"/pyspark.zip\")"
      ],
      "execution_count": null,
      "outputs": []
    },
    {
      "cell_type": "markdown",
      "metadata": {
        "id": "X2BUc0yrR8uV"
      },
      "source": [
        "# Ecommerce Churn Assignment"
      ]
    },
    {
      "cell_type": "markdown",
      "metadata": {
        "id": "InMY8sVlR8uV"
      },
      "source": [
        "The aim of the assignment is to build a model that predicts whether a person purchases an item after it has been added to the cart or not. Being a classification problem, you are expected to use your understanding of all the three models covered till now. You must select the most robust model and provide a solution that predicts the churn in the most suitable manner. \n",
        "\n",
        "For this assignment, you are provided the data associated with an e-commerce company for the month of October 2019. Your task is to first analyse the data, and then perform multiple steps towards the model building process.\n",
        "\n",
        "The broad tasks are:\n",
        "- Data Exploration\n",
        "- Feature Engineering\n",
        "- Model Selection\n",
        "- Model Inference"
      ]
    },
    {
      "cell_type": "markdown",
      "metadata": {
        "id": "NCFgBBRNR8uW"
      },
      "source": [
        "### Data description"
      ]
    },
    {
      "cell_type": "markdown",
      "metadata": {
        "id": "lC59ivzVR8uW"
      },
      "source": [
        "The dataset stores the information of a customer session on the e-commerce platform. It records the activity and the associated parameters with it.\n",
        "\n",
        "- **event_time**: Date and time when user accesses the platform\n",
        "- **event_type**: Action performed by the customer\n",
        "            - View\n",
        "            - Cart\n",
        "            - Purchase\n",
        "            - Remove from cart\n",
        "- **product_id**: Unique number to identify the product in the event\n",
        "- **category_id**: Unique number to identify the category of the product\n",
        "- **category_code**: Stores primary and secondary categories of the product\n",
        "- **brand**: Brand associated with the product\n",
        "- **price**: Price of the product\n",
        "- **user_id**: Unique ID for a customer\n",
        "- **user_session**: Session ID for a user\n"
      ]
    },
    {
      "cell_type": "markdown",
      "metadata": {
        "id": "3RBSuw2XR8uW"
      },
      "source": [
        "### Initialising the SparkSession"
      ]
    },
    {
      "cell_type": "markdown",
      "metadata": {
        "id": "-_dnJG8UR8uX"
      },
      "source": [
        "The dataset provided is 5 GBs in size. Therefore, it is expected that you increase the driver memory to a greater number. You can refer to notebook 1 for the steps involved here."
      ]
    },
    {
      "cell_type": "code",
      "metadata": {
        "id": "4L7cmljKR8uX",
        "outputId": "a8733fac-451b-4c4b-d252-d65ee9fe18e4"
      },
      "source": [
        "# initialising the session with 14 GB driver memory\n",
        "from pyspark import SparkConf\n",
        "from pyspark.sql import SparkSession\n",
        "\n",
        "MAX_MEMORY = \"14G\"\n",
        "\n",
        "spark = SparkSession \\\n",
        "    .builder \\\n",
        "    .appName(\"inference\") \\\n",
        "    .config(\"spark.driver.memory\", MAX_MEMORY) \\\n",
        "    .getOrCreate()\n",
        "\n",
        "spark.catalog.clearCache()\n",
        "spark"
      ],
      "execution_count": null,
      "outputs": [
        {
          "output_type": "execute_result",
          "data": {
            "text/html": [
              "\n",
              "            <div>\n",
              "                <p><b>SparkSession - in-memory</b></p>\n",
              "                \n",
              "        <div>\n",
              "            <p><b>SparkContext</b></p>\n",
              "\n",
              "            <p><a href=\"http://ip-172-31-90-29.ec2.internal:4041\">Spark UI</a></p>\n",
              "\n",
              "            <dl>\n",
              "              <dt>Version</dt>\n",
              "                <dd><code>v2.4.4</code></dd>\n",
              "              <dt>Master</dt>\n",
              "                <dd><code>local[*]</code></dd>\n",
              "              <dt>AppName</dt>\n",
              "                <dd><code>inference</code></dd>\n",
              "            </dl>\n",
              "        </div>\n",
              "        \n",
              "            </div>\n",
              "        "
            ],
            "text/plain": [
              "<pyspark.sql.session.SparkSession at 0x7f5daa7fd650>"
            ]
          },
          "metadata": {
            "tags": []
          },
          "execution_count": 2
        }
      ]
    },
    {
      "cell_type": "markdown",
      "metadata": {
        "id": "aw-6vwZTR8uY"
      },
      "source": [
        "<hr>"
      ]
    },
    {
      "cell_type": "markdown",
      "metadata": {
        "id": "tFQDl2T2R8uY"
      },
      "source": [
        "## Task 4: Model Inference\n",
        "\n",
        "- Feature Importance\n",
        "- Model Inference\n",
        "- Feature exploration"
      ]
    },
    {
      "cell_type": "code",
      "metadata": {
        "id": "Q8pzLhaFR8uY",
        "outputId": "22bc966f-76ce-4284-cddd-874c01dc6a86"
      },
      "source": [
        "# Loading the clean data\n",
        "df_feature_imp = spark.read.parquet('feature_importances.parquet')\n",
        "df_feature_imp.show()"
      ],
      "execution_count": null,
      "outputs": [
        {
          "output_type": "stream",
          "text": [
            "+---+--------------------+-----+\n",
            "|idx|                name|score|\n",
            "+---+--------------------+-----+\n",
            "|  0|               price|  0.0|\n",
            "| 64|       cat_l2_en_ski|  0.0|\n",
            "| 74| brand_red_en_xiaomi|  0.0|\n",
            "| 73|  brand_red_en_apple|  0.0|\n",
            "| 72|brand_red_en_samsung|  0.0|\n",
            "| 71| brand_red_en_others|  0.0|\n",
            "| 70|    cat_l2_en_shorts|  0.0|\n",
            "| 69|     cat_l2_en_skirt|  0.0|\n",
            "| 68| cat_l2_en_furniture|  0.0|\n",
            "| 67|      cat_l2_en_belt|  0.0|\n",
            "| 66|      cat_l2_en_sock|  0.0|\n",
            "| 65|     cat_l2_en_scarf|  0.0|\n",
            "| 63|    cat_l2_en_tennis|  0.0|\n",
            "| 51|      cat_l2_en_fmcg|  0.0|\n",
            "| 62|    cat_l2_en_jumper|  0.0|\n",
            "| 61| cat_l2_en_snowboard|  0.0|\n",
            "| 60|  cat_l2_en_umbrella|  0.0|\n",
            "| 59|cat_l2_en_lawn_mower|  0.0|\n",
            "| 58|cat_l2_en_cultivator|  0.0|\n",
            "| 57|  cat_l2_en_cartrige|  0.0|\n",
            "+---+--------------------+-----+\n",
            "only showing top 20 rows\n",
            "\n"
          ],
          "name": "stdout"
        }
      ]
    },
    {
      "cell_type": "markdown",
      "metadata": {
        "id": "IQYfrnyoR8uZ"
      },
      "source": [
        "#### As we can see above the price column takes the first precendance, followed by a 2nd level category and then brand"
      ]
    },
    {
      "cell_type": "code",
      "metadata": {
        "id": "KtVSDufrR8uZ",
        "outputId": "7deb44a7-ea90-45dc-d89a-9175ca57740a"
      },
      "source": [
        "df = spark.read.parquet('cleaned_df.parquet')\n",
        "df.filter(\"cat_l2 == 'ski'\").show()"
      ],
      "execution_count": null,
      "outputs": [
        {
          "output_type": "stream",
          "text": [
            "+----------+-------------------+------+---------+--------------------+-----------+------+------+-----------+---------+------------+\n",
            "|product_id|        category_id| price|  user_id|        user_session|day_of_week|cat_l1|cat_l2|hour_bucket|brand_red|is_purchased|\n",
            "+----------+-------------------+------+---------+--------------------+-----------+------+------+-----------+---------+------------+\n",
            "|  21500029|2053013559255761525|166.07|512872982|e38877a3-a4c4-437...|          1| sport|   ski|        3.0|   others|           0|\n",
            "|  20500641|2053013559348036219| 53.28|517091325|8f8c5748-a292-4dc...|          3| sport|   ski|        2.0|   others|           0|\n",
            "|  20500356|2053013559348036219|501.69|513127542|16ddbe0f-3894-4cc...|          4| sport|   ski|        2.0|   others|           0|\n",
            "|  20500014|2053013559348036219|568.61|519809800|7c993532-b6bf-492...|          6| sport|   ski|        1.0|   others|           0|\n",
            "|  21500036|2053013559255761525|109.18|538042700|a8abb968-1ac6-412...|          1| sport|   ski|        3.0|   others|           0|\n",
            "|  20500633|2053013559348036219| 53.28|560554038|72d6cc8f-1126-4d6...|          7| sport|   ski|        3.0|   others|           0|\n",
            "|  20500516|2053013559348036219|143.89|514371779|05b43934-76e3-461...|          5| sport|   ski|        0.0|   others|           0|\n",
            "|  20500573|2053013559348036219|161.91|513824475|0560d8db-45eb-4a9...|          4| sport|   ski|        2.0|   others|           0|\n",
            "|  20500132|2053013559348036219|385.85|512416760|4a6f4ce0-a5e7-41a...|          4| sport|   ski|        1.0|   others|           0|\n",
            "|  21500036|2053013559255761525|109.18|516656395|6db2d69b-264a-c34...|          4| sport|   ski|        2.0|   others|           1|\n",
            "|  20500347|2053013559348036219|282.89|512909886|afa40f5d-daaa-49d...|          3| sport|   ski|        3.0|   others|           0|\n",
            "|  20500276|2053013559348036219|385.85|557576841|b20044fa-9847-431...|          4| sport|   ski|        0.0|   others|           0|\n",
            "|  20500418|2053013559348036219|244.28|522598703|cf356144-8726-4b8...|          7| sport|   ski|        2.0|   others|           0|\n",
            "|  20500235|2053013559348036219|257.15|516693301|acb3f45b-77eb-4b1...|          1| sport|   ski|        2.0|   others|           0|\n",
            "|  21500038|2053013559255761525| 78.55|513255964|63572c5f-7e17-480...|          3| sport|   ski|        0.0|   others|           0|\n",
            "|  20500398|2053013559348036219|514.56|529026167|ed28a6cf-5cae-415...|          5| sport|   ski|        3.0|   others|           0|\n",
            "|  21500031|2053013559255761525| 52.29|512939421|9d1aa6c7-d97c-4a4...|          3| sport|   ski|        0.0|   others|           1|\n",
            "|  20500562|2053013559348036219|216.02|540212898|1ba3219e-08e4-481...|          1| sport|   ski|        2.0|   others|           0|\n",
            "|  20500276|2053013559348036219|385.85|522346904|0dce5669-fa38-488...|          4| sport|   ski|        0.0|   others|           0|\n",
            "|  21500010|2053013559255761525|  87.3|521080431|9eb313ba-dbf8-413...|          5| sport|   ski|        1.0|   others|           0|\n",
            "+----------+-------------------+------+---------+--------------------+-----------+------+------+-----------+---------+------------+\n",
            "only showing top 20 rows\n",
            "\n"
          ],
          "name": "stdout"
        }
      ]
    },
    {
      "cell_type": "code",
      "metadata": {
        "id": "C1IJ8Xd9R8ua"
      },
      "source": [
        ""
      ],
      "execution_count": null,
      "outputs": []
    }
  ]
}