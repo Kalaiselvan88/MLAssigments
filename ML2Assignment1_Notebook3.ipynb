{
  "nbformat": 4,
  "nbformat_minor": 0,
  "metadata": {
    "kernelspec": {
      "display_name": "Python 3",
      "language": "python",
      "name": "python3"
    },
    "language_info": {
      "codemirror_mode": {
        "name": "ipython",
        "version": 3
      },
      "file_extension": ".py",
      "mimetype": "text/x-python",
      "name": "python",
      "nbconvert_exporter": "python",
      "pygments_lexer": "ipython3",
      "version": "3.8.3"
    },
    "colab": {
      "name": "ML2Assignment1_Notebook3.ipynb",
      "provenance": [],
      "include_colab_link": true
    }
  },
  "cells": [
    {
      "cell_type": "markdown",
      "metadata": {
        "id": "view-in-github",
        "colab_type": "text"
      },
      "source": [
        "<a href=\"https://colab.research.google.com/github/Kalaiselvan88/MLAssignments/blob/main/ML2Assignment1_Notebook3.ipynb\" target=\"_parent\"><img src=\"https://colab.research.google.com/assets/colab-badge.svg\" alt=\"Open In Colab\"/></a>"
      ]
    },
    {
      "cell_type": "code",
      "metadata": {
        "id": "nZRzv5NvRw99"
      },
      "source": [
        "# Setting the environment variables"
      ],
      "execution_count": null,
      "outputs": []
    },
    {
      "cell_type": "code",
      "metadata": {
        "id": "J14gP0XHRw-F"
      },
      "source": [
        "import os\n",
        "import sys\n",
        "os.environ[\"PYSPARK_PYTHON\"]=\"/usr/bin/python3\"\n",
        "os.environ[\"PYSPARK_DRIVER_PYTHON\"]=\"/usr/bin/python3\"\n",
        "os.environ[\"PYSPARK_DRIVER_PYTHON_OPTS\"]=\"notebook --no-browser\"\n",
        "os.environ[\"JAVA_HOME\"] = \"/usr/java/jdk1.8.0_161/jre\"\n",
        "os.environ[\"SPARK_HOME\"] = \"/home/ec2-user/spark-2.4.4-bin-hadoop2.7\"\n",
        "os.environ[\"PYLIB\"] = os.environ[\"SPARK_HOME\"] + \"/python/lib\"\n",
        "sys.path.insert(0, os.environ[\"PYLIB\"] + \"/py4j-0.10.7-src.zip\")\n",
        "sys.path.insert(0, os.environ[\"PYLIB\"] + \"/pyspark.zip\")"
      ],
      "execution_count": null,
      "outputs": []
    },
    {
      "cell_type": "markdown",
      "metadata": {
        "id": "2tdGymImRw-G"
      },
      "source": [
        "# Ecommerce Churn Assignment"
      ]
    },
    {
      "cell_type": "markdown",
      "metadata": {
        "id": "gxnXKcwDRw-G"
      },
      "source": [
        "The aim of the assignment is to build a model that predicts whether a person purchases an item after it has been added to the cart or not. Being a classification problem, you are expected to use your understanding of all the three models covered till now. You must select the most robust model and provide a solution that predicts the churn in the most suitable manner. \n",
        "\n",
        "For this assignment, you are provided the data associated with an e-commerce company for the month of October 2019. Your task is to first analyse the data, and then perform multiple steps towards the model building process.\n",
        "\n",
        "The broad tasks are:\n",
        "- Data Exploration\n",
        "- Feature Engineering\n",
        "- Model Selection\n",
        "- Model Inference"
      ]
    },
    {
      "cell_type": "markdown",
      "metadata": {
        "id": "EYJUr9vqRw-G"
      },
      "source": [
        "### Data description"
      ]
    },
    {
      "cell_type": "markdown",
      "metadata": {
        "id": "pS1o9a1kRw-H"
      },
      "source": [
        "The dataset stores the information of a customer session on the e-commerce platform. It records the activity and the associated parameters with it.\n",
        "\n",
        "- **event_time**: Date and time when user accesses the platform\n",
        "- **event_type**: Action performed by the customer\n",
        "            - View\n",
        "            - Cart\n",
        "            - Purchase\n",
        "            - Remove from cart\n",
        "- **product_id**: Unique number to identify the product in the event\n",
        "- **category_id**: Unique number to identify the category of the product\n",
        "- **category_code**: Stores primary and secondary categories of the product\n",
        "- **brand**: Brand associated with the product\n",
        "- **price**: Price of the product\n",
        "- **user_id**: Unique ID for a customer\n",
        "- **user_session**: Session ID for a user\n"
      ]
    },
    {
      "cell_type": "markdown",
      "metadata": {
        "id": "FHKlO8bBRw-H"
      },
      "source": [
        "### Initialising the SparkSession"
      ]
    },
    {
      "cell_type": "markdown",
      "metadata": {
        "id": "h8jvXdSPRw-H"
      },
      "source": [
        "The dataset provided is 5 GBs in size. Therefore, it is expected that you increase the driver memory to a greater number. You can refer to notebook 1 for the steps involved here."
      ]
    },
    {
      "cell_type": "code",
      "metadata": {
        "id": "Gg-DQ-CvRw-I",
        "outputId": "639302a6-6bf4-4eec-85a7-ab892e1f8895"
      },
      "source": [
        "# initialising the session with 14 GB driver memory\n",
        "from pyspark import SparkConf\n",
        "from pyspark.sql import SparkSession\n",
        "\n",
        "MAX_MEMORY = \"14G\"\n",
        "\n",
        "spark = SparkSession \\\n",
        "    .builder \\\n",
        "    .appName(\"decision trees\") \\\n",
        "    .config(\"spark.driver.memory\", MAX_MEMORY) \\\n",
        "    .getOrCreate()\n",
        "\n",
        "spark.catalog.clearCache()\n",
        "spark"
      ],
      "execution_count": null,
      "outputs": [
        {
          "output_type": "execute_result",
          "data": {
            "text/html": [
              "\n",
              "            <div>\n",
              "                <p><b>SparkSession - in-memory</b></p>\n",
              "                \n",
              "        <div>\n",
              "            <p><b>SparkContext</b></p>\n",
              "\n",
              "            <p><a href=\"http://ip-172-31-90-29.ec2.internal:4040\">Spark UI</a></p>\n",
              "\n",
              "            <dl>\n",
              "              <dt>Version</dt>\n",
              "                <dd><code>v2.4.4</code></dd>\n",
              "              <dt>Master</dt>\n",
              "                <dd><code>local[*]</code></dd>\n",
              "              <dt>AppName</dt>\n",
              "                <dd><code>decision trees</code></dd>\n",
              "            </dl>\n",
              "        </div>\n",
              "        \n",
              "            </div>\n",
              "        "
            ],
            "text/plain": [
              "<pyspark.sql.session.SparkSession at 0x7f1d8e0d9c10>"
            ]
          },
          "metadata": {
            "tags": []
          },
          "execution_count": 3
        }
      ]
    },
    {
      "cell_type": "code",
      "metadata": {
        "id": "ffXSIPfsRw-I",
        "outputId": "81747577-e614-4253-cc1c-c187728b36ee"
      },
      "source": [
        "# Loading the clean data\n",
        "df = spark.read.parquet('cleaned_df.parquet')\n",
        "df.count()"
      ],
      "execution_count": null,
      "outputs": [
        {
          "output_type": "execute_result",
          "data": {
            "text/plain": [
              "28650604"
            ]
          },
          "metadata": {
            "tags": []
          },
          "execution_count": 4
        }
      ]
    },
    {
      "cell_type": "markdown",
      "metadata": {
        "id": "Imo2WNYwRw-J"
      },
      "source": [
        "<hr>"
      ]
    },
    {
      "cell_type": "markdown",
      "metadata": {
        "id": "YKVmpGE6Rw-J"
      },
      "source": [
        "## Task 3: Model Selection\n",
        "3 models for classification:\t\n",
        "- Logistic Regression\n",
        "- Decision Tree\n",
        "- Random Forest"
      ]
    },
    {
      "cell_type": "markdown",
      "metadata": {
        "id": "puEEoba0Rw-J"
      },
      "source": [
        "### Model 2: Decision Trees"
      ]
    },
    {
      "cell_type": "code",
      "metadata": {
        "id": "feXIE6lZRw-K"
      },
      "source": [
        "# Additional steps for Decision Trees, if any"
      ],
      "execution_count": null,
      "outputs": []
    },
    {
      "cell_type": "code",
      "metadata": {
        "id": "tKetNFggRw-K",
        "outputId": "92bc1038-54c6-4e1f-d592-9cd6c71d50d7"
      },
      "source": [
        "df.printSchema()"
      ],
      "execution_count": null,
      "outputs": [
        {
          "output_type": "stream",
          "text": [
            "root\n",
            " |-- product_id: integer (nullable = true)\n",
            " |-- category_id: long (nullable = true)\n",
            " |-- price: double (nullable = true)\n",
            " |-- user_id: integer (nullable = true)\n",
            " |-- user_session: string (nullable = true)\n",
            " |-- day_of_week: integer (nullable = true)\n",
            " |-- cat_l1: string (nullable = true)\n",
            " |-- cat_l2: string (nullable = true)\n",
            " |-- hour_bucket: double (nullable = true)\n",
            " |-- brand_red: string (nullable = true)\n",
            " |-- is_purchased: integer (nullable = true)\n",
            "\n"
          ],
          "name": "stdout"
        }
      ]
    },
    {
      "cell_type": "markdown",
      "metadata": {
        "id": "6AM0lFB4Rw-K"
      },
      "source": [
        "#### Feature Transformation (Code will be same; check for the columns)"
      ]
    },
    {
      "cell_type": "code",
      "metadata": {
        "id": "kLgMAjrjRw-L",
        "outputId": "51d836fc-c33c-49eb-d621-a462f40cee40"
      },
      "source": [
        "# Check if only the required columns are present to build the model\n",
        "# If not, drop the redundant columns\n",
        "\n",
        "# Here we are dropping category_id since we have the category details in cat_l1 and cat_l2\n",
        "# We are also dropping user_session since it has many unique values which might take a lot of time\n",
        "# to do OneHotEncoder and moreover it is not very much helpful for Churn prediction and has already been used for EDA\n",
        "df_dec_tree = df.drop('category_id', 'user_session')\n",
        "df_dec_tree = df.withColumnRenamed('is_purchased', 'label')\n",
        "df_dec_tree = df_dec_tree.dropDuplicates()\n",
        "df_dec_tree.printSchema()"
      ],
      "execution_count": null,
      "outputs": [
        {
          "output_type": "stream",
          "text": [
            "root\n",
            " |-- product_id: integer (nullable = true)\n",
            " |-- category_id: long (nullable = true)\n",
            " |-- price: double (nullable = true)\n",
            " |-- user_id: integer (nullable = true)\n",
            " |-- user_session: string (nullable = true)\n",
            " |-- day_of_week: integer (nullable = true)\n",
            " |-- cat_l1: string (nullable = true)\n",
            " |-- cat_l2: string (nullable = true)\n",
            " |-- hour_bucket: double (nullable = true)\n",
            " |-- brand_red: string (nullable = true)\n",
            " |-- label: integer (nullable = true)\n",
            "\n"
          ],
          "name": "stdout"
        }
      ]
    },
    {
      "cell_type": "code",
      "metadata": {
        "id": "VTaBT2MbRw-M"
      },
      "source": [
        "# Feature transformation for categorical features\n",
        "#import the string indexer\n",
        "from pyspark.ml.feature import StringIndexer\n",
        "#import the onehot encoder\n",
        "from pyspark.ml.feature import OneHotEncoderEstimator\n",
        "\n",
        "\n",
        "si1 = StringIndexer(inputCol= 'cat_l1', outputCol='cat_l1_ix')\n",
        "si2 = StringIndexer(inputCol= 'cat_l2', outputCol='cat_l2_ix')\n",
        "si3 = StringIndexer(inputCol= 'brand_red', outputCol='brand_red_ix')\n",
        "\n",
        "cat_indx = ['cat_l1_ix','cat_l2_ix','brand_red_ix','day_of_week','hour_bucket']\n",
        "\n",
        "ohe = OneHotEncoderEstimator(inputCols=cat_indx,\n",
        "                             outputCols=['cat_l1_en','cat_l2_en','brand_red_en','day_of_week_en','hour_bucket_en'])"
      ],
      "execution_count": null,
      "outputs": []
    },
    {
      "cell_type": "code",
      "metadata": {
        "id": "Md_Tct5fRw-N"
      },
      "source": [
        "# Vector assembler to combine all the features\n",
        "#import the vector assembler \n",
        "from pyspark.ml.feature import VectorAssembler\n",
        "cols = ['price','cat_l1_en','cat_l2_en','brand_red_en','day_of_week_en','hour_bucket_en']\n",
        "assembler = VectorAssembler(inputCols=cols,\n",
        "                            outputCol=\"features\")"
      ],
      "execution_count": null,
      "outputs": []
    },
    {
      "cell_type": "code",
      "metadata": {
        "id": "-iT1zUi3Rw-O"
      },
      "source": [
        "# Pipeline for the tasks\n",
        "# import pipline API\n",
        "from pyspark.ml import Pipeline"
      ],
      "execution_count": null,
      "outputs": []
    },
    {
      "cell_type": "code",
      "metadata": {
        "id": "BjxNY2uDRw-O",
        "outputId": "c81ab748-ecd7-4177-ca4a-ed0497ca619d"
      },
      "source": [
        "# Transforming the dataframe df\n",
        "#create the pipeline object\n",
        "pipeline = Pipeline(stages=[si1, si2, si3, ohe, assembler])\n",
        "\n",
        "#use the object to transform the dataframe \n",
        "df_dec_encoded = pipeline.fit(df_dec_tree).transform(df_dec_tree)\n",
        "df_dec_encoded.select(\"features\").show()"
      ],
      "execution_count": null,
      "outputs": [
        {
          "output_type": "stream",
          "text": [
            "+--------------------+\n",
            "|            features|\n",
            "+--------------------+\n",
            "|(101,[0,8,24,71,9...|\n",
            "|(101,[0,10,33,71,...|\n",
            "|(101,[0,1,15,75,9...|\n",
            "|(101,[0,5,18,71,9...|\n",
            "|(101,[0,1,15,73,9...|\n",
            "|(101,[0,1,19,75,9...|\n",
            "|(101,[0,2,14,71,9...|\n",
            "|(101,[0,3,16,71,9...|\n",
            "|(101,[0,1,15,73,9...|\n",
            "|(101,[0,1,19,71,9...|\n",
            "|(101,[0,2,14,71,1...|\n",
            "|(101,[0,6,25,71,9...|\n",
            "|(101,[0,1,15,75,9...|\n",
            "|(101,[0,4,28,78],...|\n",
            "|(101,[0,3,21,71,9...|\n",
            "|(101,[0,6,26,71,9...|\n",
            "|(101,[0,1,22,72,9...|\n",
            "|(101,[0,3,16,89,9...|\n",
            "|(101,[0,5,18,71,9...|\n",
            "|(101,[0,3,35,71,9...|\n",
            "+--------------------+\n",
            "only showing top 20 rows\n",
            "\n"
          ],
          "name": "stdout"
        }
      ]
    },
    {
      "cell_type": "code",
      "metadata": {
        "id": "Mn8bYmXQRw-P",
        "outputId": "386d9f8b-8e25-4730-e10e-870e435cbd33"
      },
      "source": [
        "# Schema of the transformed df\n",
        "df_dec_encoded.printSchema()"
      ],
      "execution_count": null,
      "outputs": [
        {
          "output_type": "stream",
          "text": [
            "root\n",
            " |-- product_id: integer (nullable = true)\n",
            " |-- category_id: long (nullable = true)\n",
            " |-- price: double (nullable = true)\n",
            " |-- user_id: integer (nullable = true)\n",
            " |-- user_session: string (nullable = true)\n",
            " |-- day_of_week: integer (nullable = true)\n",
            " |-- cat_l1: string (nullable = true)\n",
            " |-- cat_l2: string (nullable = true)\n",
            " |-- hour_bucket: double (nullable = true)\n",
            " |-- brand_red: string (nullable = true)\n",
            " |-- label: integer (nullable = true)\n",
            " |-- cat_l1_ix: double (nullable = false)\n",
            " |-- cat_l2_ix: double (nullable = false)\n",
            " |-- brand_red_ix: double (nullable = false)\n",
            " |-- cat_l1_en: vector (nullable = true)\n",
            " |-- day_of_week_en: vector (nullable = true)\n",
            " |-- hour_bucket_en: vector (nullable = true)\n",
            " |-- brand_red_en: vector (nullable = true)\n",
            " |-- cat_l2_en: vector (nullable = true)\n",
            " |-- features: vector (nullable = true)\n",
            "\n"
          ],
          "name": "stdout"
        }
      ]
    },
    {
      "cell_type": "code",
      "metadata": {
        "id": "izcTFOLiRw-P",
        "outputId": "b53f49e4-14bf-4999-c2dc-b349da31b0e8"
      },
      "source": [
        "# Checking the elements of the transformed df - Top 20 rows\n",
        "df_dec_encoded.show()"
      ],
      "execution_count": null,
      "outputs": [
        {
          "output_type": "stream",
          "text": [
            "+----------+-------------------+-------+---------+--------------------+-----------+------------+-----------+-----------+---------+-----+---------+---------+------------+--------------+--------------+--------------+---------------+---------------+--------------------+\n",
            "|product_id|        category_id|  price|  user_id|        user_session|day_of_week|      cat_l1|     cat_l2|hour_bucket|brand_red|label|cat_l1_ix|cat_l2_ix|brand_red_ix|     cat_l1_en|day_of_week_en|hour_bucket_en|   brand_red_en|      cat_l2_en|            features|\n",
            "+----------+-------------------+-------+---------+--------------------+-----------+------------+-----------+-----------+---------+-----+---------+---------+------------+--------------+--------------+--------------+---------------+---------------+--------------------+\n",
            "|  27700139|2053013560086233771|  35.39|539259746|25c30a37-eebd-464...|          2|construction|      tools|        1.0|   others|    0|      7.0|     10.0|         0.0|(13,[7],[1.0])| (7,[2],[1.0])| (3,[1],[1.0])| (20,[0],[1.0])|(57,[10],[1.0])|(101,[0,8,24,71,9...|\n",
            "|  28400709|2053013566209917945|  72.07|558350018|d3afb296-bd98-4d7...|          4| accessories|        bag|        0.0|   others|    0|      9.0|     19.0|         0.0|(13,[9],[1.0])| (7,[4],[1.0])| (3,[0],[1.0])| (20,[0],[1.0])|(57,[19],[1.0])|(101,[0,10,33,71,...|\n",
            "|   1004565|2053013555631882655|  169.6|524340259|f3ee67b4-e525-4ab...|          5| electronics| smartphone|        0.0|   huawei|    0|      0.0|      1.0|         4.0|(13,[0],[1.0])| (7,[5],[1.0])| (3,[0],[1.0])| (20,[4],[1.0])| (57,[1],[1.0])|(101,[0,1,15,75,9...|\n",
            "|  28717989|2053013565639492569| 122.27|513930718|8283d850-ef28-499...|          3|     apparel|      shoes|        3.0|   others|    0|      4.0|      4.0|         0.0|(13,[4],[1.0])| (7,[3],[1.0])|     (3,[],[])| (20,[0],[1.0])| (57,[4],[1.0])|(101,[0,5,18,71,9...|\n",
            "|   1002524|2053013555631882655| 513.43|537759739|fe07b361-bb8d-4a9...|          4| electronics| smartphone|        3.0|    apple|    1|      0.0|      1.0|         2.0|(13,[0],[1.0])| (7,[4],[1.0])|     (3,[],[])| (20,[2],[1.0])| (57,[1],[1.0])|(101,[0,1,15,73,9...|\n",
            "|   5100721|2053013553341792533|  179.9|540971209|f29f5fe3-9ea0-446...|          3| electronics|     clocks|        3.0|   huawei|    0|      0.0|      5.0|         4.0|(13,[0],[1.0])| (7,[3],[1.0])|     (3,[],[])| (20,[4],[1.0])| (57,[5],[1.0])|(101,[0,1,19,75,9...|\n",
            "|  12702399|2053013553559896355|  72.05|530385282|3cf20d5f-7d46-487...|          3|          NA|         NA|        0.0|   others|    0|      1.0|      0.0|         0.0|(13,[1],[1.0])| (7,[3],[1.0])| (3,[0],[1.0])| (20,[0],[1.0])| (57,[0],[1.0])|(101,[0,2,14,71,9...|\n",
            "|   3601405|2053013563810775923| 180.16|514560037|492a94a1-b19b-40f...|          4|  appliances|    kitchen|        2.0|   others|    0|      2.0|      2.0|         0.0|(13,[2],[1.0])| (7,[4],[1.0])| (3,[2],[1.0])| (20,[0],[1.0])| (57,[2],[1.0])|(101,[0,3,16,71,9...|\n",
            "|   1004239|2053013555631882655|1334.63|520811195|12bde7a6-9a54-44e...|          4| electronics| smartphone|        3.0|    apple|    0|      0.0|      1.0|         2.0|(13,[0],[1.0])| (7,[4],[1.0])|     (3,[],[])| (20,[2],[1.0])| (57,[1],[1.0])|(101,[0,1,15,73,9...|\n",
            "|  21406710|2053013561579406073| 643.52|535135046|a2c4d7d1-c3e3-400...|          2| electronics|     clocks|        0.0|   others|    0|      0.0|      5.0|         0.0|(13,[0],[1.0])| (7,[2],[1.0])| (3,[0],[1.0])| (20,[0],[1.0])| (57,[5],[1.0])|(101,[0,1,19,71,9...|\n",
            "|   3300317|2053013555355058573|  59.18|512457557|630599fb-9919-4eb...|          7|          NA|         NA|        2.0|   others|    0|      1.0|      0.0|         0.0|(13,[1],[1.0])|     (7,[],[])| (3,[2],[1.0])| (20,[0],[1.0])| (57,[0],[1.0])|(101,[0,2,14,71,1...|\n",
            "|  17200917|2053013559792632471|1029.22|545492819|577bbfd8-11e2-43d...|          3|   furniture|living_room|        3.0|   others|    0|      5.0|     11.0|         0.0|(13,[5],[1.0])| (7,[3],[1.0])|     (3,[],[])| (20,[0],[1.0])|(57,[11],[1.0])|(101,[0,6,25,71,9...|\n",
            "|   1004565|2053013555631882655| 169.48|526621871|3de4ede4-f6b5-4a1...|          2| electronics| smartphone|        1.0|   huawei|    1|      0.0|      1.0|         4.0|(13,[0],[1.0])| (7,[2],[1.0])| (3,[1],[1.0])| (20,[4],[1.0])| (57,[1],[1.0])|(101,[0,1,15,75,9...|\n",
            "|   1701082|2053013553031414015| 280.29|557965991|d164dae1-d180-4db...|          7|   computers|peripherals|        3.0|       lg|    0|      3.0|     14.0|         7.0|(13,[3],[1.0])|     (7,[],[])|     (3,[],[])| (20,[7],[1.0])|(57,[14],[1.0])|(101,[0,4,28,78],...|\n",
            "|   3700600|2053013565983425517|  51.43|514062275|5d584a78-e7af-492...|          1|  appliances|environment|        0.0|   others|    0|      2.0|      7.0|         0.0|(13,[2],[1.0])| (7,[1],[1.0])| (3,[0],[1.0])| (20,[0],[1.0])| (57,[7],[1.0])|(101,[0,3,21,71,9...|\n",
            "|  13200969|2053013557192163841| 102.94|549500310|ad311ee8-8725-4b4...|          6|   furniture|    bedroom|        2.0|   others|    0|      5.0|     12.0|         0.0|(13,[5],[1.0])| (7,[6],[1.0])| (3,[2],[1.0])| (20,[0],[1.0])|(57,[12],[1.0])|(101,[0,6,26,71,9...|\n",
            "|   1801689|2053013554415534427| 263.58|552294449|077d92df-ce84-485...|          6| electronics|      video|        2.0|  samsung|    0|      0.0|      8.0|         1.0|(13,[0],[1.0])| (7,[6],[1.0])| (3,[2],[1.0])| (20,[1],[1.0])| (57,[8],[1.0])|(101,[0,1,22,72,9...|\n",
            "|   3200549|2053013555321504139|  25.71|521838455|8a11c631-8e52-450...|          3|  appliances|    kitchen|        0.0| dauscher|    0|      2.0|      2.0|        18.0|(13,[2],[1.0])| (7,[3],[1.0])| (3,[0],[1.0])|(20,[18],[1.0])| (57,[2],[1.0])|(101,[0,3,16,89,9...|\n",
            "|  28720337|2053013565069067197| 118.15|536608563|9612cb69-d4b7-467...|          4|     apparel|      shoes|        3.0|   others|    0|      4.0|      4.0|         0.0|(13,[4],[1.0])| (7,[4],[1.0])|     (3,[],[])| (20,[0],[1.0])| (57,[4],[1.0])|(101,[0,5,18,71,9...|\n",
            "|   3800545|2053013566176363511| 190.46|540047124|6a5574d9-680b-43d...|          1|  appliances|       iron|        0.0|   others|    0|      2.0|     21.0|         0.0|(13,[2],[1.0])| (7,[1],[1.0])| (3,[0],[1.0])| (20,[0],[1.0])|(57,[21],[1.0])|(101,[0,3,35,71,9...|\n",
            "+----------+-------------------+-------+---------+--------------------+-----------+------------+-----------+-----------+---------+-----+---------+---------+------------+--------------+--------------+--------------+---------------+---------------+--------------------+\n",
            "only showing top 20 rows\n",
            "\n"
          ],
          "name": "stdout"
        }
      ]
    },
    {
      "cell_type": "markdown",
      "metadata": {
        "id": "If1ZP2eqRw-Q"
      },
      "source": [
        "#### Train-test split"
      ]
    },
    {
      "cell_type": "code",
      "metadata": {
        "id": "bmx-nE6HRw-Q"
      },
      "source": [
        "# Splitting the data into train and test (Remember you are expected to compare the model later)\n",
        "df_dec_train, df_dec_test = df_dec_encoded.randomSplit([0.7,0.3])"
      ],
      "execution_count": null,
      "outputs": []
    },
    {
      "cell_type": "code",
      "metadata": {
        "id": "KfaWJw81Rw-Q",
        "outputId": "a5c5b4d6-41e9-449c-eae7-8ac9c5ab4693"
      },
      "source": [
        "# Number of rows in train and test data\n",
        "df_dec_train.count()"
      ],
      "execution_count": null,
      "outputs": [
        {
          "output_type": "execute_result",
          "data": {
            "text/plain": [
              "20057768"
            ]
          },
          "metadata": {
            "tags": []
          },
          "execution_count": 15
        }
      ]
    },
    {
      "cell_type": "code",
      "metadata": {
        "id": "-eGXnH2xRw-Q",
        "outputId": "7c201ced-c7a6-4ba8-c608-127dee44c6db"
      },
      "source": [
        "df_dec_test.count()"
      ],
      "execution_count": null,
      "outputs": [
        {
          "output_type": "execute_result",
          "data": {
            "text/plain": [
              "8592836"
            ]
          },
          "metadata": {
            "tags": []
          },
          "execution_count": 16
        }
      ]
    },
    {
      "cell_type": "markdown",
      "metadata": {
        "id": "5Z0-Ut03Rw-R"
      },
      "source": [
        "#### Let us cache both train and test data since it is huge"
      ]
    },
    {
      "cell_type": "code",
      "metadata": {
        "id": "6fgx1mI9Rw-R",
        "outputId": "976b2b36-89ab-4ebd-f191-8fcf7546cc39"
      },
      "source": [
        "df_dec_train.cache()"
      ],
      "execution_count": null,
      "outputs": [
        {
          "output_type": "execute_result",
          "data": {
            "text/plain": [
              "DataFrame[product_id: int, category_id: bigint, price: double, user_id: int, user_session: string, day_of_week: int, cat_l1: string, cat_l2: string, hour_bucket: double, brand_red: string, label: int, cat_l1_ix: double, cat_l2_ix: double, brand_red_ix: double, cat_l1_en: vector, day_of_week_en: vector, hour_bucket_en: vector, brand_red_en: vector, cat_l2_en: vector, features: vector]"
            ]
          },
          "metadata": {
            "tags": []
          },
          "execution_count": 17
        }
      ]
    },
    {
      "cell_type": "code",
      "metadata": {
        "id": "CDfuxlZxRw-R",
        "outputId": "34c7fa2c-10e2-41ff-e62b-c3e001310aff"
      },
      "source": [
        "df_dec_test.cache()"
      ],
      "execution_count": null,
      "outputs": [
        {
          "output_type": "execute_result",
          "data": {
            "text/plain": [
              "DataFrame[product_id: int, category_id: bigint, price: double, user_id: int, user_session: string, day_of_week: int, cat_l1: string, cat_l2: string, hour_bucket: double, brand_red: string, label: int, cat_l1_ix: double, cat_l2_ix: double, brand_red_ix: double, cat_l1_en: vector, day_of_week_en: vector, hour_bucket_en: vector, brand_red_en: vector, cat_l2_en: vector, features: vector]"
            ]
          },
          "metadata": {
            "tags": []
          },
          "execution_count": 18
        }
      ]
    },
    {
      "cell_type": "markdown",
      "metadata": {
        "id": "On4ZhCT_Rw-R"
      },
      "source": [
        "#### Model Fitting"
      ]
    },
    {
      "cell_type": "code",
      "metadata": {
        "id": "ZXRtIVR7Rw-S"
      },
      "source": [
        "# Building the model with hyperparameter tuning\n",
        "# Create ParamGrid for Cross Validation\n",
        "\n",
        "#Import the libraries required:\n",
        "from pyspark.ml.classification import DecisionTreeClassifier\n",
        "from pyspark.ml.tuning import ParamGridBuilder, CrossValidator\n",
        "\n",
        "# Create initial Decision Tree Model\n",
        "dt = DecisionTreeClassifier(labelCol=\"label\", featuresCol=\"features\", maxDepth=2)\n",
        "\n",
        "# Create ParamGrid for Cross Validation\n",
        "dtparamGrid = (ParamGridBuilder()\n",
        "               .addGrid(dt.maxDepth, [2, 10, 30])\n",
        "               .addGrid(dt.maxBins, [10, 30, 50])\n",
        "               .addGrid(dt.impurity, ['gini','entropy'])\n",
        "               .build())"
      ],
      "execution_count": null,
      "outputs": []
    },
    {
      "cell_type": "code",
      "metadata": {
        "id": "qISVGPjyRw-S"
      },
      "source": [
        "# Run cross-validation steps\n",
        "from pyspark.ml.evaluation import BinaryClassificationEvaluator\n",
        "\n",
        "# Evaluate model\n",
        "dtevaluator = BinaryClassificationEvaluator(rawPredictionCol=\"rawPrediction\")\n",
        "\n",
        "# Create 5-fold CrossValidator\n",
        "dtcv = CrossValidator(estimator = dt,\n",
        "                      estimatorParamMaps = dtparamGrid,\n",
        "                      evaluator = dtevaluator,\n",
        "                      numFolds = 3)"
      ],
      "execution_count": null,
      "outputs": []
    },
    {
      "cell_type": "code",
      "metadata": {
        "id": "vhs_E_fwRw-S"
      },
      "source": [
        "# Fitting the models on transformed df\n",
        "\n",
        "# Run cross validations\n",
        "dtcvModel = dtcv.fit(df_dec_train)"
      ],
      "execution_count": null,
      "outputs": []
    },
    {
      "cell_type": "code",
      "metadata": {
        "id": "_cRTjxYiRw-U",
        "outputId": "1fd5a380-595e-453c-de71-bc00b036facb"
      },
      "source": [
        "# Best model from the results of cross-validation\n",
        "dtcvModel.bestModel"
      ],
      "execution_count": null,
      "outputs": [
        {
          "output_type": "execute_result",
          "data": {
            "text/plain": [
              "DecisionTreeClassificationModel (uid=DecisionTreeClassifier_579f9bea40ae) of depth 30 with 401 nodes"
            ]
          },
          "metadata": {
            "tags": []
          },
          "execution_count": 22
        }
      ]
    },
    {
      "cell_type": "markdown",
      "metadata": {
        "id": "s_O3pw8FRw-U"
      },
      "source": [
        "#### Model Analysis"
      ]
    },
    {
      "cell_type": "markdown",
      "metadata": {
        "id": "y_GdXjm8Rw-V"
      },
      "source": [
        "Required Steps:\n",
        "- Fit on test data\n",
        "- Performance analysis\n",
        "    - Appropriate Metric with reasoning"
      ]
    },
    {
      "cell_type": "code",
      "metadata": {
        "id": "Pu0PEH_VRw-V"
      },
      "source": [
        "# Use test set here so we can measure the accuracy of our model on new data\n",
        "dtpredictions = dtcvModel.transform(df_dec_test)"
      ],
      "execution_count": null,
      "outputs": []
    },
    {
      "cell_type": "code",
      "metadata": {
        "id": "yz3VgVTERw-V",
        "outputId": "449b20ef-bea6-41f9-8bcd-8b0ff92ba688"
      },
      "source": [
        "# dtcvModel uses the best model found from the Cross Validation\n",
        "# Evaluate best model\n",
        "print('Accuracy:', dtevaluator.evaluate(dtpredictions))"
      ],
      "execution_count": null,
      "outputs": [
        {
          "output_type": "stream",
          "text": [
            "Accuracy: 0.5565098111611423\n"
          ],
          "name": "stdout"
        }
      ]
    },
    {
      "cell_type": "code",
      "metadata": {
        "id": "MthyVXBfRw-V",
        "outputId": "2d2184da-1597-4ebe-d0ae-67ef89c0e3a7"
      },
      "source": [
        "dtevaluator.evaluate(dtpredictions, {dtevaluator.metricName: \"areaUnderROC\"})"
      ],
      "execution_count": null,
      "outputs": [
        {
          "output_type": "execute_result",
          "data": {
            "text/plain": [
              "0.5565098111611424"
            ]
          },
          "metadata": {
            "tags": []
          },
          "execution_count": 33
        }
      ]
    },
    {
      "cell_type": "code",
      "metadata": {
        "id": "rmUXb_HwRw-W",
        "outputId": "0b8272b6-ba80-4c92-9598-42e75a5b0d43"
      },
      "source": [
        "dtevaluator.evaluate(dtpredictions, {dtevaluator.metricName: \"areaUnderPR\"})"
      ],
      "execution_count": null,
      "outputs": [
        {
          "output_type": "execute_result",
          "data": {
            "text/plain": [
              "0.03185758626995479"
            ]
          },
          "metadata": {
            "tags": []
          },
          "execution_count": 34
        }
      ]
    },
    {
      "cell_type": "markdown",
      "metadata": {
        "id": "fcJ708sKRw-W"
      },
      "source": [
        "#### Summary of the best Decision Tree model"
      ]
    },
    {
      "cell_type": "markdown",
      "metadata": {
        "id": "XvvMBYOFRw-W"
      },
      "source": [
        "#### We can see that the best decision tree model out of 3 * 3 * 2 = 18 combination of hyperparameter and with 3 fold is the one with 30 as maxDepth."
      ]
    },
    {
      "cell_type": "markdown",
      "metadata": {
        "id": "932HX-lGRw-X"
      },
      "source": [
        "#### Since it took 6 hours for above to arrive I have not increased maxDepth further. Maybe if we increase that we will get a better ROC value than Logistic Regression."
      ]
    },
    {
      "cell_type": "code",
      "metadata": {
        "id": "pA8Rz09FRw-X"
      },
      "source": [
        ""
      ],
      "execution_count": null,
      "outputs": []
    }
  ]
}