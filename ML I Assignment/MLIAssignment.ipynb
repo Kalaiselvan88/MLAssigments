{
 "cells": [
  {
   "cell_type": "markdown",
   "metadata": {
    "colab_type": "text",
    "id": "view-in-github"
   },
   "source": [
    "<a href=\"https://colab.research.google.com/github/Kalaiselvan88/MLAssignments/blob/main/MLIAssignment.ipynb\" target=\"_parent\"><img src=\"https://colab.research.google.com/assets/colab-badge.svg\" alt=\"Open In Colab\"/></a>"
   ]
  },
  {
   "cell_type": "code",
   "execution_count": null,
   "metadata": {
    "id": "QW31hiljU1JH"
   },
   "outputs": [],
   "source": [
    "import os\n",
    "import sys\n",
    "os.environ[\"PYSPARK_PYTHON\"]=\"/home/ec2-user/spark-2.4.4-bin-hadoop2.7/python\"\n",
    "os.environ[\"JAVA_HOME\"] = \"/usr/java/jdk1.8.0_161/jre\"\n",
    "os.environ[\"SPARK_HOME\"] = \"/home/ec2-user/spark-2.4.4-bin-hadoop2.7\"\n",
    "os.environ[\"PYLIB\"] = os.environ[\"SPARK_HOME\"] + \"/python/lib\"\n",
    "sys.path.insert(0, os.environ[\"PYLIB\"] + \"/py4j-0.10.7-src.zip\")\n",
    "sys.path.insert(0, os.environ[\"PYLIB\"] + \"/pyspark.zip\")"
   ]
  },
  {
   "cell_type": "code",
   "execution_count": null,
   "metadata": {
    "id": "EiY0g3FxU1JJ"
   },
   "outputs": [],
   "source": [
    "from pyspark.sql import SparkSession\n",
    "from pyspark.sql import DataFrame"
   ]
  },
  {
   "cell_type": "code",
   "execution_count": null,
   "metadata": {
    "id": "gxbjsvb5U1JJ"
   },
   "outputs": [],
   "source": [
    "# Create an app name\n",
    "spark = SparkSession.builder.appName(\"ML1Assignment\").getOrCreate()"
   ]
  },
  {
   "cell_type": "code",
   "execution_count": null,
   "metadata": {
    "id": "XYVRC6MWU1JJ",
    "outputId": "c903f72e-9f53-41e8-987d-0d343caeed70"
   },
   "outputs": [
    {
     "data": {
      "text/html": [
       "\n",
       "            <div>\n",
       "                <p><b>SparkSession - in-memory</b></p>\n",
       "                \n",
       "        <div>\n",
       "            <p><b>SparkContext</b></p>\n",
       "\n",
       "            <p><a href=\"http://ip-172-31-61-73.ec2.internal:4040\">Spark UI</a></p>\n",
       "\n",
       "            <dl>\n",
       "              <dt>Version</dt>\n",
       "                <dd><code>v2.4.4</code></dd>\n",
       "              <dt>Master</dt>\n",
       "                <dd><code>local[*]</code></dd>\n",
       "              <dt>AppName</dt>\n",
       "                <dd><code>ML1Assignment</code></dd>\n",
       "            </dl>\n",
       "        </div>\n",
       "        \n",
       "            </div>\n",
       "        "
      ],
      "text/plain": [
       "<pyspark.sql.session.SparkSession at 0x7ff726b66fd0>"
      ]
     },
     "execution_count": 4,
     "metadata": {
      "tags": []
     },
     "output_type": "execute_result"
    }
   ],
   "source": [
    "spark"
   ]
  },
  {
   "cell_type": "markdown",
   "metadata": {
    "id": "2-LjkxJJU1JK"
   },
   "source": [
    "## Fetch data"
   ]
  },
  {
   "cell_type": "code",
   "execution_count": null,
   "metadata": {
    "id": "foAqw0_EU1JK"
   },
   "outputs": [],
   "source": [
    "# Fetch the files form AWS S3\n",
    "credit_url = \"https://s3.amazonaws.com/sqoop.oozie.ml/credit_record.csv\"\n",
    "application_url = \"https://s3.amazonaws.com/sqoop.oozie.ml/application_record.csv\"\n",
    "from pyspark import SparkFiles\n",
    "spark.sparkContext.addFile(credit_url)\n",
    "spark.sparkContext.addFile(application_url)\n",
    "\n",
    "df_credit_record = spark.read.csv(\"file://\"+SparkFiles.get(\"credit_record.csv\"), header=True, inferSchema= True)\n",
    "df_application_record = spark.read.csv(\"file://\"+SparkFiles.get(\"application_record.csv\"), header=True, inferSchema= True)"
   ]
  },
  {
   "cell_type": "markdown",
   "metadata": {
    "id": "Kfn966kOU1JK"
   },
   "source": [
    "## Perform EDA"
   ]
  },
  {
   "cell_type": "code",
   "execution_count": null,
   "metadata": {
    "id": "j6uyVyVuU1JL",
    "outputId": "ec8e60ba-703a-4124-85fd-16c060cda9de"
   },
   "outputs": [
    {
     "name": "stdout",
     "output_type": "stream",
     "text": [
      "root\n",
      " |-- ID: integer (nullable = true)\n",
      " |-- MONTHS_BALANCE: integer (nullable = true)\n",
      " |-- STATUS: string (nullable = true)\n",
      "\n"
     ]
    }
   ],
   "source": [
    "# Let us understand the columns in credit record\n",
    "df_credit_record.printSchema()"
   ]
  },
  {
   "cell_type": "code",
   "execution_count": null,
   "metadata": {
    "id": "-9NvMnMHU1JL",
    "outputId": "dad0a8fe-c0b1-40a5-906e-41fcecbb556f"
   },
   "outputs": [
    {
     "data": {
      "text/html": [
       "<div>\n",
       "<style scoped>\n",
       "    .dataframe tbody tr th:only-of-type {\n",
       "        vertical-align: middle;\n",
       "    }\n",
       "\n",
       "    .dataframe tbody tr th {\n",
       "        vertical-align: top;\n",
       "    }\n",
       "\n",
       "    .dataframe thead th {\n",
       "        text-align: right;\n",
       "    }\n",
       "</style>\n",
       "<table border=\"1\" class=\"dataframe\">\n",
       "  <thead>\n",
       "    <tr style=\"text-align: right;\">\n",
       "      <th></th>\n",
       "      <th>ID</th>\n",
       "      <th>MONTHS_BALANCE</th>\n",
       "      <th>STATUS</th>\n",
       "    </tr>\n",
       "  </thead>\n",
       "  <tbody>\n",
       "    <tr>\n",
       "      <th>0</th>\n",
       "      <td>5001711</td>\n",
       "      <td>0</td>\n",
       "      <td>X</td>\n",
       "    </tr>\n",
       "    <tr>\n",
       "      <th>1</th>\n",
       "      <td>5001711</td>\n",
       "      <td>-1</td>\n",
       "      <td>0</td>\n",
       "    </tr>\n",
       "    <tr>\n",
       "      <th>2</th>\n",
       "      <td>5001711</td>\n",
       "      <td>-2</td>\n",
       "      <td>0</td>\n",
       "    </tr>\n",
       "    <tr>\n",
       "      <th>3</th>\n",
       "      <td>5001711</td>\n",
       "      <td>-3</td>\n",
       "      <td>0</td>\n",
       "    </tr>\n",
       "    <tr>\n",
       "      <th>4</th>\n",
       "      <td>5001712</td>\n",
       "      <td>0</td>\n",
       "      <td>C</td>\n",
       "    </tr>\n",
       "  </tbody>\n",
       "</table>\n",
       "</div>"
      ],
      "text/plain": [
       "        ID  MONTHS_BALANCE STATUS\n",
       "0  5001711               0      X\n",
       "1  5001711              -1      0\n",
       "2  5001711              -2      0\n",
       "3  5001711              -3      0\n",
       "4  5001712               0      C"
      ]
     },
     "execution_count": 7,
     "metadata": {
      "tags": []
     },
     "output_type": "execute_result"
    }
   ],
   "source": [
    "# Let us have a look at the data by converting it into a Pandas dataframe for better readability.\n",
    "pd_credit_df = df_credit_record.toPandas()\n",
    "pd_credit_df.head()"
   ]
  },
  {
   "cell_type": "code",
   "execution_count": null,
   "metadata": {
    "id": "-bbsCkTkU1JL",
    "outputId": "f969c4b8-1203-4ca1-c5c0-7210fff55af8"
   },
   "outputs": [
    {
     "data": {
      "text/plain": [
       "0"
      ]
     },
     "execution_count": 8,
     "metadata": {
      "tags": []
     },
     "output_type": "execute_result"
    }
   ],
   "source": [
    "# We can see all 3 columns are nullable. Let us check the number of NULL values in each column.\n",
    "from pyspark.sql.functions import *\n",
    "df_credit_record.where(col(\"months_balance\").isNull()).count()"
   ]
  },
  {
   "cell_type": "code",
   "execution_count": null,
   "metadata": {
    "id": "0e_h1iR0U1JM",
    "outputId": "8e919f9d-37e7-4b8f-a537-9f3235bcff9a"
   },
   "outputs": [
    {
     "data": {
      "text/plain": [
       "0"
      ]
     },
     "execution_count": 9,
     "metadata": {
      "tags": []
     },
     "output_type": "execute_result"
    }
   ],
   "source": [
    "df_credit_record.where(col(\"status\").isNull()).count()"
   ]
  },
  {
   "cell_type": "code",
   "execution_count": null,
   "metadata": {
    "id": "lW_NT42IU1JM",
    "outputId": "c1adc67b-f6b1-43a6-fbf3-12164ee29f87"
   },
   "outputs": [
    {
     "data": {
      "text/plain": [
       "0"
      ]
     },
     "execution_count": 10,
     "metadata": {
      "tags": []
     },
     "output_type": "execute_result"
    }
   ],
   "source": [
    "df_credit_record.where(col(\"id\").isNull()).count()"
   ]
  },
  {
   "cell_type": "code",
   "execution_count": null,
   "metadata": {
    "id": "Jl5QEE65U1JM",
    "outputId": "984f56b7-c693-47f5-e0f1-62471e769d87"
   },
   "outputs": [
    {
     "name": "stdout",
     "output_type": "stream",
     "text": [
      "+--------------+-----+\n",
      "|months_balance|count|\n",
      "+--------------+-----+\n",
      "|            -1|34436|\n",
      "|            -2|34209|\n",
      "|             0|33856|\n",
      "|            -3|33854|\n",
      "|            -4|33365|\n",
      "|            -5|32881|\n",
      "|            -6|32296|\n",
      "|            -7|31640|\n",
      "|            -8|30884|\n",
      "|            -9|30272|\n",
      "|           -10|29671|\n",
      "|           -11|29060|\n",
      "|           -12|28439|\n",
      "|           -13|27787|\n",
      "|           -14|27117|\n",
      "|           -15|26483|\n",
      "|           -16|25867|\n",
      "|           -17|25198|\n",
      "|           -18|24425|\n",
      "|           -19|23773|\n",
      "|           -20|23163|\n",
      "|           -21|22526|\n",
      "|           -22|21928|\n",
      "|           -23|21296|\n",
      "|           -24|20617|\n",
      "|           -25|19915|\n",
      "|           -26|19251|\n",
      "|           -27|18691|\n",
      "|           -28|18034|\n",
      "|           -29|17408|\n",
      "|           -30|16799|\n",
      "|           -31|16179|\n",
      "|           -32|15589|\n",
      "|           -33|14993|\n",
      "|           -34|14401|\n",
      "|           -35|13798|\n",
      "|           -36|13174|\n",
      "|           -37|12605|\n",
      "|           -38|12023|\n",
      "|           -39|11379|\n",
      "|           -40|10651|\n",
      "|           -41| 9998|\n",
      "|           -42| 9392|\n",
      "|           -43| 8793|\n",
      "|           -44| 8229|\n",
      "|           -45| 7706|\n",
      "|           -46| 7170|\n",
      "|           -47| 6662|\n",
      "|           -48| 6103|\n",
      "|           -49| 5573|\n",
      "|           -50| 5064|\n",
      "|           -51| 4575|\n",
      "|           -52| 4025|\n",
      "|           -53| 3498|\n",
      "|           -54| 3028|\n",
      "|           -55| 2578|\n",
      "|           -56| 2109|\n",
      "|           -57| 1649|\n",
      "|           -58| 1255|\n",
      "|           -59|  820|\n",
      "|           -60|  415|\n",
      "+--------------+-----+\n",
      "\n"
     ]
    }
   ],
   "source": [
    "# let us view the values present in each column\n",
    "df_credit_record.groupBy('months_balance').count().orderBy('count', ascending = 0).show(100)"
   ]
  },
  {
   "cell_type": "code",
   "execution_count": null,
   "metadata": {
    "id": "WdF5y7lmU1JN",
    "outputId": "c7556b11-2139-4bc7-99c5-99eaac0ba02e"
   },
   "outputs": [
    {
     "name": "stdout",
     "output_type": "stream",
     "text": [
      "+------+------+\n",
      "|status| count|\n",
      "+------+------+\n",
      "|     C|442031|\n",
      "|     0|383120|\n",
      "|     X|209230|\n",
      "|     1| 11090|\n",
      "|     5|  1693|\n",
      "|     2|   868|\n",
      "|     3|   320|\n",
      "|     4|   223|\n",
      "+------+------+\n",
      "\n"
     ]
    }
   ],
   "source": [
    "df_credit_record.groupBy('status').count().orderBy('count', ascending = 0).show()"
   ]
  },
  {
   "cell_type": "code",
   "execution_count": null,
   "metadata": {
    "id": "vFLLE7QDU1JN",
    "outputId": "6adf0847-191b-4efe-bd0e-98c87b4d2dff"
   },
   "outputs": [
    {
     "name": "stdout",
     "output_type": "stream",
     "text": [
      "+-------+------------------+-------------------+-------------------+\n",
      "|summary|                ID|     MONTHS_BALANCE|             STATUS|\n",
      "+-------+------------------+-------------------+-------------------+\n",
      "|  count|           1048575|            1048575|            1048575|\n",
      "|   mean| 5068286.424673486|-19.136998307226474|0.05824863961501482|\n",
      "| stddev|46150.578505410835| 14.023497688326442|0.39498786420524934|\n",
      "|    min|           5001711|                -60|                  0|\n",
      "|    max|           5150487|                  0|                  X|\n",
      "+-------+------------------+-------------------+-------------------+\n",
      "\n"
     ]
    }
   ],
   "source": [
    "df_credit_record.describe().show()"
   ]
  },
  {
   "cell_type": "code",
   "execution_count": null,
   "metadata": {
    "id": "nVA3SlJ6U1JN",
    "outputId": "a8a48f46-e06b-4b8a-b3d6-937f3819e773"
   },
   "outputs": [
    {
     "name": "stdout",
     "output_type": "stream",
     "text": [
      "root\n",
      " |-- ID: integer (nullable = true)\n",
      " |-- CODE_GENDER: string (nullable = true)\n",
      " |-- FLAG_OWN_CAR: string (nullable = true)\n",
      " |-- FLAG_OWN_REALTY: string (nullable = true)\n",
      " |-- CNT_CHILDREN: integer (nullable = true)\n",
      " |-- AMT_INCOME_TOTAL: double (nullable = true)\n",
      " |-- NAME_INCOME_TYPE: string (nullable = true)\n",
      " |-- NAME_EDUCATION_TYPE: string (nullable = true)\n",
      " |-- NAME_FAMILY_STATUS: string (nullable = true)\n",
      " |-- NAME_HOUSING_TYPE: string (nullable = true)\n",
      " |-- DAYS_BIRTH: integer (nullable = true)\n",
      " |-- DAYS_EMPLOYED: integer (nullable = true)\n",
      " |-- FLAG_MOBIL: integer (nullable = true)\n",
      " |-- FLAG_WORK_PHONE: integer (nullable = true)\n",
      " |-- FLAG_PHONE: integer (nullable = true)\n",
      " |-- FLAG_EMAIL: integer (nullable = true)\n",
      " |-- OCCUPATION_TYPE: string (nullable = true)\n",
      " |-- CNT_FAM_MEMBERS: double (nullable = true)\n",
      "\n"
     ]
    }
   ],
   "source": [
    "# Since the values for all the columns in the credit_record.csv looks fine, let us check application_record.csv now\n",
    "df_application_record.printSchema()"
   ]
  },
  {
   "cell_type": "code",
   "execution_count": null,
   "metadata": {
    "id": "PZBOcMTOU1JO",
    "outputId": "6397a1b5-9154-4b91-ef16-8bdea21e91f1"
   },
   "outputs": [
    {
     "data": {
      "text/html": [
       "<div>\n",
       "<style scoped>\n",
       "    .dataframe tbody tr th:only-of-type {\n",
       "        vertical-align: middle;\n",
       "    }\n",
       "\n",
       "    .dataframe tbody tr th {\n",
       "        vertical-align: top;\n",
       "    }\n",
       "\n",
       "    .dataframe thead th {\n",
       "        text-align: right;\n",
       "    }\n",
       "</style>\n",
       "<table border=\"1\" class=\"dataframe\">\n",
       "  <thead>\n",
       "    <tr style=\"text-align: right;\">\n",
       "      <th></th>\n",
       "      <th>ID</th>\n",
       "      <th>CODE_GENDER</th>\n",
       "      <th>FLAG_OWN_CAR</th>\n",
       "      <th>FLAG_OWN_REALTY</th>\n",
       "      <th>CNT_CHILDREN</th>\n",
       "      <th>AMT_INCOME_TOTAL</th>\n",
       "      <th>NAME_INCOME_TYPE</th>\n",
       "      <th>NAME_EDUCATION_TYPE</th>\n",
       "      <th>NAME_FAMILY_STATUS</th>\n",
       "      <th>NAME_HOUSING_TYPE</th>\n",
       "      <th>DAYS_BIRTH</th>\n",
       "      <th>DAYS_EMPLOYED</th>\n",
       "      <th>FLAG_MOBIL</th>\n",
       "      <th>FLAG_WORK_PHONE</th>\n",
       "      <th>FLAG_PHONE</th>\n",
       "      <th>FLAG_EMAIL</th>\n",
       "      <th>OCCUPATION_TYPE</th>\n",
       "      <th>CNT_FAM_MEMBERS</th>\n",
       "    </tr>\n",
       "  </thead>\n",
       "  <tbody>\n",
       "    <tr>\n",
       "      <th>0</th>\n",
       "      <td>5008804</td>\n",
       "      <td>M</td>\n",
       "      <td>Y</td>\n",
       "      <td>Y</td>\n",
       "      <td>0</td>\n",
       "      <td>427500.0</td>\n",
       "      <td>Working</td>\n",
       "      <td>Higher education</td>\n",
       "      <td>Civil marriage</td>\n",
       "      <td>Rented apartment</td>\n",
       "      <td>-12005</td>\n",
       "      <td>-4542</td>\n",
       "      <td>1</td>\n",
       "      <td>1</td>\n",
       "      <td>0</td>\n",
       "      <td>0</td>\n",
       "      <td>None</td>\n",
       "      <td>2.0</td>\n",
       "    </tr>\n",
       "    <tr>\n",
       "      <th>1</th>\n",
       "      <td>5008805</td>\n",
       "      <td>M</td>\n",
       "      <td>Y</td>\n",
       "      <td>Y</td>\n",
       "      <td>0</td>\n",
       "      <td>427500.0</td>\n",
       "      <td>Working</td>\n",
       "      <td>Higher education</td>\n",
       "      <td>Civil marriage</td>\n",
       "      <td>Rented apartment</td>\n",
       "      <td>-12005</td>\n",
       "      <td>-4542</td>\n",
       "      <td>1</td>\n",
       "      <td>1</td>\n",
       "      <td>0</td>\n",
       "      <td>0</td>\n",
       "      <td>None</td>\n",
       "      <td>2.0</td>\n",
       "    </tr>\n",
       "    <tr>\n",
       "      <th>2</th>\n",
       "      <td>5008806</td>\n",
       "      <td>M</td>\n",
       "      <td>Y</td>\n",
       "      <td>Y</td>\n",
       "      <td>0</td>\n",
       "      <td>112500.0</td>\n",
       "      <td>Working</td>\n",
       "      <td>Secondary / secondary special</td>\n",
       "      <td>Married</td>\n",
       "      <td>House / apartment</td>\n",
       "      <td>-21474</td>\n",
       "      <td>-1134</td>\n",
       "      <td>1</td>\n",
       "      <td>0</td>\n",
       "      <td>0</td>\n",
       "      <td>0</td>\n",
       "      <td>Security staff</td>\n",
       "      <td>2.0</td>\n",
       "    </tr>\n",
       "    <tr>\n",
       "      <th>3</th>\n",
       "      <td>5008808</td>\n",
       "      <td>F</td>\n",
       "      <td>N</td>\n",
       "      <td>Y</td>\n",
       "      <td>0</td>\n",
       "      <td>270000.0</td>\n",
       "      <td>Commercial associate</td>\n",
       "      <td>Secondary / secondary special</td>\n",
       "      <td>Single / not married</td>\n",
       "      <td>House / apartment</td>\n",
       "      <td>-19110</td>\n",
       "      <td>-3051</td>\n",
       "      <td>1</td>\n",
       "      <td>0</td>\n",
       "      <td>1</td>\n",
       "      <td>1</td>\n",
       "      <td>Sales staff</td>\n",
       "      <td>1.0</td>\n",
       "    </tr>\n",
       "    <tr>\n",
       "      <th>4</th>\n",
       "      <td>5008809</td>\n",
       "      <td>F</td>\n",
       "      <td>N</td>\n",
       "      <td>Y</td>\n",
       "      <td>0</td>\n",
       "      <td>270000.0</td>\n",
       "      <td>Commercial associate</td>\n",
       "      <td>Secondary / secondary special</td>\n",
       "      <td>Single / not married</td>\n",
       "      <td>House / apartment</td>\n",
       "      <td>-19110</td>\n",
       "      <td>-3051</td>\n",
       "      <td>1</td>\n",
       "      <td>0</td>\n",
       "      <td>1</td>\n",
       "      <td>1</td>\n",
       "      <td>Sales staff</td>\n",
       "      <td>1.0</td>\n",
       "    </tr>\n",
       "  </tbody>\n",
       "</table>\n",
       "</div>"
      ],
      "text/plain": [
       "        ID CODE_GENDER FLAG_OWN_CAR FLAG_OWN_REALTY  CNT_CHILDREN  \\\n",
       "0  5008804           M            Y               Y             0   \n",
       "1  5008805           M            Y               Y             0   \n",
       "2  5008806           M            Y               Y             0   \n",
       "3  5008808           F            N               Y             0   \n",
       "4  5008809           F            N               Y             0   \n",
       "\n",
       "   AMT_INCOME_TOTAL      NAME_INCOME_TYPE            NAME_EDUCATION_TYPE  \\\n",
       "0          427500.0               Working               Higher education   \n",
       "1          427500.0               Working               Higher education   \n",
       "2          112500.0               Working  Secondary / secondary special   \n",
       "3          270000.0  Commercial associate  Secondary / secondary special   \n",
       "4          270000.0  Commercial associate  Secondary / secondary special   \n",
       "\n",
       "     NAME_FAMILY_STATUS  NAME_HOUSING_TYPE  DAYS_BIRTH  DAYS_EMPLOYED  \\\n",
       "0        Civil marriage   Rented apartment      -12005          -4542   \n",
       "1        Civil marriage   Rented apartment      -12005          -4542   \n",
       "2               Married  House / apartment      -21474          -1134   \n",
       "3  Single / not married  House / apartment      -19110          -3051   \n",
       "4  Single / not married  House / apartment      -19110          -3051   \n",
       "\n",
       "   FLAG_MOBIL  FLAG_WORK_PHONE  FLAG_PHONE  FLAG_EMAIL OCCUPATION_TYPE  \\\n",
       "0           1                1           0           0            None   \n",
       "1           1                1           0           0            None   \n",
       "2           1                0           0           0  Security staff   \n",
       "3           1                0           1           1     Sales staff   \n",
       "4           1                0           1           1     Sales staff   \n",
       "\n",
       "   CNT_FAM_MEMBERS  \n",
       "0              2.0  \n",
       "1              2.0  \n",
       "2              2.0  \n",
       "3              1.0  \n",
       "4              1.0  "
      ]
     },
     "execution_count": 15,
     "metadata": {
      "tags": []
     },
     "output_type": "execute_result"
    }
   ],
   "source": [
    "# Let us have a look at the data by converting it into a Pandas dataframe for better readability.\n",
    "pd_app_df = df_application_record.toPandas()\n",
    "pd_app_df.head()"
   ]
  },
  {
   "cell_type": "code",
   "execution_count": null,
   "metadata": {
    "id": "RdwuZOTsU1JO",
    "outputId": "f8bfb0ba-cd75-43a1-ded0-7d26500afffb"
   },
   "outputs": [
    {
     "name": "stdout",
     "output_type": "stream",
     "text": [
      "+---+-----------+------------+---------------+------------+----------------+----------------+-------------------+------------------+-----------------+----------+-------------+----------+---------------+----------+----------+---------------+---------------+\n",
      "| ID|CODE_GENDER|FLAG_OWN_CAR|FLAG_OWN_REALTY|CNT_CHILDREN|AMT_INCOME_TOTAL|NAME_INCOME_TYPE|NAME_EDUCATION_TYPE|NAME_FAMILY_STATUS|NAME_HOUSING_TYPE|DAYS_BIRTH|DAYS_EMPLOYED|FLAG_MOBIL|FLAG_WORK_PHONE|FLAG_PHONE|FLAG_EMAIL|OCCUPATION_TYPE|CNT_FAM_MEMBERS|\n",
      "+---+-----------+------------+---------------+------------+----------------+----------------+-------------------+------------------+-----------------+----------+-------------+----------+---------------+----------+----------+---------------+---------------+\n",
      "|  0|          0|           0|              0|           0|               0|               0|                  0|                 0|                0|         0|            0|         0|              0|         0|         0|              0|              0|\n",
      "+---+-----------+------------+---------------+------------+----------------+----------------+-------------------+------------------+-----------------+----------+-------------+----------+---------------+----------+----------+---------------+---------------+\n",
      "\n"
     ]
    }
   ],
   "source": [
    "# Checking null values in each column\n",
    "df_application_record.select([count(when(isnan(c),c)).alias(c) for c in df_application_record.columns]).show()"
   ]
  },
  {
   "cell_type": "code",
   "execution_count": null,
   "metadata": {
    "id": "DyziUmBwU1JO",
    "outputId": "a9974fc1-33bf-4c1c-e93f-d96889c50e62"
   },
   "outputs": [
    {
     "name": "stdout",
     "output_type": "stream",
     "text": [
      "+-------+-----------------+-----------+------------+---------------+-------------------+------------------+--------------------+--------------------+------------------+-----------------+-------------------+------------------+--------------------+------------------+-------------------+-------------------+--------------------+------------------+\n",
      "|summary|               ID|CODE_GENDER|FLAG_OWN_CAR|FLAG_OWN_REALTY|       CNT_CHILDREN|  AMT_INCOME_TOTAL|    NAME_INCOME_TYPE| NAME_EDUCATION_TYPE|NAME_FAMILY_STATUS|NAME_HOUSING_TYPE|         DAYS_BIRTH|     DAYS_EMPLOYED|          FLAG_MOBIL|   FLAG_WORK_PHONE|         FLAG_PHONE|         FLAG_EMAIL|     OCCUPATION_TYPE|   CNT_FAM_MEMBERS|\n",
      "+-------+-----------------+-----------+------------+---------------+-------------------+------------------+--------------------+--------------------+------------------+-----------------+-------------------+------------------+--------------------+------------------+-------------------+-------------------+--------------------+------------------+\n",
      "|  count|           438557|     438557|      438557|         438557|             438557|            438557|              438557|              438557|            438557|           438557|             438557|            438557|              438557|            438557|             438557|             438557|              304354|            438557|\n",
      "|   mean|6022176.269841776|       null|        null|           null|0.42739028222101116|187524.28600950394|                null|                null|              null|             null|-15997.904648654565| 60563.67532840657|                 1.0|0.2061328402009317|0.28777103090362255|0.10820714297115312|                null| 2.194465029631268|\n",
      "| stddev|571637.0232571268|       null|        null|           null| 0.7248822135521452|110086.85306622952|                null|                null|              null|             null|  4185.030006794101|138767.79964666866|7.606542299082158...|0.4045274595500874|0.45272434441461773| 0.3106422012826674|                null|0.8972073300563035|\n",
      "|    min|          5008804|          F|           N|              N|                  0|           26100.0|Commercial associate|     Academic degree|    Civil marriage|  Co-op apartment|             -25201|            -17531|                   1|                 0|                  0|                  0|         Accountants|               1.0|\n",
      "|    max|          7999952|          M|           Y|              Y|                 19|         6750000.0|             Working|Secondary / secon...|             Widow|     With parents|              -7489|            365243|                   1|                 1|                  1|                  1|Waiters/barmen staff|              20.0|\n",
      "+-------+-----------------+-----------+------------+---------------+-------------------+------------------+--------------------+--------------------+------------------+-----------------+-------------------+------------------+--------------------+------------------+-------------------+-------------------+--------------------+------------------+\n",
      "\n"
     ]
    }
   ],
   "source": [
    "# As we can see there are no null values, let us check the statistics.\n",
    "df_application_record.describe().show()"
   ]
  },
  {
   "cell_type": "code",
   "execution_count": null,
   "metadata": {
    "id": "3cVjpPt6U1JP",
    "outputId": "f57fc183-2af1-4c7f-d990-3e0939a139cf"
   },
   "outputs": [
    {
     "name": "stdout",
     "output_type": "stream",
     "text": [
      "+-----------+------+\n",
      "|code_gender| count|\n",
      "+-----------+------+\n",
      "|          F|294440|\n",
      "|          M|144117|\n",
      "+-----------+------+\n",
      "\n"
     ]
    }
   ],
   "source": [
    "# Let us have a look at the data for each column and also re confirm Null values\n",
    "df_application_record.groupBy('code_gender').count().orderBy('count', ascending = 0).show()"
   ]
  },
  {
   "cell_type": "code",
   "execution_count": null,
   "metadata": {
    "id": "OYg3PXZ_U1JP",
    "outputId": "2144fa17-2adc-4112-bc1c-c818aaff736c"
   },
   "outputs": [
    {
     "data": {
      "text/plain": [
       "0"
      ]
     },
     "execution_count": 19,
     "metadata": {
      "tags": []
     },
     "output_type": "execute_result"
    }
   ],
   "source": [
    "df_application_record.where(col(\"code_gender\").isNull()).count()"
   ]
  },
  {
   "cell_type": "code",
   "execution_count": null,
   "metadata": {
    "id": "KsBKcyi8U1JP",
    "outputId": "6343870c-116d-4ac9-f40a-67365a06ac83"
   },
   "outputs": [
    {
     "name": "stdout",
     "output_type": "stream",
     "text": [
      "+------------+------+\n",
      "|flag_own_car| count|\n",
      "+------------+------+\n",
      "|           N|275459|\n",
      "|           Y|163098|\n",
      "+------------+------+\n",
      "\n"
     ]
    }
   ],
   "source": [
    "df_application_record.groupBy('flag_own_car').count().orderBy('count', ascending = 0).show()"
   ]
  },
  {
   "cell_type": "code",
   "execution_count": null,
   "metadata": {
    "id": "090iA66GU1JP",
    "outputId": "e9c71f09-ed50-4342-ef41-77e875af6243"
   },
   "outputs": [
    {
     "name": "stdout",
     "output_type": "stream",
     "text": [
      "+---------------+------+\n",
      "|flag_own_realty| count|\n",
      "+---------------+------+\n",
      "|              Y|304074|\n",
      "|              N|134483|\n",
      "+---------------+------+\n",
      "\n"
     ]
    }
   ],
   "source": [
    "df_application_record.groupBy('flag_own_realty').count().orderBy('count', ascending = 0).show()"
   ]
  },
  {
   "cell_type": "code",
   "execution_count": null,
   "metadata": {
    "id": "tA71Ze1UU1JQ",
    "outputId": "61ec80c8-4b4d-469a-d800-54222671bd8e"
   },
   "outputs": [
    {
     "data": {
      "text/plain": [
       "0"
      ]
     },
     "execution_count": 22,
     "metadata": {
      "tags": []
     },
     "output_type": "execute_result"
    }
   ],
   "source": [
    "df_application_record.where(col(\"flag_own_realty\").isNull()).count()"
   ]
  },
  {
   "cell_type": "code",
   "execution_count": null,
   "metadata": {
    "id": "g7NeTkgsU1JQ",
    "outputId": "3ee7b805-88e8-47d4-a4ed-0990c7ac7993"
   },
   "outputs": [
    {
     "name": "stdout",
     "output_type": "stream",
     "text": [
      "+------------+------+\n",
      "|cnt_children| count|\n",
      "+------------+------+\n",
      "|           0|304071|\n",
      "|           1| 88527|\n",
      "|           2| 39884|\n",
      "|           3|  5430|\n",
      "|           4|   486|\n",
      "|           5|   133|\n",
      "|           7|     9|\n",
      "|           9|     5|\n",
      "|          12|     4|\n",
      "|           6|     4|\n",
      "|          14|     3|\n",
      "|          19|     1|\n",
      "+------------+------+\n",
      "\n"
     ]
    }
   ],
   "source": [
    "df_application_record.groupBy('cnt_children').count().orderBy('count', ascending = 0).show()"
   ]
  },
  {
   "cell_type": "code",
   "execution_count": null,
   "metadata": {
    "id": "a-I5pTbOU1JQ",
    "outputId": "78f729b3-4eaa-4e8b-988a-8d6b0e88e291"
   },
   "outputs": [
    {
     "data": {
      "text/plain": [
       "0"
      ]
     },
     "execution_count": 24,
     "metadata": {
      "tags": []
     },
     "output_type": "execute_result"
    }
   ],
   "source": [
    "df_application_record.where(col(\"cnt_children\").isNull()).count()"
   ]
  },
  {
   "cell_type": "code",
   "execution_count": null,
   "metadata": {
    "id": "rqT32AT7U1JQ"
   },
   "outputs": [],
   "source": [
    "# Looks like there are rows with children more than 3 and upto 19 which is not usual and looks like an outlier.\n",
    "# So let us try plotting an box plot and find out the outliers in cnt_children column"
   ]
  },
  {
   "cell_type": "code",
   "execution_count": null,
   "metadata": {
    "id": "vgYOV4VlU1JR",
    "outputId": "f14b9549-9c82-4e0c-9ac8-7a957b6f0962",
    "scrolled": true
   },
   "outputs": [
    {
     "name": "stdout",
     "output_type": "stream",
     "text": [
      "\u001b[33mWARNING: Running pip install with root privileges is generally not a good idea. Try `pip3 install --user` instead.\u001b[0m\n",
      "Requirement already satisfied: seaborn in /usr/local/lib/python3.7/site-packages\n",
      "Requirement already satisfied: matplotlib>=2.2 in /usr/local/lib64/python3.7/site-packages (from seaborn)\n",
      "Requirement already satisfied: scipy>=1.0 in /usr/local/lib64/python3.7/site-packages (from seaborn)\n",
      "Requirement already satisfied: numpy>=1.15 in /usr/local/lib64/python3.7/site-packages (from seaborn)\n",
      "Requirement already satisfied: pandas>=0.23 in /usr/local/lib64/python3.7/site-packages (from seaborn)\n",
      "Requirement already satisfied: pyparsing!=2.0.4,!=2.1.2,!=2.1.6,>=2.0.3 in /usr/local/lib/python3.7/site-packages (from matplotlib>=2.2->seaborn)\n",
      "Requirement already satisfied: python-dateutil>=2.1 in /usr/local/lib/python3.7/site-packages (from matplotlib>=2.2->seaborn)\n",
      "Requirement already satisfied: kiwisolver>=1.0.1 in /usr/local/lib64/python3.7/site-packages (from matplotlib>=2.2->seaborn)\n",
      "Requirement already satisfied: pillow>=6.2.0 in /usr/local/lib64/python3.7/site-packages (from matplotlib>=2.2->seaborn)\n",
      "Requirement already satisfied: cycler>=0.10 in /usr/local/lib/python3.7/site-packages (from matplotlib>=2.2->seaborn)\n",
      "Requirement already satisfied: pytz>=2017.3 in /usr/local/lib/python3.7/site-packages (from pandas>=0.23->seaborn)\n",
      "Requirement already satisfied: six>=1.5 in /usr/local/lib/python3.7/site-packages (from python-dateutil>=2.1->matplotlib>=2.2->seaborn)\n"
     ]
    }
   ],
   "source": [
    "! sudo pip3 install seaborn"
   ]
  },
  {
   "cell_type": "code",
   "execution_count": null,
   "metadata": {
    "id": "u5bG9-nhU1JR",
    "outputId": "e5457212-8ffe-48dd-bdef-7ff4b2115512"
   },
   "outputs": [
    {
     "data": {
      "text/plain": [
       "<AxesSubplot:xlabel='CNT_CHILDREN'>"
      ]
     },
     "execution_count": 27,
     "metadata": {
      "tags": []
     },
     "output_type": "execute_result"
    },
    {
     "data": {
      "image/png": "[encoded data removed]",
      "text/plain": [
       "<Figure size 432x288 with 1 Axes>"
      ]
     },
     "metadata": {
      "needs_background": "light",
      "tags": []
     },
     "output_type": "display_data"
    }
   ],
   "source": [
    "import seaborn as sns\n",
    "sns.boxplot(x=pd_app_df['CNT_CHILDREN'])"
   ]
  },
  {
   "cell_type": "code",
   "execution_count": null,
   "metadata": {
    "id": "soE9Eg92U1JR",
    "outputId": "0ef28e8e-b173-40e7-efe1-63aed17a2b60"
   },
   "outputs": [
    {
     "data": {
      "text/plain": [
       "0.01385224725634296"
      ]
     },
     "execution_count": 28,
     "metadata": {
      "tags": []
     },
     "output_type": "execute_result"
    }
   ],
   "source": [
    "# From the above plot we can see that there are a lot of outliers after 2. \n",
    "# Moreover it makes sense to remove rows which have more than 2 children as the count is also less (compared to entire data)\n",
    "more_than_2_child = df_application_record.filter('cnt_children > 2').count()\n",
    "total_records = df_application_record.count()\n",
    "percent = more_than_2_child/total_records\n",
    "percent"
   ]
  },
  {
   "cell_type": "code",
   "execution_count": null,
   "metadata": {
    "id": "7ijYlGZMU1JR"
   },
   "outputs": [],
   "source": [
    "# As you can see above the number of records with more than 2 children is less than 1 %\n",
    "# Also we do not want to take risk including them as probably there is high possibility for\n",
    "# families with more than 2 children to become a defaulter.Hence let us remove them.\n",
    "df_application_record = df_application_record.filter('cnt_children <= 2')"
   ]
  },
  {
   "cell_type": "code",
   "execution_count": null,
   "metadata": {
    "id": "FMiYjOyqU1JS",
    "outputId": "3525a098-b97b-4f9f-de3a-61abdeae0617"
   },
   "outputs": [
    {
     "data": {
      "text/plain": [
       "432482"
      ]
     },
     "execution_count": 30,
     "metadata": {
      "tags": []
     },
     "output_type": "execute_result"
    }
   ],
   "source": [
    "# Checking toal count now\n",
    "df_application_record.count()"
   ]
  },
  {
   "cell_type": "code",
   "execution_count": null,
   "metadata": {
    "id": "bBJhPCdqU1JS",
    "outputId": "49942af1-d586-44a9-e115-6cac1df2a3e5"
   },
   "outputs": [
    {
     "name": "stdout",
     "output_type": "stream",
     "text": [
      "+------------+------+\n",
      "|cnt_children| count|\n",
      "+------------+------+\n",
      "|           0|304071|\n",
      "|           1| 88527|\n",
      "|           2| 39884|\n",
      "+------------+------+\n",
      "\n"
     ]
    }
   ],
   "source": [
    "# Checking the values in chidlren count now\n",
    "df_application_record.groupBy('cnt_children').count().orderBy('count', ascending = 0).show()"
   ]
  },
  {
   "cell_type": "code",
   "execution_count": null,
   "metadata": {
    "id": "H2sQiBuKU1JS",
    "outputId": "df9e0d5f-8a8f-40ac-eecd-d4e72cdd9cdb"
   },
   "outputs": [
    {
     "name": "stdout",
     "output_type": "stream",
     "text": [
      "+----------------+-----+\n",
      "|amt_income_total|count|\n",
      "+----------------+-----+\n",
      "|        135000.0|46199|\n",
      "|        157500.0|39233|\n",
      "|        180000.0|37443|\n",
      "|        112500.0|36357|\n",
      "|        225000.0|33694|\n",
      "|        202500.0|27438|\n",
      "|         90000.0|22419|\n",
      "|        270000.0|19349|\n",
      "|        315000.0|11771|\n",
      "|        247500.0|10297|\n",
      "|         67500.0| 9278|\n",
      "|        360000.0| 8108|\n",
      "|        292500.0| 7077|\n",
      "|        126000.0| 6533|\n",
      "|         81000.0| 6008|\n",
      "|        121500.0| 5249|\n",
      "|        144000.0| 4988|\n",
      "|        450000.0| 4558|\n",
      "|         99000.0| 4315|\n",
      "|        171000.0| 4134|\n",
      "|        103500.0| 3632|\n",
      "|        337500.0| 3450|\n",
      "|        166500.0| 3416|\n",
      "|        405000.0| 3364|\n",
      "|        117000.0| 3129|\n",
      "|        189000.0| 3082|\n",
      "|         76500.0| 3069|\n",
      "|        216000.0| 2891|\n",
      "|        162000.0| 2654|\n",
      "|        382500.0| 2258|\n",
      "|        148500.0| 2154|\n",
      "|        108000.0| 2151|\n",
      "|         72000.0| 2033|\n",
      "|         94500.0| 1967|\n",
      "|        193500.0| 1957|\n",
      "|        130500.0| 1835|\n",
      "|        211500.0| 1701|\n",
      "|        153000.0| 1661|\n",
      "|         54000.0| 1588|\n",
      "|        540000.0| 1564|\n",
      "|        175500.0| 1555|\n",
      "|         85500.0| 1471|\n",
      "|        139500.0| 1336|\n",
      "|        234000.0| 1258|\n",
      "|         45000.0| 1191|\n",
      "|        252000.0| 1176|\n",
      "|        675000.0| 1115|\n",
      "|         63000.0|  994|\n",
      "|        207000.0|  993|\n",
      "|        261000.0|  966|\n",
      "|        184500.0|  952|\n",
      "|        427500.0|  951|\n",
      "|         58500.0|  868|\n",
      "|        238500.0|  862|\n",
      "|        243000.0|  797|\n",
      "|        256500.0|  749|\n",
      "|        220500.0|  715|\n",
      "|        198000.0|  702|\n",
      "|         49500.0|  665|\n",
      "|        306000.0|  643|\n",
      "|        279000.0|  544|\n",
      "|        229500.0|  540|\n",
      "|        495000.0|  506|\n",
      "|        585000.0|  467|\n",
      "|        283500.0|  456|\n",
      "|        301500.0|  368|\n",
      "|        351000.0|  364|\n",
      "|        324000.0|  346|\n",
      "|        265500.0|  322|\n",
      "|        900000.0|  295|\n",
      "|        288000.0|  293|\n",
      "|        297000.0|  278|\n",
      "|        310500.0|  275|\n",
      "|         40500.0|  246|\n",
      "|        387000.0|  244|\n",
      "|        441000.0|  230|\n",
      "|        391500.0|  227|\n",
      "|        810000.0|  222|\n",
      "|         36000.0|  215|\n",
      "|        630000.0|  202|\n",
      "|        274500.0|  202|\n",
      "|        342000.0|  201|\n",
      "|        562500.0|  197|\n",
      "|        328500.0|  195|\n",
      "|        396000.0|  185|\n",
      "|        472500.0|  170|\n",
      "|        378000.0|  158|\n",
      "|        101250.0|  144|\n",
      "|        333000.0|  141|\n",
      "|         56250.0|  136|\n",
      "|        369000.0|  133|\n",
      "|         83250.0|  133|\n",
      "|       1125000.0|  132|\n",
      "|        445500.0|  132|\n",
      "|        123750.0|  128|\n",
      "|        373500.0|  121|\n",
      "|        346500.0|  117|\n",
      "|        119250.0|  117|\n",
      "|        720000.0|  115|\n",
      "|         65250.0|  112|\n",
      "+----------------+-----+\n",
      "only showing top 100 rows\n",
      "\n"
     ]
    }
   ],
   "source": [
    "# Let us proceed to the next column which is AMT_INCOME_TOTAL.\n",
    "df_application_record.groupBy('amt_income_total').count().orderBy('count', ascending = 0).show(100)"
   ]
  },
  {
   "cell_type": "code",
   "execution_count": null,
   "metadata": {
    "id": "l_voXAnaU1JS",
    "outputId": "4834f8a8-94ec-4765-c183-bdccff3bfde1"
   },
   "outputs": [
    {
     "data": {
      "text/plain": [
       "<AxesSubplot:xlabel='AMT_INCOME_TOTAL'>"
      ]
     },
     "execution_count": 33,
     "metadata": {
      "tags": []
     },
     "output_type": "execute_result"
    },
    {
     "data": {
      "image/png": "[encoded data removed]",
      "text/plain": [
       "<Figure size 432x288 with 1 Axes>"
      ]
     },
     "metadata": {
      "needs_background": "light",
      "tags": []
     },
     "output_type": "display_data"
    }
   ],
   "source": [
    "sns.boxplot(x=pd_app_df['AMT_INCOME_TOTAL'])"
   ]
  },
  {
   "cell_type": "code",
   "execution_count": null,
   "metadata": {
    "id": "MagylY_fU1JT",
    "outputId": "2e043455-1e6b-4eae-c6e7-64612765a1fc"
   },
   "outputs": [
    {
     "data": {
      "text/html": [
       "<div>\n",
       "<style scoped>\n",
       "    .dataframe tbody tr th:only-of-type {\n",
       "        vertical-align: middle;\n",
       "    }\n",
       "\n",
       "    .dataframe tbody tr th {\n",
       "        vertical-align: top;\n",
       "    }\n",
       "\n",
       "    .dataframe thead th {\n",
       "        text-align: right;\n",
       "    }\n",
       "</style>\n",
       "<table border=\"1\" class=\"dataframe\">\n",
       "  <thead>\n",
       "    <tr style=\"text-align: right;\">\n",
       "      <th></th>\n",
       "      <th>ID</th>\n",
       "      <th>CNT_CHILDREN</th>\n",
       "      <th>AMT_INCOME_TOTAL</th>\n",
       "      <th>DAYS_BIRTH</th>\n",
       "      <th>DAYS_EMPLOYED</th>\n",
       "      <th>FLAG_MOBIL</th>\n",
       "      <th>FLAG_WORK_PHONE</th>\n",
       "      <th>FLAG_PHONE</th>\n",
       "      <th>FLAG_EMAIL</th>\n",
       "      <th>CNT_FAM_MEMBERS</th>\n",
       "    </tr>\n",
       "  </thead>\n",
       "  <tbody>\n",
       "    <tr>\n",
       "      <th>count</th>\n",
       "      <td>4.324820e+05</td>\n",
       "      <td>432482.000000</td>\n",
       "      <td>4.324820e+05</td>\n",
       "      <td>432482.000000</td>\n",
       "      <td>432482.000000</td>\n",
       "      <td>432482.0</td>\n",
       "      <td>432482.000000</td>\n",
       "      <td>432482.000000</td>\n",
       "      <td>432482.000000</td>\n",
       "      <td>432482.000000</td>\n",
       "    </tr>\n",
       "    <tr>\n",
       "      <th>mean</th>\n",
       "      <td>6.022326e+06</td>\n",
       "      <td>0.389138</td>\n",
       "      <td>1.875133e+05</td>\n",
       "      <td>-16029.902387</td>\n",
       "      <td>61325.514232</td>\n",
       "      <td>1.0</td>\n",
       "      <td>0.205488</td>\n",
       "      <td>0.288030</td>\n",
       "      <td>0.108016</td>\n",
       "      <td>2.153979</td>\n",
       "    </tr>\n",
       "    <tr>\n",
       "      <th>std</th>\n",
       "      <td>5.716234e+05</td>\n",
       "      <td>0.649733</td>\n",
       "      <td>1.101544e+05</td>\n",
       "      <td>4198.601778</td>\n",
       "      <td>139430.278902</td>\n",
       "      <td>0.0</td>\n",
       "      <td>0.404058</td>\n",
       "      <td>0.452846</td>\n",
       "      <td>0.310401</td>\n",
       "      <td>0.831849</td>\n",
       "    </tr>\n",
       "    <tr>\n",
       "      <th>min</th>\n",
       "      <td>5.008804e+06</td>\n",
       "      <td>0.000000</td>\n",
       "      <td>2.610000e+04</td>\n",
       "      <td>-25201.000000</td>\n",
       "      <td>-17531.000000</td>\n",
       "      <td>1.0</td>\n",
       "      <td>0.000000</td>\n",
       "      <td>0.000000</td>\n",
       "      <td>0.000000</td>\n",
       "      <td>1.000000</td>\n",
       "    </tr>\n",
       "    <tr>\n",
       "      <th>25%</th>\n",
       "      <td>5.609498e+06</td>\n",
       "      <td>0.000000</td>\n",
       "      <td>1.215000e+05</td>\n",
       "      <td>-19537.000000</td>\n",
       "      <td>-3099.000000</td>\n",
       "      <td>1.0</td>\n",
       "      <td>0.000000</td>\n",
       "      <td>0.000000</td>\n",
       "      <td>0.000000</td>\n",
       "      <td>2.000000</td>\n",
       "    </tr>\n",
       "    <tr>\n",
       "      <th>50%</th>\n",
       "      <td>6.047774e+06</td>\n",
       "      <td>0.000000</td>\n",
       "      <td>1.612282e+05</td>\n",
       "      <td>-15688.000000</td>\n",
       "      <td>-1459.000000</td>\n",
       "      <td>1.0</td>\n",
       "      <td>0.000000</td>\n",
       "      <td>0.000000</td>\n",
       "      <td>0.000000</td>\n",
       "      <td>2.000000</td>\n",
       "    </tr>\n",
       "    <tr>\n",
       "      <th>75%</th>\n",
       "      <td>6.457024e+06</td>\n",
       "      <td>1.000000</td>\n",
       "      <td>2.250000e+05</td>\n",
       "      <td>-12520.000000</td>\n",
       "      <td>-363.000000</td>\n",
       "      <td>1.0</td>\n",
       "      <td>0.000000</td>\n",
       "      <td>1.000000</td>\n",
       "      <td>0.000000</td>\n",
       "      <td>3.000000</td>\n",
       "    </tr>\n",
       "    <tr>\n",
       "      <th>max</th>\n",
       "      <td>7.999952e+06</td>\n",
       "      <td>2.000000</td>\n",
       "      <td>6.750000e+06</td>\n",
       "      <td>-7489.000000</td>\n",
       "      <td>365243.000000</td>\n",
       "      <td>1.0</td>\n",
       "      <td>1.000000</td>\n",
       "      <td>1.000000</td>\n",
       "      <td>1.000000</td>\n",
       "      <td>4.000000</td>\n",
       "    </tr>\n",
       "  </tbody>\n",
       "</table>\n",
       "</div>"
      ],
      "text/plain": [
       "                 ID   CNT_CHILDREN  AMT_INCOME_TOTAL     DAYS_BIRTH  \\\n",
       "count  4.324820e+05  432482.000000      4.324820e+05  432482.000000   \n",
       "mean   6.022326e+06       0.389138      1.875133e+05  -16029.902387   \n",
       "std    5.716234e+05       0.649733      1.101544e+05    4198.601778   \n",
       "min    5.008804e+06       0.000000      2.610000e+04  -25201.000000   \n",
       "25%    5.609498e+06       0.000000      1.215000e+05  -19537.000000   \n",
       "50%    6.047774e+06       0.000000      1.612282e+05  -15688.000000   \n",
       "75%    6.457024e+06       1.000000      2.250000e+05  -12520.000000   \n",
       "max    7.999952e+06       2.000000      6.750000e+06   -7489.000000   \n",
       "\n",
       "       DAYS_EMPLOYED  FLAG_MOBIL  FLAG_WORK_PHONE     FLAG_PHONE  \\\n",
       "count  432482.000000    432482.0    432482.000000  432482.000000   \n",
       "mean    61325.514232         1.0         0.205488       0.288030   \n",
       "std    139430.278902         0.0         0.404058       0.452846   \n",
       "min    -17531.000000         1.0         0.000000       0.000000   \n",
       "25%     -3099.000000         1.0         0.000000       0.000000   \n",
       "50%     -1459.000000         1.0         0.000000       0.000000   \n",
       "75%      -363.000000         1.0         0.000000       1.000000   \n",
       "max    365243.000000         1.0         1.000000       1.000000   \n",
       "\n",
       "          FLAG_EMAIL  CNT_FAM_MEMBERS  \n",
       "count  432482.000000    432482.000000  \n",
       "mean        0.108016         2.153979  \n",
       "std         0.310401         0.831849  \n",
       "min         0.000000         1.000000  \n",
       "25%         0.000000         2.000000  \n",
       "50%         0.000000         2.000000  \n",
       "75%         0.000000         3.000000  \n",
       "max         1.000000         4.000000  "
      ]
     },
     "execution_count": 34,
     "metadata": {
      "tags": []
     },
     "output_type": "execute_result"
    }
   ],
   "source": [
    "pd_app_df = df_application_record.toPandas()\n",
    "pd_app_df.describe()"
   ]
  },
  {
   "cell_type": "code",
   "execution_count": null,
   "metadata": {
    "id": "yJKUggL_U1JT",
    "outputId": "a30d418e-fb4e-4c14-df3b-f977e1428559"
   },
   "outputs": [
    {
     "data": {
      "text/plain": [
       "0.21125734712658562"
      ]
     },
     "execution_count": 35,
     "metadata": {
      "tags": []
     },
     "output_type": "execute_result"
    }
   ],
   "source": [
    "# From the box plot above and using the distribution of Amount income total, \n",
    "# we can see there are more outlier after 2.250000e+05 (i.e.) 225000\n",
    "# Let us calculate the percentage of records above this value as we did before.\n",
    "more_than_two_point_five = df_application_record.filter('amt_income_total > 225000').count()\n",
    "total_records = df_application_record.count()\n",
    "percent = more_than_two_point_five/total_records\n",
    "percent"
   ]
  },
  {
   "cell_type": "code",
   "execution_count": null,
   "metadata": {
    "id": "5pxEsWx_U1JT",
    "outputId": "51761512-e15b-4de7-bf76-d849c8a3aec4"
   },
   "outputs": [
    {
     "data": {
      "text/plain": [
       "341117"
      ]
     },
     "execution_count": 36,
     "metadata": {
      "tags": []
     },
     "output_type": "execute_result"
    }
   ],
   "source": [
    "# as you can see above the number of records above 225000 is very less.\n",
    "# However there is a great chance for this to affect the model\n",
    "# moreover people who get high salary would go for other methods which give bulk money at once like personal loan.\n",
    "# So let us target the mid range of people who look to do recursive spends of small amounts (which is a case to use credit cards)\n",
    "# Also since we want to identify defaulters, there is more chance for people with middle range salary to default.\n",
    "\n",
    "df_application_record = df_application_record.filter('amt_income_total <= 225000')\n",
    "df_application_record.count()"
   ]
  },
  {
   "cell_type": "code",
   "execution_count": null,
   "metadata": {
    "id": "LppoVid-U1JT",
    "outputId": "b534ddd1-ed3e-4cd5-add1-b33bce62fb83"
   },
   "outputs": [
    {
     "data": {
      "text/html": [
       "<div>\n",
       "<style scoped>\n",
       "    .dataframe tbody tr th:only-of-type {\n",
       "        vertical-align: middle;\n",
       "    }\n",
       "\n",
       "    .dataframe tbody tr th {\n",
       "        vertical-align: top;\n",
       "    }\n",
       "\n",
       "    .dataframe thead th {\n",
       "        text-align: right;\n",
       "    }\n",
       "</style>\n",
       "<table border=\"1\" class=\"dataframe\">\n",
       "  <thead>\n",
       "    <tr style=\"text-align: right;\">\n",
       "      <th></th>\n",
       "      <th>ID</th>\n",
       "      <th>CNT_CHILDREN</th>\n",
       "      <th>AMT_INCOME_TOTAL</th>\n",
       "      <th>DAYS_BIRTH</th>\n",
       "      <th>DAYS_EMPLOYED</th>\n",
       "      <th>FLAG_MOBIL</th>\n",
       "      <th>FLAG_WORK_PHONE</th>\n",
       "      <th>FLAG_PHONE</th>\n",
       "      <th>FLAG_EMAIL</th>\n",
       "      <th>CNT_FAM_MEMBERS</th>\n",
       "    </tr>\n",
       "  </thead>\n",
       "  <tbody>\n",
       "    <tr>\n",
       "      <th>count</th>\n",
       "      <td>3.411170e+05</td>\n",
       "      <td>341117.000000</td>\n",
       "      <td>341117.000000</td>\n",
       "      <td>341117.000000</td>\n",
       "      <td>341117.000000</td>\n",
       "      <td>341117.0</td>\n",
       "      <td>341117.000000</td>\n",
       "      <td>341117.000000</td>\n",
       "      <td>341117.000000</td>\n",
       "      <td>341117.000000</td>\n",
       "    </tr>\n",
       "    <tr>\n",
       "      <th>mean</th>\n",
       "      <td>6.019979e+06</td>\n",
       "      <td>0.384965</td>\n",
       "      <td>148019.291762</td>\n",
       "      <td>-16094.344257</td>\n",
       "      <td>69069.406626</td>\n",
       "      <td>1.0</td>\n",
       "      <td>0.211587</td>\n",
       "      <td>0.285292</td>\n",
       "      <td>0.092382</td>\n",
       "      <td>2.150875</td>\n",
       "    </tr>\n",
       "    <tr>\n",
       "      <th>std</th>\n",
       "      <td>5.720750e+05</td>\n",
       "      <td>0.647962</td>\n",
       "      <td>46366.592765</td>\n",
       "      <td>4300.380583</td>\n",
       "      <td>145701.446936</td>\n",
       "      <td>0.0</td>\n",
       "      <td>0.408434</td>\n",
       "      <td>0.451554</td>\n",
       "      <td>0.289565</td>\n",
       "      <td>0.830516</td>\n",
       "    </tr>\n",
       "    <tr>\n",
       "      <th>min</th>\n",
       "      <td>5.008806e+06</td>\n",
       "      <td>0.000000</td>\n",
       "      <td>26100.000000</td>\n",
       "      <td>-25201.000000</td>\n",
       "      <td>-17531.000000</td>\n",
       "      <td>1.0</td>\n",
       "      <td>0.000000</td>\n",
       "      <td>0.000000</td>\n",
       "      <td>0.000000</td>\n",
       "      <td>1.000000</td>\n",
       "    </tr>\n",
       "    <tr>\n",
       "      <th>25%</th>\n",
       "      <td>5.598871e+06</td>\n",
       "      <td>0.000000</td>\n",
       "      <td>112500.000000</td>\n",
       "      <td>-19771.000000</td>\n",
       "      <td>-2986.000000</td>\n",
       "      <td>1.0</td>\n",
       "      <td>0.000000</td>\n",
       "      <td>0.000000</td>\n",
       "      <td>0.000000</td>\n",
       "      <td>2.000000</td>\n",
       "    </tr>\n",
       "    <tr>\n",
       "      <th>50%</th>\n",
       "      <td>6.046111e+06</td>\n",
       "      <td>0.000000</td>\n",
       "      <td>144000.000000</td>\n",
       "      <td>-15741.000000</td>\n",
       "      <td>-1344.000000</td>\n",
       "      <td>1.0</td>\n",
       "      <td>0.000000</td>\n",
       "      <td>0.000000</td>\n",
       "      <td>0.000000</td>\n",
       "      <td>2.000000</td>\n",
       "    </tr>\n",
       "    <tr>\n",
       "      <th>75%</th>\n",
       "      <td>6.451119e+06</td>\n",
       "      <td>1.000000</td>\n",
       "      <td>180000.000000</td>\n",
       "      <td>-12459.000000</td>\n",
       "      <td>-269.000000</td>\n",
       "      <td>1.0</td>\n",
       "      <td>0.000000</td>\n",
       "      <td>1.000000</td>\n",
       "      <td>0.000000</td>\n",
       "      <td>3.000000</td>\n",
       "    </tr>\n",
       "    <tr>\n",
       "      <th>max</th>\n",
       "      <td>7.999952e+06</td>\n",
       "      <td>2.000000</td>\n",
       "      <td>225000.000000</td>\n",
       "      <td>-7489.000000</td>\n",
       "      <td>365243.000000</td>\n",
       "      <td>1.0</td>\n",
       "      <td>1.000000</td>\n",
       "      <td>1.000000</td>\n",
       "      <td>1.000000</td>\n",
       "      <td>4.000000</td>\n",
       "    </tr>\n",
       "  </tbody>\n",
       "</table>\n",
       "</div>"
      ],
      "text/plain": [
       "                 ID   CNT_CHILDREN  AMT_INCOME_TOTAL     DAYS_BIRTH  \\\n",
       "count  3.411170e+05  341117.000000     341117.000000  341117.000000   \n",
       "mean   6.019979e+06       0.384965     148019.291762  -16094.344257   \n",
       "std    5.720750e+05       0.647962      46366.592765    4300.380583   \n",
       "min    5.008806e+06       0.000000      26100.000000  -25201.000000   \n",
       "25%    5.598871e+06       0.000000     112500.000000  -19771.000000   \n",
       "50%    6.046111e+06       0.000000     144000.000000  -15741.000000   \n",
       "75%    6.451119e+06       1.000000     180000.000000  -12459.000000   \n",
       "max    7.999952e+06       2.000000     225000.000000   -7489.000000   \n",
       "\n",
       "       DAYS_EMPLOYED  FLAG_MOBIL  FLAG_WORK_PHONE     FLAG_PHONE  \\\n",
       "count  341117.000000    341117.0    341117.000000  341117.000000   \n",
       "mean    69069.406626         1.0         0.211587       0.285292   \n",
       "std    145701.446936         0.0         0.408434       0.451554   \n",
       "min    -17531.000000         1.0         0.000000       0.000000   \n",
       "25%     -2986.000000         1.0         0.000000       0.000000   \n",
       "50%     -1344.000000         1.0         0.000000       0.000000   \n",
       "75%      -269.000000         1.0         0.000000       1.000000   \n",
       "max    365243.000000         1.0         1.000000       1.000000   \n",
       "\n",
       "          FLAG_EMAIL  CNT_FAM_MEMBERS  \n",
       "count  341117.000000    341117.000000  \n",
       "mean        0.092382         2.150875  \n",
       "std         0.289565         0.830516  \n",
       "min         0.000000         1.000000  \n",
       "25%         0.000000         2.000000  \n",
       "50%         0.000000         2.000000  \n",
       "75%         0.000000         3.000000  \n",
       "max         1.000000         4.000000  "
      ]
     },
     "execution_count": 37,
     "metadata": {
      "tags": []
     },
     "output_type": "execute_result"
    }
   ],
   "source": [
    "pd_app_df = df_application_record.toPandas()\n",
    "pd_app_df.describe()"
   ]
  },
  {
   "cell_type": "code",
   "execution_count": null,
   "metadata": {
    "id": "d8bTYLJPU1JU",
    "outputId": "140b49cf-ce0f-461e-f228-f54ebebebe02"
   },
   "outputs": [
    {
     "data": {
      "text/plain": [
       "<AxesSubplot:xlabel='AMT_INCOME_TOTAL'>"
      ]
     },
     "execution_count": 38,
     "metadata": {
      "tags": []
     },
     "output_type": "execute_result"
    },
    {
     "data": {
      "image/png": "[encoded data removed]",
      "text/plain": [
       "<Figure size 432x288 with 1 Axes>"
      ]
     },
     "metadata": {
      "needs_background": "light",
      "tags": []
     },
     "output_type": "display_data"
    }
   ],
   "source": [
    "# Now checking the box plot, we get a proper distribution\n",
    "sns.boxplot(x=pd_app_df['AMT_INCOME_TOTAL'])"
   ]
  },
  {
   "cell_type": "code",
   "execution_count": null,
   "metadata": {
    "id": "5JRFVS0GU1JU",
    "outputId": "96a20a29-2b42-4053-c151-3a1a8587a310"
   },
   "outputs": [
    {
     "name": "stdout",
     "output_type": "stream",
     "text": [
      "+--------------------+------+\n",
      "|    NAME_INCOME_TYPE| count|\n",
      "+--------------------+------+\n",
      "|             Working|180519|\n",
      "|Commercial associate| 68054|\n",
      "|           Pensioner| 66573|\n",
      "|       State servant| 25954|\n",
      "|             Student|    17|\n",
      "+--------------------+------+\n",
      "\n"
     ]
    }
   ],
   "source": [
    "# Proceeding with next column NAME_INCOME_TYPE and it looks fine.\n",
    "df_application_record.groupBy('NAME_INCOME_TYPE').count().orderBy('count', ascending = 0).show()"
   ]
  },
  {
   "cell_type": "code",
   "execution_count": null,
   "metadata": {
    "id": "U69-guz4U1JU",
    "outputId": "9a92f5e2-34ce-42cd-f608-074ff23aaab2"
   },
   "outputs": [
    {
     "name": "stdout",
     "output_type": "stream",
     "text": [
      "+--------------------+------+\n",
      "| NAME_EDUCATION_TYPE| count|\n",
      "+--------------------+------+\n",
      "|Secondary / secon...|249284|\n",
      "|    Higher education| 77374|\n",
      "|   Incomplete higher| 10602|\n",
      "|     Lower secondary|  3660|\n",
      "|     Academic degree|   197|\n",
      "+--------------------+------+\n",
      "\n"
     ]
    }
   ],
   "source": [
    "# Proceeding with next column NAME_EDUCATION_TYPE and it looks fine.\n",
    "df_application_record.groupBy('NAME_EDUCATION_TYPE').count().orderBy('count', ascending = 0).show()"
   ]
  },
  {
   "cell_type": "code",
   "execution_count": null,
   "metadata": {
    "id": "S0JtQz7zU1JU",
    "outputId": "d4a19dc7-5ea8-436d-9001-e9ec012c1a4a"
   },
   "outputs": [
    {
     "name": "stdout",
     "output_type": "stream",
     "text": [
      "+--------------------+------+\n",
      "|  NAME_FAMILY_STATUS| count|\n",
      "+--------------------+------+\n",
      "|             Married|233226|\n",
      "|Single / not married| 42967|\n",
      "|      Civil marriage| 27990|\n",
      "|           Separated| 20628|\n",
      "|               Widow| 16306|\n",
      "+--------------------+------+\n",
      "\n"
     ]
    }
   ],
   "source": [
    "# Proceeding with next column NAME_FAMILY_STATUS and it looks fine.\n",
    "df_application_record.groupBy('NAME_FAMILY_STATUS').count().orderBy('count', ascending = 0).show()"
   ]
  },
  {
   "cell_type": "code",
   "execution_count": null,
   "metadata": {
    "id": "ZKSecJq-U1JU",
    "outputId": "e7cf3687-fa76-434b-c4db-3ee4f0e86065"
   },
   "outputs": [
    {
     "name": "stdout",
     "output_type": "stream",
     "text": [
      "+-------------------+------+\n",
      "|  NAME_HOUSING_TYPE| count|\n",
      "+-------------------+------+\n",
      "|  House / apartment|306179|\n",
      "|       With parents| 15769|\n",
      "|Municipal apartment| 10803|\n",
      "|   Rented apartment|  4550|\n",
      "|   Office apartment|  2650|\n",
      "|    Co-op apartment|  1166|\n",
      "+-------------------+------+\n",
      "\n"
     ]
    }
   ],
   "source": [
    "# Proceeding with next column NAME_HOUSING_TYPE and it looks fine.\n",
    "df_application_record.groupBy('NAME_HOUSING_TYPE').count().orderBy('count', ascending = 0).show()"
   ]
  },
  {
   "cell_type": "code",
   "execution_count": null,
   "metadata": {
    "id": "H6y9tY7aU1JV",
    "outputId": "e052d484-7df8-4aa1-99ac-3a5290a159a4"
   },
   "outputs": [
    {
     "name": "stdout",
     "output_type": "stream",
     "text": [
      "+----------+-----+\n",
      "|DAYS_BIRTH|count|\n",
      "+----------+-----+\n",
      "|    -11707|  130|\n",
      "|    -14178|  118|\n",
      "|    -15675|  100|\n",
      "|    -10312|   96|\n",
      "|    -17742|   93|\n",
      "|    -12394|   93|\n",
      "|    -14400|   90|\n",
      "|    -17031|   89|\n",
      "|    -21041|   87|\n",
      "|    -14281|   87|\n",
      "|    -14720|   87|\n",
      "|    -14436|   86|\n",
      "|    -14926|   86|\n",
      "|    -12956|   85|\n",
      "|    -13689|   85|\n",
      "|    -10216|   84|\n",
      "|    -21338|   83|\n",
      "|    -22791|   82|\n",
      "|    -17051|   82|\n",
      "|    -14386|   81|\n",
      "+----------+-----+\n",
      "only showing top 20 rows\n",
      "\n"
     ]
    }
   ],
   "source": [
    "# Proceeding with next column DAYS_BIRTH.\n",
    "df_application_record.groupBy('DAYS_BIRTH').count().orderBy('count', ascending = 0).show()"
   ]
  },
  {
   "cell_type": "code",
   "execution_count": null,
   "metadata": {
    "id": "vt723uyCU1JV",
    "outputId": "b5773547-5b45-4964-9f32-04bae818ed66"
   },
   "outputs": [
    {
     "name": "stdout",
     "output_type": "stream",
     "text": [
      "root\n",
      " |-- ID: integer (nullable = true)\n",
      " |-- CODE_GENDER: string (nullable = true)\n",
      " |-- FLAG_OWN_CAR: string (nullable = true)\n",
      " |-- FLAG_OWN_REALTY: string (nullable = true)\n",
      " |-- CNT_CHILDREN: integer (nullable = true)\n",
      " |-- AMT_INCOME_TOTAL: double (nullable = true)\n",
      " |-- NAME_INCOME_TYPE: string (nullable = true)\n",
      " |-- NAME_EDUCATION_TYPE: string (nullable = true)\n",
      " |-- NAME_FAMILY_STATUS: string (nullable = true)\n",
      " |-- NAME_HOUSING_TYPE: string (nullable = true)\n",
      " |-- DAYS_BIRTH: integer (nullable = true)\n",
      " |-- DAYS_EMPLOYED: integer (nullable = true)\n",
      " |-- FLAG_MOBIL: integer (nullable = true)\n",
      " |-- FLAG_WORK_PHONE: integer (nullable = true)\n",
      " |-- FLAG_PHONE: integer (nullable = true)\n",
      " |-- FLAG_EMAIL: integer (nullable = true)\n",
      " |-- OCCUPATION_TYPE: string (nullable = true)\n",
      " |-- CNT_FAM_MEMBERS: double (nullable = true)\n",
      "\n"
     ]
    }
   ],
   "source": [
    "# Let us have a look at the schema\n",
    "df_application_record.printSchema()"
   ]
  },
  {
   "cell_type": "code",
   "execution_count": null,
   "metadata": {
    "id": "hLoEZUkBU1JV",
    "outputId": "19ca2ff6-6b39-404c-bfc4-cd0e7659fdfb"
   },
   "outputs": [
    {
     "name": "stdout",
     "output_type": "stream",
     "text": [
      "+-------------+-----+\n",
      "|DAYS_EMPLOYED|count|\n",
      "+-------------+-----+\n",
      "|       365243|66456|\n",
      "|         -978|  216|\n",
      "|         -218|  200|\n",
      "|        -2317|  198|\n",
      "|         -271|  192|\n",
      "|         -231|  192|\n",
      "|         -249|  191|\n",
      "|         -186|  188|\n",
      "|         -302|  186|\n",
      "|         -209|  186|\n",
      "|         -116|  184|\n",
      "|         -430|  182|\n",
      "|         -187|  181|\n",
      "|         -179|  178|\n",
      "|         -232|  176|\n",
      "|         -214|  175|\n",
      "|         -512|  175|\n",
      "|         -579|  173|\n",
      "|         -451|  172|\n",
      "|         -795|  169|\n",
      "+-------------+-----+\n",
      "only showing top 20 rows\n",
      "\n"
     ]
    }
   ],
   "source": [
    "# Proceeding with next column DAYS_EMPLOYED.\n",
    "df_application_record.groupBy('DAYS_EMPLOYED').count().orderBy('count', ascending = 0).show()"
   ]
  },
  {
   "cell_type": "code",
   "execution_count": null,
   "metadata": {
    "id": "u94G1OG_U1JV",
    "outputId": "5cc7c7f7-6d54-4405-c80a-46716bd72e69"
   },
   "outputs": [
    {
     "data": {
      "text/plain": [
       "<AxesSubplot:xlabel='DAYS_EMPLOYED'>"
      ]
     },
     "execution_count": 46,
     "metadata": {
      "tags": []
     },
     "output_type": "execute_result"
    },
    {
     "data": {
      "image/png": "[encoded data removed]",
      "text/plain": [
       "<Figure size 432x288 with 1 Axes>"
      ]
     },
     "metadata": {
      "needs_background": "light",
      "tags": []
     },
     "output_type": "display_data"
    }
   ],
   "source": [
    "# Since the first value looks positive and like an outlier, let us plot a box plot for above column\n",
    "sns.boxplot(x=pd_app_df['DAYS_EMPLOYED'])"
   ]
  },
  {
   "cell_type": "code",
   "execution_count": null,
   "metadata": {
    "id": "VSKkcjzNU1JV",
    "outputId": "78aab53b-2179-4946-b2c4-b4aca4dacd48"
   },
   "outputs": [
    {
     "data": {
      "text/plain": [
       " 365243    66456\n",
       "-978         216\n",
       "-218         200\n",
       "-2317        198\n",
       "-231         192\n",
       "           ...  \n",
       "-8361          1\n",
       "-7344          1\n",
       "-11804         1\n",
       "-12462         1\n",
       "-8444          1\n",
       "Name: DAYS_EMPLOYED, Length: 8815, dtype: int64"
      ]
     },
     "execution_count": 47,
     "metadata": {
      "tags": []
     },
     "output_type": "execute_result"
    }
   ],
   "source": [
    "# as we can see above clearly all the values are below 0 mostly whereas just 1 is above\n",
    "# Let us check the values count using pandas\n",
    "pd_app_df['DAYS_EMPLOYED'].value_counts()"
   ]
  },
  {
   "cell_type": "code",
   "execution_count": null,
   "metadata": {
    "id": "NwCVpAa_U1JW",
    "outputId": "350be8f7-823d-4757-a2a1-52f9e96dee94"
   },
   "outputs": [
    {
     "data": {
      "text/plain": [
       "66456"
      ]
     },
     "execution_count": 48,
     "metadata": {
      "tags": []
     },
     "output_type": "execute_result"
    }
   ],
   "source": [
    "# Checking values above 0\n",
    "df_application_record.filter('DAYS_EMPLOYED > 0').count()"
   ]
  },
  {
   "cell_type": "code",
   "execution_count": null,
   "metadata": {
    "id": "VEHJGDZDU1JW",
    "outputId": "42788f72-95e6-4650-c573-dd10d4f61350"
   },
   "outputs": [
    {
     "data": {
      "text/plain": [
       "0.1948187865160634"
      ]
     },
     "execution_count": 49,
     "metadata": {
      "tags": []
     },
     "output_type": "execute_result"
    }
   ],
   "source": [
    "# From the above plot and information 365243 seems to be the only value above 0.\n",
    "# Checking the percentage of values.\n",
    "more_than_zero = df_application_record.filter('DAYS_EMPLOYED > 0').count()\n",
    "total_records = df_application_record.count()\n",
    "percent = more_than_zero/total_records\n",
    "percent"
   ]
  },
  {
   "cell_type": "code",
   "execution_count": null,
   "metadata": {
    "id": "igod9I4AU1JW",
    "outputId": "20fc4785-3634-4d88-9944-01304c1f22e3"
   },
   "outputs": [
    {
     "data": {
      "text/plain": [
       "274661"
      ]
     },
     "execution_count": 50,
     "metadata": {
      "tags": []
     },
     "output_type": "execute_result"
    }
   ],
   "source": [
    "# Since the percentage of values is also less, let us drop these values as it does not make sense compared to other values.\n",
    "df_application_record = df_application_record.filter('DAYS_EMPLOYED < 0')\n",
    "df_application_record.count()"
   ]
  },
  {
   "cell_type": "code",
   "execution_count": null,
   "metadata": {
    "id": "QwXzthKEU1JW",
    "outputId": "37a1926d-39d5-42ca-d30f-9db0fd0e34d4"
   },
   "outputs": [
    {
     "data": {
      "text/plain": [
       "1    274661\n",
       "Name: FLAG_MOBIL, dtype: int64"
      ]
     },
     "execution_count": 51,
     "metadata": {
      "tags": []
     },
     "output_type": "execute_result"
    }
   ],
   "source": [
    "# Proceeding with next column FLAG_MOBIL.\n",
    "pd_app_df = df_application_record.toPandas()\n",
    "pd_app_df['FLAG_MOBIL'].value_counts()"
   ]
  },
  {
   "cell_type": "code",
   "execution_count": null,
   "metadata": {
    "id": "L8E_YkECU1JW",
    "outputId": "680e10af-0b53-49b3-9d73-381ae7e961fb"
   },
   "outputs": [
    {
     "name": "stdout",
     "output_type": "stream",
     "text": [
      "root\n",
      " |-- ID: integer (nullable = true)\n",
      " |-- CODE_GENDER: string (nullable = true)\n",
      " |-- FLAG_OWN_CAR: string (nullable = true)\n",
      " |-- FLAG_OWN_REALTY: string (nullable = true)\n",
      " |-- CNT_CHILDREN: integer (nullable = true)\n",
      " |-- AMT_INCOME_TOTAL: double (nullable = true)\n",
      " |-- NAME_INCOME_TYPE: string (nullable = true)\n",
      " |-- NAME_EDUCATION_TYPE: string (nullable = true)\n",
      " |-- NAME_FAMILY_STATUS: string (nullable = true)\n",
      " |-- NAME_HOUSING_TYPE: string (nullable = true)\n",
      " |-- DAYS_BIRTH: integer (nullable = true)\n",
      " |-- DAYS_EMPLOYED: integer (nullable = true)\n",
      " |-- FLAG_WORK_PHONE: integer (nullable = true)\n",
      " |-- FLAG_PHONE: integer (nullable = true)\n",
      " |-- FLAG_EMAIL: integer (nullable = true)\n",
      " |-- OCCUPATION_TYPE: string (nullable = true)\n",
      " |-- CNT_FAM_MEMBERS: double (nullable = true)\n",
      "\n"
     ]
    }
   ],
   "source": [
    "# From the above value we can understand that everyone has a mobile phone in our sample.\n",
    "# Hence let us drop this column as this does not contribute to anything in the model's decision\n",
    "df_application_record = df_application_record.drop('FLAG_MOBIL')\n",
    "df_application_record.printSchema()"
   ]
  },
  {
   "cell_type": "code",
   "execution_count": null,
   "metadata": {
    "id": "A9FJfGvGU1JX",
    "outputId": "5cc9c83f-5d60-47bd-b4c7-41f1258c1e61"
   },
   "outputs": [
    {
     "name": "stdout",
     "output_type": "stream",
     "text": [
      "+---------------+------+\n",
      "|FLAG_WORK_PHONE| count|\n",
      "+---------------+------+\n",
      "|              0|202485|\n",
      "|              1| 72176|\n",
      "+---------------+------+\n",
      "\n"
     ]
    }
   ],
   "source": [
    "# Let us see how the converted FLAG_WORK_PHONE values look\n",
    "df_application_record.groupBy('FLAG_WORK_PHONE').count().orderBy('count', ascending = 0).show()"
   ]
  },
  {
   "cell_type": "code",
   "execution_count": null,
   "metadata": {
    "id": "LOwelvDRU1JX",
    "outputId": "be0d069f-fbc5-4783-cf36-fc85f2d39dfe"
   },
   "outputs": [
    {
     "name": "stdout",
     "output_type": "stream",
     "text": [
      "+----------+------+\n",
      "|FLAG_PHONE| count|\n",
      "+----------+------+\n",
      "|         0|196828|\n",
      "|         1| 77833|\n",
      "+----------+------+\n",
      "\n"
     ]
    }
   ],
   "source": [
    "# Since above seems fine Let us see how the converted FLAG_PHONE values look\n",
    "df_application_record.groupBy('FLAG_PHONE').count().orderBy('count', ascending = 0).show()"
   ]
  },
  {
   "cell_type": "code",
   "execution_count": null,
   "metadata": {
    "id": "hMPkUGCcU1JX",
    "outputId": "eb17fbb9-d3e9-4f54-fd90-3cf1c4a1910c"
   },
   "outputs": [
    {
     "name": "stdout",
     "output_type": "stream",
     "text": [
      "+----------+------+\n",
      "|FLAG_EMAIL| count|\n",
      "+----------+------+\n",
      "|         0|246433|\n",
      "|         1| 28228|\n",
      "+----------+------+\n",
      "\n"
     ]
    }
   ],
   "source": [
    "# Since above seems fine Let us see how the converted FLAG_EMAIL values look\n",
    "df_application_record.groupBy('FLAG_EMAIL').count().orderBy('count', ascending = 0).show()"
   ]
  },
  {
   "cell_type": "code",
   "execution_count": null,
   "metadata": {
    "id": "v3Itbtm8U1JX",
    "outputId": "88cb7e5f-dc7c-4a8d-bd6a-2fcbae4bdb32"
   },
   "outputs": [
    {
     "name": "stdout",
     "output_type": "stream",
     "text": [
      "+--------------------+-----+\n",
      "|     OCCUPATION_TYPE|count|\n",
      "+--------------------+-----+\n",
      "|            Laborers|63272|\n",
      "|                null|44523|\n",
      "|         Sales staff|34043|\n",
      "|          Core staff|32927|\n",
      "|             Drivers|19142|\n",
      "|            Managers|17300|\n",
      "|High skill tech s...|12905|\n",
      "|      Medicine staff|11203|\n",
      "|         Accountants|11012|\n",
      "|       Cooking staff| 6976|\n",
      "|      Security staff| 6782|\n",
      "|      Cleaning staff| 5210|\n",
      "|Private service s...| 2544|\n",
      "|  Low-skill Laborers| 1921|\n",
      "|         Secretaries| 1809|\n",
      "|Waiters/barmen staff| 1440|\n",
      "|       Realty agents|  640|\n",
      "|            HR staff|  580|\n",
      "|            IT staff|  432|\n",
      "+--------------------+-----+\n",
      "\n"
     ]
    }
   ],
   "source": [
    "# Since above seems fine Let us see how the converted OCCUPATION_TYPE values look\n",
    "df_application_record.groupBy('OCCUPATION_TYPE').count().orderBy('count', ascending = 0).show()"
   ]
  },
  {
   "cell_type": "code",
   "execution_count": null,
   "metadata": {
    "id": "QtlEAl3lU1JX",
    "outputId": "e143749d-77b1-4e68-fe8a-190260912905"
   },
   "outputs": [
    {
     "name": "stdout",
     "output_type": "stream",
     "text": [
      "+---+-----------+------------+---------------+------------+----------------+----------------+-------------------+------------------+-----------------+----------+-------------+---------------+----------+----------+---------------+---------------+\n",
      "| ID|CODE_GENDER|FLAG_OWN_CAR|FLAG_OWN_REALTY|CNT_CHILDREN|AMT_INCOME_TOTAL|NAME_INCOME_TYPE|NAME_EDUCATION_TYPE|NAME_FAMILY_STATUS|NAME_HOUSING_TYPE|DAYS_BIRTH|DAYS_EMPLOYED|FLAG_WORK_PHONE|FLAG_PHONE|FLAG_EMAIL|OCCUPATION_TYPE|CNT_FAM_MEMBERS|\n",
      "+---+-----------+------------+---------------+------------+----------------+----------------+-------------------+------------------+-----------------+----------+-------------+---------------+----------+----------+---------------+---------------+\n",
      "|  0|          0|           0|              0|           0|               0|               0|                  0|                 0|                0|         0|            0|              0|         0|         0|          44523|              0|\n",
      "+---+-----------+------------+---------------+------------+----------------+----------------+-------------------+------------------+-----------------+----------+-------------+---------------+----------+----------+---------------+---------------+\n",
      "\n"
     ]
    }
   ],
   "source": [
    "# We can see a value called null. let us reconfirm.\n",
    "df_application_record.select([count(when(col(c).isNull(), c)).alias(c) for c in df_application_record.columns]).show()"
   ]
  },
  {
   "cell_type": "code",
   "execution_count": null,
   "metadata": {
    "id": "4Y5ExDQRU1JY",
    "outputId": "3b0166f8-7588-437d-ffaa-cdbea757bb41"
   },
   "outputs": [
    {
     "data": {
      "text/plain": [
       "230138"
      ]
     },
     "execution_count": 58,
     "metadata": {
      "tags": []
     },
     "output_type": "execute_result"
    }
   ],
   "source": [
    "# Let us remove these Null values.\n",
    "df_application_record = df_application_record.filter(col('OCCUPATION_TYPE').isNotNull())\n",
    "df_application_record.count()"
   ]
  },
  {
   "cell_type": "code",
   "execution_count": null,
   "metadata": {
    "id": "NHaFFEYvU1JY",
    "outputId": "9e614fe4-b1ec-4efe-c854-c1c9918dc11e"
   },
   "outputs": [
    {
     "name": "stdout",
     "output_type": "stream",
     "text": [
      "+--------------------+-----+\n",
      "|     OCCUPATION_TYPE|count|\n",
      "+--------------------+-----+\n",
      "|            Laborers|63272|\n",
      "|         Sales staff|34043|\n",
      "|          Core staff|32927|\n",
      "|             Drivers|19142|\n",
      "|            Managers|17300|\n",
      "|High skill tech s...|12905|\n",
      "|      Medicine staff|11203|\n",
      "|         Accountants|11012|\n",
      "|       Cooking staff| 6976|\n",
      "|      Security staff| 6782|\n",
      "|      Cleaning staff| 5210|\n",
      "|Private service s...| 2544|\n",
      "|  Low-skill Laborers| 1921|\n",
      "|         Secretaries| 1809|\n",
      "|Waiters/barmen staff| 1440|\n",
      "|       Realty agents|  640|\n",
      "|            HR staff|  580|\n",
      "|            IT staff|  432|\n",
      "+--------------------+-----+\n",
      "\n"
     ]
    }
   ],
   "source": [
    "# Let us examine the values again and they look good\n",
    "df_application_record.groupBy('OCCUPATION_TYPE').count().orderBy('count', ascending = 0).show()"
   ]
  },
  {
   "cell_type": "code",
   "execution_count": null,
   "metadata": {
    "id": "Iu3x3OMBU1JY",
    "outputId": "5131856f-9e53-41fb-d864-851b891b6e0c"
   },
   "outputs": [
    {
     "name": "stdout",
     "output_type": "stream",
     "text": [
      "+---------------+------+\n",
      "|CNT_FAM_MEMBERS| count|\n",
      "+---------------+------+\n",
      "|            2.0|117590|\n",
      "|            3.0| 49986|\n",
      "|            1.0| 38187|\n",
      "|            4.0| 24375|\n",
      "+---------------+------+\n",
      "\n"
     ]
    }
   ],
   "source": [
    "# Since above seems fine Let us see how the converted CNT_FAM_MEMBERS values look\n",
    "df_application_record.groupBy('CNT_FAM_MEMBERS').count().orderBy('count', ascending = 0).show()"
   ]
  },
  {
   "cell_type": "code",
   "execution_count": null,
   "metadata": {
    "id": "HX2GUmlFU1JY",
    "outputId": "2b6130ea-3d4a-44d4-baec-8575d4a7e434"
   },
   "outputs": [
    {
     "name": "stdout",
     "output_type": "stream",
     "text": [
      "root\n",
      " |-- ID: integer (nullable = true)\n",
      " |-- CODE_GENDER: string (nullable = true)\n",
      " |-- FLAG_OWN_CAR: string (nullable = true)\n",
      " |-- FLAG_OWN_REALTY: string (nullable = true)\n",
      " |-- CNT_CHILDREN: integer (nullable = true)\n",
      " |-- AMT_INCOME_TOTAL: double (nullable = true)\n",
      " |-- NAME_INCOME_TYPE: string (nullable = true)\n",
      " |-- NAME_EDUCATION_TYPE: string (nullable = true)\n",
      " |-- NAME_FAMILY_STATUS: string (nullable = true)\n",
      " |-- NAME_HOUSING_TYPE: string (nullable = true)\n",
      " |-- DAYS_BIRTH: integer (nullable = true)\n",
      " |-- DAYS_EMPLOYED: integer (nullable = true)\n",
      " |-- FLAG_WORK_PHONE: integer (nullable = true)\n",
      " |-- FLAG_PHONE: integer (nullable = true)\n",
      " |-- FLAG_EMAIL: integer (nullable = true)\n",
      " |-- OCCUPATION_TYPE: string (nullable = true)\n",
      " |-- CNT_FAM_MEMBERS: double (nullable = true)\n",
      "\n"
     ]
    }
   ],
   "source": [
    "# Now let us look at schema\n",
    "df_application_record.printSchema()"
   ]
  },
  {
   "cell_type": "markdown",
   "metadata": {
    "id": "Itv1Da-JU1JY"
   },
   "source": [
    "## Merge both data"
   ]
  },
  {
   "cell_type": "code",
   "execution_count": null,
   "metadata": {
    "id": "yLbUIkSiU1JZ",
    "outputId": "6147d3fd-b55e-4b1e-e479-a3d33e456d84"
   },
   "outputs": [
    {
     "name": "stdout",
     "output_type": "stream",
     "text": [
      "root\n",
      " |-- ID: integer (nullable = true)\n",
      " |-- CODE_GENDER: string (nullable = true)\n",
      " |-- FLAG_OWN_CAR: string (nullable = true)\n",
      " |-- FLAG_OWN_REALTY: string (nullable = true)\n",
      " |-- CNT_CHILDREN: integer (nullable = true)\n",
      " |-- AMT_INCOME_TOTAL: double (nullable = true)\n",
      " |-- NAME_INCOME_TYPE: string (nullable = true)\n",
      " |-- NAME_EDUCATION_TYPE: string (nullable = true)\n",
      " |-- NAME_FAMILY_STATUS: string (nullable = true)\n",
      " |-- NAME_HOUSING_TYPE: string (nullable = true)\n",
      " |-- DAYS_BIRTH: integer (nullable = true)\n",
      " |-- DAYS_EMPLOYED: integer (nullable = true)\n",
      " |-- FLAG_WORK_PHONE: integer (nullable = true)\n",
      " |-- FLAG_PHONE: integer (nullable = true)\n",
      " |-- FLAG_EMAIL: integer (nullable = true)\n",
      " |-- OCCUPATION_TYPE: string (nullable = true)\n",
      " |-- CNT_FAM_MEMBERS: double (nullable = true)\n",
      " |-- MONTHS_BALANCE: integer (nullable = true)\n",
      " |-- STATUS: string (nullable = true)\n",
      "\n"
     ]
    }
   ],
   "source": [
    "# Now that we are done with data cleaning, let us join both the tables.\n",
    "# Here we need to do inner join since we need data there is present in both tables.\n",
    "df_merged = df_application_record.join(df_credit_record, on = 'id')\n",
    "df_merged.printSchema()"
   ]
  },
  {
   "cell_type": "code",
   "execution_count": null,
   "metadata": {
    "id": "6aQhDmllU1JZ",
    "outputId": "8b99eed6-9425-4fb9-828a-8a46046a2140"
   },
   "outputs": [
    {
     "data": {
      "text/html": [
       "<div>\n",
       "<style scoped>\n",
       "    .dataframe tbody tr th:only-of-type {\n",
       "        vertical-align: middle;\n",
       "    }\n",
       "\n",
       "    .dataframe tbody tr th {\n",
       "        vertical-align: top;\n",
       "    }\n",
       "\n",
       "    .dataframe thead th {\n",
       "        text-align: right;\n",
       "    }\n",
       "</style>\n",
       "<table border=\"1\" class=\"dataframe\">\n",
       "  <thead>\n",
       "    <tr style=\"text-align: right;\">\n",
       "      <th></th>\n",
       "      <th>ID</th>\n",
       "      <th>CODE_GENDER</th>\n",
       "      <th>FLAG_OWN_CAR</th>\n",
       "      <th>FLAG_OWN_REALTY</th>\n",
       "      <th>CNT_CHILDREN</th>\n",
       "      <th>AMT_INCOME_TOTAL</th>\n",
       "      <th>NAME_INCOME_TYPE</th>\n",
       "      <th>NAME_EDUCATION_TYPE</th>\n",
       "      <th>NAME_FAMILY_STATUS</th>\n",
       "      <th>NAME_HOUSING_TYPE</th>\n",
       "      <th>DAYS_BIRTH</th>\n",
       "      <th>DAYS_EMPLOYED</th>\n",
       "      <th>FLAG_WORK_PHONE</th>\n",
       "      <th>FLAG_PHONE</th>\n",
       "      <th>FLAG_EMAIL</th>\n",
       "      <th>OCCUPATION_TYPE</th>\n",
       "      <th>CNT_FAM_MEMBERS</th>\n",
       "      <th>MONTHS_BALANCE</th>\n",
       "      <th>STATUS</th>\n",
       "    </tr>\n",
       "  </thead>\n",
       "  <tbody>\n",
       "    <tr>\n",
       "      <th>0</th>\n",
       "      <td>5009355</td>\n",
       "      <td>F</td>\n",
       "      <td>N</td>\n",
       "      <td>N</td>\n",
       "      <td>0</td>\n",
       "      <td>135000.0</td>\n",
       "      <td>Commercial associate</td>\n",
       "      <td>Secondary / secondary special</td>\n",
       "      <td>Married</td>\n",
       "      <td>House / apartment</td>\n",
       "      <td>-19692</td>\n",
       "      <td>-5273</td>\n",
       "      <td>1</td>\n",
       "      <td>1</td>\n",
       "      <td>0</td>\n",
       "      <td>Laborers</td>\n",
       "      <td>2.0</td>\n",
       "      <td>0</td>\n",
       "      <td>0</td>\n",
       "    </tr>\n",
       "    <tr>\n",
       "      <th>1</th>\n",
       "      <td>5009355</td>\n",
       "      <td>F</td>\n",
       "      <td>N</td>\n",
       "      <td>N</td>\n",
       "      <td>0</td>\n",
       "      <td>135000.0</td>\n",
       "      <td>Commercial associate</td>\n",
       "      <td>Secondary / secondary special</td>\n",
       "      <td>Married</td>\n",
       "      <td>House / apartment</td>\n",
       "      <td>-19692</td>\n",
       "      <td>-5273</td>\n",
       "      <td>1</td>\n",
       "      <td>1</td>\n",
       "      <td>0</td>\n",
       "      <td>Laborers</td>\n",
       "      <td>2.0</td>\n",
       "      <td>-1</td>\n",
       "      <td>0</td>\n",
       "    </tr>\n",
       "    <tr>\n",
       "      <th>2</th>\n",
       "      <td>5009355</td>\n",
       "      <td>F</td>\n",
       "      <td>N</td>\n",
       "      <td>N</td>\n",
       "      <td>0</td>\n",
       "      <td>135000.0</td>\n",
       "      <td>Commercial associate</td>\n",
       "      <td>Secondary / secondary special</td>\n",
       "      <td>Married</td>\n",
       "      <td>House / apartment</td>\n",
       "      <td>-19692</td>\n",
       "      <td>-5273</td>\n",
       "      <td>1</td>\n",
       "      <td>1</td>\n",
       "      <td>0</td>\n",
       "      <td>Laborers</td>\n",
       "      <td>2.0</td>\n",
       "      <td>-2</td>\n",
       "      <td>0</td>\n",
       "    </tr>\n",
       "    <tr>\n",
       "      <th>3</th>\n",
       "      <td>5009355</td>\n",
       "      <td>F</td>\n",
       "      <td>N</td>\n",
       "      <td>N</td>\n",
       "      <td>0</td>\n",
       "      <td>135000.0</td>\n",
       "      <td>Commercial associate</td>\n",
       "      <td>Secondary / secondary special</td>\n",
       "      <td>Married</td>\n",
       "      <td>House / apartment</td>\n",
       "      <td>-19692</td>\n",
       "      <td>-5273</td>\n",
       "      <td>1</td>\n",
       "      <td>1</td>\n",
       "      <td>0</td>\n",
       "      <td>Laborers</td>\n",
       "      <td>2.0</td>\n",
       "      <td>-3</td>\n",
       "      <td>0</td>\n",
       "    </tr>\n",
       "    <tr>\n",
       "      <th>4</th>\n",
       "      <td>5009355</td>\n",
       "      <td>F</td>\n",
       "      <td>N</td>\n",
       "      <td>N</td>\n",
       "      <td>0</td>\n",
       "      <td>135000.0</td>\n",
       "      <td>Commercial associate</td>\n",
       "      <td>Secondary / secondary special</td>\n",
       "      <td>Married</td>\n",
       "      <td>House / apartment</td>\n",
       "      <td>-19692</td>\n",
       "      <td>-5273</td>\n",
       "      <td>1</td>\n",
       "      <td>1</td>\n",
       "      <td>0</td>\n",
       "      <td>Laborers</td>\n",
       "      <td>2.0</td>\n",
       "      <td>-4</td>\n",
       "      <td>0</td>\n",
       "    </tr>\n",
       "  </tbody>\n",
       "</table>\n",
       "</div>"
      ],
      "text/plain": [
       "        ID CODE_GENDER FLAG_OWN_CAR FLAG_OWN_REALTY  CNT_CHILDREN  \\\n",
       "0  5009355           F            N               N             0   \n",
       "1  5009355           F            N               N             0   \n",
       "2  5009355           F            N               N             0   \n",
       "3  5009355           F            N               N             0   \n",
       "4  5009355           F            N               N             0   \n",
       "\n",
       "   AMT_INCOME_TOTAL      NAME_INCOME_TYPE            NAME_EDUCATION_TYPE  \\\n",
       "0          135000.0  Commercial associate  Secondary / secondary special   \n",
       "1          135000.0  Commercial associate  Secondary / secondary special   \n",
       "2          135000.0  Commercial associate  Secondary / secondary special   \n",
       "3          135000.0  Commercial associate  Secondary / secondary special   \n",
       "4          135000.0  Commercial associate  Secondary / secondary special   \n",
       "\n",
       "  NAME_FAMILY_STATUS  NAME_HOUSING_TYPE  DAYS_BIRTH  DAYS_EMPLOYED  \\\n",
       "0            Married  House / apartment      -19692          -5273   \n",
       "1            Married  House / apartment      -19692          -5273   \n",
       "2            Married  House / apartment      -19692          -5273   \n",
       "3            Married  House / apartment      -19692          -5273   \n",
       "4            Married  House / apartment      -19692          -5273   \n",
       "\n",
       "   FLAG_WORK_PHONE  FLAG_PHONE  FLAG_EMAIL OCCUPATION_TYPE  CNT_FAM_MEMBERS  \\\n",
       "0                1           1           0        Laborers              2.0   \n",
       "1                1           1           0        Laborers              2.0   \n",
       "2                1           1           0        Laborers              2.0   \n",
       "3                1           1           0        Laborers              2.0   \n",
       "4                1           1           0        Laborers              2.0   \n",
       "\n",
       "   MONTHS_BALANCE STATUS  \n",
       "0               0      0  \n",
       "1              -1      0  \n",
       "2              -2      0  \n",
       "3              -3      0  \n",
       "4              -4      0  "
      ]
     },
     "execution_count": 63,
     "metadata": {
      "tags": []
     },
     "output_type": "execute_result"
    }
   ],
   "source": [
    "# Let us look at values using pandas dataframe for better readability\n",
    "pd_merged_df = df_merged.toPandas()\n",
    "pd_merged_df.head()"
   ]
  },
  {
   "cell_type": "code",
   "execution_count": null,
   "metadata": {
    "id": "P2V9KCMQU1JZ",
    "outputId": "73a78931-532f-426a-b3c3-7e39dbef5637"
   },
   "outputs": [
    {
     "data": {
      "text/plain": [
       "396457"
      ]
     },
     "execution_count": 64,
     "metadata": {
      "tags": []
     },
     "output_type": "execute_result"
    }
   ],
   "source": [
    "# Checking total count\n",
    "df_merged.count()"
   ]
  },
  {
   "cell_type": "code",
   "execution_count": null,
   "metadata": {
    "id": "LXHSa-tcU1Ja",
    "outputId": "c3447b6a-57e6-434b-95a7-e8367f2b864a"
   },
   "outputs": [
    {
     "data": {
      "text/plain": [
       "396457"
      ]
     },
     "execution_count": 65,
     "metadata": {
      "tags": []
     },
     "output_type": "execute_result"
    }
   ],
   "source": [
    "# Dropping duplicates\n",
    "df_merged = df_merged.dropDuplicates()\n",
    "df_merged.count()"
   ]
  },
  {
   "cell_type": "markdown",
   "metadata": {
    "id": "WWALo-UfU1Ja"
   },
   "source": [
    "- Looks like there are no duplicates.\n",
    "- Now let us build the target variable.\n",
    "- Let us see the data for a single customer to understand how the target variable can be built"
   ]
  },
  {
   "cell_type": "code",
   "execution_count": null,
   "metadata": {
    "id": "md-WPa2zU1Ja",
    "outputId": "43b7cfad-fd11-4717-9744-a581f96d6f9b"
   },
   "outputs": [
    {
     "data": {
      "text/html": [
       "<div>\n",
       "<style scoped>\n",
       "    .dataframe tbody tr th:only-of-type {\n",
       "        vertical-align: middle;\n",
       "    }\n",
       "\n",
       "    .dataframe tbody tr th {\n",
       "        vertical-align: top;\n",
       "    }\n",
       "\n",
       "    .dataframe thead th {\n",
       "        text-align: right;\n",
       "    }\n",
       "</style>\n",
       "<table border=\"1\" class=\"dataframe\">\n",
       "  <thead>\n",
       "    <tr style=\"text-align: right;\">\n",
       "      <th></th>\n",
       "      <th>ID</th>\n",
       "      <th>CODE_GENDER</th>\n",
       "      <th>FLAG_OWN_CAR</th>\n",
       "      <th>FLAG_OWN_REALTY</th>\n",
       "      <th>CNT_CHILDREN</th>\n",
       "      <th>AMT_INCOME_TOTAL</th>\n",
       "      <th>NAME_INCOME_TYPE</th>\n",
       "      <th>NAME_EDUCATION_TYPE</th>\n",
       "      <th>NAME_FAMILY_STATUS</th>\n",
       "      <th>NAME_HOUSING_TYPE</th>\n",
       "      <th>DAYS_BIRTH</th>\n",
       "      <th>DAYS_EMPLOYED</th>\n",
       "      <th>FLAG_WORK_PHONE</th>\n",
       "      <th>FLAG_PHONE</th>\n",
       "      <th>FLAG_EMAIL</th>\n",
       "      <th>OCCUPATION_TYPE</th>\n",
       "      <th>CNT_FAM_MEMBERS</th>\n",
       "      <th>MONTHS_BALANCE</th>\n",
       "      <th>STATUS</th>\n",
       "    </tr>\n",
       "  </thead>\n",
       "  <tbody>\n",
       "    <tr>\n",
       "      <th>0</th>\n",
       "      <td>5025981</td>\n",
       "      <td>M</td>\n",
       "      <td>N</td>\n",
       "      <td>N</td>\n",
       "      <td>1</td>\n",
       "      <td>189000.0</td>\n",
       "      <td>Working</td>\n",
       "      <td>Secondary / secondary special</td>\n",
       "      <td>Married</td>\n",
       "      <td>House / apartment</td>\n",
       "      <td>-11700</td>\n",
       "      <td>-404</td>\n",
       "      <td>0</td>\n",
       "      <td>0</td>\n",
       "      <td>0</td>\n",
       "      <td>Managers</td>\n",
       "      <td>3.0</td>\n",
       "      <td>0</td>\n",
       "      <td>1</td>\n",
       "    </tr>\n",
       "    <tr>\n",
       "      <th>1</th>\n",
       "      <td>5025981</td>\n",
       "      <td>M</td>\n",
       "      <td>N</td>\n",
       "      <td>N</td>\n",
       "      <td>1</td>\n",
       "      <td>189000.0</td>\n",
       "      <td>Working</td>\n",
       "      <td>Secondary / secondary special</td>\n",
       "      <td>Married</td>\n",
       "      <td>House / apartment</td>\n",
       "      <td>-11700</td>\n",
       "      <td>-404</td>\n",
       "      <td>0</td>\n",
       "      <td>0</td>\n",
       "      <td>0</td>\n",
       "      <td>Managers</td>\n",
       "      <td>3.0</td>\n",
       "      <td>-1</td>\n",
       "      <td>0</td>\n",
       "    </tr>\n",
       "    <tr>\n",
       "      <th>2</th>\n",
       "      <td>5025981</td>\n",
       "      <td>M</td>\n",
       "      <td>N</td>\n",
       "      <td>N</td>\n",
       "      <td>1</td>\n",
       "      <td>189000.0</td>\n",
       "      <td>Working</td>\n",
       "      <td>Secondary / secondary special</td>\n",
       "      <td>Married</td>\n",
       "      <td>House / apartment</td>\n",
       "      <td>-11700</td>\n",
       "      <td>-404</td>\n",
       "      <td>0</td>\n",
       "      <td>0</td>\n",
       "      <td>0</td>\n",
       "      <td>Managers</td>\n",
       "      <td>3.0</td>\n",
       "      <td>-2</td>\n",
       "      <td>1</td>\n",
       "    </tr>\n",
       "    <tr>\n",
       "      <th>3</th>\n",
       "      <td>5025981</td>\n",
       "      <td>M</td>\n",
       "      <td>N</td>\n",
       "      <td>N</td>\n",
       "      <td>1</td>\n",
       "      <td>189000.0</td>\n",
       "      <td>Working</td>\n",
       "      <td>Secondary / secondary special</td>\n",
       "      <td>Married</td>\n",
       "      <td>House / apartment</td>\n",
       "      <td>-11700</td>\n",
       "      <td>-404</td>\n",
       "      <td>0</td>\n",
       "      <td>0</td>\n",
       "      <td>0</td>\n",
       "      <td>Managers</td>\n",
       "      <td>3.0</td>\n",
       "      <td>-3</td>\n",
       "      <td>0</td>\n",
       "    </tr>\n",
       "    <tr>\n",
       "      <th>4</th>\n",
       "      <td>5025981</td>\n",
       "      <td>M</td>\n",
       "      <td>N</td>\n",
       "      <td>N</td>\n",
       "      <td>1</td>\n",
       "      <td>189000.0</td>\n",
       "      <td>Working</td>\n",
       "      <td>Secondary / secondary special</td>\n",
       "      <td>Married</td>\n",
       "      <td>House / apartment</td>\n",
       "      <td>-11700</td>\n",
       "      <td>-404</td>\n",
       "      <td>0</td>\n",
       "      <td>0</td>\n",
       "      <td>0</td>\n",
       "      <td>Managers</td>\n",
       "      <td>3.0</td>\n",
       "      <td>-4</td>\n",
       "      <td>0</td>\n",
       "    </tr>\n",
       "    <tr>\n",
       "      <th>5</th>\n",
       "      <td>5025981</td>\n",
       "      <td>M</td>\n",
       "      <td>N</td>\n",
       "      <td>N</td>\n",
       "      <td>1</td>\n",
       "      <td>189000.0</td>\n",
       "      <td>Working</td>\n",
       "      <td>Secondary / secondary special</td>\n",
       "      <td>Married</td>\n",
       "      <td>House / apartment</td>\n",
       "      <td>-11700</td>\n",
       "      <td>-404</td>\n",
       "      <td>0</td>\n",
       "      <td>0</td>\n",
       "      <td>0</td>\n",
       "      <td>Managers</td>\n",
       "      <td>3.0</td>\n",
       "      <td>-5</td>\n",
       "      <td>0</td>\n",
       "    </tr>\n",
       "    <tr>\n",
       "      <th>6</th>\n",
       "      <td>5025981</td>\n",
       "      <td>M</td>\n",
       "      <td>N</td>\n",
       "      <td>N</td>\n",
       "      <td>1</td>\n",
       "      <td>189000.0</td>\n",
       "      <td>Working</td>\n",
       "      <td>Secondary / secondary special</td>\n",
       "      <td>Married</td>\n",
       "      <td>House / apartment</td>\n",
       "      <td>-11700</td>\n",
       "      <td>-404</td>\n",
       "      <td>0</td>\n",
       "      <td>0</td>\n",
       "      <td>0</td>\n",
       "      <td>Managers</td>\n",
       "      <td>3.0</td>\n",
       "      <td>-6</td>\n",
       "      <td>0</td>\n",
       "    </tr>\n",
       "    <tr>\n",
       "      <th>7</th>\n",
       "      <td>5025981</td>\n",
       "      <td>M</td>\n",
       "      <td>N</td>\n",
       "      <td>N</td>\n",
       "      <td>1</td>\n",
       "      <td>189000.0</td>\n",
       "      <td>Working</td>\n",
       "      <td>Secondary / secondary special</td>\n",
       "      <td>Married</td>\n",
       "      <td>House / apartment</td>\n",
       "      <td>-11700</td>\n",
       "      <td>-404</td>\n",
       "      <td>0</td>\n",
       "      <td>0</td>\n",
       "      <td>0</td>\n",
       "      <td>Managers</td>\n",
       "      <td>3.0</td>\n",
       "      <td>-7</td>\n",
       "      <td>0</td>\n",
       "    </tr>\n",
       "    <tr>\n",
       "      <th>8</th>\n",
       "      <td>5025981</td>\n",
       "      <td>M</td>\n",
       "      <td>N</td>\n",
       "      <td>N</td>\n",
       "      <td>1</td>\n",
       "      <td>189000.0</td>\n",
       "      <td>Working</td>\n",
       "      <td>Secondary / secondary special</td>\n",
       "      <td>Married</td>\n",
       "      <td>House / apartment</td>\n",
       "      <td>-11700</td>\n",
       "      <td>-404</td>\n",
       "      <td>0</td>\n",
       "      <td>0</td>\n",
       "      <td>0</td>\n",
       "      <td>Managers</td>\n",
       "      <td>3.0</td>\n",
       "      <td>-8</td>\n",
       "      <td>0</td>\n",
       "    </tr>\n",
       "    <tr>\n",
       "      <th>9</th>\n",
       "      <td>5025981</td>\n",
       "      <td>M</td>\n",
       "      <td>N</td>\n",
       "      <td>N</td>\n",
       "      <td>1</td>\n",
       "      <td>189000.0</td>\n",
       "      <td>Working</td>\n",
       "      <td>Secondary / secondary special</td>\n",
       "      <td>Married</td>\n",
       "      <td>House / apartment</td>\n",
       "      <td>-11700</td>\n",
       "      <td>-404</td>\n",
       "      <td>0</td>\n",
       "      <td>0</td>\n",
       "      <td>0</td>\n",
       "      <td>Managers</td>\n",
       "      <td>3.0</td>\n",
       "      <td>-9</td>\n",
       "      <td>0</td>\n",
       "    </tr>\n",
       "    <tr>\n",
       "      <th>10</th>\n",
       "      <td>5025981</td>\n",
       "      <td>M</td>\n",
       "      <td>N</td>\n",
       "      <td>N</td>\n",
       "      <td>1</td>\n",
       "      <td>189000.0</td>\n",
       "      <td>Working</td>\n",
       "      <td>Secondary / secondary special</td>\n",
       "      <td>Married</td>\n",
       "      <td>House / apartment</td>\n",
       "      <td>-11700</td>\n",
       "      <td>-404</td>\n",
       "      <td>0</td>\n",
       "      <td>0</td>\n",
       "      <td>0</td>\n",
       "      <td>Managers</td>\n",
       "      <td>3.0</td>\n",
       "      <td>-10</td>\n",
       "      <td>0</td>\n",
       "    </tr>\n",
       "    <tr>\n",
       "      <th>11</th>\n",
       "      <td>5025981</td>\n",
       "      <td>M</td>\n",
       "      <td>N</td>\n",
       "      <td>N</td>\n",
       "      <td>1</td>\n",
       "      <td>189000.0</td>\n",
       "      <td>Working</td>\n",
       "      <td>Secondary / secondary special</td>\n",
       "      <td>Married</td>\n",
       "      <td>House / apartment</td>\n",
       "      <td>-11700</td>\n",
       "      <td>-404</td>\n",
       "      <td>0</td>\n",
       "      <td>0</td>\n",
       "      <td>0</td>\n",
       "      <td>Managers</td>\n",
       "      <td>3.0</td>\n",
       "      <td>-11</td>\n",
       "      <td>1</td>\n",
       "    </tr>\n",
       "    <tr>\n",
       "      <th>12</th>\n",
       "      <td>5025981</td>\n",
       "      <td>M</td>\n",
       "      <td>N</td>\n",
       "      <td>N</td>\n",
       "      <td>1</td>\n",
       "      <td>189000.0</td>\n",
       "      <td>Working</td>\n",
       "      <td>Secondary / secondary special</td>\n",
       "      <td>Married</td>\n",
       "      <td>House / apartment</td>\n",
       "      <td>-11700</td>\n",
       "      <td>-404</td>\n",
       "      <td>0</td>\n",
       "      <td>0</td>\n",
       "      <td>0</td>\n",
       "      <td>Managers</td>\n",
       "      <td>3.0</td>\n",
       "      <td>-12</td>\n",
       "      <td>0</td>\n",
       "    </tr>\n",
       "    <tr>\n",
       "      <th>13</th>\n",
       "      <td>5025981</td>\n",
       "      <td>M</td>\n",
       "      <td>N</td>\n",
       "      <td>N</td>\n",
       "      <td>1</td>\n",
       "      <td>189000.0</td>\n",
       "      <td>Working</td>\n",
       "      <td>Secondary / secondary special</td>\n",
       "      <td>Married</td>\n",
       "      <td>House / apartment</td>\n",
       "      <td>-11700</td>\n",
       "      <td>-404</td>\n",
       "      <td>0</td>\n",
       "      <td>0</td>\n",
       "      <td>0</td>\n",
       "      <td>Managers</td>\n",
       "      <td>3.0</td>\n",
       "      <td>-13</td>\n",
       "      <td>0</td>\n",
       "    </tr>\n",
       "    <tr>\n",
       "      <th>14</th>\n",
       "      <td>5025981</td>\n",
       "      <td>M</td>\n",
       "      <td>N</td>\n",
       "      <td>N</td>\n",
       "      <td>1</td>\n",
       "      <td>189000.0</td>\n",
       "      <td>Working</td>\n",
       "      <td>Secondary / secondary special</td>\n",
       "      <td>Married</td>\n",
       "      <td>House / apartment</td>\n",
       "      <td>-11700</td>\n",
       "      <td>-404</td>\n",
       "      <td>0</td>\n",
       "      <td>0</td>\n",
       "      <td>0</td>\n",
       "      <td>Managers</td>\n",
       "      <td>3.0</td>\n",
       "      <td>-14</td>\n",
       "      <td>0</td>\n",
       "    </tr>\n",
       "    <tr>\n",
       "      <th>15</th>\n",
       "      <td>5025981</td>\n",
       "      <td>M</td>\n",
       "      <td>N</td>\n",
       "      <td>N</td>\n",
       "      <td>1</td>\n",
       "      <td>189000.0</td>\n",
       "      <td>Working</td>\n",
       "      <td>Secondary / secondary special</td>\n",
       "      <td>Married</td>\n",
       "      <td>House / apartment</td>\n",
       "      <td>-11700</td>\n",
       "      <td>-404</td>\n",
       "      <td>0</td>\n",
       "      <td>0</td>\n",
       "      <td>0</td>\n",
       "      <td>Managers</td>\n",
       "      <td>3.0</td>\n",
       "      <td>-15</td>\n",
       "      <td>0</td>\n",
       "    </tr>\n",
       "    <tr>\n",
       "      <th>16</th>\n",
       "      <td>5025981</td>\n",
       "      <td>M</td>\n",
       "      <td>N</td>\n",
       "      <td>N</td>\n",
       "      <td>1</td>\n",
       "      <td>189000.0</td>\n",
       "      <td>Working</td>\n",
       "      <td>Secondary / secondary special</td>\n",
       "      <td>Married</td>\n",
       "      <td>House / apartment</td>\n",
       "      <td>-11700</td>\n",
       "      <td>-404</td>\n",
       "      <td>0</td>\n",
       "      <td>0</td>\n",
       "      <td>0</td>\n",
       "      <td>Managers</td>\n",
       "      <td>3.0</td>\n",
       "      <td>-16</td>\n",
       "      <td>0</td>\n",
       "    </tr>\n",
       "    <tr>\n",
       "      <th>17</th>\n",
       "      <td>5025981</td>\n",
       "      <td>M</td>\n",
       "      <td>N</td>\n",
       "      <td>N</td>\n",
       "      <td>1</td>\n",
       "      <td>189000.0</td>\n",
       "      <td>Working</td>\n",
       "      <td>Secondary / secondary special</td>\n",
       "      <td>Married</td>\n",
       "      <td>House / apartment</td>\n",
       "      <td>-11700</td>\n",
       "      <td>-404</td>\n",
       "      <td>0</td>\n",
       "      <td>0</td>\n",
       "      <td>0</td>\n",
       "      <td>Managers</td>\n",
       "      <td>3.0</td>\n",
       "      <td>-17</td>\n",
       "      <td>0</td>\n",
       "    </tr>\n",
       "    <tr>\n",
       "      <th>18</th>\n",
       "      <td>5025981</td>\n",
       "      <td>M</td>\n",
       "      <td>N</td>\n",
       "      <td>N</td>\n",
       "      <td>1</td>\n",
       "      <td>189000.0</td>\n",
       "      <td>Working</td>\n",
       "      <td>Secondary / secondary special</td>\n",
       "      <td>Married</td>\n",
       "      <td>House / apartment</td>\n",
       "      <td>-11700</td>\n",
       "      <td>-404</td>\n",
       "      <td>0</td>\n",
       "      <td>0</td>\n",
       "      <td>0</td>\n",
       "      <td>Managers</td>\n",
       "      <td>3.0</td>\n",
       "      <td>-18</td>\n",
       "      <td>0</td>\n",
       "    </tr>\n",
       "    <tr>\n",
       "      <th>19</th>\n",
       "      <td>5025981</td>\n",
       "      <td>M</td>\n",
       "      <td>N</td>\n",
       "      <td>N</td>\n",
       "      <td>1</td>\n",
       "      <td>189000.0</td>\n",
       "      <td>Working</td>\n",
       "      <td>Secondary / secondary special</td>\n",
       "      <td>Married</td>\n",
       "      <td>House / apartment</td>\n",
       "      <td>-11700</td>\n",
       "      <td>-404</td>\n",
       "      <td>0</td>\n",
       "      <td>0</td>\n",
       "      <td>0</td>\n",
       "      <td>Managers</td>\n",
       "      <td>3.0</td>\n",
       "      <td>-19</td>\n",
       "      <td>0</td>\n",
       "    </tr>\n",
       "  </tbody>\n",
       "</table>\n",
       "</div>"
      ],
      "text/plain": [
       "         ID CODE_GENDER FLAG_OWN_CAR FLAG_OWN_REALTY  CNT_CHILDREN  \\\n",
       "0   5025981           M            N               N             1   \n",
       "1   5025981           M            N               N             1   \n",
       "2   5025981           M            N               N             1   \n",
       "3   5025981           M            N               N             1   \n",
       "4   5025981           M            N               N             1   \n",
       "5   5025981           M            N               N             1   \n",
       "6   5025981           M            N               N             1   \n",
       "7   5025981           M            N               N             1   \n",
       "8   5025981           M            N               N             1   \n",
       "9   5025981           M            N               N             1   \n",
       "10  5025981           M            N               N             1   \n",
       "11  5025981           M            N               N             1   \n",
       "12  5025981           M            N               N             1   \n",
       "13  5025981           M            N               N             1   \n",
       "14  5025981           M            N               N             1   \n",
       "15  5025981           M            N               N             1   \n",
       "16  5025981           M            N               N             1   \n",
       "17  5025981           M            N               N             1   \n",
       "18  5025981           M            N               N             1   \n",
       "19  5025981           M            N               N             1   \n",
       "\n",
       "    AMT_INCOME_TOTAL NAME_INCOME_TYPE            NAME_EDUCATION_TYPE  \\\n",
       "0           189000.0          Working  Secondary / secondary special   \n",
       "1           189000.0          Working  Secondary / secondary special   \n",
       "2           189000.0          Working  Secondary / secondary special   \n",
       "3           189000.0          Working  Secondary / secondary special   \n",
       "4           189000.0          Working  Secondary / secondary special   \n",
       "5           189000.0          Working  Secondary / secondary special   \n",
       "6           189000.0          Working  Secondary / secondary special   \n",
       "7           189000.0          Working  Secondary / secondary special   \n",
       "8           189000.0          Working  Secondary / secondary special   \n",
       "9           189000.0          Working  Secondary / secondary special   \n",
       "10          189000.0          Working  Secondary / secondary special   \n",
       "11          189000.0          Working  Secondary / secondary special   \n",
       "12          189000.0          Working  Secondary / secondary special   \n",
       "13          189000.0          Working  Secondary / secondary special   \n",
       "14          189000.0          Working  Secondary / secondary special   \n",
       "15          189000.0          Working  Secondary / secondary special   \n",
       "16          189000.0          Working  Secondary / secondary special   \n",
       "17          189000.0          Working  Secondary / secondary special   \n",
       "18          189000.0          Working  Secondary / secondary special   \n",
       "19          189000.0          Working  Secondary / secondary special   \n",
       "\n",
       "   NAME_FAMILY_STATUS  NAME_HOUSING_TYPE  DAYS_BIRTH  DAYS_EMPLOYED  \\\n",
       "0             Married  House / apartment      -11700           -404   \n",
       "1             Married  House / apartment      -11700           -404   \n",
       "2             Married  House / apartment      -11700           -404   \n",
       "3             Married  House / apartment      -11700           -404   \n",
       "4             Married  House / apartment      -11700           -404   \n",
       "5             Married  House / apartment      -11700           -404   \n",
       "6             Married  House / apartment      -11700           -404   \n",
       "7             Married  House / apartment      -11700           -404   \n",
       "8             Married  House / apartment      -11700           -404   \n",
       "9             Married  House / apartment      -11700           -404   \n",
       "10            Married  House / apartment      -11700           -404   \n",
       "11            Married  House / apartment      -11700           -404   \n",
       "12            Married  House / apartment      -11700           -404   \n",
       "13            Married  House / apartment      -11700           -404   \n",
       "14            Married  House / apartment      -11700           -404   \n",
       "15            Married  House / apartment      -11700           -404   \n",
       "16            Married  House / apartment      -11700           -404   \n",
       "17            Married  House / apartment      -11700           -404   \n",
       "18            Married  House / apartment      -11700           -404   \n",
       "19            Married  House / apartment      -11700           -404   \n",
       "\n",
       "    FLAG_WORK_PHONE  FLAG_PHONE  FLAG_EMAIL OCCUPATION_TYPE  CNT_FAM_MEMBERS  \\\n",
       "0                 0           0           0        Managers              3.0   \n",
       "1                 0           0           0        Managers              3.0   \n",
       "2                 0           0           0        Managers              3.0   \n",
       "3                 0           0           0        Managers              3.0   \n",
       "4                 0           0           0        Managers              3.0   \n",
       "5                 0           0           0        Managers              3.0   \n",
       "6                 0           0           0        Managers              3.0   \n",
       "7                 0           0           0        Managers              3.0   \n",
       "8                 0           0           0        Managers              3.0   \n",
       "9                 0           0           0        Managers              3.0   \n",
       "10                0           0           0        Managers              3.0   \n",
       "11                0           0           0        Managers              3.0   \n",
       "12                0           0           0        Managers              3.0   \n",
       "13                0           0           0        Managers              3.0   \n",
       "14                0           0           0        Managers              3.0   \n",
       "15                0           0           0        Managers              3.0   \n",
       "16                0           0           0        Managers              3.0   \n",
       "17                0           0           0        Managers              3.0   \n",
       "18                0           0           0        Managers              3.0   \n",
       "19                0           0           0        Managers              3.0   \n",
       "\n",
       "    MONTHS_BALANCE STATUS  \n",
       "0                0      1  \n",
       "1               -1      0  \n",
       "2               -2      1  \n",
       "3               -3      0  \n",
       "4               -4      0  \n",
       "5               -5      0  \n",
       "6               -6      0  \n",
       "7               -7      0  \n",
       "8               -8      0  \n",
       "9               -9      0  \n",
       "10             -10      0  \n",
       "11             -11      1  \n",
       "12             -12      0  \n",
       "13             -13      0  \n",
       "14             -14      0  \n",
       "15             -15      0  \n",
       "16             -16      0  \n",
       "17             -17      0  \n",
       "18             -18      0  \n",
       "19             -19      0  "
      ]
     },
     "execution_count": 66,
     "metadata": {
      "tags": []
     },
     "output_type": "execute_result"
    }
   ],
   "source": [
    "pd_temp = df_merged.filter(col('ID') == 5025981).toPandas()\n",
    "pd_temp.head(100)"
   ]
  },
  {
   "cell_type": "markdown",
   "metadata": {
    "id": "Gn_Cmx3rU1Jb"
   },
   "source": [
    " - From above we can see that for a single customer there are 25 records each for a month.\n",
    " - However a customer is considered delinquent if the customer has ever delayed their payment by more than 60 days.\n",
    " - Considering that the number of days count was done properly for each month (i.e) added up from previous months, \n",
    " - we can take the STATUS column alone for building target variable and leave the MONTHS_BALANCE column from calculation"
   ]
  },
  {
   "cell_type": "code",
   "execution_count": null,
   "metadata": {
    "id": "yB9vcXIAU1Jb"
   },
   "outputs": [],
   "source": [
    "from pyspark.sql.types import *\n",
    "df_merged = df_merged.withColumn(\"DELINQUENT\", df_merged[\"STATUS\"].cast(IntegerType()))"
   ]
  },
  {
   "cell_type": "code",
   "execution_count": null,
   "metadata": {
    "id": "J8-XElCGU1Jb",
    "outputId": "1016f29c-b2d5-4d84-f10a-fa65ab9ee002"
   },
   "outputs": [
    {
     "name": "stdout",
     "output_type": "stream",
     "text": [
      "+------+----------+------+\n",
      "|STATUS|DELINQUENT| count|\n",
      "+------+----------+------+\n",
      "|     C|      null|170214|\n",
      "|     0|         0|146380|\n",
      "|     X|      null| 73771|\n",
      "|     1|         1|  4653|\n",
      "|     5|         5|   828|\n",
      "|     2|         2|   372|\n",
      "|     3|         3|   132|\n",
      "|     4|         4|   107|\n",
      "+------+----------+------+\n",
      "\n"
     ]
    }
   ],
   "source": [
    "# Let us verify if the target value is properly assigned.\n",
    "df_merged.groupBy('STATUS','DELINQUENT').count().orderBy('count', ascending = 0).show()"
   ]
  },
  {
   "cell_type": "markdown",
   "metadata": {
    "id": "hkmipx4qU1Jb"
   },
   "source": [
    " - Now let us convert the above values into binary (0 or 1) based on our rule.\n",
    " - If the STATUS value is greater than 1 (more than 60 days) then DELINQUENT should be 1\n",
    " - However if the customer has not got any loan for that month then that record can be dropped as it does not serve our purpose"
   ]
  },
  {
   "cell_type": "code",
   "execution_count": null,
   "metadata": {
    "id": "96xZ4Lu-U1Jb",
    "outputId": "cf418361-95b3-4235-f4c6-db1285f34d57"
   },
   "outputs": [
    {
     "name": "stdout",
     "output_type": "stream",
     "text": [
      "+------+----------+----------------+------+\n",
      "|STATUS|DELINQUENT|DELINQUENT_FINAL| count|\n",
      "+------+----------+----------------+------+\n",
      "|     C|      null|               0|170214|\n",
      "|     0|         0|               0|146380|\n",
      "|     1|         1|               0|  4653|\n",
      "|     5|         5|               1|   828|\n",
      "|     2|         2|               1|   372|\n",
      "|     3|         3|               1|   132|\n",
      "|     4|         4|               1|   107|\n",
      "+------+----------+----------------+------+\n",
      "\n"
     ]
    }
   ],
   "source": [
    "df_merged = df_merged.filter(col('STATUS') != 'X')\n",
    "df_merged = df_merged.withColumn('DELINQUENT_FINAL', when(col(\"DELINQUENT\").isNull(), 0).when(col('DELINQUENT') > 1, 1).otherwise(0))\n",
    "df_merged.groupBy('STATUS','DELINQUENT','DELINQUENT_FINAL').count().orderBy('count', ascending = 0).show()"
   ]
  },
  {
   "cell_type": "markdown",
   "metadata": {
    "id": "vnQY23O5U1Jb"
   },
   "source": [
    " - Now let us remove the columns we do not need like STATUS,MONTHS_BALANCE and DELINQUENT and rename DELINQUENT_FINAL to DELINQUENT"
   ]
  },
  {
   "cell_type": "code",
   "execution_count": null,
   "metadata": {
    "id": "u04TR8q-U1Jc",
    "outputId": "7a3aa2a4-ca7c-4b62-916b-bd58d55b8064"
   },
   "outputs": [
    {
     "name": "stdout",
     "output_type": "stream",
     "text": [
      "+----------+------+\n",
      "|DELINQUENT| count|\n",
      "+----------+------+\n",
      "|         0|321247|\n",
      "|         1|  1439|\n",
      "+----------+------+\n",
      "\n"
     ]
    }
   ],
   "source": [
    "df_merged = df_merged.drop('STATUS','MONTHS_BALANCE','DELINQUENT').withColumnRenamed('DELINQUENT_FINAL','DELINQUENT')\n",
    "df_merged.groupBy('DELINQUENT').count().orderBy('count', ascending = 0).show()"
   ]
  },
  {
   "cell_type": "code",
   "execution_count": null,
   "metadata": {
    "id": "BdGqdvlWU1Jc",
    "outputId": "06727fb6-8cde-47d0-b142-c1243283641b"
   },
   "outputs": [
    {
     "data": {
      "text/html": [
       "<div>\n",
       "<style scoped>\n",
       "    .dataframe tbody tr th:only-of-type {\n",
       "        vertical-align: middle;\n",
       "    }\n",
       "\n",
       "    .dataframe tbody tr th {\n",
       "        vertical-align: top;\n",
       "    }\n",
       "\n",
       "    .dataframe thead th {\n",
       "        text-align: right;\n",
       "    }\n",
       "</style>\n",
       "<table border=\"1\" class=\"dataframe\">\n",
       "  <thead>\n",
       "    <tr style=\"text-align: right;\">\n",
       "      <th></th>\n",
       "      <th>ID</th>\n",
       "      <th>CODE_GENDER</th>\n",
       "      <th>FLAG_OWN_CAR</th>\n",
       "      <th>FLAG_OWN_REALTY</th>\n",
       "      <th>CNT_CHILDREN</th>\n",
       "      <th>AMT_INCOME_TOTAL</th>\n",
       "      <th>NAME_INCOME_TYPE</th>\n",
       "      <th>NAME_EDUCATION_TYPE</th>\n",
       "      <th>NAME_FAMILY_STATUS</th>\n",
       "      <th>NAME_HOUSING_TYPE</th>\n",
       "      <th>DAYS_BIRTH</th>\n",
       "      <th>DAYS_EMPLOYED</th>\n",
       "      <th>FLAG_WORK_PHONE</th>\n",
       "      <th>FLAG_PHONE</th>\n",
       "      <th>FLAG_EMAIL</th>\n",
       "      <th>OCCUPATION_TYPE</th>\n",
       "      <th>CNT_FAM_MEMBERS</th>\n",
       "      <th>DELINQUENT</th>\n",
       "    </tr>\n",
       "  </thead>\n",
       "  <tbody>\n",
       "    <tr>\n",
       "      <th>0</th>\n",
       "      <td>5025981</td>\n",
       "      <td>M</td>\n",
       "      <td>N</td>\n",
       "      <td>N</td>\n",
       "      <td>1</td>\n",
       "      <td>189000.0</td>\n",
       "      <td>Working</td>\n",
       "      <td>Secondary / secondary special</td>\n",
       "      <td>Married</td>\n",
       "      <td>House / apartment</td>\n",
       "      <td>-11700</td>\n",
       "      <td>-404</td>\n",
       "      <td>0</td>\n",
       "      <td>0</td>\n",
       "      <td>0</td>\n",
       "      <td>Managers</td>\n",
       "      <td>3.0</td>\n",
       "      <td>0</td>\n",
       "    </tr>\n",
       "    <tr>\n",
       "      <th>1</th>\n",
       "      <td>5025981</td>\n",
       "      <td>M</td>\n",
       "      <td>N</td>\n",
       "      <td>N</td>\n",
       "      <td>1</td>\n",
       "      <td>189000.0</td>\n",
       "      <td>Working</td>\n",
       "      <td>Secondary / secondary special</td>\n",
       "      <td>Married</td>\n",
       "      <td>House / apartment</td>\n",
       "      <td>-11700</td>\n",
       "      <td>-404</td>\n",
       "      <td>0</td>\n",
       "      <td>0</td>\n",
       "      <td>0</td>\n",
       "      <td>Managers</td>\n",
       "      <td>3.0</td>\n",
       "      <td>0</td>\n",
       "    </tr>\n",
       "    <tr>\n",
       "      <th>2</th>\n",
       "      <td>5025981</td>\n",
       "      <td>M</td>\n",
       "      <td>N</td>\n",
       "      <td>N</td>\n",
       "      <td>1</td>\n",
       "      <td>189000.0</td>\n",
       "      <td>Working</td>\n",
       "      <td>Secondary / secondary special</td>\n",
       "      <td>Married</td>\n",
       "      <td>House / apartment</td>\n",
       "      <td>-11700</td>\n",
       "      <td>-404</td>\n",
       "      <td>0</td>\n",
       "      <td>0</td>\n",
       "      <td>0</td>\n",
       "      <td>Managers</td>\n",
       "      <td>3.0</td>\n",
       "      <td>0</td>\n",
       "    </tr>\n",
       "    <tr>\n",
       "      <th>3</th>\n",
       "      <td>5025981</td>\n",
       "      <td>M</td>\n",
       "      <td>N</td>\n",
       "      <td>N</td>\n",
       "      <td>1</td>\n",
       "      <td>189000.0</td>\n",
       "      <td>Working</td>\n",
       "      <td>Secondary / secondary special</td>\n",
       "      <td>Married</td>\n",
       "      <td>House / apartment</td>\n",
       "      <td>-11700</td>\n",
       "      <td>-404</td>\n",
       "      <td>0</td>\n",
       "      <td>0</td>\n",
       "      <td>0</td>\n",
       "      <td>Managers</td>\n",
       "      <td>3.0</td>\n",
       "      <td>0</td>\n",
       "    </tr>\n",
       "    <tr>\n",
       "      <th>4</th>\n",
       "      <td>5025981</td>\n",
       "      <td>M</td>\n",
       "      <td>N</td>\n",
       "      <td>N</td>\n",
       "      <td>1</td>\n",
       "      <td>189000.0</td>\n",
       "      <td>Working</td>\n",
       "      <td>Secondary / secondary special</td>\n",
       "      <td>Married</td>\n",
       "      <td>House / apartment</td>\n",
       "      <td>-11700</td>\n",
       "      <td>-404</td>\n",
       "      <td>0</td>\n",
       "      <td>0</td>\n",
       "      <td>0</td>\n",
       "      <td>Managers</td>\n",
       "      <td>3.0</td>\n",
       "      <td>0</td>\n",
       "    </tr>\n",
       "    <tr>\n",
       "      <th>5</th>\n",
       "      <td>5025981</td>\n",
       "      <td>M</td>\n",
       "      <td>N</td>\n",
       "      <td>N</td>\n",
       "      <td>1</td>\n",
       "      <td>189000.0</td>\n",
       "      <td>Working</td>\n",
       "      <td>Secondary / secondary special</td>\n",
       "      <td>Married</td>\n",
       "      <td>House / apartment</td>\n",
       "      <td>-11700</td>\n",
       "      <td>-404</td>\n",
       "      <td>0</td>\n",
       "      <td>0</td>\n",
       "      <td>0</td>\n",
       "      <td>Managers</td>\n",
       "      <td>3.0</td>\n",
       "      <td>0</td>\n",
       "    </tr>\n",
       "    <tr>\n",
       "      <th>6</th>\n",
       "      <td>5025981</td>\n",
       "      <td>M</td>\n",
       "      <td>N</td>\n",
       "      <td>N</td>\n",
       "      <td>1</td>\n",
       "      <td>189000.0</td>\n",
       "      <td>Working</td>\n",
       "      <td>Secondary / secondary special</td>\n",
       "      <td>Married</td>\n",
       "      <td>House / apartment</td>\n",
       "      <td>-11700</td>\n",
       "      <td>-404</td>\n",
       "      <td>0</td>\n",
       "      <td>0</td>\n",
       "      <td>0</td>\n",
       "      <td>Managers</td>\n",
       "      <td>3.0</td>\n",
       "      <td>0</td>\n",
       "    </tr>\n",
       "    <tr>\n",
       "      <th>7</th>\n",
       "      <td>5025981</td>\n",
       "      <td>M</td>\n",
       "      <td>N</td>\n",
       "      <td>N</td>\n",
       "      <td>1</td>\n",
       "      <td>189000.0</td>\n",
       "      <td>Working</td>\n",
       "      <td>Secondary / secondary special</td>\n",
       "      <td>Married</td>\n",
       "      <td>House / apartment</td>\n",
       "      <td>-11700</td>\n",
       "      <td>-404</td>\n",
       "      <td>0</td>\n",
       "      <td>0</td>\n",
       "      <td>0</td>\n",
       "      <td>Managers</td>\n",
       "      <td>3.0</td>\n",
       "      <td>0</td>\n",
       "    </tr>\n",
       "    <tr>\n",
       "      <th>8</th>\n",
       "      <td>5025981</td>\n",
       "      <td>M</td>\n",
       "      <td>N</td>\n",
       "      <td>N</td>\n",
       "      <td>1</td>\n",
       "      <td>189000.0</td>\n",
       "      <td>Working</td>\n",
       "      <td>Secondary / secondary special</td>\n",
       "      <td>Married</td>\n",
       "      <td>House / apartment</td>\n",
       "      <td>-11700</td>\n",
       "      <td>-404</td>\n",
       "      <td>0</td>\n",
       "      <td>0</td>\n",
       "      <td>0</td>\n",
       "      <td>Managers</td>\n",
       "      <td>3.0</td>\n",
       "      <td>0</td>\n",
       "    </tr>\n",
       "    <tr>\n",
       "      <th>9</th>\n",
       "      <td>5025981</td>\n",
       "      <td>M</td>\n",
       "      <td>N</td>\n",
       "      <td>N</td>\n",
       "      <td>1</td>\n",
       "      <td>189000.0</td>\n",
       "      <td>Working</td>\n",
       "      <td>Secondary / secondary special</td>\n",
       "      <td>Married</td>\n",
       "      <td>House / apartment</td>\n",
       "      <td>-11700</td>\n",
       "      <td>-404</td>\n",
       "      <td>0</td>\n",
       "      <td>0</td>\n",
       "      <td>0</td>\n",
       "      <td>Managers</td>\n",
       "      <td>3.0</td>\n",
       "      <td>0</td>\n",
       "    </tr>\n",
       "    <tr>\n",
       "      <th>10</th>\n",
       "      <td>5025981</td>\n",
       "      <td>M</td>\n",
       "      <td>N</td>\n",
       "      <td>N</td>\n",
       "      <td>1</td>\n",
       "      <td>189000.0</td>\n",
       "      <td>Working</td>\n",
       "      <td>Secondary / secondary special</td>\n",
       "      <td>Married</td>\n",
       "      <td>House / apartment</td>\n",
       "      <td>-11700</td>\n",
       "      <td>-404</td>\n",
       "      <td>0</td>\n",
       "      <td>0</td>\n",
       "      <td>0</td>\n",
       "      <td>Managers</td>\n",
       "      <td>3.0</td>\n",
       "      <td>0</td>\n",
       "    </tr>\n",
       "    <tr>\n",
       "      <th>11</th>\n",
       "      <td>5025981</td>\n",
       "      <td>M</td>\n",
       "      <td>N</td>\n",
       "      <td>N</td>\n",
       "      <td>1</td>\n",
       "      <td>189000.0</td>\n",
       "      <td>Working</td>\n",
       "      <td>Secondary / secondary special</td>\n",
       "      <td>Married</td>\n",
       "      <td>House / apartment</td>\n",
       "      <td>-11700</td>\n",
       "      <td>-404</td>\n",
       "      <td>0</td>\n",
       "      <td>0</td>\n",
       "      <td>0</td>\n",
       "      <td>Managers</td>\n",
       "      <td>3.0</td>\n",
       "      <td>0</td>\n",
       "    </tr>\n",
       "    <tr>\n",
       "      <th>12</th>\n",
       "      <td>5025981</td>\n",
       "      <td>M</td>\n",
       "      <td>N</td>\n",
       "      <td>N</td>\n",
       "      <td>1</td>\n",
       "      <td>189000.0</td>\n",
       "      <td>Working</td>\n",
       "      <td>Secondary / secondary special</td>\n",
       "      <td>Married</td>\n",
       "      <td>House / apartment</td>\n",
       "      <td>-11700</td>\n",
       "      <td>-404</td>\n",
       "      <td>0</td>\n",
       "      <td>0</td>\n",
       "      <td>0</td>\n",
       "      <td>Managers</td>\n",
       "      <td>3.0</td>\n",
       "      <td>0</td>\n",
       "    </tr>\n",
       "    <tr>\n",
       "      <th>13</th>\n",
       "      <td>5025981</td>\n",
       "      <td>M</td>\n",
       "      <td>N</td>\n",
       "      <td>N</td>\n",
       "      <td>1</td>\n",
       "      <td>189000.0</td>\n",
       "      <td>Working</td>\n",
       "      <td>Secondary / secondary special</td>\n",
       "      <td>Married</td>\n",
       "      <td>House / apartment</td>\n",
       "      <td>-11700</td>\n",
       "      <td>-404</td>\n",
       "      <td>0</td>\n",
       "      <td>0</td>\n",
       "      <td>0</td>\n",
       "      <td>Managers</td>\n",
       "      <td>3.0</td>\n",
       "      <td>0</td>\n",
       "    </tr>\n",
       "    <tr>\n",
       "      <th>14</th>\n",
       "      <td>5025981</td>\n",
       "      <td>M</td>\n",
       "      <td>N</td>\n",
       "      <td>N</td>\n",
       "      <td>1</td>\n",
       "      <td>189000.0</td>\n",
       "      <td>Working</td>\n",
       "      <td>Secondary / secondary special</td>\n",
       "      <td>Married</td>\n",
       "      <td>House / apartment</td>\n",
       "      <td>-11700</td>\n",
       "      <td>-404</td>\n",
       "      <td>0</td>\n",
       "      <td>0</td>\n",
       "      <td>0</td>\n",
       "      <td>Managers</td>\n",
       "      <td>3.0</td>\n",
       "      <td>0</td>\n",
       "    </tr>\n",
       "    <tr>\n",
       "      <th>15</th>\n",
       "      <td>5025981</td>\n",
       "      <td>M</td>\n",
       "      <td>N</td>\n",
       "      <td>N</td>\n",
       "      <td>1</td>\n",
       "      <td>189000.0</td>\n",
       "      <td>Working</td>\n",
       "      <td>Secondary / secondary special</td>\n",
       "      <td>Married</td>\n",
       "      <td>House / apartment</td>\n",
       "      <td>-11700</td>\n",
       "      <td>-404</td>\n",
       "      <td>0</td>\n",
       "      <td>0</td>\n",
       "      <td>0</td>\n",
       "      <td>Managers</td>\n",
       "      <td>3.0</td>\n",
       "      <td>0</td>\n",
       "    </tr>\n",
       "    <tr>\n",
       "      <th>16</th>\n",
       "      <td>5025981</td>\n",
       "      <td>M</td>\n",
       "      <td>N</td>\n",
       "      <td>N</td>\n",
       "      <td>1</td>\n",
       "      <td>189000.0</td>\n",
       "      <td>Working</td>\n",
       "      <td>Secondary / secondary special</td>\n",
       "      <td>Married</td>\n",
       "      <td>House / apartment</td>\n",
       "      <td>-11700</td>\n",
       "      <td>-404</td>\n",
       "      <td>0</td>\n",
       "      <td>0</td>\n",
       "      <td>0</td>\n",
       "      <td>Managers</td>\n",
       "      <td>3.0</td>\n",
       "      <td>0</td>\n",
       "    </tr>\n",
       "    <tr>\n",
       "      <th>17</th>\n",
       "      <td>5025981</td>\n",
       "      <td>M</td>\n",
       "      <td>N</td>\n",
       "      <td>N</td>\n",
       "      <td>1</td>\n",
       "      <td>189000.0</td>\n",
       "      <td>Working</td>\n",
       "      <td>Secondary / secondary special</td>\n",
       "      <td>Married</td>\n",
       "      <td>House / apartment</td>\n",
       "      <td>-11700</td>\n",
       "      <td>-404</td>\n",
       "      <td>0</td>\n",
       "      <td>0</td>\n",
       "      <td>0</td>\n",
       "      <td>Managers</td>\n",
       "      <td>3.0</td>\n",
       "      <td>0</td>\n",
       "    </tr>\n",
       "    <tr>\n",
       "      <th>18</th>\n",
       "      <td>5025981</td>\n",
       "      <td>M</td>\n",
       "      <td>N</td>\n",
       "      <td>N</td>\n",
       "      <td>1</td>\n",
       "      <td>189000.0</td>\n",
       "      <td>Working</td>\n",
       "      <td>Secondary / secondary special</td>\n",
       "      <td>Married</td>\n",
       "      <td>House / apartment</td>\n",
       "      <td>-11700</td>\n",
       "      <td>-404</td>\n",
       "      <td>0</td>\n",
       "      <td>0</td>\n",
       "      <td>0</td>\n",
       "      <td>Managers</td>\n",
       "      <td>3.0</td>\n",
       "      <td>0</td>\n",
       "    </tr>\n",
       "    <tr>\n",
       "      <th>19</th>\n",
       "      <td>5025981</td>\n",
       "      <td>M</td>\n",
       "      <td>N</td>\n",
       "      <td>N</td>\n",
       "      <td>1</td>\n",
       "      <td>189000.0</td>\n",
       "      <td>Working</td>\n",
       "      <td>Secondary / secondary special</td>\n",
       "      <td>Married</td>\n",
       "      <td>House / apartment</td>\n",
       "      <td>-11700</td>\n",
       "      <td>-404</td>\n",
       "      <td>0</td>\n",
       "      <td>0</td>\n",
       "      <td>0</td>\n",
       "      <td>Managers</td>\n",
       "      <td>3.0</td>\n",
       "      <td>0</td>\n",
       "    </tr>\n",
       "  </tbody>\n",
       "</table>\n",
       "</div>"
      ],
      "text/plain": [
       "         ID CODE_GENDER FLAG_OWN_CAR FLAG_OWN_REALTY  CNT_CHILDREN  \\\n",
       "0   5025981           M            N               N             1   \n",
       "1   5025981           M            N               N             1   \n",
       "2   5025981           M            N               N             1   \n",
       "3   5025981           M            N               N             1   \n",
       "4   5025981           M            N               N             1   \n",
       "5   5025981           M            N               N             1   \n",
       "6   5025981           M            N               N             1   \n",
       "7   5025981           M            N               N             1   \n",
       "8   5025981           M            N               N             1   \n",
       "9   5025981           M            N               N             1   \n",
       "10  5025981           M            N               N             1   \n",
       "11  5025981           M            N               N             1   \n",
       "12  5025981           M            N               N             1   \n",
       "13  5025981           M            N               N             1   \n",
       "14  5025981           M            N               N             1   \n",
       "15  5025981           M            N               N             1   \n",
       "16  5025981           M            N               N             1   \n",
       "17  5025981           M            N               N             1   \n",
       "18  5025981           M            N               N             1   \n",
       "19  5025981           M            N               N             1   \n",
       "\n",
       "    AMT_INCOME_TOTAL NAME_INCOME_TYPE            NAME_EDUCATION_TYPE  \\\n",
       "0           189000.0          Working  Secondary / secondary special   \n",
       "1           189000.0          Working  Secondary / secondary special   \n",
       "2           189000.0          Working  Secondary / secondary special   \n",
       "3           189000.0          Working  Secondary / secondary special   \n",
       "4           189000.0          Working  Secondary / secondary special   \n",
       "5           189000.0          Working  Secondary / secondary special   \n",
       "6           189000.0          Working  Secondary / secondary special   \n",
       "7           189000.0          Working  Secondary / secondary special   \n",
       "8           189000.0          Working  Secondary / secondary special   \n",
       "9           189000.0          Working  Secondary / secondary special   \n",
       "10          189000.0          Working  Secondary / secondary special   \n",
       "11          189000.0          Working  Secondary / secondary special   \n",
       "12          189000.0          Working  Secondary / secondary special   \n",
       "13          189000.0          Working  Secondary / secondary special   \n",
       "14          189000.0          Working  Secondary / secondary special   \n",
       "15          189000.0          Working  Secondary / secondary special   \n",
       "16          189000.0          Working  Secondary / secondary special   \n",
       "17          189000.0          Working  Secondary / secondary special   \n",
       "18          189000.0          Working  Secondary / secondary special   \n",
       "19          189000.0          Working  Secondary / secondary special   \n",
       "\n",
       "   NAME_FAMILY_STATUS  NAME_HOUSING_TYPE  DAYS_BIRTH  DAYS_EMPLOYED  \\\n",
       "0             Married  House / apartment      -11700           -404   \n",
       "1             Married  House / apartment      -11700           -404   \n",
       "2             Married  House / apartment      -11700           -404   \n",
       "3             Married  House / apartment      -11700           -404   \n",
       "4             Married  House / apartment      -11700           -404   \n",
       "5             Married  House / apartment      -11700           -404   \n",
       "6             Married  House / apartment      -11700           -404   \n",
       "7             Married  House / apartment      -11700           -404   \n",
       "8             Married  House / apartment      -11700           -404   \n",
       "9             Married  House / apartment      -11700           -404   \n",
       "10            Married  House / apartment      -11700           -404   \n",
       "11            Married  House / apartment      -11700           -404   \n",
       "12            Married  House / apartment      -11700           -404   \n",
       "13            Married  House / apartment      -11700           -404   \n",
       "14            Married  House / apartment      -11700           -404   \n",
       "15            Married  House / apartment      -11700           -404   \n",
       "16            Married  House / apartment      -11700           -404   \n",
       "17            Married  House / apartment      -11700           -404   \n",
       "18            Married  House / apartment      -11700           -404   \n",
       "19            Married  House / apartment      -11700           -404   \n",
       "\n",
       "    FLAG_WORK_PHONE  FLAG_PHONE  FLAG_EMAIL OCCUPATION_TYPE  CNT_FAM_MEMBERS  \\\n",
       "0                 0           0           0        Managers              3.0   \n",
       "1                 0           0           0        Managers              3.0   \n",
       "2                 0           0           0        Managers              3.0   \n",
       "3                 0           0           0        Managers              3.0   \n",
       "4                 0           0           0        Managers              3.0   \n",
       "5                 0           0           0        Managers              3.0   \n",
       "6                 0           0           0        Managers              3.0   \n",
       "7                 0           0           0        Managers              3.0   \n",
       "8                 0           0           0        Managers              3.0   \n",
       "9                 0           0           0        Managers              3.0   \n",
       "10                0           0           0        Managers              3.0   \n",
       "11                0           0           0        Managers              3.0   \n",
       "12                0           0           0        Managers              3.0   \n",
       "13                0           0           0        Managers              3.0   \n",
       "14                0           0           0        Managers              3.0   \n",
       "15                0           0           0        Managers              3.0   \n",
       "16                0           0           0        Managers              3.0   \n",
       "17                0           0           0        Managers              3.0   \n",
       "18                0           0           0        Managers              3.0   \n",
       "19                0           0           0        Managers              3.0   \n",
       "\n",
       "    DELINQUENT  \n",
       "0            0  \n",
       "1            0  \n",
       "2            0  \n",
       "3            0  \n",
       "4            0  \n",
       "5            0  \n",
       "6            0  \n",
       "7            0  \n",
       "8            0  \n",
       "9            0  \n",
       "10           0  \n",
       "11           0  \n",
       "12           0  \n",
       "13           0  \n",
       "14           0  \n",
       "15           0  \n",
       "16           0  \n",
       "17           0  \n",
       "18           0  \n",
       "19           0  "
      ]
     },
     "execution_count": 71,
     "metadata": {
      "tags": []
     },
     "output_type": "execute_result"
    }
   ],
   "source": [
    "# Let us have a look at the single customer data\n",
    "pd_temp = df_merged.filter(col('ID') == 5025981).toPandas()\n",
    "pd_temp.head(100)"
   ]
  },
  {
   "cell_type": "code",
   "execution_count": null,
   "metadata": {
    "id": "OSYg2ywRU1Jc",
    "outputId": "93365b46-8c7f-4dcb-cfaf-d64f11336958"
   },
   "outputs": [
    {
     "name": "stdout",
     "output_type": "stream",
     "text": [
      "+----------+-----+\n",
      "|DELINQUENT|count|\n",
      "+----------+-----+\n",
      "|         0|17046|\n",
      "|         1|  307|\n",
      "+----------+-----+\n",
      "\n"
     ]
    }
   ],
   "source": [
    "# Let us drop duplicates and again check how the target variable is distributed\n",
    "df_merged = df_merged.dropDuplicates()\n",
    "df_merged.groupBy('DELINQUENT').count().orderBy('count', ascending = 0).show()"
   ]
  },
  {
   "cell_type": "code",
   "execution_count": null,
   "metadata": {
    "id": "2w-gx9LgU1Jc",
    "outputId": "5b57cfd3-5125-414e-d3ff-f5ee222df90a"
   },
   "outputs": [
    {
     "data": {
      "text/html": [
       "<div>\n",
       "<style scoped>\n",
       "    .dataframe tbody tr th:only-of-type {\n",
       "        vertical-align: middle;\n",
       "    }\n",
       "\n",
       "    .dataframe tbody tr th {\n",
       "        vertical-align: top;\n",
       "    }\n",
       "\n",
       "    .dataframe thead th {\n",
       "        text-align: right;\n",
       "    }\n",
       "</style>\n",
       "<table border=\"1\" class=\"dataframe\">\n",
       "  <thead>\n",
       "    <tr style=\"text-align: right;\">\n",
       "      <th></th>\n",
       "      <th>ID</th>\n",
       "      <th>CODE_GENDER</th>\n",
       "      <th>FLAG_OWN_CAR</th>\n",
       "      <th>FLAG_OWN_REALTY</th>\n",
       "      <th>CNT_CHILDREN</th>\n",
       "      <th>AMT_INCOME_TOTAL</th>\n",
       "      <th>NAME_INCOME_TYPE</th>\n",
       "      <th>NAME_EDUCATION_TYPE</th>\n",
       "      <th>NAME_FAMILY_STATUS</th>\n",
       "      <th>NAME_HOUSING_TYPE</th>\n",
       "      <th>DAYS_BIRTH</th>\n",
       "      <th>DAYS_EMPLOYED</th>\n",
       "      <th>FLAG_WORK_PHONE</th>\n",
       "      <th>FLAG_PHONE</th>\n",
       "      <th>FLAG_EMAIL</th>\n",
       "      <th>OCCUPATION_TYPE</th>\n",
       "      <th>CNT_FAM_MEMBERS</th>\n",
       "      <th>DELINQUENT</th>\n",
       "    </tr>\n",
       "  </thead>\n",
       "  <tbody>\n",
       "    <tr>\n",
       "      <th>0</th>\n",
       "      <td>5025981</td>\n",
       "      <td>M</td>\n",
       "      <td>N</td>\n",
       "      <td>N</td>\n",
       "      <td>1</td>\n",
       "      <td>189000.0</td>\n",
       "      <td>Working</td>\n",
       "      <td>Secondary / secondary special</td>\n",
       "      <td>Married</td>\n",
       "      <td>House / apartment</td>\n",
       "      <td>-11700</td>\n",
       "      <td>-404</td>\n",
       "      <td>0</td>\n",
       "      <td>0</td>\n",
       "      <td>0</td>\n",
       "      <td>Managers</td>\n",
       "      <td>3.0</td>\n",
       "      <td>0</td>\n",
       "    </tr>\n",
       "  </tbody>\n",
       "</table>\n",
       "</div>"
      ],
      "text/plain": [
       "        ID CODE_GENDER FLAG_OWN_CAR FLAG_OWN_REALTY  CNT_CHILDREN  \\\n",
       "0  5025981           M            N               N             1   \n",
       "\n",
       "   AMT_INCOME_TOTAL NAME_INCOME_TYPE            NAME_EDUCATION_TYPE  \\\n",
       "0          189000.0          Working  Secondary / secondary special   \n",
       "\n",
       "  NAME_FAMILY_STATUS  NAME_HOUSING_TYPE  DAYS_BIRTH  DAYS_EMPLOYED  \\\n",
       "0            Married  House / apartment      -11700           -404   \n",
       "\n",
       "   FLAG_WORK_PHONE  FLAG_PHONE  FLAG_EMAIL OCCUPATION_TYPE  CNT_FAM_MEMBERS  \\\n",
       "0                0           0           0        Managers              3.0   \n",
       "\n",
       "   DELINQUENT  \n",
       "0           0  "
      ]
     },
     "execution_count": 73,
     "metadata": {
      "tags": []
     },
     "output_type": "execute_result"
    }
   ],
   "source": [
    "# Again let us check the data for same client\n",
    "# Let us have a look at the single customer data\n",
    "pd_temp = df_merged.filter(col('ID') == 5025981).toPandas()\n",
    "pd_temp.head(100)"
   ]
  },
  {
   "cell_type": "code",
   "execution_count": null,
   "metadata": {
    "id": "vIOkgOeuU1Jc",
    "outputId": "86644d4b-a15e-469b-cd53-b249d427bbc1"
   },
   "outputs": [
    {
     "data": {
      "text/html": [
       "<div>\n",
       "<style scoped>\n",
       "    .dataframe tbody tr th:only-of-type {\n",
       "        vertical-align: middle;\n",
       "    }\n",
       "\n",
       "    .dataframe tbody tr th {\n",
       "        vertical-align: top;\n",
       "    }\n",
       "\n",
       "    .dataframe thead th {\n",
       "        text-align: right;\n",
       "    }\n",
       "</style>\n",
       "<table border=\"1\" class=\"dataframe\">\n",
       "  <thead>\n",
       "    <tr style=\"text-align: right;\">\n",
       "      <th></th>\n",
       "      <th>ID</th>\n",
       "      <th>CODE_GENDER</th>\n",
       "      <th>FLAG_OWN_CAR</th>\n",
       "      <th>FLAG_OWN_REALTY</th>\n",
       "      <th>CNT_CHILDREN</th>\n",
       "      <th>AMT_INCOME_TOTAL</th>\n",
       "      <th>NAME_INCOME_TYPE</th>\n",
       "      <th>NAME_EDUCATION_TYPE</th>\n",
       "      <th>NAME_FAMILY_STATUS</th>\n",
       "      <th>NAME_HOUSING_TYPE</th>\n",
       "      <th>DAYS_BIRTH</th>\n",
       "      <th>DAYS_EMPLOYED</th>\n",
       "      <th>FLAG_WORK_PHONE</th>\n",
       "      <th>FLAG_PHONE</th>\n",
       "      <th>FLAG_EMAIL</th>\n",
       "      <th>OCCUPATION_TYPE</th>\n",
       "      <th>CNT_FAM_MEMBERS</th>\n",
       "      <th>DELINQUENT</th>\n",
       "    </tr>\n",
       "  </thead>\n",
       "  <tbody>\n",
       "    <tr>\n",
       "      <th>0</th>\n",
       "      <td>5023641</td>\n",
       "      <td>M</td>\n",
       "      <td>Y</td>\n",
       "      <td>N</td>\n",
       "      <td>2</td>\n",
       "      <td>225000.0</td>\n",
       "      <td>Working</td>\n",
       "      <td>Secondary / secondary special</td>\n",
       "      <td>Married</td>\n",
       "      <td>House / apartment</td>\n",
       "      <td>-14776</td>\n",
       "      <td>-2212</td>\n",
       "      <td>0</td>\n",
       "      <td>0</td>\n",
       "      <td>0</td>\n",
       "      <td>Drivers</td>\n",
       "      <td>1.0</td>\n",
       "      <td>1</td>\n",
       "    </tr>\n",
       "    <tr>\n",
       "      <th>1</th>\n",
       "      <td>5116036</td>\n",
       "      <td>M</td>\n",
       "      <td>Y</td>\n",
       "      <td>Y</td>\n",
       "      <td>0</td>\n",
       "      <td>126000.0</td>\n",
       "      <td>Working</td>\n",
       "      <td>Higher education</td>\n",
       "      <td>Single / not married</td>\n",
       "      <td>House / apartment</td>\n",
       "      <td>-14522</td>\n",
       "      <td>-863</td>\n",
       "      <td>1</td>\n",
       "      <td>0</td>\n",
       "      <td>0</td>\n",
       "      <td>Managers</td>\n",
       "      <td>1.0</td>\n",
       "      <td>1</td>\n",
       "    </tr>\n",
       "    <tr>\n",
       "      <th>2</th>\n",
       "      <td>5146444</td>\n",
       "      <td>F</td>\n",
       "      <td>N</td>\n",
       "      <td>Y</td>\n",
       "      <td>0</td>\n",
       "      <td>135000.0</td>\n",
       "      <td>Working</td>\n",
       "      <td>Secondary / secondary special</td>\n",
       "      <td>Widow</td>\n",
       "      <td>House / apartment</td>\n",
       "      <td>-14394</td>\n",
       "      <td>-919</td>\n",
       "      <td>0</td>\n",
       "      <td>1</td>\n",
       "      <td>0</td>\n",
       "      <td>Managers</td>\n",
       "      <td>1.0</td>\n",
       "      <td>1</td>\n",
       "    </tr>\n",
       "    <tr>\n",
       "      <th>3</th>\n",
       "      <td>5111144</td>\n",
       "      <td>M</td>\n",
       "      <td>N</td>\n",
       "      <td>N</td>\n",
       "      <td>0</td>\n",
       "      <td>135000.0</td>\n",
       "      <td>Working</td>\n",
       "      <td>Secondary / secondary special</td>\n",
       "      <td>Civil marriage</td>\n",
       "      <td>With parents</td>\n",
       "      <td>-15104</td>\n",
       "      <td>-1699</td>\n",
       "      <td>0</td>\n",
       "      <td>0</td>\n",
       "      <td>0</td>\n",
       "      <td>Laborers</td>\n",
       "      <td>2.0</td>\n",
       "      <td>1</td>\n",
       "    </tr>\n",
       "    <tr>\n",
       "      <th>4</th>\n",
       "      <td>5033514</td>\n",
       "      <td>F</td>\n",
       "      <td>Y</td>\n",
       "      <td>N</td>\n",
       "      <td>1</td>\n",
       "      <td>135000.0</td>\n",
       "      <td>Working</td>\n",
       "      <td>Secondary / secondary special</td>\n",
       "      <td>Married</td>\n",
       "      <td>House / apartment</td>\n",
       "      <td>-15952</td>\n",
       "      <td>-384</td>\n",
       "      <td>1</td>\n",
       "      <td>0</td>\n",
       "      <td>0</td>\n",
       "      <td>Sales staff</td>\n",
       "      <td>3.0</td>\n",
       "      <td>1</td>\n",
       "    </tr>\n",
       "    <tr>\n",
       "      <th>5</th>\n",
       "      <td>5053148</td>\n",
       "      <td>F</td>\n",
       "      <td>N</td>\n",
       "      <td>Y</td>\n",
       "      <td>1</td>\n",
       "      <td>126000.0</td>\n",
       "      <td>Working</td>\n",
       "      <td>Secondary / secondary special</td>\n",
       "      <td>Married</td>\n",
       "      <td>House / apartment</td>\n",
       "      <td>-12140</td>\n",
       "      <td>-779</td>\n",
       "      <td>0</td>\n",
       "      <td>0</td>\n",
       "      <td>0</td>\n",
       "      <td>Core staff</td>\n",
       "      <td>1.0</td>\n",
       "      <td>1</td>\n",
       "    </tr>\n",
       "    <tr>\n",
       "      <th>6</th>\n",
       "      <td>5009938</td>\n",
       "      <td>F</td>\n",
       "      <td>N</td>\n",
       "      <td>Y</td>\n",
       "      <td>2</td>\n",
       "      <td>157500.0</td>\n",
       "      <td>Working</td>\n",
       "      <td>Secondary / secondary special</td>\n",
       "      <td>Married</td>\n",
       "      <td>House / apartment</td>\n",
       "      <td>-10710</td>\n",
       "      <td>-2351</td>\n",
       "      <td>0</td>\n",
       "      <td>0</td>\n",
       "      <td>0</td>\n",
       "      <td>Sales staff</td>\n",
       "      <td>4.0</td>\n",
       "      <td>1</td>\n",
       "    </tr>\n",
       "    <tr>\n",
       "      <th>7</th>\n",
       "      <td>5022426</td>\n",
       "      <td>F</td>\n",
       "      <td>N</td>\n",
       "      <td>Y</td>\n",
       "      <td>0</td>\n",
       "      <td>90000.0</td>\n",
       "      <td>Working</td>\n",
       "      <td>Secondary / secondary special</td>\n",
       "      <td>Civil marriage</td>\n",
       "      <td>House / apartment</td>\n",
       "      <td>-16569</td>\n",
       "      <td>-517</td>\n",
       "      <td>0</td>\n",
       "      <td>0</td>\n",
       "      <td>0</td>\n",
       "      <td>Laborers</td>\n",
       "      <td>2.0</td>\n",
       "      <td>1</td>\n",
       "    </tr>\n",
       "    <tr>\n",
       "      <th>8</th>\n",
       "      <td>5050731</td>\n",
       "      <td>F</td>\n",
       "      <td>N</td>\n",
       "      <td>N</td>\n",
       "      <td>0</td>\n",
       "      <td>135000.0</td>\n",
       "      <td>Commercial associate</td>\n",
       "      <td>Higher education</td>\n",
       "      <td>Separated</td>\n",
       "      <td>House / apartment</td>\n",
       "      <td>-11712</td>\n",
       "      <td>-4822</td>\n",
       "      <td>0</td>\n",
       "      <td>1</td>\n",
       "      <td>1</td>\n",
       "      <td>HR staff</td>\n",
       "      <td>1.0</td>\n",
       "      <td>1</td>\n",
       "    </tr>\n",
       "    <tr>\n",
       "      <th>9</th>\n",
       "      <td>5116455</td>\n",
       "      <td>F</td>\n",
       "      <td>Y</td>\n",
       "      <td>Y</td>\n",
       "      <td>0</td>\n",
       "      <td>135000.0</td>\n",
       "      <td>Working</td>\n",
       "      <td>Secondary / secondary special</td>\n",
       "      <td>Civil marriage</td>\n",
       "      <td>House / apartment</td>\n",
       "      <td>-18090</td>\n",
       "      <td>-9194</td>\n",
       "      <td>0</td>\n",
       "      <td>0</td>\n",
       "      <td>0</td>\n",
       "      <td>Medicine staff</td>\n",
       "      <td>2.0</td>\n",
       "      <td>1</td>\n",
       "    </tr>\n",
       "    <tr>\n",
       "      <th>10</th>\n",
       "      <td>5028478</td>\n",
       "      <td>M</td>\n",
       "      <td>N</td>\n",
       "      <td>Y</td>\n",
       "      <td>0</td>\n",
       "      <td>148500.0</td>\n",
       "      <td>Working</td>\n",
       "      <td>Secondary / secondary special</td>\n",
       "      <td>Married</td>\n",
       "      <td>House / apartment</td>\n",
       "      <td>-8689</td>\n",
       "      <td>-1238</td>\n",
       "      <td>0</td>\n",
       "      <td>1</td>\n",
       "      <td>0</td>\n",
       "      <td>Laborers</td>\n",
       "      <td>2.0</td>\n",
       "      <td>1</td>\n",
       "    </tr>\n",
       "    <tr>\n",
       "      <th>11</th>\n",
       "      <td>5104869</td>\n",
       "      <td>F</td>\n",
       "      <td>N</td>\n",
       "      <td>Y</td>\n",
       "      <td>0</td>\n",
       "      <td>112500.0</td>\n",
       "      <td>Working</td>\n",
       "      <td>Higher education</td>\n",
       "      <td>Married</td>\n",
       "      <td>House / apartment</td>\n",
       "      <td>-12114</td>\n",
       "      <td>-4004</td>\n",
       "      <td>0</td>\n",
       "      <td>0</td>\n",
       "      <td>0</td>\n",
       "      <td>Accountants</td>\n",
       "      <td>2.0</td>\n",
       "      <td>1</td>\n",
       "    </tr>\n",
       "    <tr>\n",
       "      <th>12</th>\n",
       "      <td>5117794</td>\n",
       "      <td>F</td>\n",
       "      <td>Y</td>\n",
       "      <td>N</td>\n",
       "      <td>2</td>\n",
       "      <td>162000.0</td>\n",
       "      <td>Commercial associate</td>\n",
       "      <td>Incomplete higher</td>\n",
       "      <td>Married</td>\n",
       "      <td>House / apartment</td>\n",
       "      <td>-9662</td>\n",
       "      <td>-796</td>\n",
       "      <td>1</td>\n",
       "      <td>1</td>\n",
       "      <td>0</td>\n",
       "      <td>Core staff</td>\n",
       "      <td>4.0</td>\n",
       "      <td>1</td>\n",
       "    </tr>\n",
       "    <tr>\n",
       "      <th>13</th>\n",
       "      <td>5137241</td>\n",
       "      <td>F</td>\n",
       "      <td>N</td>\n",
       "      <td>N</td>\n",
       "      <td>0</td>\n",
       "      <td>90000.0</td>\n",
       "      <td>Working</td>\n",
       "      <td>Secondary / secondary special</td>\n",
       "      <td>Married</td>\n",
       "      <td>House / apartment</td>\n",
       "      <td>-17355</td>\n",
       "      <td>-3273</td>\n",
       "      <td>1</td>\n",
       "      <td>1</td>\n",
       "      <td>0</td>\n",
       "      <td>Secretaries</td>\n",
       "      <td>2.0</td>\n",
       "      <td>1</td>\n",
       "    </tr>\n",
       "    <tr>\n",
       "      <th>14</th>\n",
       "      <td>5051210</td>\n",
       "      <td>M</td>\n",
       "      <td>Y</td>\n",
       "      <td>N</td>\n",
       "      <td>0</td>\n",
       "      <td>191700.0</td>\n",
       "      <td>Working</td>\n",
       "      <td>Lower secondary</td>\n",
       "      <td>Married</td>\n",
       "      <td>House / apartment</td>\n",
       "      <td>-15473</td>\n",
       "      <td>-6557</td>\n",
       "      <td>1</td>\n",
       "      <td>1</td>\n",
       "      <td>0</td>\n",
       "      <td>Drivers</td>\n",
       "      <td>2.0</td>\n",
       "      <td>1</td>\n",
       "    </tr>\n",
       "    <tr>\n",
       "      <th>15</th>\n",
       "      <td>5137510</td>\n",
       "      <td>M</td>\n",
       "      <td>Y</td>\n",
       "      <td>N</td>\n",
       "      <td>1</td>\n",
       "      <td>225000.0</td>\n",
       "      <td>Commercial associate</td>\n",
       "      <td>Higher education</td>\n",
       "      <td>Married</td>\n",
       "      <td>With parents</td>\n",
       "      <td>-12537</td>\n",
       "      <td>-3760</td>\n",
       "      <td>1</td>\n",
       "      <td>0</td>\n",
       "      <td>0</td>\n",
       "      <td>High skill tech staff</td>\n",
       "      <td>3.0</td>\n",
       "      <td>1</td>\n",
       "    </tr>\n",
       "    <tr>\n",
       "      <th>16</th>\n",
       "      <td>5143342</td>\n",
       "      <td>M</td>\n",
       "      <td>N</td>\n",
       "      <td>N</td>\n",
       "      <td>1</td>\n",
       "      <td>216000.0</td>\n",
       "      <td>Working</td>\n",
       "      <td>Secondary / secondary special</td>\n",
       "      <td>Married</td>\n",
       "      <td>Municipal apartment</td>\n",
       "      <td>-12946</td>\n",
       "      <td>-2418</td>\n",
       "      <td>0</td>\n",
       "      <td>0</td>\n",
       "      <td>1</td>\n",
       "      <td>Laborers</td>\n",
       "      <td>3.0</td>\n",
       "      <td>1</td>\n",
       "    </tr>\n",
       "    <tr>\n",
       "      <th>17</th>\n",
       "      <td>5066441</td>\n",
       "      <td>M</td>\n",
       "      <td>Y</td>\n",
       "      <td>Y</td>\n",
       "      <td>0</td>\n",
       "      <td>157500.0</td>\n",
       "      <td>Working</td>\n",
       "      <td>Secondary / secondary special</td>\n",
       "      <td>Married</td>\n",
       "      <td>House / apartment</td>\n",
       "      <td>-17344</td>\n",
       "      <td>-553</td>\n",
       "      <td>0</td>\n",
       "      <td>0</td>\n",
       "      <td>1</td>\n",
       "      <td>Drivers</td>\n",
       "      <td>2.0</td>\n",
       "      <td>1</td>\n",
       "    </tr>\n",
       "    <tr>\n",
       "      <th>18</th>\n",
       "      <td>5136888</td>\n",
       "      <td>M</td>\n",
       "      <td>N</td>\n",
       "      <td>N</td>\n",
       "      <td>1</td>\n",
       "      <td>179271.0</td>\n",
       "      <td>Working</td>\n",
       "      <td>Higher education</td>\n",
       "      <td>Married</td>\n",
       "      <td>House / apartment</td>\n",
       "      <td>-10961</td>\n",
       "      <td>-1235</td>\n",
       "      <td>0</td>\n",
       "      <td>0</td>\n",
       "      <td>0</td>\n",
       "      <td>Managers</td>\n",
       "      <td>3.0</td>\n",
       "      <td>1</td>\n",
       "    </tr>\n",
       "    <tr>\n",
       "      <th>19</th>\n",
       "      <td>5143578</td>\n",
       "      <td>M</td>\n",
       "      <td>Y</td>\n",
       "      <td>N</td>\n",
       "      <td>0</td>\n",
       "      <td>157500.0</td>\n",
       "      <td>Working</td>\n",
       "      <td>Incomplete higher</td>\n",
       "      <td>Single / not married</td>\n",
       "      <td>With parents</td>\n",
       "      <td>-9124</td>\n",
       "      <td>-960</td>\n",
       "      <td>1</td>\n",
       "      <td>0</td>\n",
       "      <td>0</td>\n",
       "      <td>Drivers</td>\n",
       "      <td>2.0</td>\n",
       "      <td>1</td>\n",
       "    </tr>\n",
       "  </tbody>\n",
       "</table>\n",
       "</div>"
      ],
      "text/plain": [
       "         ID CODE_GENDER FLAG_OWN_CAR FLAG_OWN_REALTY  CNT_CHILDREN  \\\n",
       "0   5023641           M            Y               N             2   \n",
       "1   5116036           M            Y               Y             0   \n",
       "2   5146444           F            N               Y             0   \n",
       "3   5111144           M            N               N             0   \n",
       "4   5033514           F            Y               N             1   \n",
       "5   5053148           F            N               Y             1   \n",
       "6   5009938           F            N               Y             2   \n",
       "7   5022426           F            N               Y             0   \n",
       "8   5050731           F            N               N             0   \n",
       "9   5116455           F            Y               Y             0   \n",
       "10  5028478           M            N               Y             0   \n",
       "11  5104869           F            N               Y             0   \n",
       "12  5117794           F            Y               N             2   \n",
       "13  5137241           F            N               N             0   \n",
       "14  5051210           M            Y               N             0   \n",
       "15  5137510           M            Y               N             1   \n",
       "16  5143342           M            N               N             1   \n",
       "17  5066441           M            Y               Y             0   \n",
       "18  5136888           M            N               N             1   \n",
       "19  5143578           M            Y               N             0   \n",
       "\n",
       "    AMT_INCOME_TOTAL      NAME_INCOME_TYPE            NAME_EDUCATION_TYPE  \\\n",
       "0           225000.0               Working  Secondary / secondary special   \n",
       "1           126000.0               Working               Higher education   \n",
       "2           135000.0               Working  Secondary / secondary special   \n",
       "3           135000.0               Working  Secondary / secondary special   \n",
       "4           135000.0               Working  Secondary / secondary special   \n",
       "5           126000.0               Working  Secondary / secondary special   \n",
       "6           157500.0               Working  Secondary / secondary special   \n",
       "7            90000.0               Working  Secondary / secondary special   \n",
       "8           135000.0  Commercial associate               Higher education   \n",
       "9           135000.0               Working  Secondary / secondary special   \n",
       "10          148500.0               Working  Secondary / secondary special   \n",
       "11          112500.0               Working               Higher education   \n",
       "12          162000.0  Commercial associate              Incomplete higher   \n",
       "13           90000.0               Working  Secondary / secondary special   \n",
       "14          191700.0               Working                Lower secondary   \n",
       "15          225000.0  Commercial associate               Higher education   \n",
       "16          216000.0               Working  Secondary / secondary special   \n",
       "17          157500.0               Working  Secondary / secondary special   \n",
       "18          179271.0               Working               Higher education   \n",
       "19          157500.0               Working              Incomplete higher   \n",
       "\n",
       "      NAME_FAMILY_STATUS    NAME_HOUSING_TYPE  DAYS_BIRTH  DAYS_EMPLOYED  \\\n",
       "0                Married    House / apartment      -14776          -2212   \n",
       "1   Single / not married    House / apartment      -14522           -863   \n",
       "2                  Widow    House / apartment      -14394           -919   \n",
       "3         Civil marriage         With parents      -15104          -1699   \n",
       "4                Married    House / apartment      -15952           -384   \n",
       "5                Married    House / apartment      -12140           -779   \n",
       "6                Married    House / apartment      -10710          -2351   \n",
       "7         Civil marriage    House / apartment      -16569           -517   \n",
       "8              Separated    House / apartment      -11712          -4822   \n",
       "9         Civil marriage    House / apartment      -18090          -9194   \n",
       "10               Married    House / apartment       -8689          -1238   \n",
       "11               Married    House / apartment      -12114          -4004   \n",
       "12               Married    House / apartment       -9662           -796   \n",
       "13               Married    House / apartment      -17355          -3273   \n",
       "14               Married    House / apartment      -15473          -6557   \n",
       "15               Married         With parents      -12537          -3760   \n",
       "16               Married  Municipal apartment      -12946          -2418   \n",
       "17               Married    House / apartment      -17344           -553   \n",
       "18               Married    House / apartment      -10961          -1235   \n",
       "19  Single / not married         With parents       -9124           -960   \n",
       "\n",
       "    FLAG_WORK_PHONE  FLAG_PHONE  FLAG_EMAIL        OCCUPATION_TYPE  \\\n",
       "0                 0           0           0                Drivers   \n",
       "1                 1           0           0               Managers   \n",
       "2                 0           1           0               Managers   \n",
       "3                 0           0           0               Laborers   \n",
       "4                 1           0           0            Sales staff   \n",
       "5                 0           0           0             Core staff   \n",
       "6                 0           0           0            Sales staff   \n",
       "7                 0           0           0               Laborers   \n",
       "8                 0           1           1               HR staff   \n",
       "9                 0           0           0         Medicine staff   \n",
       "10                0           1           0               Laborers   \n",
       "11                0           0           0            Accountants   \n",
       "12                1           1           0             Core staff   \n",
       "13                1           1           0            Secretaries   \n",
       "14                1           1           0                Drivers   \n",
       "15                1           0           0  High skill tech staff   \n",
       "16                0           0           1               Laborers   \n",
       "17                0           0           1                Drivers   \n",
       "18                0           0           0               Managers   \n",
       "19                1           0           0                Drivers   \n",
       "\n",
       "    CNT_FAM_MEMBERS  DELINQUENT  \n",
       "0               1.0           1  \n",
       "1               1.0           1  \n",
       "2               1.0           1  \n",
       "3               2.0           1  \n",
       "4               3.0           1  \n",
       "5               1.0           1  \n",
       "6               4.0           1  \n",
       "7               2.0           1  \n",
       "8               1.0           1  \n",
       "9               2.0           1  \n",
       "10              2.0           1  \n",
       "11              2.0           1  \n",
       "12              4.0           1  \n",
       "13              2.0           1  \n",
       "14              2.0           1  \n",
       "15              3.0           1  \n",
       "16              3.0           1  \n",
       "17              2.0           1  \n",
       "18              3.0           1  \n",
       "19              2.0           1  "
      ]
     },
     "execution_count": 74,
     "metadata": {
      "tags": []
     },
     "output_type": "execute_result"
    }
   ],
   "source": [
    "# Let us try to see a customer who is classified as delinquent\n",
    "df_merged.filter(col('DELINQUENT') == 1).toPandas().head(20)"
   ]
  },
  {
   "cell_type": "code",
   "execution_count": null,
   "metadata": {
    "id": "Fl_AiIRbU1Jc",
    "outputId": "890d9bb5-b1fb-414a-ff71-c4aefe106810"
   },
   "outputs": [
    {
     "data": {
      "text/html": [
       "<div>\n",
       "<style scoped>\n",
       "    .dataframe tbody tr th:only-of-type {\n",
       "        vertical-align: middle;\n",
       "    }\n",
       "\n",
       "    .dataframe tbody tr th {\n",
       "        vertical-align: top;\n",
       "    }\n",
       "\n",
       "    .dataframe thead th {\n",
       "        text-align: right;\n",
       "    }\n",
       "</style>\n",
       "<table border=\"1\" class=\"dataframe\">\n",
       "  <thead>\n",
       "    <tr style=\"text-align: right;\">\n",
       "      <th></th>\n",
       "      <th>ID</th>\n",
       "      <th>MONTHS_BALANCE</th>\n",
       "      <th>STATUS</th>\n",
       "    </tr>\n",
       "  </thead>\n",
       "  <tbody>\n",
       "    <tr>\n",
       "      <th>0</th>\n",
       "      <td>5023641</td>\n",
       "      <td>0</td>\n",
       "      <td>C</td>\n",
       "    </tr>\n",
       "    <tr>\n",
       "      <th>1</th>\n",
       "      <td>5023641</td>\n",
       "      <td>-1</td>\n",
       "      <td>C</td>\n",
       "    </tr>\n",
       "    <tr>\n",
       "      <th>2</th>\n",
       "      <td>5023641</td>\n",
       "      <td>-2</td>\n",
       "      <td>C</td>\n",
       "    </tr>\n",
       "    <tr>\n",
       "      <th>3</th>\n",
       "      <td>5023641</td>\n",
       "      <td>-3</td>\n",
       "      <td>C</td>\n",
       "    </tr>\n",
       "    <tr>\n",
       "      <th>4</th>\n",
       "      <td>5023641</td>\n",
       "      <td>-4</td>\n",
       "      <td>C</td>\n",
       "    </tr>\n",
       "    <tr>\n",
       "      <th>5</th>\n",
       "      <td>5023641</td>\n",
       "      <td>-5</td>\n",
       "      <td>C</td>\n",
       "    </tr>\n",
       "    <tr>\n",
       "      <th>6</th>\n",
       "      <td>5023641</td>\n",
       "      <td>-6</td>\n",
       "      <td>C</td>\n",
       "    </tr>\n",
       "    <tr>\n",
       "      <th>7</th>\n",
       "      <td>5023641</td>\n",
       "      <td>-7</td>\n",
       "      <td>C</td>\n",
       "    </tr>\n",
       "    <tr>\n",
       "      <th>8</th>\n",
       "      <td>5023641</td>\n",
       "      <td>-8</td>\n",
       "      <td>C</td>\n",
       "    </tr>\n",
       "    <tr>\n",
       "      <th>9</th>\n",
       "      <td>5023641</td>\n",
       "      <td>-9</td>\n",
       "      <td>C</td>\n",
       "    </tr>\n",
       "    <tr>\n",
       "      <th>10</th>\n",
       "      <td>5023641</td>\n",
       "      <td>-10</td>\n",
       "      <td>C</td>\n",
       "    </tr>\n",
       "    <tr>\n",
       "      <th>11</th>\n",
       "      <td>5023641</td>\n",
       "      <td>-11</td>\n",
       "      <td>C</td>\n",
       "    </tr>\n",
       "    <tr>\n",
       "      <th>12</th>\n",
       "      <td>5023641</td>\n",
       "      <td>-12</td>\n",
       "      <td>C</td>\n",
       "    </tr>\n",
       "    <tr>\n",
       "      <th>13</th>\n",
       "      <td>5023641</td>\n",
       "      <td>-13</td>\n",
       "      <td>0</td>\n",
       "    </tr>\n",
       "    <tr>\n",
       "      <th>14</th>\n",
       "      <td>5023641</td>\n",
       "      <td>-14</td>\n",
       "      <td>0</td>\n",
       "    </tr>\n",
       "    <tr>\n",
       "      <th>15</th>\n",
       "      <td>5023641</td>\n",
       "      <td>-15</td>\n",
       "      <td>0</td>\n",
       "    </tr>\n",
       "    <tr>\n",
       "      <th>16</th>\n",
       "      <td>5023641</td>\n",
       "      <td>-16</td>\n",
       "      <td>0</td>\n",
       "    </tr>\n",
       "    <tr>\n",
       "      <th>17</th>\n",
       "      <td>5023641</td>\n",
       "      <td>-17</td>\n",
       "      <td>0</td>\n",
       "    </tr>\n",
       "    <tr>\n",
       "      <th>18</th>\n",
       "      <td>5023641</td>\n",
       "      <td>-18</td>\n",
       "      <td>0</td>\n",
       "    </tr>\n",
       "    <tr>\n",
       "      <th>19</th>\n",
       "      <td>5023641</td>\n",
       "      <td>-19</td>\n",
       "      <td>0</td>\n",
       "    </tr>\n",
       "    <tr>\n",
       "      <th>20</th>\n",
       "      <td>5023641</td>\n",
       "      <td>-20</td>\n",
       "      <td>0</td>\n",
       "    </tr>\n",
       "    <tr>\n",
       "      <th>21</th>\n",
       "      <td>5023641</td>\n",
       "      <td>-21</td>\n",
       "      <td>0</td>\n",
       "    </tr>\n",
       "    <tr>\n",
       "      <th>22</th>\n",
       "      <td>5023641</td>\n",
       "      <td>-22</td>\n",
       "      <td>0</td>\n",
       "    </tr>\n",
       "    <tr>\n",
       "      <th>23</th>\n",
       "      <td>5023641</td>\n",
       "      <td>-23</td>\n",
       "      <td>2</td>\n",
       "    </tr>\n",
       "    <tr>\n",
       "      <th>24</th>\n",
       "      <td>5023641</td>\n",
       "      <td>-24</td>\n",
       "      <td>1</td>\n",
       "    </tr>\n",
       "    <tr>\n",
       "      <th>25</th>\n",
       "      <td>5023641</td>\n",
       "      <td>-25</td>\n",
       "      <td>0</td>\n",
       "    </tr>\n",
       "    <tr>\n",
       "      <th>26</th>\n",
       "      <td>5023641</td>\n",
       "      <td>-26</td>\n",
       "      <td>0</td>\n",
       "    </tr>\n",
       "    <tr>\n",
       "      <th>27</th>\n",
       "      <td>5023641</td>\n",
       "      <td>-27</td>\n",
       "      <td>0</td>\n",
       "    </tr>\n",
       "    <tr>\n",
       "      <th>28</th>\n",
       "      <td>5023641</td>\n",
       "      <td>-28</td>\n",
       "      <td>1</td>\n",
       "    </tr>\n",
       "    <tr>\n",
       "      <th>29</th>\n",
       "      <td>5023641</td>\n",
       "      <td>-29</td>\n",
       "      <td>0</td>\n",
       "    </tr>\n",
       "  </tbody>\n",
       "</table>\n",
       "</div>"
      ],
      "text/plain": [
       "         ID  MONTHS_BALANCE STATUS\n",
       "0   5023641               0      C\n",
       "1   5023641              -1      C\n",
       "2   5023641              -2      C\n",
       "3   5023641              -3      C\n",
       "4   5023641              -4      C\n",
       "5   5023641              -5      C\n",
       "6   5023641              -6      C\n",
       "7   5023641              -7      C\n",
       "8   5023641              -8      C\n",
       "9   5023641              -9      C\n",
       "10  5023641             -10      C\n",
       "11  5023641             -11      C\n",
       "12  5023641             -12      C\n",
       "13  5023641             -13      0\n",
       "14  5023641             -14      0\n",
       "15  5023641             -15      0\n",
       "16  5023641             -16      0\n",
       "17  5023641             -17      0\n",
       "18  5023641             -18      0\n",
       "19  5023641             -19      0\n",
       "20  5023641             -20      0\n",
       "21  5023641             -21      0\n",
       "22  5023641             -22      0\n",
       "23  5023641             -23      2\n",
       "24  5023641             -24      1\n",
       "25  5023641             -25      0\n",
       "26  5023641             -26      0\n",
       "27  5023641             -27      0\n",
       "28  5023641             -28      1\n",
       "29  5023641             -29      0"
      ]
     },
     "execution_count": 75,
     "metadata": {
      "tags": []
     },
     "output_type": "execute_result"
    }
   ],
   "source": [
    "# Picking 1 customer and checking the data in credit record\n",
    "df_credit_record.filter(col('ID') == 5023641).toPandas().head(30)"
   ]
  },
  {
   "cell_type": "markdown",
   "metadata": {
    "id": "XP8uyyvWU1Jd"
   },
   "source": [
    " - From the above data we can see the customer has 2 in STATUS column once. \n",
    " - Hence we can conclude that the target variable is built properly."
   ]
  },
  {
   "cell_type": "markdown",
   "metadata": {
    "id": "tHYI8g7PU1Jd"
   },
   "source": [
    "## Answer EDA questions"
   ]
  },
  {
   "cell_type": "markdown",
   "metadata": {
    "id": "MoLL7q_LU1Jd"
   },
   "source": [
    "#### 1. What is the proportion of females in the applicant customer base?"
   ]
  },
  {
   "cell_type": "code",
   "execution_count": null,
   "metadata": {
    "id": "3khZSYaKU1Jd",
    "outputId": "f09302ad-0deb-4e52-db4c-6217c8e7b34e"
   },
   "outputs": [
    {
     "data": {
      "text/plain": [
       "0.6619604679306171"
      ]
     },
     "execution_count": 76,
     "metadata": {
      "tags": []
     },
     "output_type": "execute_result"
    }
   ],
   "source": [
    "df_merged.filter(col('CODE_GENDER') == 'F').count()/df_merged.count()"
   ]
  },
  {
   "cell_type": "markdown",
   "metadata": {
    "id": "fEmYcPMBU1Jd"
   },
   "source": [
    "#### 2. Is homeownership higher among male applicants or female applicants? - Female. Check below."
   ]
  },
  {
   "cell_type": "code",
   "execution_count": null,
   "metadata": {
    "id": "b7mnvb2LU1Jd",
    "outputId": "0fed1ead-27b1-45e2-e05c-fd49a39e4f2e"
   },
   "outputs": [
    {
     "name": "stdout",
     "output_type": "stream",
     "text": [
      "+-----------+-----+\n",
      "|CODE_GENDER|count|\n",
      "+-----------+-----+\n",
      "|          F| 7570|\n",
      "|          M| 3615|\n",
      "+-----------+-----+\n",
      "\n"
     ]
    }
   ],
   "source": [
    "df_merged.filter(col('FLAG_OWN_REALTY') == 'Y').groupBy('CODE_GENDER').count().show()"
   ]
  },
  {
   "cell_type": "markdown",
   "metadata": {
    "id": "-1abiEZyU1Jd"
   },
   "source": [
    "#### 3. Is there any correlation between the customer's income level and education level?\n",
    "#### Here we need to find correlation between AMT_INCOME_TOTAL and NAME_EDUCATION_TYPE"
   ]
  },
  {
   "cell_type": "code",
   "execution_count": null,
   "metadata": {
    "id": "pKX73zjlU1Je",
    "outputId": "8c6748f1-dc05-4c7a-90a1-1cc104a73b56"
   },
   "outputs": [
    {
     "data": {
      "text/plain": [
       "<AxesSubplot:xlabel='NAME_EDUCATION_TYPE', ylabel='AMT_INCOME_TOTAL'>"
      ]
     },
     "execution_count": 78,
     "metadata": {
      "tags": []
     },
     "output_type": "execute_result"
    },
    {
     "data": {
      "image/png": "[encoded data removed]",
      "text/plain": [
       "<Figure size 1152x432 with 1 Axes>"
      ]
     },
     "metadata": {
      "needs_background": "light",
      "tags": []
     },
     "output_type": "display_data"
    }
   ],
   "source": [
    "pd_merged_df = df_merged.toPandas()\n",
    "\n",
    "import matplotlib.pyplot as plt\n",
    "plt.figure(figsize=(16, 6))\n",
    "sns.boxplot(x=pd_merged_df['NAME_EDUCATION_TYPE'], y=pd_merged_df['AMT_INCOME_TOTAL'])"
   ]
  },
  {
   "cell_type": "markdown",
   "metadata": {
    "id": "1oYExAS2U1Je"
   },
   "source": [
    "#### Yes. As we can see above, those who completed Higher Education have more income than others."
   ]
  },
  {
   "cell_type": "markdown",
   "metadata": {
    "id": "l31_eQl7U1Je"
   },
   "source": [
    "#### 4. What is the average and median salary of the applicant base?"
   ]
  },
  {
   "cell_type": "code",
   "execution_count": null,
   "metadata": {
    "id": "It_DisG8U1Je",
    "outputId": "15567aa4-c0f9-40ce-b4ae-126ec29acf51"
   },
   "outputs": [
    {
     "data": {
      "text/plain": [
       "151366.59620814846"
      ]
     },
     "execution_count": 79,
     "metadata": {
      "tags": []
     },
     "output_type": "execute_result"
    }
   ],
   "source": [
    "pd_merged_df['AMT_INCOME_TOTAL'].mean()"
   ]
  },
  {
   "cell_type": "code",
   "execution_count": null,
   "metadata": {
    "id": "lcKzosdzU1Je",
    "outputId": "fc940d16-0f17-4013-d09d-35ba19eeb902"
   },
   "outputs": [
    {
     "data": {
      "text/plain": [
       "148500.0"
      ]
     },
     "execution_count": 80,
     "metadata": {
      "tags": []
     },
     "output_type": "execute_result"
    }
   ],
   "source": [
    "pd_merged_df['AMT_INCOME_TOTAL'].median()"
   ]
  },
  {
   "cell_type": "markdown",
   "metadata": {
    "id": "LSCkb8ueU1Je"
   },
   "source": [
    "##### 5. Is the proportion of bad customers higher for people who own cars?"
   ]
  },
  {
   "cell_type": "code",
   "execution_count": null,
   "metadata": {
    "id": "H2uxdAxiU1Je",
    "outputId": "4fa0b481-fb70-48fb-c634-e8f8ed978fac"
   },
   "outputs": [
    {
     "name": "stdout",
     "output_type": "stream",
     "text": [
      "+----------+-----+\n",
      "|DELINQUENT|count|\n",
      "+----------+-----+\n",
      "|         0| 6276|\n",
      "|         1|  131|\n",
      "+----------+-----+\n",
      "\n"
     ]
    }
   ],
   "source": [
    "df_merged.filter(col('FLAG_OWN_CAR') == 'Y').groupBy('DELINQUENT').count().orderBy('count', ascending = 0).show()"
   ]
  },
  {
   "cell_type": "markdown",
   "metadata": {
    "id": "lBfbJx0uU1Je"
   },
   "source": [
    "#### No. The proportion of good customers are high. Bad customers are less."
   ]
  },
  {
   "cell_type": "markdown",
   "metadata": {
    "id": "M4AxHZoxU1Je"
   },
   "source": [
    "#### 6. Is the proportion of bad customers higher for those living on rent than the rest of the population?"
   ]
  },
  {
   "cell_type": "code",
   "execution_count": null,
   "metadata": {
    "id": "81QuOAY5U1Jf",
    "outputId": "adbaa13a-cc91-4fb0-a074-d734f3713ca7"
   },
   "outputs": [
    {
     "name": "stdout",
     "output_type": "stream",
     "text": [
      "+----------+-----+\n",
      "|DELINQUENT|count|\n",
      "+----------+-----+\n",
      "|         0|  251|\n",
      "|         1|    5|\n",
      "+----------+-----+\n",
      "\n"
     ]
    }
   ],
   "source": [
    "df_merged.filter(col('NAME_HOUSING_TYPE') == 'Rented apartment').groupBy('DELINQUENT').count().orderBy('count', ascending = 0).show()"
   ]
  },
  {
   "cell_type": "code",
   "execution_count": null,
   "metadata": {
    "id": "2W5WBeT4U1Jf",
    "outputId": "e0a5ceab-cc47-43ba-c599-eebfe7ed1a71"
   },
   "outputs": [
    {
     "name": "stdout",
     "output_type": "stream",
     "text": [
      "+----------+-----+\n",
      "|DELINQUENT|count|\n",
      "+----------+-----+\n",
      "|         0|16795|\n",
      "|         1|  302|\n",
      "+----------+-----+\n",
      "\n"
     ]
    }
   ],
   "source": [
    "df_merged.filter(col('NAME_HOUSING_TYPE') != 'Rented apartment').groupBy('DELINQUENT').count().orderBy('count', ascending = 0).show()"
   ]
  },
  {
   "cell_type": "markdown",
   "metadata": {
    "id": "yqy2DsMcU1Jf"
   },
   "source": [
    "#### As you can see above the proportion of bad customers for those living on rent (5) is less than rest of the population (302)"
   ]
  },
  {
   "cell_type": "markdown",
   "metadata": {
    "id": "ZcWaqi9QU1Jf"
   },
   "source": [
    "#### 7. Is the proportion of bad customers higher for those who are single than married customers?"
   ]
  },
  {
   "cell_type": "code",
   "execution_count": null,
   "metadata": {
    "id": "Ed3OkSICU1Jf",
    "outputId": "c5d2b071-d125-40c0-941d-51710b12657f"
   },
   "outputs": [
    {
     "name": "stdout",
     "output_type": "stream",
     "text": [
      "+----------+-----+\n",
      "|DELINQUENT|count|\n",
      "+----------+-----+\n",
      "|         0|13298|\n",
      "|         1|  228|\n",
      "+----------+-----+\n",
      "\n"
     ]
    }
   ],
   "source": [
    "df_merged.filter((col('NAME_FAMILY_STATUS') == 'Married') | (col('NAME_FAMILY_STATUS') == 'Civil marriage')).groupBy('DELINQUENT').count().orderBy('count', ascending = 0).show()"
   ]
  },
  {
   "cell_type": "code",
   "execution_count": null,
   "metadata": {
    "id": "ivtHyaz6U1Jf",
    "outputId": "4fe21382-9c24-4e64-de85-0663d77fb599"
   },
   "outputs": [
    {
     "name": "stdout",
     "output_type": "stream",
     "text": [
      "+----------+-----+\n",
      "|DELINQUENT|count|\n",
      "+----------+-----+\n",
      "|         0| 2358|\n",
      "|         1|   52|\n",
      "+----------+-----+\n",
      "\n"
     ]
    }
   ],
   "source": [
    "df_merged.filter(col('NAME_FAMILY_STATUS') == 'Single / not married').groupBy('DELINQUENT').count().orderBy('count', ascending = 0).show()"
   ]
  },
  {
   "cell_type": "markdown",
   "metadata": {
    "id": "nNzBNEICU1Jf"
   },
   "source": [
    "#### No. The proportion of bad customers is high for married (both normal and civil) than single customers."
   ]
  },
  {
   "cell_type": "markdown",
   "metadata": {
    "id": "ao2L1pmaU1Jf"
   },
   "source": [
    "## Visualizations with target variable"
   ]
  },
  {
   "cell_type": "markdown",
   "metadata": {
    "id": "f8A5PztoU1Jg"
   },
   "source": [
    "### Let us visualize how the target variable is distributed across gender"
   ]
  },
  {
   "cell_type": "code",
   "execution_count": null,
   "metadata": {
    "id": "5KOSJw2LU1Jg",
    "outputId": "4fd9b3e8-c3eb-4238-ab85-f7afd63448cf"
   },
   "outputs": [
    {
     "data": {
      "text/plain": [
       "<AxesSubplot:>"
      ]
     },
     "execution_count": 86,
     "metadata": {
      "tags": []
     },
     "output_type": "execute_result"
    },
    {
     "data": {
      "image/png": "[encoded data removed]",
      "text/plain": [
       "<Figure size 432x288 with 1 Axes>"
      ]
     },
     "metadata": {
      "needs_background": "light",
      "tags": []
     },
     "output_type": "display_data"
    }
   ],
   "source": [
    "pd_delinquent = pd_merged_df[pd_merged_df['DELINQUENT'] == 1]\n",
    "pd_delinquent['CODE_GENDER'].hist()"
   ]
  },
  {
   "cell_type": "markdown",
   "metadata": {
    "id": "lCHL4sNIU1Jg"
   },
   "source": [
    "### As we can see above the number of delinquent (bad) customers is more in Female than male."
   ]
  },
  {
   "cell_type": "code",
   "execution_count": null,
   "metadata": {
    "id": "Iuh11uhFU1Jg",
    "outputId": "4218198a-3c03-484e-98a7-9e0a7c8f9754"
   },
   "outputs": [
    {
     "data": {
      "text/plain": [
       "<AxesSubplot:>"
      ]
     },
     "execution_count": 87,
     "metadata": {
      "tags": []
     },
     "output_type": "execute_result"
    },
    {
     "data": {
      "image/png": "[encoded data removed]",
      "text/plain": [
       "<Figure size 432x288 with 1 Axes>"
      ]
     },
     "metadata": {
      "needs_background": "light",
      "tags": []
     },
     "output_type": "display_data"
    }
   ],
   "source": [
    "pd_delinquent['CNT_CHILDREN'].hist()"
   ]
  },
  {
   "cell_type": "markdown",
   "metadata": {
    "id": "hau6Zn1OU1Jg"
   },
   "source": [
    "### The number of delinquent customers is more when there is no children.\n",
    "### It makes sense as people with more children are more concerned about their credit scores as they pay properly and buy regularly.\n"
   ]
  },
  {
   "cell_type": "code",
   "execution_count": null,
   "metadata": {
    "id": "IhDY9kAXU1Jg",
    "outputId": "5fe8f4d9-920b-4ea3-bfbc-d627a3fb5f1d"
   },
   "outputs": [
    {
     "data": {
      "text/plain": [
       "<AxesSubplot:>"
      ]
     },
     "execution_count": 88,
     "metadata": {
      "tags": []
     },
     "output_type": "execute_result"
    },
    {
     "data": {
      "image/png": "[encoded data removed]",
      "text/plain": [
       "<Figure size 432x288 with 1 Axes>"
      ]
     },
     "metadata": {
      "needs_background": "light",
      "tags": []
     },
     "output_type": "display_data"
    }
   ],
   "source": [
    "pd_delinquent['AMT_INCOME_TOTAL'].hist()"
   ]
  },
  {
   "cell_type": "markdown",
   "metadata": {
    "id": "B_W9kxNwU1Jg"
   },
   "source": [
    "### As we can see above delinquency is more for people with median salary and also rises up as the salary increases."
   ]
  },
  {
   "cell_type": "code",
   "execution_count": null,
   "metadata": {
    "id": "Ws1X0ZnLU1Jg",
    "outputId": "ed1723ea-cddd-4d2d-b623-6fb8a5fd326d"
   },
   "outputs": [
    {
     "data": {
      "text/plain": [
       "<seaborn.axisgrid.PairGrid at 0x7ff707406610>"
      ]
     },
     "execution_count": 89,
     "metadata": {
      "tags": []
     },
     "output_type": "execute_result"
    },
    {
     "data": {
      "image/png": "[encoded data removed]",
      "text/plain": [
       "<Figure size 720x720 with 20 Axes>"
      ]
     },
     "metadata": {
      "needs_background": "light",
      "tags": []
     },
     "output_type": "display_data"
    }
   ],
   "source": [
    "sns.pairplot(pd_merged_df, vars = ['CNT_CHILDREN','AMT_INCOME_TOTAL','CNT_FAM_MEMBERS','DELINQUENT'])"
   ]
  },
  {
   "cell_type": "markdown",
   "metadata": {
    "id": "PtEQttN9U1Jh"
   },
   "source": [
    "### Since most of the variables are categorical, we cannot derive much insights here. In delinquent row and column we can see that the number of delinquent customers are very less. Hence we can say that the data we have is highly imbalanced."
   ]
  },
  {
   "cell_type": "code",
   "execution_count": null,
   "metadata": {
    "id": "8JsTQTk1U1Jh",
    "outputId": "c386d7a0-a98b-4724-fd8a-30ad8d006c60"
   },
   "outputs": [
    {
     "data": {
      "text/plain": [
       "<AxesSubplot:xlabel='CNT_FAM_MEMBERS', ylabel='AMT_INCOME_TOTAL'>"
      ]
     },
     "execution_count": 90,
     "metadata": {
      "tags": []
     },
     "output_type": "execute_result"
    },
    {
     "data": {
      "image/png": "[encoded data removed]",
      "text/plain": [
       "<Figure size 1152x432 with 1 Axes>"
      ]
     },
     "metadata": {
      "needs_background": "light",
      "tags": []
     },
     "output_type": "display_data"
    }
   ],
   "source": [
    "plt.figure(figsize=(16, 6))\n",
    "sns.boxplot(data=pd_merged_df, x=\"CNT_FAM_MEMBERS\", y=\"AMT_INCOME_TOTAL\", hue=\"DELINQUENT\")"
   ]
  },
  {
   "cell_type": "markdown",
   "metadata": {
    "id": "asVylldDU1Jh"
   },
   "source": [
    "### From the above plot we can see that as the family members increases delinquency also increases along with income."
   ]
  },
  {
   "cell_type": "code",
   "execution_count": null,
   "metadata": {
    "id": "VxzOiTzJU1Jh",
    "outputId": "fbdb8f9f-b187-446b-fab2-abd49cb09b20"
   },
   "outputs": [
    {
     "data": {
      "text/plain": [
       "<AxesSubplot:xlabel='DAYS_BIRTH', ylabel='AMT_INCOME_TOTAL'>"
      ]
     },
     "execution_count": 91,
     "metadata": {
      "tags": []
     },
     "output_type": "execute_result"
    },
    {
     "data": {
      "image/png": "[encoded data removed]",
      "text/plain": [
       "<Figure size 432x288 with 1 Axes>"
      ]
     },
     "metadata": {
      "needs_background": "light",
      "tags": []
     },
     "output_type": "display_data"
    }
   ],
   "source": [
    "sns.scatterplot(data=pd_merged_df, x=\"DAYS_BIRTH\", y=\"AMT_INCOME_TOTAL\", hue=\"DELINQUENT\")"
   ]
  },
  {
   "cell_type": "markdown",
   "metadata": {
    "id": "kitpiNwSU1Jh"
   },
   "source": [
    "#### There are multiple insights we can derive from above plot\n",
    " - Delinquency is less as income increases as there are less orange dots on top\n",
    " - The data is more densy populated on middle age (i.e.) as people get older they do not have income or our data has more young and middle aged people than old people.\n",
    " - We can say that there are people at various age groups getting almost same salary as we can see there are horizontal lines in the plot."
   ]
  },
  {
   "cell_type": "code",
   "execution_count": null,
   "metadata": {
    "id": "RiSNhqXoU1Jh",
    "outputId": "cd958063-5f01-41fc-a0ef-b4cb74f0ff9b"
   },
   "outputs": [
    {
     "data": {
      "text/plain": [
       "<AxesSubplot:xlabel='DAYS_EMPLOYED', ylabel='AMT_INCOME_TOTAL'>"
      ]
     },
     "execution_count": 92,
     "metadata": {
      "tags": []
     },
     "output_type": "execute_result"
    },
    {
     "data": {
      "image/png": "[encoded data removed]",
      "text/plain": [
       "<Figure size 432x288 with 1 Axes>"
      ]
     },
     "metadata": {
      "needs_background": "light",
      "tags": []
     },
     "output_type": "display_data"
    }
   ],
   "source": [
    "sns.scatterplot(data=pd_merged_df, x=\"DAYS_EMPLOYED\", y=\"AMT_INCOME_TOTAL\", hue=\"DELINQUENT\")"
   ]
  },
  {
   "cell_type": "markdown",
   "metadata": {
    "id": "8Cz2l9ZJU1Jh"
   },
   "source": [
    "#### In this plot also we can derive multiple interesting insights.\n",
    " - There are less people with more than 16 years (6000 days) experience.\n",
    " - Delinquency is more for people who have less than 5 years of experience\n",
    " - Here too we see there are people across different experience but getting same salary (as we see horizontal lines)"
   ]
  },
  {
   "cell_type": "markdown",
   "metadata": {
    "id": "bG_oAbxHU1Jh"
   },
   "source": [
    "## WOE-IV implementatons"
   ]
  },
  {
   "cell_type": "markdown",
   "metadata": {
    "id": "5JOq4EvJU1Jh"
   },
   "source": [
    "#### Before we proceed to WOE-IV calculations, let us split the available columns into 2 list. One will contain categorical variable for which WOE-IV can be calculated as such and another which are continous and hence we need to create monotonous bins"
   ]
  },
  {
   "cell_type": "code",
   "execution_count": null,
   "metadata": {
    "id": "3eZb-0ZFU1Ji",
    "outputId": "2f7f142f-ba33-4af7-8f92-f4804503171c"
   },
   "outputs": [
    {
     "name": "stdout",
     "output_type": "stream",
     "text": [
      "root\n",
      " |-- ID: integer (nullable = true)\n",
      " |-- CODE_GENDER: string (nullable = true)\n",
      " |-- FLAG_OWN_CAR: string (nullable = true)\n",
      " |-- FLAG_OWN_REALTY: string (nullable = true)\n",
      " |-- CNT_CHILDREN: integer (nullable = true)\n",
      " |-- AMT_INCOME_TOTAL: double (nullable = true)\n",
      " |-- NAME_INCOME_TYPE: string (nullable = true)\n",
      " |-- NAME_EDUCATION_TYPE: string (nullable = true)\n",
      " |-- NAME_FAMILY_STATUS: string (nullable = true)\n",
      " |-- NAME_HOUSING_TYPE: string (nullable = true)\n",
      " |-- DAYS_BIRTH: integer (nullable = true)\n",
      " |-- DAYS_EMPLOYED: integer (nullable = true)\n",
      " |-- FLAG_WORK_PHONE: integer (nullable = true)\n",
      " |-- FLAG_PHONE: integer (nullable = true)\n",
      " |-- FLAG_EMAIL: integer (nullable = true)\n",
      " |-- OCCUPATION_TYPE: string (nullable = true)\n",
      " |-- CNT_FAM_MEMBERS: double (nullable = true)\n",
      " |-- DELINQUENT: integer (nullable = false)\n",
      "\n"
     ]
    }
   ],
   "source": [
    "# Let us have a look at the schema\n",
    "df_merged.printSchema()"
   ]
  },
  {
   "cell_type": "markdown",
   "metadata": {
    "id": "C5daHfS2U1Ji"
   },
   "source": [
    "#### Now let us first calculate WOE and IV for catgorical and numerical discrete variables. For these variables we need not do anything as they are already separated"
   ]
  },
  {
   "cell_type": "code",
   "execution_count": null,
   "metadata": {
    "id": "TswyYsUMU1Ji"
   },
   "outputs": [],
   "source": [
    "cols_categorical = ['CODE_GENDER',\n",
    "                    'FLAG_OWN_CAR',\n",
    "                    'FLAG_OWN_REALTY',\n",
    "                    'CNT_CHILDREN',\n",
    "                    'NAME_INCOME_TYPE',\n",
    "                    'NAME_EDUCATION_TYPE',\n",
    "                    'NAME_FAMILY_STATUS',\n",
    "                    'NAME_HOUSING_TYPE',\n",
    "                    'FLAG_WORK_PHONE',\n",
    "                    'FLAG_PHONE',\n",
    "                    'FLAG_EMAIL',\n",
    "                    'OCCUPATION_TYPE',\n",
    "                    'CNT_FAM_MEMBERS',\n",
    "                    'DELINQUENT']"
   ]
  },
  {
   "cell_type": "code",
   "execution_count": null,
   "metadata": {
    "id": "XgtpdCfIU1Ji"
   },
   "outputs": [],
   "source": [
    "from pyspark.sql import functions as F\n",
    "import math"
   ]
  },
  {
   "cell_type": "markdown",
   "metadata": {
    "id": "lFg3nmr0U1Ji"
   },
   "source": [
    "#### Below is the code for calculation of WOE and IV"
   ]
  },
  {
   "cell_type": "code",
   "execution_count": null,
   "metadata": {
    "id": "aGeFXjePU1Ji"
   },
   "outputs": [],
   "source": [
    "class WOE_IV(object):\n",
    "    \n",
    "    \"\"\"\n",
    "    This class contains methods that are used for calculating the WOE and IV values in a given dataset.\n",
    "    \n",
    "    Attributes\n",
    "    ----------\n",
    "    df : spark DataFrame\n",
    "        The spark dataframe\n",
    "    cols_to_woe : list\n",
    "        Columns that you want to convert in WOE and IV\n",
    "    label_column : str\n",
    "        target column of the data\n",
    "    good_label : str\n",
    "        Predicted variable in the form of 1 or 0\n",
    "    \"\"\"\n",
    "    \n",
    "    def __init__(self, df: DataFrame, cols_to_woe: [str], label_column: str, good_label: str):\n",
    "        self.df = df\n",
    "        self.cols_to_woe = cols_to_woe\n",
    "        self.label_column = label_column\n",
    "        self.good_label = good_label\n",
    "        self.fit_data = {} # This is a dictionary which will store all the WOE and IV computed in the latter part of the code\n",
    "\n",
    "    def fit(self):  \n",
    "        \"\"\"\n",
    "        This method takes the columns in 'cols_to_woe' and calculates the good and bad amounts, and then assigns the WOE values in the dictionary, 'fit_data'\n",
    "        \"\"\"\n",
    "        for col_to_woe in self.cols_to_woe: # Iterating over each column in the list, cols_to_woe\n",
    "            \n",
    "            total_good = self.compute_total_amount_of_good() # Computes the total amount of good labels in the entire dataset\n",
    "            total_bad = self.compute_total_amount_of_bad() # Computes the total amount of bad labels in the entire dataset\n",
    "            \n",
    "            woe_df = self.df.select(col_to_woe) # This dataframe stores the column, col_to_woe from the DataFrame\n",
    "            categories = woe_df.distinct().collect() # Creates a list of all the distinct categories in the column, col_to_woe\n",
    "            for category_row in categories: # Iterating over each category in the distinct categories of the column\n",
    "                category = category_row[col_to_woe]\n",
    "                \n",
    "                # For each category, we calculate the good_amount and bad_amount\n",
    "                good_amount = self.compute_good_amount(col_to_woe, category)\n",
    "                bad_amount = self.compute_bad_amount(col_to_woe, category)\n",
    "                \n",
    "                # If the good_amount or bad_amount is 0, we replace it with 0.5, because in the calculation of woe, it comes in the denominator resulting in a Nan value which will give an error\n",
    "                good_amount = good_amount if good_amount != 0 else 0.5\n",
    "                bad_amount = bad_amount if bad_amount != 0 else 0.5\n",
    "\n",
    "                # Calculating the fraction of good_amount and bad_amount specific to that category\n",
    "                good_dist = good_amount / total_good\n",
    "                bad_dist = bad_amount / total_bad\n",
    "\n",
    "                # Calling the build_fit_data method which calculates the WOE and IV for the category in the column and stores it in the dictionary, fit_data\n",
    "                self.build_fit_data(col_to_woe, category, good_dist, bad_dist)\n",
    "\n",
    "    def transform(self, df: DataFrame):\n",
    "        \"\"\"\n",
    "        This method creates a column called \"col_to_woe + '_woe'\" which replaces the given category value with the WOE value.\n",
    "        It finally returns a final dataframe containing the WOE values in place of the columns\n",
    "        \"\"\"\n",
    "        def _encode_woe(col_to_woe_):\n",
    "            return F.coalesce(\n",
    "                *[F.when(F.col(col_to_woe_) == category, F.lit(woe_iv['woe']))\n",
    "                  for category, woe_iv in self.fit_data[col_to_woe_].items()]\n",
    "            )\n",
    "\n",
    "        for col_to_woe, woe_info in self.fit_data.items():\n",
    "            # Adds another column to the df containing the final WOE values\n",
    "            df = df.withColumn(col_to_woe + '_woe', _encode_woe(col_to_woe))\n",
    "        return df\n",
    "\n",
    "    def compute_total_amount_of_good(self):\n",
    "     # Computes the total amount of good labels in the entire dataset\n",
    "        return self.df.select(self.label_column).filter(F.col(self.label_column) == self.good_label).count()\n",
    "\n",
    "    def compute_total_amount_of_bad(self):\n",
    "     # Computes the total amount of bad labels in the entire dataset\n",
    "        return self.df.select(self.label_column).filter(F.col(self.label_column) != self.good_label).count()\n",
    "\n",
    "    def compute_good_amount(self, col_to_woe: str, category: str):\n",
    "     # Computes the total amount of good labels for the specific class in the feature\n",
    "        return self.df.select(col_to_woe, self.label_column)\\\n",
    "                      .filter(\n",
    "                            (F.col(col_to_woe) == category) & (F.col(self.label_column) == self.good_label)\n",
    "                      ).count()\n",
    "\n",
    "    def compute_bad_amount(self, col_to_woe: str, category: str):\n",
    "        # Computes the total amount of bad labels for the specific class in the feature\n",
    "        return self.df.select(col_to_woe, self.label_column)\\\n",
    "                      .filter(\n",
    "                            (F.col(col_to_woe) == category) & (F.col(self.label_column) != self.good_label)\n",
    "                      ).count()\n",
    "\n",
    "    def build_fit_data(self, col_to_woe, category, good_dist, bad_dist):\n",
    "        \"\"\"\n",
    "        Calculates the WOE and value for the specific category and saves it in the woe_info dictionary which is saves in the fit_data dictionary\n",
    "        \n",
    "        \n",
    "        Attributes:\n",
    "        col_to_woe: str\n",
    "        name of the feature\n",
    "        \n",
    "        category: str\n",
    "        Class of that feature\n",
    "        \n",
    "        good_dist: float\n",
    "        Fraction of good labels specific to that category\n",
    "        \n",
    "        bad_dist: float\n",
    "        Fraction of bad labels specific to that category\n",
    "        \"\"\"\n",
    "        woe_info = {\n",
    "            category: {\n",
    "                'woe': math.log(good_dist / bad_dist), # Calculating the WOE value for the category in the column\n",
    "                'iv': (good_dist - bad_dist) * math.log(good_dist / bad_dist) # Calculating the IV value for the category in the column\n",
    "            }\n",
    "        }\n",
    "\n",
    "        # Adding the feature, col_to_woe to fit_data if not present already\n",
    "        if col_to_woe not in self.fit_data:\n",
    "            self.fit_data[col_to_woe] = woe_info\n",
    "        else:\n",
    "            self.fit_data[col_to_woe].update(woe_info)\n",
    "\n",
    "    def compute_iv(self):\n",
    "        \"\"\"\n",
    "        Returns the IV dictionary which contains the IV value for each feature\n",
    "        \"\"\"\n",
    "        iv_dict = {}\n",
    "\n",
    "        for woe_col, categories in self.fit_data.items():\n",
    "            iv_dict[woe_col] = 0\n",
    "            for category, woe_iv in categories.items():\n",
    "                iv_dict[woe_col] += woe_iv['iv'] # IV for the feature = IV value for the indiviual categories of the feature (column)\n",
    "        return iv_dict"
   ]
  },
  {
   "cell_type": "markdown",
   "metadata": {
    "id": "tti9SZP2U1Ji"
   },
   "source": [
    "#### Creating an object for above class"
   ]
  },
  {
   "cell_type": "code",
   "execution_count": null,
   "metadata": {
    "id": "NZ30TzsbU1Jj"
   },
   "outputs": [],
   "source": [
    "woe_iv_calculator = WOE_IV(df = df_merged, cols_to_woe = cols_categorical, label_column = 'DELINQUENT', good_label = '0')"
   ]
  },
  {
   "cell_type": "markdown",
   "metadata": {
    "id": "Vpahu6EyU1Jj"
   },
   "source": [
    "#### Fitting"
   ]
  },
  {
   "cell_type": "code",
   "execution_count": null,
   "metadata": {
    "id": "DB-e-CP6U1Jj"
   },
   "outputs": [],
   "source": [
    "woe_iv_calculator.fit()"
   ]
  },
  {
   "cell_type": "code",
   "execution_count": null,
   "metadata": {
    "id": "ZdrX1gsfU1Jj"
   },
   "outputs": [],
   "source": [
    "df_merged_with_woe_iv = woe_iv_calculator.transform(df_merged)"
   ]
  },
  {
   "cell_type": "code",
   "execution_count": null,
   "metadata": {
    "id": "UKdEH4rBU1Jk",
    "outputId": "acbeea56-0dad-42f4-f4f3-61a66e06fc84"
   },
   "outputs": [
    {
     "name": "stdout",
     "output_type": "stream",
     "text": [
      "root\n",
      " |-- ID: integer (nullable = true)\n",
      " |-- CODE_GENDER: string (nullable = true)\n",
      " |-- FLAG_OWN_CAR: string (nullable = true)\n",
      " |-- FLAG_OWN_REALTY: string (nullable = true)\n",
      " |-- CNT_CHILDREN: integer (nullable = true)\n",
      " |-- AMT_INCOME_TOTAL: double (nullable = true)\n",
      " |-- NAME_INCOME_TYPE: string (nullable = true)\n",
      " |-- NAME_EDUCATION_TYPE: string (nullable = true)\n",
      " |-- NAME_FAMILY_STATUS: string (nullable = true)\n",
      " |-- NAME_HOUSING_TYPE: string (nullable = true)\n",
      " |-- DAYS_BIRTH: integer (nullable = true)\n",
      " |-- DAYS_EMPLOYED: integer (nullable = true)\n",
      " |-- FLAG_WORK_PHONE: integer (nullable = true)\n",
      " |-- FLAG_PHONE: integer (nullable = true)\n",
      " |-- FLAG_EMAIL: integer (nullable = true)\n",
      " |-- OCCUPATION_TYPE: string (nullable = true)\n",
      " |-- CNT_FAM_MEMBERS: double (nullable = true)\n",
      " |-- DELINQUENT: integer (nullable = false)\n",
      " |-- CODE_GENDER_woe: double (nullable = true)\n",
      " |-- FLAG_OWN_CAR_woe: double (nullable = true)\n",
      " |-- FLAG_OWN_REALTY_woe: double (nullable = true)\n",
      " |-- CNT_CHILDREN_woe: double (nullable = true)\n",
      " |-- NAME_INCOME_TYPE_woe: double (nullable = true)\n",
      " |-- NAME_EDUCATION_TYPE_woe: double (nullable = true)\n",
      " |-- NAME_FAMILY_STATUS_woe: double (nullable = true)\n",
      " |-- NAME_HOUSING_TYPE_woe: double (nullable = true)\n",
      " |-- FLAG_WORK_PHONE_woe: double (nullable = true)\n",
      " |-- FLAG_PHONE_woe: double (nullable = true)\n",
      " |-- FLAG_EMAIL_woe: double (nullable = true)\n",
      " |-- OCCUPATION_TYPE_woe: double (nullable = true)\n",
      " |-- CNT_FAM_MEMBERS_woe: double (nullable = true)\n",
      " |-- DELINQUENT_woe: double (nullable = true)\n",
      "\n"
     ]
    }
   ],
   "source": [
    "df_merged_with_woe_iv.printSchema()"
   ]
  },
  {
   "cell_type": "code",
   "execution_count": null,
   "metadata": {
    "id": "KsJuR4NrU1Jk"
   },
   "outputs": [],
   "source": [
    "pd_merged_df_woe_iv = df_merged_with_woe_iv.toPandas()"
   ]
  },
  {
   "cell_type": "code",
   "execution_count": null,
   "metadata": {
    "id": "yiodgKIyU1Jl",
    "outputId": "649bd292-5622-4cce-ecfd-fad104733942"
   },
   "outputs": [
    {
     "data": {
      "text/html": [
       "<div>\n",
       "<style scoped>\n",
       "    .dataframe tbody tr th:only-of-type {\n",
       "        vertical-align: middle;\n",
       "    }\n",
       "\n",
       "    .dataframe tbody tr th {\n",
       "        vertical-align: top;\n",
       "    }\n",
       "\n",
       "    .dataframe thead th {\n",
       "        text-align: right;\n",
       "    }\n",
       "</style>\n",
       "<table border=\"1\" class=\"dataframe\">\n",
       "  <thead>\n",
       "    <tr style=\"text-align: right;\">\n",
       "      <th></th>\n",
       "      <th>ID</th>\n",
       "      <th>CODE_GENDER</th>\n",
       "      <th>FLAG_OWN_CAR</th>\n",
       "      <th>FLAG_OWN_REALTY</th>\n",
       "      <th>CNT_CHILDREN</th>\n",
       "      <th>AMT_INCOME_TOTAL</th>\n",
       "      <th>NAME_INCOME_TYPE</th>\n",
       "      <th>NAME_EDUCATION_TYPE</th>\n",
       "      <th>NAME_FAMILY_STATUS</th>\n",
       "      <th>NAME_HOUSING_TYPE</th>\n",
       "      <th>...</th>\n",
       "      <th>NAME_INCOME_TYPE_woe</th>\n",
       "      <th>NAME_EDUCATION_TYPE_woe</th>\n",
       "      <th>NAME_FAMILY_STATUS_woe</th>\n",
       "      <th>NAME_HOUSING_TYPE_woe</th>\n",
       "      <th>FLAG_WORK_PHONE_woe</th>\n",
       "      <th>FLAG_PHONE_woe</th>\n",
       "      <th>FLAG_EMAIL_woe</th>\n",
       "      <th>OCCUPATION_TYPE_woe</th>\n",
       "      <th>CNT_FAM_MEMBERS_woe</th>\n",
       "      <th>DELINQUENT_woe</th>\n",
       "    </tr>\n",
       "  </thead>\n",
       "  <tbody>\n",
       "    <tr>\n",
       "      <th>0</th>\n",
       "      <td>5009355</td>\n",
       "      <td>F</td>\n",
       "      <td>N</td>\n",
       "      <td>N</td>\n",
       "      <td>0</td>\n",
       "      <td>135000.0</td>\n",
       "      <td>Commercial associate</td>\n",
       "      <td>Secondary / secondary special</td>\n",
       "      <td>Married</td>\n",
       "      <td>House / apartment</td>\n",
       "      <td>...</td>\n",
       "      <td>0.046180</td>\n",
       "      <td>0.051254</td>\n",
       "      <td>0.068134</td>\n",
       "      <td>0.036499</td>\n",
       "      <td>-0.078209</td>\n",
       "      <td>-0.045301</td>\n",
       "      <td>-0.014560</td>\n",
       "      <td>0.062972</td>\n",
       "      <td>-0.031823</td>\n",
       "      <td>6.419995</td>\n",
       "    </tr>\n",
       "    <tr>\n",
       "      <th>1</th>\n",
       "      <td>5009429</td>\n",
       "      <td>M</td>\n",
       "      <td>N</td>\n",
       "      <td>N</td>\n",
       "      <td>0</td>\n",
       "      <td>198000.0</td>\n",
       "      <td>Working</td>\n",
       "      <td>Secondary / secondary special</td>\n",
       "      <td>Single / not married</td>\n",
       "      <td>With parents</td>\n",
       "      <td>...</td>\n",
       "      <td>-0.036471</td>\n",
       "      <td>0.051254</td>\n",
       "      <td>-0.202498</td>\n",
       "      <td>-0.053157</td>\n",
       "      <td>-0.078209</td>\n",
       "      <td>0.018775</td>\n",
       "      <td>-0.014560</td>\n",
       "      <td>0.062972</td>\n",
       "      <td>-0.130205</td>\n",
       "      <td>6.419995</td>\n",
       "    </tr>\n",
       "    <tr>\n",
       "      <th>2</th>\n",
       "      <td>5010236</td>\n",
       "      <td>M</td>\n",
       "      <td>Y</td>\n",
       "      <td>Y</td>\n",
       "      <td>0</td>\n",
       "      <td>225000.0</td>\n",
       "      <td>Working</td>\n",
       "      <td>Secondary / secondary special</td>\n",
       "      <td>Married</td>\n",
       "      <td>House / apartment</td>\n",
       "      <td>...</td>\n",
       "      <td>-0.036471</td>\n",
       "      <td>0.051254</td>\n",
       "      <td>0.068134</td>\n",
       "      <td>0.036499</td>\n",
       "      <td>0.033155</td>\n",
       "      <td>0.018775</td>\n",
       "      <td>-0.014560</td>\n",
       "      <td>-0.570163</td>\n",
       "      <td>-0.031823</td>\n",
       "      <td>6.419995</td>\n",
       "    </tr>\n",
       "    <tr>\n",
       "      <th>3</th>\n",
       "      <td>5010511</td>\n",
       "      <td>F</td>\n",
       "      <td>Y</td>\n",
       "      <td>Y</td>\n",
       "      <td>1</td>\n",
       "      <td>157500.0</td>\n",
       "      <td>Commercial associate</td>\n",
       "      <td>Secondary / secondary special</td>\n",
       "      <td>Married</td>\n",
       "      <td>House / apartment</td>\n",
       "      <td>...</td>\n",
       "      <td>0.046180</td>\n",
       "      <td>0.051254</td>\n",
       "      <td>0.068134</td>\n",
       "      <td>0.036499</td>\n",
       "      <td>0.033155</td>\n",
       "      <td>0.018775</td>\n",
       "      <td>-0.014560</td>\n",
       "      <td>0.062972</td>\n",
       "      <td>0.106910</td>\n",
       "      <td>6.419995</td>\n",
       "    </tr>\n",
       "    <tr>\n",
       "      <th>4</th>\n",
       "      <td>5021819</td>\n",
       "      <td>F</td>\n",
       "      <td>Y</td>\n",
       "      <td>Y</td>\n",
       "      <td>1</td>\n",
       "      <td>67500.0</td>\n",
       "      <td>Working</td>\n",
       "      <td>Secondary / secondary special</td>\n",
       "      <td>Married</td>\n",
       "      <td>House / apartment</td>\n",
       "      <td>...</td>\n",
       "      <td>-0.036471</td>\n",
       "      <td>0.051254</td>\n",
       "      <td>0.068134</td>\n",
       "      <td>0.036499</td>\n",
       "      <td>0.033155</td>\n",
       "      <td>-0.045301</td>\n",
       "      <td>0.164231</td>\n",
       "      <td>0.193451</td>\n",
       "      <td>0.106910</td>\n",
       "      <td>6.419995</td>\n",
       "    </tr>\n",
       "    <tr>\n",
       "      <th>...</th>\n",
       "      <td>...</td>\n",
       "      <td>...</td>\n",
       "      <td>...</td>\n",
       "      <td>...</td>\n",
       "      <td>...</td>\n",
       "      <td>...</td>\n",
       "      <td>...</td>\n",
       "      <td>...</td>\n",
       "      <td>...</td>\n",
       "      <td>...</td>\n",
       "      <td>...</td>\n",
       "      <td>...</td>\n",
       "      <td>...</td>\n",
       "      <td>...</td>\n",
       "      <td>...</td>\n",
       "      <td>...</td>\n",
       "      <td>...</td>\n",
       "      <td>...</td>\n",
       "      <td>...</td>\n",
       "      <td>...</td>\n",
       "      <td>...</td>\n",
       "    </tr>\n",
       "    <tr>\n",
       "      <th>17348</th>\n",
       "      <td>5148745</td>\n",
       "      <td>F</td>\n",
       "      <td>Y</td>\n",
       "      <td>Y</td>\n",
       "      <td>0</td>\n",
       "      <td>157500.0</td>\n",
       "      <td>Commercial associate</td>\n",
       "      <td>Secondary / secondary special</td>\n",
       "      <td>Married</td>\n",
       "      <td>House / apartment</td>\n",
       "      <td>...</td>\n",
       "      <td>0.046180</td>\n",
       "      <td>0.051254</td>\n",
       "      <td>0.068134</td>\n",
       "      <td>0.036499</td>\n",
       "      <td>0.033155</td>\n",
       "      <td>0.018775</td>\n",
       "      <td>-0.014560</td>\n",
       "      <td>0.607060</td>\n",
       "      <td>-0.031823</td>\n",
       "      <td>6.419995</td>\n",
       "    </tr>\n",
       "    <tr>\n",
       "      <th>17349</th>\n",
       "      <td>5149419</td>\n",
       "      <td>F</td>\n",
       "      <td>N</td>\n",
       "      <td>Y</td>\n",
       "      <td>0</td>\n",
       "      <td>202500.0</td>\n",
       "      <td>Working</td>\n",
       "      <td>Higher education</td>\n",
       "      <td>Married</td>\n",
       "      <td>House / apartment</td>\n",
       "      <td>...</td>\n",
       "      <td>-0.036471</td>\n",
       "      <td>-0.016693</td>\n",
       "      <td>0.068134</td>\n",
       "      <td>0.036499</td>\n",
       "      <td>0.033155</td>\n",
       "      <td>-0.045301</td>\n",
       "      <td>-0.014560</td>\n",
       "      <td>-0.223342</td>\n",
       "      <td>-0.031823</td>\n",
       "      <td>6.419995</td>\n",
       "    </tr>\n",
       "    <tr>\n",
       "      <th>17350</th>\n",
       "      <td>5149751</td>\n",
       "      <td>F</td>\n",
       "      <td>N</td>\n",
       "      <td>Y</td>\n",
       "      <td>1</td>\n",
       "      <td>180000.0</td>\n",
       "      <td>State servant</td>\n",
       "      <td>Secondary / secondary special</td>\n",
       "      <td>Single / not married</td>\n",
       "      <td>House / apartment</td>\n",
       "      <td>...</td>\n",
       "      <td>0.431043</td>\n",
       "      <td>0.051254</td>\n",
       "      <td>-0.202498</td>\n",
       "      <td>0.036499</td>\n",
       "      <td>0.033155</td>\n",
       "      <td>-0.045301</td>\n",
       "      <td>-0.014560</td>\n",
       "      <td>0.607060</td>\n",
       "      <td>-0.031823</td>\n",
       "      <td>6.419995</td>\n",
       "    </tr>\n",
       "    <tr>\n",
       "      <th>17351</th>\n",
       "      <td>5150004</td>\n",
       "      <td>M</td>\n",
       "      <td>Y</td>\n",
       "      <td>Y</td>\n",
       "      <td>1</td>\n",
       "      <td>225000.0</td>\n",
       "      <td>Working</td>\n",
       "      <td>Higher education</td>\n",
       "      <td>Separated</td>\n",
       "      <td>Municipal apartment</td>\n",
       "      <td>...</td>\n",
       "      <td>-0.036471</td>\n",
       "      <td>-0.016693</td>\n",
       "      <td>0.356835</td>\n",
       "      <td>-0.317286</td>\n",
       "      <td>0.033155</td>\n",
       "      <td>-0.045301</td>\n",
       "      <td>-0.014560</td>\n",
       "      <td>-0.298826</td>\n",
       "      <td>-0.031823</td>\n",
       "      <td>6.419995</td>\n",
       "    </tr>\n",
       "    <tr>\n",
       "      <th>17352</th>\n",
       "      <td>5150044</td>\n",
       "      <td>F</td>\n",
       "      <td>Y</td>\n",
       "      <td>Y</td>\n",
       "      <td>0</td>\n",
       "      <td>54000.0</td>\n",
       "      <td>State servant</td>\n",
       "      <td>Secondary / secondary special</td>\n",
       "      <td>Single / not married</td>\n",
       "      <td>House / apartment</td>\n",
       "      <td>...</td>\n",
       "      <td>0.431043</td>\n",
       "      <td>0.051254</td>\n",
       "      <td>-0.202498</td>\n",
       "      <td>0.036499</td>\n",
       "      <td>0.033155</td>\n",
       "      <td>0.018775</td>\n",
       "      <td>-0.014560</td>\n",
       "      <td>0.607060</td>\n",
       "      <td>-0.130205</td>\n",
       "      <td>6.419995</td>\n",
       "    </tr>\n",
       "  </tbody>\n",
       "</table>\n",
       "<p>17353 rows × 32 columns</p>\n",
       "</div>"
      ],
      "text/plain": [
       "            ID CODE_GENDER FLAG_OWN_CAR FLAG_OWN_REALTY  CNT_CHILDREN  \\\n",
       "0      5009355           F            N               N             0   \n",
       "1      5009429           M            N               N             0   \n",
       "2      5010236           M            Y               Y             0   \n",
       "3      5010511           F            Y               Y             1   \n",
       "4      5021819           F            Y               Y             1   \n",
       "...        ...         ...          ...             ...           ...   \n",
       "17348  5148745           F            Y               Y             0   \n",
       "17349  5149419           F            N               Y             0   \n",
       "17350  5149751           F            N               Y             1   \n",
       "17351  5150004           M            Y               Y             1   \n",
       "17352  5150044           F            Y               Y             0   \n",
       "\n",
       "       AMT_INCOME_TOTAL      NAME_INCOME_TYPE            NAME_EDUCATION_TYPE  \\\n",
       "0              135000.0  Commercial associate  Secondary / secondary special   \n",
       "1              198000.0               Working  Secondary / secondary special   \n",
       "2              225000.0               Working  Secondary / secondary special   \n",
       "3              157500.0  Commercial associate  Secondary / secondary special   \n",
       "4               67500.0               Working  Secondary / secondary special   \n",
       "...                 ...                   ...                            ...   \n",
       "17348          157500.0  Commercial associate  Secondary / secondary special   \n",
       "17349          202500.0               Working               Higher education   \n",
       "17350          180000.0         State servant  Secondary / secondary special   \n",
       "17351          225000.0               Working               Higher education   \n",
       "17352           54000.0         State servant  Secondary / secondary special   \n",
       "\n",
       "         NAME_FAMILY_STATUS    NAME_HOUSING_TYPE  ...  NAME_INCOME_TYPE_woe  \\\n",
       "0                   Married    House / apartment  ...              0.046180   \n",
       "1      Single / not married         With parents  ...             -0.036471   \n",
       "2                   Married    House / apartment  ...             -0.036471   \n",
       "3                   Married    House / apartment  ...              0.046180   \n",
       "4                   Married    House / apartment  ...             -0.036471   \n",
       "...                     ...                  ...  ...                   ...   \n",
       "17348               Married    House / apartment  ...              0.046180   \n",
       "17349               Married    House / apartment  ...             -0.036471   \n",
       "17350  Single / not married    House / apartment  ...              0.431043   \n",
       "17351             Separated  Municipal apartment  ...             -0.036471   \n",
       "17352  Single / not married    House / apartment  ...              0.431043   \n",
       "\n",
       "       NAME_EDUCATION_TYPE_woe  NAME_FAMILY_STATUS_woe  NAME_HOUSING_TYPE_woe  \\\n",
       "0                     0.051254                0.068134               0.036499   \n",
       "1                     0.051254               -0.202498              -0.053157   \n",
       "2                     0.051254                0.068134               0.036499   \n",
       "3                     0.051254                0.068134               0.036499   \n",
       "4                     0.051254                0.068134               0.036499   \n",
       "...                        ...                     ...                    ...   \n",
       "17348                 0.051254                0.068134               0.036499   \n",
       "17349                -0.016693                0.068134               0.036499   \n",
       "17350                 0.051254               -0.202498               0.036499   \n",
       "17351                -0.016693                0.356835              -0.317286   \n",
       "17352                 0.051254               -0.202498               0.036499   \n",
       "\n",
       "       FLAG_WORK_PHONE_woe FLAG_PHONE_woe  FLAG_EMAIL_woe  \\\n",
       "0                -0.078209      -0.045301       -0.014560   \n",
       "1                -0.078209       0.018775       -0.014560   \n",
       "2                 0.033155       0.018775       -0.014560   \n",
       "3                 0.033155       0.018775       -0.014560   \n",
       "4                 0.033155      -0.045301        0.164231   \n",
       "...                    ...            ...             ...   \n",
       "17348             0.033155       0.018775       -0.014560   \n",
       "17349             0.033155      -0.045301       -0.014560   \n",
       "17350             0.033155      -0.045301       -0.014560   \n",
       "17351             0.033155      -0.045301       -0.014560   \n",
       "17352             0.033155       0.018775       -0.014560   \n",
       "\n",
       "       OCCUPATION_TYPE_woe  CNT_FAM_MEMBERS_woe  DELINQUENT_woe  \n",
       "0                 0.062972            -0.031823        6.419995  \n",
       "1                 0.062972            -0.130205        6.419995  \n",
       "2                -0.570163            -0.031823        6.419995  \n",
       "3                 0.062972             0.106910        6.419995  \n",
       "4                 0.193451             0.106910        6.419995  \n",
       "...                    ...                  ...             ...  \n",
       "17348             0.607060            -0.031823        6.419995  \n",
       "17349            -0.223342            -0.031823        6.419995  \n",
       "17350             0.607060            -0.031823        6.419995  \n",
       "17351            -0.298826            -0.031823        6.419995  \n",
       "17352             0.607060            -0.130205        6.419995  \n",
       "\n",
       "[17353 rows x 32 columns]"
      ]
     },
     "execution_count": 102,
     "metadata": {
      "tags": []
     },
     "output_type": "execute_result"
    }
   ],
   "source": [
    "pd_merged_df_woe_iv"
   ]
  },
  {
   "cell_type": "markdown",
   "metadata": {
    "id": "32RnJWMAU1Jl"
   },
   "source": [
    "#### As we can see above the WOE values are assigned to each category value for the categorical columns. Now let us proceed with calculation of IV for these columns"
   ]
  },
  {
   "cell_type": "code",
   "execution_count": null,
   "metadata": {
    "id": "MvBaUX_xU1Jl",
    "outputId": "61e12de6-6dc1-4278-f73a-9c912ef037bf"
   },
   "outputs": [
    {
     "data": {
      "text/plain": [
       "{'CODE_GENDER': 0.027553153924847695,\n",
       " 'FLAG_OWN_CAR': 0.01432489444548546,\n",
       " 'FLAG_OWN_REALTY': 0.04944469097024257,\n",
       " 'CNT_CHILDREN': 0.007460458947549262,\n",
       " 'NAME_INCOME_TYPE': 0.09318871261947567,\n",
       " 'NAME_EDUCATION_TYPE': 0.023423221182797344,\n",
       " 'NAME_FAMILY_STATUS': 0.030940711261236816,\n",
       " 'NAME_HOUSING_TYPE': 0.016865991715713523,\n",
       " 'FLAG_WORK_PHONE': 0.002592508674116603,\n",
       " 'FLAG_PHONE': 0.0008504703107731712,\n",
       " 'FLAG_EMAIL': 0.0023907857922530655,\n",
       " 'OCCUPATION_TYPE': 0.15155547055399962,\n",
       " 'CNT_FAM_MEMBERS': 0.009471275191823456,\n",
       " 'DELINQUENT': 16.846050805125163}"
      ]
     },
     "execution_count": 103,
     "metadata": {
      "tags": []
     },
     "output_type": "execute_result"
    }
   ],
   "source": [
    "woe_iv_calculator.compute_iv()"
   ]
  },
  {
   "cell_type": "markdown",
   "metadata": {
    "id": "clE87Y6tU1Jl"
   },
   "source": [
    "#### IV values less than 0.002 to be insignificant in the modelling process\n",
    "#### Hence from above list below columns can be considered as insignificant\n",
    " - FLAG_PHONE\n",
    "#### Rest of the columns either has 0.002 or more than that. So we can exclude FLAG_PHONE from Modelling process"
   ]
  },
  {
   "cell_type": "markdown",
   "metadata": {
    "id": "v0qvcMqOU1Jl"
   },
   "source": [
    "#### Now let us calculate WOE and IV for remaining continous variable which is AMT_INCOME_TOTAL, DAYS_BIRTH, DAYS_EMPLOYED. We need to split the data such that the WOE value is monotonic. Let us find the appropriate binning for AMT_INCOME_TOTAL column."
   ]
  },
  {
   "cell_type": "code",
   "execution_count": null,
   "metadata": {
    "id": "uxp9siKPU1Jl",
    "outputId": "85671e32-9217-40a5-a057-f7dd78ec4987"
   },
   "outputs": [
    {
     "name": "stdout",
     "output_type": "stream",
     "text": [
      "+----------------+----------+-------------+----------+\n",
      "|AMT_INCOME_TOTAL|DAYS_BIRTH|DAYS_EMPLOYED|DELINQUENT|\n",
      "+----------------+----------+-------------+----------+\n",
      "|        135000.0|    -19692|        -5273|         0|\n",
      "|        198000.0|     -8657|        -1164|         0|\n",
      "|        225000.0|    -16507|        -4331|         0|\n",
      "|        157500.0|    -13830|        -4239|         0|\n",
      "|         67500.0|    -11454|        -1678|         0|\n",
      "|        135000.0|     -9303|         -852|         0|\n",
      "|        157500.0|    -15100|        -3500|         0|\n",
      "|        202500.0|    -14096|        -1344|         0|\n",
      "|         90000.0|    -16274|        -1513|         0|\n",
      "|        202500.0|     -8568|        -1068|         0|\n",
      "|         99000.0|    -21658|        -3471|         0|\n",
      "|        189000.0|    -11700|         -404|         0|\n",
      "|        112500.0|    -13935|         -560|         0|\n",
      "|        135000.0|    -14221|        -1542|         0|\n",
      "|        180000.0|    -15161|        -7140|         0|\n",
      "|        180000.0|     -8041|        -1419|         0|\n",
      "|        135000.0|    -14577|        -2269|         0|\n",
      "|         90000.0|    -13417|         -353|         0|\n",
      "|        157500.0|    -14192|         -626|         0|\n",
      "|        135000.0|    -15131|        -6456|         0|\n",
      "+----------------+----------+-------------+----------+\n",
      "only showing top 20 rows\n",
      "\n"
     ]
    }
   ],
   "source": [
    "# Let us take above columns into separate dataframe for better clarity along with Target variable\n",
    "continous_cols = ['AMT_INCOME_TOTAL','DAYS_BIRTH','DAYS_EMPLOYED','DELINQUENT']\n",
    "df_continous = df_merged[continous_cols]\n",
    "df_continous.show()"
   ]
  },
  {
   "cell_type": "markdown",
   "metadata": {
    "id": "3aRf27OqU1Jl"
   },
   "source": [
    "#### Here we are using QuantileDiscretizer feature of Pyspark ML Lib"
   ]
  },
  {
   "cell_type": "code",
   "execution_count": null,
   "metadata": {
    "id": "bc-xmdDSU1Jm",
    "outputId": "49133788-0064-4894-9091-94e5cb7da274"
   },
   "outputs": [
    {
     "name": "stdout",
     "output_type": "stream",
     "text": [
      "+----------------+----------+-------------+----------+--------------------+\n",
      "|AMT_INCOME_TOTAL|DAYS_BIRTH|DAYS_EMPLOYED|DELINQUENT|AMT_INCOME_TOTAL_BIN|\n",
      "+----------------+----------+-------------+----------+--------------------+\n",
      "|        135000.0|    -19692|        -5273|         0|                 1.0|\n",
      "|        198000.0|     -8657|        -1164|         0|                 2.0|\n",
      "|        225000.0|    -16507|        -4331|         0|                 2.0|\n",
      "|        157500.0|    -13830|        -4239|         0|                 1.0|\n",
      "|         67500.0|    -11454|        -1678|         0|                 0.0|\n",
      "|        135000.0|     -9303|         -852|         0|                 1.0|\n",
      "|        157500.0|    -15100|        -3500|         0|                 1.0|\n",
      "|        202500.0|    -14096|        -1344|         0|                 2.0|\n",
      "|         90000.0|    -16274|        -1513|         0|                 0.0|\n",
      "|        202500.0|     -8568|        -1068|         0|                 2.0|\n",
      "|         99000.0|    -21658|        -3471|         0|                 0.0|\n",
      "|        189000.0|    -11700|         -404|         0|                 2.0|\n",
      "|        112500.0|    -13935|         -560|         0|                 0.0|\n",
      "|        135000.0|    -14221|        -1542|         0|                 1.0|\n",
      "|        180000.0|    -15161|        -7140|         0|                 2.0|\n",
      "|        180000.0|     -8041|        -1419|         0|                 2.0|\n",
      "|        135000.0|    -14577|        -2269|         0|                 1.0|\n",
      "|         90000.0|    -13417|         -353|         0|                 0.0|\n",
      "|        157500.0|    -14192|         -626|         0|                 1.0|\n",
      "|        135000.0|    -15131|        -6456|         0|                 1.0|\n",
      "+----------------+----------+-------------+----------+--------------------+\n",
      "only showing top 20 rows\n",
      "\n"
     ]
    }
   ],
   "source": [
    "from pyspark.ml.feature import QuantileDiscretizer\n",
    "discretizer = QuantileDiscretizer(numBuckets=3, inputCol=\"AMT_INCOME_TOTAL\", outputCol=\"AMT_INCOME_TOTAL_BIN\")\n",
    "\n",
    "result = discretizer.fit(df_continous).transform(df_continous)\n",
    "result.show()"
   ]
  },
  {
   "cell_type": "code",
   "execution_count": null,
   "metadata": {
    "id": "DcT8GhYuU1Jm",
    "outputId": "1b05a061-4639-4710-e071-b9622258f549"
   },
   "outputs": [
    {
     "name": "stdout",
     "output_type": "stream",
     "text": [
      "+----------------+----------+-------------+----------+--------------------+------------------------+\n",
      "|AMT_INCOME_TOTAL|DAYS_BIRTH|DAYS_EMPLOYED|DELINQUENT|AMT_INCOME_TOTAL_BIN|AMT_INCOME_TOTAL_BIN_woe|\n",
      "+----------------+----------+-------------+----------+--------------------+------------------------+\n",
      "|        135000.0|    -19692|        -5273|         0|                 1.0|     0.06427623197703412|\n",
      "|        198000.0|     -8657|        -1164|         0|                 2.0|    -0.11966412069904914|\n",
      "|        225000.0|    -16507|        -4331|         0|                 2.0|    -0.11966412069904914|\n",
      "|        157500.0|    -13830|        -4239|         0|                 1.0|     0.06427623197703412|\n",
      "|         67500.0|    -11454|        -1678|         0|                 0.0|     0.07955642381742424|\n",
      "|        135000.0|     -9303|         -852|         0|                 1.0|     0.06427623197703412|\n",
      "|        157500.0|    -15100|        -3500|         0|                 1.0|     0.06427623197703412|\n",
      "|        202500.0|    -14096|        -1344|         0|                 2.0|    -0.11966412069904914|\n",
      "|         90000.0|    -16274|        -1513|         0|                 0.0|     0.07955642381742424|\n",
      "|        202500.0|     -8568|        -1068|         0|                 2.0|    -0.11966412069904914|\n",
      "|         99000.0|    -21658|        -3471|         0|                 0.0|     0.07955642381742424|\n",
      "|        189000.0|    -11700|         -404|         0|                 2.0|    -0.11966412069904914|\n",
      "|        112500.0|    -13935|         -560|         0|                 0.0|     0.07955642381742424|\n",
      "|        135000.0|    -14221|        -1542|         0|                 1.0|     0.06427623197703412|\n",
      "|        180000.0|    -15161|        -7140|         0|                 2.0|    -0.11966412069904914|\n",
      "|        180000.0|     -8041|        -1419|         0|                 2.0|    -0.11966412069904914|\n",
      "|        135000.0|    -14577|        -2269|         0|                 1.0|     0.06427623197703412|\n",
      "|         90000.0|    -13417|         -353|         0|                 0.0|     0.07955642381742424|\n",
      "|        157500.0|    -14192|         -626|         0|                 1.0|     0.06427623197703412|\n",
      "|        135000.0|    -15131|        -6456|         0|                 1.0|     0.06427623197703412|\n",
      "+----------------+----------+-------------+----------+--------------------+------------------------+\n",
      "only showing top 20 rows\n",
      "\n"
     ]
    }
   ],
   "source": [
    "# Calculating WOE for the 3 bin in AMT_INCOME_TOTAL\n",
    "woe_iv_cont_calc = WOE_IV(df = result, cols_to_woe = ['AMT_INCOME_TOTAL_BIN'], label_column = 'DELINQUENT', good_label = '0')\n",
    "woe_iv_cont_calc.fit()\n",
    "result_with_woe_iv = woe_iv_cont_calc.transform(result)\n",
    "result_with_woe_iv.show()"
   ]
  },
  {
   "cell_type": "code",
   "execution_count": null,
   "metadata": {
    "id": "gC_Mu90vU1Jm",
    "outputId": "c1fd4660-137f-48aa-985d-114d0035d8ec"
   },
   "outputs": [
    {
     "name": "stdout",
     "output_type": "stream",
     "text": [
      "+--------------------+------------------------+-----+\n",
      "|AMT_INCOME_TOTAL_BIN|AMT_INCOME_TOTAL_BIN_woe|count|\n",
      "+--------------------+------------------------+-----+\n",
      "|                 2.0|    -0.11966412069904914| 6132|\n",
      "|                 1.0|     0.06427623197703412| 5720|\n",
      "|                 0.0|     0.07955642381742424| 5501|\n",
      "+--------------------+------------------------+-----+\n",
      "\n"
     ]
    }
   ],
   "source": [
    "result_with_woe_iv.groupBy('AMT_INCOME_TOTAL_BIN','AMT_INCOME_TOTAL_BIN_woe').count().orderBy('AMT_INCOME_TOTAL_BIN', ascending = 0).show()"
   ]
  },
  {
   "cell_type": "markdown",
   "metadata": {
    "id": "Q6wjwL5KU1Jm"
   },
   "source": [
    "#### We can clearly see above that the WOE values are monotonic and decreases. But let us also confirm using Spearman Correlation"
   ]
  },
  {
   "cell_type": "code",
   "execution_count": null,
   "metadata": {
    "id": "FA8KEMAnU1Jm"
   },
   "outputs": [],
   "source": [
    "pd_res_woe_iv = result_with_woe_iv.toPandas()"
   ]
  },
  {
   "cell_type": "code",
   "execution_count": null,
   "metadata": {
    "id": "yHm-bBnSU1Jm",
    "outputId": "05113ee3-3165-46e6-b243-7f4e10ecd72b"
   },
   "outputs": [
    {
     "data": {
      "text/plain": [
       "SpearmanrResult(correlation=-1.0, pvalue=0.0)"
      ]
     },
     "execution_count": 109,
     "metadata": {
      "tags": []
     },
     "output_type": "execute_result"
    }
   ],
   "source": [
    "import scipy.stats.stats as stats\n",
    "stats.spearmanr(pd_res_woe_iv['AMT_INCOME_TOTAL_BIN'], pd_res_woe_iv['AMT_INCOME_TOTAL_BIN_woe'])"
   ]
  },
  {
   "cell_type": "markdown",
   "metadata": {
    "id": "4o9rjqDrU1Jn"
   },
   "source": [
    "#### As expected we got correlation of -1. Let us proceed with IV calculation"
   ]
  },
  {
   "cell_type": "code",
   "execution_count": null,
   "metadata": {
    "id": "KHbY7aNDU1Jn",
    "outputId": "4c82e783-d57e-4ec8-a44b-1074a1d0d1f8"
   },
   "outputs": [
    {
     "data": {
      "text/plain": [
       "{'AMT_INCOME_TOTAL_BIN': 0.008614912461085665}"
      ]
     },
     "execution_count": 110,
     "metadata": {
      "tags": []
     },
     "output_type": "execute_result"
    }
   ],
   "source": [
    "woe_iv_cont_calc.compute_iv()"
   ]
  },
  {
   "cell_type": "markdown",
   "metadata": {
    "id": "whm6tN9IU1Jn"
   },
   "source": [
    "#### Conclusion:  Since the IV value is more than 0.002 AMT_INCOME_TOTAL is significant"
   ]
  },
  {
   "cell_type": "markdown",
   "metadata": {
    "id": "S6dGN28MU1Jn"
   },
   "source": [
    "#### Let us proceed with binning for DAYS_BIRTH"
   ]
  },
  {
   "cell_type": "code",
   "execution_count": null,
   "metadata": {
    "id": "C3Cf3hRrU1Jn",
    "outputId": "5363959f-a1b3-4252-d737-4004548bb387"
   },
   "outputs": [
    {
     "name": "stdout",
     "output_type": "stream",
     "text": [
      "+----------------+----------+-------------+----------+--------------------+------------------------+--------------+\n",
      "|AMT_INCOME_TOTAL|DAYS_BIRTH|DAYS_EMPLOYED|DELINQUENT|AMT_INCOME_TOTAL_BIN|AMT_INCOME_TOTAL_BIN_woe|DAYS_BIRTH_BIN|\n",
      "+----------------+----------+-------------+----------+--------------------+------------------------+--------------+\n",
      "|        135000.0|    -19692|        -5273|         0|                 1.0|     0.06427623197703412|           0.0|\n",
      "|        198000.0|     -8657|        -1164|         0|                 2.0|    -0.11966412069904914|           2.0|\n",
      "|        225000.0|    -16507|        -4331|         0|                 2.0|    -0.11966412069904914|           0.0|\n",
      "|        157500.0|    -13830|        -4239|         0|                 1.0|     0.06427623197703412|           1.0|\n",
      "|         67500.0|    -11454|        -1678|         0|                 0.0|     0.07955642381742424|           2.0|\n",
      "|        135000.0|     -9303|         -852|         0|                 1.0|     0.06427623197703412|           2.0|\n",
      "|        157500.0|    -15100|        -3500|         0|                 1.0|     0.06427623197703412|           1.0|\n",
      "|        202500.0|    -14096|        -1344|         0|                 2.0|    -0.11966412069904914|           1.0|\n",
      "|         90000.0|    -16274|        -1513|         0|                 0.0|     0.07955642381742424|           1.0|\n",
      "|        202500.0|     -8568|        -1068|         0|                 2.0|    -0.11966412069904914|           2.0|\n",
      "|         99000.0|    -21658|        -3471|         0|                 0.0|     0.07955642381742424|           0.0|\n",
      "|        189000.0|    -11700|         -404|         0|                 2.0|    -0.11966412069904914|           2.0|\n",
      "|        112500.0|    -13935|         -560|         0|                 0.0|     0.07955642381742424|           1.0|\n",
      "|        135000.0|    -14221|        -1542|         0|                 1.0|     0.06427623197703412|           1.0|\n",
      "|        180000.0|    -15161|        -7140|         0|                 2.0|    -0.11966412069904914|           1.0|\n",
      "|        180000.0|     -8041|        -1419|         0|                 2.0|    -0.11966412069904914|           2.0|\n",
      "|        135000.0|    -14577|        -2269|         0|                 1.0|     0.06427623197703412|           1.0|\n",
      "|         90000.0|    -13417|         -353|         0|                 0.0|     0.07955642381742424|           1.0|\n",
      "|        157500.0|    -14192|         -626|         0|                 1.0|     0.06427623197703412|           1.0|\n",
      "|        135000.0|    -15131|        -6456|         0|                 1.0|     0.06427623197703412|           1.0|\n",
      "+----------------+----------+-------------+----------+--------------------+------------------------+--------------+\n",
      "only showing top 20 rows\n",
      "\n"
     ]
    }
   ],
   "source": [
    "discretizer = QuantileDiscretizer(numBuckets=3, inputCol=\"DAYS_BIRTH\", outputCol=\"DAYS_BIRTH_BIN\")\n",
    "\n",
    "result_with_woe_iv = discretizer.fit(result_with_woe_iv).transform(result_with_woe_iv)\n",
    "result_with_woe_iv.show()"
   ]
  },
  {
   "cell_type": "code",
   "execution_count": null,
   "metadata": {
    "id": "x3igOQBHU1Jn",
    "outputId": "54709465-b47d-40b7-dfe6-aa03a13b881a"
   },
   "outputs": [
    {
     "name": "stdout",
     "output_type": "stream",
     "text": [
      "+----------------+----------+-------------+----------+--------------------+------------------------+--------------+--------------------+\n",
      "|AMT_INCOME_TOTAL|DAYS_BIRTH|DAYS_EMPLOYED|DELINQUENT|AMT_INCOME_TOTAL_BIN|AMT_INCOME_TOTAL_BIN_woe|DAYS_BIRTH_BIN|  DAYS_BIRTH_BIN_woe|\n",
      "+----------------+----------+-------------+----------+--------------------+------------------------+--------------+--------------------+\n",
      "|        135000.0|    -19692|        -5273|         0|                 1.0|     0.06427623197703412|           0.0|-0.04371379065015217|\n",
      "|        198000.0|     -8657|        -1164|         0|                 2.0|    -0.11966412069904914|           2.0|0.012762891378891859|\n",
      "|        225000.0|    -16507|        -4331|         0|                 2.0|    -0.11966412069904914|           0.0|-0.04371379065015217|\n",
      "|        157500.0|    -13830|        -4239|         0|                 1.0|     0.06427623197703412|           1.0| 0.03258748624779687|\n",
      "|         67500.0|    -11454|        -1678|         0|                 0.0|     0.07955642381742424|           2.0|0.012762891378891859|\n",
      "|        135000.0|     -9303|         -852|         0|                 1.0|     0.06427623197703412|           2.0|0.012762891378891859|\n",
      "|        157500.0|    -15100|        -3500|         0|                 1.0|     0.06427623197703412|           1.0| 0.03258748624779687|\n",
      "|        202500.0|    -14096|        -1344|         0|                 2.0|    -0.11966412069904914|           1.0| 0.03258748624779687|\n",
      "|         90000.0|    -16274|        -1513|         0|                 0.0|     0.07955642381742424|           1.0| 0.03258748624779687|\n",
      "|        202500.0|     -8568|        -1068|         0|                 2.0|    -0.11966412069904914|           2.0|0.012762891378891859|\n",
      "|         99000.0|    -21658|        -3471|         0|                 0.0|     0.07955642381742424|           0.0|-0.04371379065015217|\n",
      "|        189000.0|    -11700|         -404|         0|                 2.0|    -0.11966412069904914|           2.0|0.012762891378891859|\n",
      "|        112500.0|    -13935|         -560|         0|                 0.0|     0.07955642381742424|           1.0| 0.03258748624779687|\n",
      "|        135000.0|    -14221|        -1542|         0|                 1.0|     0.06427623197703412|           1.0| 0.03258748624779687|\n",
      "|        180000.0|    -15161|        -7140|         0|                 2.0|    -0.11966412069904914|           1.0| 0.03258748624779687|\n",
      "|        180000.0|     -8041|        -1419|         0|                 2.0|    -0.11966412069904914|           2.0|0.012762891378891859|\n",
      "|        135000.0|    -14577|        -2269|         0|                 1.0|     0.06427623197703412|           1.0| 0.03258748624779687|\n",
      "|         90000.0|    -13417|         -353|         0|                 0.0|     0.07955642381742424|           1.0| 0.03258748624779687|\n",
      "|        157500.0|    -14192|         -626|         0|                 1.0|     0.06427623197703412|           1.0| 0.03258748624779687|\n",
      "|        135000.0|    -15131|        -6456|         0|                 1.0|     0.06427623197703412|           1.0| 0.03258748624779687|\n",
      "+----------------+----------+-------------+----------+--------------------+------------------------+--------------+--------------------+\n",
      "only showing top 20 rows\n",
      "\n"
     ]
    }
   ],
   "source": [
    "# Calculating WOE for the 3 bin in DAYS_BIRTH_BIN\n",
    "woe_iv_cont_calc = WOE_IV(df = result_with_woe_iv, cols_to_woe = ['DAYS_BIRTH_BIN'], label_column = 'DELINQUENT', good_label = '0')\n",
    "woe_iv_cont_calc.fit()\n",
    "result_with_woe_iv = woe_iv_cont_calc.transform(result_with_woe_iv)\n",
    "result_with_woe_iv.show()"
   ]
  },
  {
   "cell_type": "code",
   "execution_count": null,
   "metadata": {
    "id": "rNyEUTMiU1Jn",
    "outputId": "f79f355f-e5ce-476e-c11f-9dcd686814ec"
   },
   "outputs": [
    {
     "name": "stdout",
     "output_type": "stream",
     "text": [
      "+--------------+--------------------+-----+\n",
      "|DAYS_BIRTH_BIN|  DAYS_BIRTH_BIN_woe|count|\n",
      "+--------------+--------------------+-----+\n",
      "|           2.0|0.012762891378891859| 5781|\n",
      "|           1.0| 0.03258748624779687| 5778|\n",
      "|           0.0|-0.04371379065015217| 5794|\n",
      "+--------------+--------------------+-----+\n",
      "\n"
     ]
    }
   ],
   "source": [
    "result_with_woe_iv.groupBy('DAYS_BIRTH_BIN','DAYS_BIRTH_BIN_woe').count().orderBy('DAYS_BIRTH_BIN', ascending = 0).show()"
   ]
  },
  {
   "cell_type": "markdown",
   "metadata": {
    "id": "AS1mEb28U1Jn"
   },
   "source": [
    " - Above does not seem to be monotonic. Let us check Sparman Correlation"
   ]
  },
  {
   "cell_type": "code",
   "execution_count": null,
   "metadata": {
    "id": "Xv-o8PtiU1Jn",
    "outputId": "df2add4d-35d1-4e0a-ef63-7b976e412df9"
   },
   "outputs": [
    {
     "data": {
      "text/plain": [
       "SpearmanrResult(correlation=0.5012521025279609, pvalue=0.0)"
      ]
     },
     "execution_count": 114,
     "metadata": {
      "tags": []
     },
     "output_type": "execute_result"
    }
   ],
   "source": [
    "pd_res_woe_iv = result_with_woe_iv.toPandas()\n",
    "stats.spearmanr(pd_res_woe_iv['DAYS_BIRTH_BIN'], pd_res_woe_iv['DAYS_BIRTH_BIN_woe'])"
   ]
  },
  {
   "cell_type": "markdown",
   "metadata": {
    "id": "bkPeFoyPU1Jn"
   },
   "source": [
    " - Let us split into 2 bins and check if the spearman correlation improves."
   ]
  },
  {
   "cell_type": "code",
   "execution_count": null,
   "metadata": {
    "id": "vGLazqXKU1Jn",
    "outputId": "33c870b4-3828-4e2d-803b-b510eb5a47a8"
   },
   "outputs": [
    {
     "name": "stdout",
     "output_type": "stream",
     "text": [
      "+----------------+----------+-------------+----------+--------------------+------------------------+--------------+--------------------+----------------+\n",
      "|AMT_INCOME_TOTAL|DAYS_BIRTH|DAYS_EMPLOYED|DELINQUENT|AMT_INCOME_TOTAL_BIN|AMT_INCOME_TOTAL_BIN_woe|DAYS_BIRTH_BIN|  DAYS_BIRTH_BIN_woe|DAYS_BIRTH_BIN_1|\n",
      "+----------------+----------+-------------+----------+--------------------+------------------------+--------------+--------------------+----------------+\n",
      "|        135000.0|    -19692|        -5273|         0|                 1.0|     0.06427623197703412|           0.0|-0.04371379065015217|             0.0|\n",
      "|        198000.0|     -8657|        -1164|         0|                 2.0|    -0.11966412069904914|           2.0|0.012762891378891859|             1.0|\n",
      "|        225000.0|    -16507|        -4331|         0|                 2.0|    -0.11966412069904914|           0.0|-0.04371379065015217|             0.0|\n",
      "|        157500.0|    -13830|        -4239|         0|                 1.0|     0.06427623197703412|           1.0| 0.03258748624779687|             1.0|\n",
      "|         67500.0|    -11454|        -1678|         0|                 0.0|     0.07955642381742424|           2.0|0.012762891378891859|             1.0|\n",
      "|        135000.0|     -9303|         -852|         0|                 1.0|     0.06427623197703412|           2.0|0.012762891378891859|             1.0|\n",
      "|        157500.0|    -15100|        -3500|         0|                 1.0|     0.06427623197703412|           1.0| 0.03258748624779687|             0.0|\n",
      "|        202500.0|    -14096|        -1344|         0|                 2.0|    -0.11966412069904914|           1.0| 0.03258748624779687|             1.0|\n",
      "|         90000.0|    -16274|        -1513|         0|                 0.0|     0.07955642381742424|           1.0| 0.03258748624779687|             0.0|\n",
      "|        202500.0|     -8568|        -1068|         0|                 2.0|    -0.11966412069904914|           2.0|0.012762891378891859|             1.0|\n",
      "|         99000.0|    -21658|        -3471|         0|                 0.0|     0.07955642381742424|           0.0|-0.04371379065015217|             0.0|\n",
      "|        189000.0|    -11700|         -404|         0|                 2.0|    -0.11966412069904914|           2.0|0.012762891378891859|             1.0|\n",
      "|        112500.0|    -13935|         -560|         0|                 0.0|     0.07955642381742424|           1.0| 0.03258748624779687|             1.0|\n",
      "|        135000.0|    -14221|        -1542|         0|                 1.0|     0.06427623197703412|           1.0| 0.03258748624779687|             1.0|\n",
      "|        180000.0|    -15161|        -7140|         0|                 2.0|    -0.11966412069904914|           1.0| 0.03258748624779687|             0.0|\n",
      "|        180000.0|     -8041|        -1419|         0|                 2.0|    -0.11966412069904914|           2.0|0.012762891378891859|             1.0|\n",
      "|        135000.0|    -14577|        -2269|         0|                 1.0|     0.06427623197703412|           1.0| 0.03258748624779687|             0.0|\n",
      "|         90000.0|    -13417|         -353|         0|                 0.0|     0.07955642381742424|           1.0| 0.03258748624779687|             1.0|\n",
      "|        157500.0|    -14192|         -626|         0|                 1.0|     0.06427623197703412|           1.0| 0.03258748624779687|             1.0|\n",
      "|        135000.0|    -15131|        -6456|         0|                 1.0|     0.06427623197703412|           1.0| 0.03258748624779687|             0.0|\n",
      "+----------------+----------+-------------+----------+--------------------+------------------------+--------------+--------------------+----------------+\n",
      "only showing top 20 rows\n",
      "\n"
     ]
    }
   ],
   "source": [
    "discretizer = QuantileDiscretizer(numBuckets=2, inputCol=\"DAYS_BIRTH\", outputCol=\"DAYS_BIRTH_BIN_1\")\n",
    "\n",
    "result_with_woe_iv = discretizer.fit(result_with_woe_iv).transform(result_with_woe_iv)\n",
    "result_with_woe_iv.show()"
   ]
  },
  {
   "cell_type": "code",
   "execution_count": null,
   "metadata": {
    "id": "q5SMJ4iaU1Jn",
    "outputId": "5f699750-c005-44e1-886d-3aace0db91f6"
   },
   "outputs": [
    {
     "name": "stdout",
     "output_type": "stream",
     "text": [
      "+----------------+----------+-------------+----------+--------------------+------------------------+--------------+--------------------+----------------+--------------------+\n",
      "|AMT_INCOME_TOTAL|DAYS_BIRTH|DAYS_EMPLOYED|DELINQUENT|AMT_INCOME_TOTAL_BIN|AMT_INCOME_TOTAL_BIN_woe|DAYS_BIRTH_BIN|  DAYS_BIRTH_BIN_woe|DAYS_BIRTH_BIN_1|DAYS_BIRTH_BIN_1_woe|\n",
      "+----------------+----------+-------------+----------+--------------------+------------------------+--------------+--------------------+----------------+--------------------+\n",
      "|        135000.0|    -19692|        -5273|         0|                 1.0|     0.06427623197703412|           0.0|-0.04371379065015217|             0.0|-0.05506975284337276|\n",
      "|        198000.0|     -8657|        -1164|         0|                 2.0|    -0.11966412069904914|           2.0|0.012762891378891859|             1.0|  0.0581394326209646|\n",
      "|        225000.0|    -16507|        -4331|         0|                 2.0|    -0.11966412069904914|           0.0|-0.04371379065015217|             0.0|-0.05506975284337276|\n",
      "|        157500.0|    -13830|        -4239|         0|                 1.0|     0.06427623197703412|           1.0| 0.03258748624779687|             1.0|  0.0581394326209646|\n",
      "|         67500.0|    -11454|        -1678|         0|                 0.0|     0.07955642381742424|           2.0|0.012762891378891859|             1.0|  0.0581394326209646|\n",
      "|        135000.0|     -9303|         -852|         0|                 1.0|     0.06427623197703412|           2.0|0.012762891378891859|             1.0|  0.0581394326209646|\n",
      "|        157500.0|    -15100|        -3500|         0|                 1.0|     0.06427623197703412|           1.0| 0.03258748624779687|             0.0|-0.05506975284337276|\n",
      "|        202500.0|    -14096|        -1344|         0|                 2.0|    -0.11966412069904914|           1.0| 0.03258748624779687|             1.0|  0.0581394326209646|\n",
      "|         90000.0|    -16274|        -1513|         0|                 0.0|     0.07955642381742424|           1.0| 0.03258748624779687|             0.0|-0.05506975284337276|\n",
      "|        202500.0|     -8568|        -1068|         0|                 2.0|    -0.11966412069904914|           2.0|0.012762891378891859|             1.0|  0.0581394326209646|\n",
      "|         99000.0|    -21658|        -3471|         0|                 0.0|     0.07955642381742424|           0.0|-0.04371379065015217|             0.0|-0.05506975284337276|\n",
      "|        189000.0|    -11700|         -404|         0|                 2.0|    -0.11966412069904914|           2.0|0.012762891378891859|             1.0|  0.0581394326209646|\n",
      "|        112500.0|    -13935|         -560|         0|                 0.0|     0.07955642381742424|           1.0| 0.03258748624779687|             1.0|  0.0581394326209646|\n",
      "|        135000.0|    -14221|        -1542|         0|                 1.0|     0.06427623197703412|           1.0| 0.03258748624779687|             1.0|  0.0581394326209646|\n",
      "|        180000.0|    -15161|        -7140|         0|                 2.0|    -0.11966412069904914|           1.0| 0.03258748624779687|             0.0|-0.05506975284337276|\n",
      "|        180000.0|     -8041|        -1419|         0|                 2.0|    -0.11966412069904914|           2.0|0.012762891378891859|             1.0|  0.0581394326209646|\n",
      "|        135000.0|    -14577|        -2269|         0|                 1.0|     0.06427623197703412|           1.0| 0.03258748624779687|             0.0|-0.05506975284337276|\n",
      "|         90000.0|    -13417|         -353|         0|                 0.0|     0.07955642381742424|           1.0| 0.03258748624779687|             1.0|  0.0581394326209646|\n",
      "|        157500.0|    -14192|         -626|         0|                 1.0|     0.06427623197703412|           1.0| 0.03258748624779687|             1.0|  0.0581394326209646|\n",
      "|        135000.0|    -15131|        -6456|         0|                 1.0|     0.06427623197703412|           1.0| 0.03258748624779687|             0.0|-0.05506975284337276|\n",
      "+----------------+----------+-------------+----------+--------------------+------------------------+--------------+--------------------+----------------+--------------------+\n",
      "only showing top 20 rows\n",
      "\n"
     ]
    }
   ],
   "source": [
    "# Calculating WOE for the 2 bin in DAYS_BIRTH_BIN_1\n",
    "woe_iv_cont_calc = WOE_IV(df = result_with_woe_iv, cols_to_woe = ['DAYS_BIRTH_BIN_1'], label_column = 'DELINQUENT', good_label = '0')\n",
    "woe_iv_cont_calc.fit()\n",
    "result_with_woe_iv = woe_iv_cont_calc.transform(result_with_woe_iv)\n",
    "result_with_woe_iv.show()"
   ]
  },
  {
   "cell_type": "code",
   "execution_count": null,
   "metadata": {
    "id": "s1Ygdz6jU1Jo",
    "outputId": "c390f411-955a-45e5-8811-0297332b1dc2"
   },
   "outputs": [
    {
     "name": "stdout",
     "output_type": "stream",
     "text": [
      "+----------------+--------------------+-----+\n",
      "|DAYS_BIRTH_BIN_1|DAYS_BIRTH_BIN_1_woe|count|\n",
      "+----------------+--------------------+-----+\n",
      "|             1.0|  0.0581394326209646| 8678|\n",
      "|             0.0|-0.05506975284337276| 8675|\n",
      "+----------------+--------------------+-----+\n",
      "\n"
     ]
    }
   ],
   "source": [
    "result_with_woe_iv.groupBy('DAYS_BIRTH_BIN_1','DAYS_BIRTH_BIN_1_woe').count().orderBy('DAYS_BIRTH_BIN_1', ascending = 0).show()"
   ]
  },
  {
   "cell_type": "code",
   "execution_count": null,
   "metadata": {
    "id": "O9wlw17FU1Jo",
    "outputId": "5d52ce05-8d38-44c1-e625-281967ff35a7"
   },
   "outputs": [
    {
     "data": {
      "text/plain": [
       "SpearmanrResult(correlation=0.9999999999999998, pvalue=0.0)"
      ]
     },
     "execution_count": 118,
     "metadata": {
      "tags": []
     },
     "output_type": "execute_result"
    }
   ],
   "source": [
    "pd_res_woe_iv = result_with_woe_iv.toPandas()\n",
    "stats.spearmanr(pd_res_woe_iv['DAYS_BIRTH_BIN_1'], pd_res_woe_iv['DAYS_BIRTH_BIN_1_woe'])"
   ]
  },
  {
   "cell_type": "markdown",
   "metadata": {
    "id": "_aSwyOGNU1Jo"
   },
   "source": [
    " - Though the correlation is good, let us also see how it varies with 4 bins since having 2 bins is very less."
   ]
  },
  {
   "cell_type": "code",
   "execution_count": null,
   "metadata": {
    "id": "8qLEZSXxU1Jo",
    "outputId": "5ca026c4-0918-4ff0-e6b7-a80a391b47b1"
   },
   "outputs": [
    {
     "name": "stdout",
     "output_type": "stream",
     "text": [
      "+----------------+--------------------+-----+\n",
      "|DAYS_BIRTH_BIN_2|DAYS_BIRTH_BIN_2_woe|count|\n",
      "+----------------+--------------------+-----+\n",
      "|             3.0|-0.00760268014640...| 4320|\n",
      "|             2.0| 0.12537747990469023| 4348|\n",
      "|             1.0|-0.01650749092122...| 4338|\n",
      "|             0.0|-0.08991148557314922| 4347|\n",
      "+----------------+--------------------+-----+\n",
      "\n"
     ]
    }
   ],
   "source": [
    "discretizer = QuantileDiscretizer(numBuckets=4, inputCol=\"DAYS_BIRTH\", outputCol=\"DAYS_BIRTH_BIN_2\")\n",
    "result_with_woe_iv = discretizer.fit(result_with_woe_iv).transform(result_with_woe_iv)\n",
    "\n",
    "# Calculating WOE for the 4 bin in DAYS_BIRTH_BIN_2\n",
    "woe_iv_cont_calc = WOE_IV(df = result_with_woe_iv, cols_to_woe = ['DAYS_BIRTH_BIN_2'], label_column = 'DELINQUENT', good_label = '0')\n",
    "woe_iv_cont_calc.fit()\n",
    "result_with_woe_iv = woe_iv_cont_calc.transform(result_with_woe_iv)\n",
    "result_with_woe_iv.groupBy('DAYS_BIRTH_BIN_2','DAYS_BIRTH_BIN_2_woe').count().orderBy('DAYS_BIRTH_BIN_2', ascending = 0).show()"
   ]
  },
  {
   "cell_type": "code",
   "execution_count": null,
   "metadata": {
    "id": "XoLRLZQxU1Jo",
    "outputId": "b8f58b8b-ed7a-487b-89e7-1ba07bb89c59"
   },
   "outputs": [
    {
     "data": {
      "text/plain": [
       "SpearmanrResult(correlation=0.8005890325519788, pvalue=0.0)"
      ]
     },
     "execution_count": 120,
     "metadata": {
      "tags": []
     },
     "output_type": "execute_result"
    }
   ],
   "source": [
    "pd_res_woe_iv = result_with_woe_iv.toPandas()\n",
    "stats.spearmanr(pd_res_woe_iv['DAYS_BIRTH_BIN_2'], pd_res_woe_iv['DAYS_BIRTH_BIN_2_woe'])"
   ]
  },
  {
   "cell_type": "markdown",
   "metadata": {
    "id": "4hDDa55yU1Jo"
   },
   "source": [
    " - Also checking with 5 bins"
   ]
  },
  {
   "cell_type": "code",
   "execution_count": null,
   "metadata": {
    "id": "7Tp41ZayU1Jo",
    "outputId": "7870db47-330a-4a4b-829b-5475be909bec"
   },
   "outputs": [
    {
     "name": "stdout",
     "output_type": "stream",
     "text": [
      "+----------------+--------------------+-----+\n",
      "|DAYS_BIRTH_BIN_3|DAYS_BIRTH_BIN_3_woe|count|\n",
      "+----------------+--------------------+-----+\n",
      "|             4.0|-0.07406517102056565| 3469|\n",
      "|             3.0| 0.13509131054853266| 3486|\n",
      "|             2.0|-0.01360394110889...| 3458|\n",
      "|             1.0|0.004127817338838354| 3462|\n",
      "|             0.0|-0.04006628350033...| 3478|\n",
      "+----------------+--------------------+-----+\n",
      "\n"
     ]
    }
   ],
   "source": [
    "discretizer = QuantileDiscretizer(numBuckets=5, inputCol=\"DAYS_BIRTH\", outputCol=\"DAYS_BIRTH_BIN_3\")\n",
    "result_with_woe_iv = discretizer.fit(result_with_woe_iv).transform(result_with_woe_iv)\n",
    "\n",
    "# Calculating WOE for the 5 bin in DAYS_BIRTH_BIN_3\n",
    "woe_iv_cont_calc = WOE_IV(df = result_with_woe_iv, cols_to_woe = ['DAYS_BIRTH_BIN_3'], label_column = 'DELINQUENT', good_label = '0')\n",
    "woe_iv_cont_calc.fit()\n",
    "result_with_woe_iv = woe_iv_cont_calc.transform(result_with_woe_iv)\n",
    "result_with_woe_iv.groupBy('DAYS_BIRTH_BIN_3','DAYS_BIRTH_BIN_3_woe').count().orderBy('DAYS_BIRTH_BIN_3', ascending = 0).show()"
   ]
  },
  {
   "cell_type": "code",
   "execution_count": null,
   "metadata": {
    "id": "S-lDx_TrU1Jo",
    "outputId": "2cdc0e26-c5e6-4c89-d256-48f307235a7c"
   },
   "outputs": [
    {
     "data": {
      "text/plain": [
       "SpearmanrResult(correlation=-0.09874188236057285, pvalue=7.410963758282638e-39)"
      ]
     },
     "execution_count": 122,
     "metadata": {
      "tags": []
     },
     "output_type": "execute_result"
    }
   ],
   "source": [
    "pd_res_woe_iv = result_with_woe_iv.toPandas()\n",
    "stats.spearmanr(pd_res_woe_iv['DAYS_BIRTH_BIN_3'], pd_res_woe_iv['DAYS_BIRTH_BIN_3_woe'])"
   ]
  },
  {
   "cell_type": "markdown",
   "metadata": {
    "id": "-JSQIapJU1Jo"
   },
   "source": [
    " - Balancing between the number of bins (to be not too less) and correlation, looking like 4 is the best option. So let us find the IV value with 4 bins"
   ]
  },
  {
   "cell_type": "code",
   "execution_count": null,
   "metadata": {
    "id": "a3RLMwGvU1Jo",
    "outputId": "4588b324-897c-43bb-cf8a-8a558086fba3"
   },
   "outputs": [
    {
     "data": {
      "text/plain": [
       "{'DAYS_BIRTH_BIN_FINAL': 0.0064383521866895835}"
      ]
     },
     "execution_count": 123,
     "metadata": {
      "tags": []
     },
     "output_type": "execute_result"
    }
   ],
   "source": [
    "discretizer = QuantileDiscretizer(numBuckets=4, inputCol=\"DAYS_BIRTH\", outputCol=\"DAYS_BIRTH_BIN_FINAL\")\n",
    "result_with_woe_iv = discretizer.fit(result_with_woe_iv).transform(result_with_woe_iv)\n",
    "\n",
    "# Calculating WOE for the 4 bin in DAYS_BIRTH_BIN_FINAL\n",
    "woe_iv_cont_calc = WOE_IV(df = result_with_woe_iv, cols_to_woe = ['DAYS_BIRTH_BIN_FINAL'], label_column = 'DELINQUENT', good_label = '0')\n",
    "woe_iv_cont_calc.fit()\n",
    "result_with_woe_iv = woe_iv_cont_calc.transform(result_with_woe_iv)\n",
    "woe_iv_cont_calc.compute_iv()"
   ]
  },
  {
   "cell_type": "markdown",
   "metadata": {
    "id": "kYF8moeBU1Jp"
   },
   "source": [
    "#### Since IV is more than 0.002 DAYS_BIRTH is significant. Let us proceed in same way for DAYS_EMPLOYED"
   ]
  },
  {
   "cell_type": "code",
   "execution_count": null,
   "metadata": {
    "id": "Hf0trYSwU1Jp",
    "outputId": "93be4f89-9b78-4415-aabc-aa644d4a4b33"
   },
   "outputs": [
    {
     "name": "stdout",
     "output_type": "stream",
     "text": [
      "+-----------------+---------------------+-----+\n",
      "|DAYS_EMPLOYED_BIN|DAYS_EMPLOYED_BIN_woe|count|\n",
      "+-----------------+---------------------+-----+\n",
      "|              2.0|  -0.2609224172679821| 5778|\n",
      "|              1.0|  0.12807373788988616| 5770|\n",
      "|              0.0|  0.19224972438848137| 5805|\n",
      "+-----------------+---------------------+-----+\n",
      "\n"
     ]
    }
   ],
   "source": [
    "discretizer = QuantileDiscretizer(numBuckets=3, inputCol=\"DAYS_EMPLOYED\", outputCol=\"DAYS_EMPLOYED_BIN\")\n",
    "\n",
    "result_with_woe_iv = discretizer.fit(result_with_woe_iv).transform(result_with_woe_iv)\n",
    "\n",
    "# Calculating WOE for the 3 bin in DAYS_EMPLOYED_BIN\n",
    "woe_iv_cont_calc = WOE_IV(df = result_with_woe_iv, cols_to_woe = ['DAYS_EMPLOYED_BIN'], label_column = 'DELINQUENT', good_label = '0')\n",
    "woe_iv_cont_calc.fit()\n",
    "result_with_woe_iv = woe_iv_cont_calc.transform(result_with_woe_iv)\n",
    "result_with_woe_iv.groupBy('DAYS_EMPLOYED_BIN','DAYS_EMPLOYED_BIN_woe').count().orderBy('DAYS_EMPLOYED_BIN', ascending = 0).show()"
   ]
  },
  {
   "cell_type": "code",
   "execution_count": null,
   "metadata": {
    "id": "JyhYFMuyU1Jp",
    "outputId": "76c00f63-858c-4d37-c1b9-ff81f6ecb4ad"
   },
   "outputs": [
    {
     "data": {
      "text/plain": [
       "SpearmanrResult(correlation=-1.0, pvalue=0.0)"
      ]
     },
     "execution_count": 125,
     "metadata": {
      "tags": []
     },
     "output_type": "execute_result"
    }
   ],
   "source": [
    "pd_res_woe_iv = result_with_woe_iv.toPandas()\n",
    "stats.spearmanr(pd_res_woe_iv['DAYS_EMPLOYED_BIN'], pd_res_woe_iv['DAYS_EMPLOYED_BIN_woe'])"
   ]
  },
  {
   "cell_type": "markdown",
   "metadata": {
    "id": "O0JZI_06U1Jp"
   },
   "source": [
    " - Since the correlation and number of bins is good, let us check IV"
   ]
  },
  {
   "cell_type": "code",
   "execution_count": null,
   "metadata": {
    "id": "OCU9AOOJU1Jp",
    "outputId": "ba243502-aa68-4676-99b9-e11300c468d6"
   },
   "outputs": [
    {
     "data": {
      "text/plain": [
       "{'DAYS_EMPLOYED_BIN': 0.04217828934833584}"
      ]
     },
     "execution_count": 126,
     "metadata": {
      "tags": []
     },
     "output_type": "execute_result"
    }
   ],
   "source": [
    "woe_iv_cont_calc.compute_iv()"
   ]
  },
  {
   "cell_type": "markdown",
   "metadata": {
    "id": "j4-FNMZxU1Jp"
   },
   "source": [
    "#### Since IV is more than 0.002 DAYS_EMPLOYED is significant. So below are the final list of columns to be taken for model training with FLAG_PHONE being the only column to be eliminated via WOE-IV method.\n",
    " - ID - denotes each customer. So it is needed.\n",
    " - CODE_GENDER\n",
    " - FLAG_OWN_CAR\n",
    " - FLAG_OWN_REALTY\n",
    " - CNT_CHILDREN\n",
    " - AMT_INCOME_TOTAL\n",
    " - NAME_INCOME_TYPE\n",
    " - NAME_EDUCATION_TYPE\n",
    " - NAME_FAMILY_STATUS\n",
    " - NAME_HOUSING_TYPE\n",
    " - DAYS_BIRTH\n",
    " - DAYS_EMPLOYED\n",
    " - FLAG_WORK_PHONE\n",
    " - FLAG_EMAIL\n",
    " - OCCUPATION_TYPE\n",
    " - CNT_FAM_MEMBERS\n",
    " - DELINQUENT - Target Column"
   ]
  },
  {
   "cell_type": "code",
   "execution_count": null,
   "metadata": {
    "id": "Tvb_C1VMU1Jp",
    "outputId": "133e58df-e919-46bb-cb76-82c1ecc18014"
   },
   "outputs": [
    {
     "name": "stdout",
     "output_type": "stream",
     "text": [
      "root\n",
      " |-- ID: integer (nullable = true)\n",
      " |-- CODE_GENDER: string (nullable = true)\n",
      " |-- FLAG_OWN_CAR: string (nullable = true)\n",
      " |-- FLAG_OWN_REALTY: string (nullable = true)\n",
      " |-- CNT_CHILDREN: integer (nullable = true)\n",
      " |-- AMT_INCOME_TOTAL: double (nullable = true)\n",
      " |-- NAME_INCOME_TYPE: string (nullable = true)\n",
      " |-- NAME_EDUCATION_TYPE: string (nullable = true)\n",
      " |-- NAME_FAMILY_STATUS: string (nullable = true)\n",
      " |-- NAME_HOUSING_TYPE: string (nullable = true)\n",
      " |-- DAYS_BIRTH: integer (nullable = true)\n",
      " |-- DAYS_EMPLOYED: integer (nullable = true)\n",
      " |-- FLAG_WORK_PHONE: integer (nullable = true)\n",
      " |-- FLAG_EMAIL: integer (nullable = true)\n",
      " |-- OCCUPATION_TYPE: string (nullable = true)\n",
      " |-- CNT_FAM_MEMBERS: double (nullable = true)\n",
      " |-- DELINQUENT: integer (nullable = false)\n",
      "\n"
     ]
    }
   ],
   "source": [
    "# Let us drop FLAG_PHONE\n",
    "df_merged = df_merged.drop('FLAG_PHONE')\n",
    "df_merged.printSchema()"
   ]
  },
  {
   "cell_type": "markdown",
   "metadata": {
    "id": "AQn38_boU1Jp"
   },
   "source": [
    "## Model Building - (Model 1)"
   ]
  },
  {
   "cell_type": "markdown",
   "metadata": {
    "id": "SDkNchmFU1Jp"
   },
   "source": [
    "#### The above list of features can be split based on the transformations required as follows"
   ]
  },
  {
   "cell_type": "markdown",
   "metadata": {
    "id": "LdLqd_ZUU1Jp"
   },
   "source": [
    "#### Continuous columns with numerical data - No processing required except for DAYS_BIRTH and DAYS_EMPLOYED since they are negative\n",
    " - AMT_INCOME_TOTAL\n",
    " - DAYS_BIRTH\n",
    " - DAYS_EMPLOYED\n",
    " - CNT_CHILDREN\n",
    " - CNT_FAM_MEMBERS"
   ]
  },
  {
   "cell_type": "code",
   "execution_count": null,
   "metadata": {
    "id": "676xpXwjU1Jp"
   },
   "outputs": [],
   "source": [
    "df_merged = df_merged.withColumn('DAYS_BIRTH_ABS',abs(df_merged.DAYS_BIRTH))\n",
    "df_merged = df_merged.withColumn('DAYS_EMPLOYED_ABS',abs(df_merged.DAYS_EMPLOYED))"
   ]
  },
  {
   "cell_type": "code",
   "execution_count": null,
   "metadata": {
    "id": "GqDzn9PNU1Jp",
    "outputId": "bef0f7e4-59b6-4805-dde0-5a7e9f47ccb4"
   },
   "outputs": [
    {
     "data": {
      "text/html": [
       "<div>\n",
       "<style scoped>\n",
       "    .dataframe tbody tr th:only-of-type {\n",
       "        vertical-align: middle;\n",
       "    }\n",
       "\n",
       "    .dataframe tbody tr th {\n",
       "        vertical-align: top;\n",
       "    }\n",
       "\n",
       "    .dataframe thead th {\n",
       "        text-align: right;\n",
       "    }\n",
       "</style>\n",
       "<table border=\"1\" class=\"dataframe\">\n",
       "  <thead>\n",
       "    <tr style=\"text-align: right;\">\n",
       "      <th></th>\n",
       "      <th>ID</th>\n",
       "      <th>CODE_GENDER</th>\n",
       "      <th>FLAG_OWN_CAR</th>\n",
       "      <th>FLAG_OWN_REALTY</th>\n",
       "      <th>CNT_CHILDREN</th>\n",
       "      <th>AMT_INCOME_TOTAL</th>\n",
       "      <th>NAME_INCOME_TYPE</th>\n",
       "      <th>NAME_EDUCATION_TYPE</th>\n",
       "      <th>NAME_FAMILY_STATUS</th>\n",
       "      <th>NAME_HOUSING_TYPE</th>\n",
       "      <th>DAYS_BIRTH</th>\n",
       "      <th>DAYS_EMPLOYED</th>\n",
       "      <th>FLAG_WORK_PHONE</th>\n",
       "      <th>FLAG_EMAIL</th>\n",
       "      <th>OCCUPATION_TYPE</th>\n",
       "      <th>CNT_FAM_MEMBERS</th>\n",
       "      <th>DELINQUENT</th>\n",
       "      <th>DAYS_BIRTH_ABS</th>\n",
       "      <th>DAYS_EMPLOYED_ABS</th>\n",
       "    </tr>\n",
       "  </thead>\n",
       "  <tbody>\n",
       "    <tr>\n",
       "      <th>0</th>\n",
       "      <td>5009355</td>\n",
       "      <td>F</td>\n",
       "      <td>N</td>\n",
       "      <td>N</td>\n",
       "      <td>0</td>\n",
       "      <td>135000.0</td>\n",
       "      <td>Commercial associate</td>\n",
       "      <td>Secondary / secondary special</td>\n",
       "      <td>Married</td>\n",
       "      <td>House / apartment</td>\n",
       "      <td>-19692</td>\n",
       "      <td>-5273</td>\n",
       "      <td>1</td>\n",
       "      <td>0</td>\n",
       "      <td>Laborers</td>\n",
       "      <td>2.0</td>\n",
       "      <td>0</td>\n",
       "      <td>19692</td>\n",
       "      <td>5273</td>\n",
       "    </tr>\n",
       "    <tr>\n",
       "      <th>1</th>\n",
       "      <td>5009429</td>\n",
       "      <td>M</td>\n",
       "      <td>N</td>\n",
       "      <td>N</td>\n",
       "      <td>0</td>\n",
       "      <td>198000.0</td>\n",
       "      <td>Working</td>\n",
       "      <td>Secondary / secondary special</td>\n",
       "      <td>Single / not married</td>\n",
       "      <td>With parents</td>\n",
       "      <td>-8657</td>\n",
       "      <td>-1164</td>\n",
       "      <td>1</td>\n",
       "      <td>0</td>\n",
       "      <td>Laborers</td>\n",
       "      <td>1.0</td>\n",
       "      <td>0</td>\n",
       "      <td>8657</td>\n",
       "      <td>1164</td>\n",
       "    </tr>\n",
       "    <tr>\n",
       "      <th>2</th>\n",
       "      <td>5010236</td>\n",
       "      <td>M</td>\n",
       "      <td>Y</td>\n",
       "      <td>Y</td>\n",
       "      <td>0</td>\n",
       "      <td>225000.0</td>\n",
       "      <td>Working</td>\n",
       "      <td>Secondary / secondary special</td>\n",
       "      <td>Married</td>\n",
       "      <td>House / apartment</td>\n",
       "      <td>-16507</td>\n",
       "      <td>-4331</td>\n",
       "      <td>0</td>\n",
       "      <td>0</td>\n",
       "      <td>Drivers</td>\n",
       "      <td>2.0</td>\n",
       "      <td>0</td>\n",
       "      <td>16507</td>\n",
       "      <td>4331</td>\n",
       "    </tr>\n",
       "    <tr>\n",
       "      <th>3</th>\n",
       "      <td>5010511</td>\n",
       "      <td>F</td>\n",
       "      <td>Y</td>\n",
       "      <td>Y</td>\n",
       "      <td>1</td>\n",
       "      <td>157500.0</td>\n",
       "      <td>Commercial associate</td>\n",
       "      <td>Secondary / secondary special</td>\n",
       "      <td>Married</td>\n",
       "      <td>House / apartment</td>\n",
       "      <td>-13830</td>\n",
       "      <td>-4239</td>\n",
       "      <td>0</td>\n",
       "      <td>0</td>\n",
       "      <td>Laborers</td>\n",
       "      <td>3.0</td>\n",
       "      <td>0</td>\n",
       "      <td>13830</td>\n",
       "      <td>4239</td>\n",
       "    </tr>\n",
       "    <tr>\n",
       "      <th>4</th>\n",
       "      <td>5021819</td>\n",
       "      <td>F</td>\n",
       "      <td>Y</td>\n",
       "      <td>Y</td>\n",
       "      <td>1</td>\n",
       "      <td>67500.0</td>\n",
       "      <td>Working</td>\n",
       "      <td>Secondary / secondary special</td>\n",
       "      <td>Married</td>\n",
       "      <td>House / apartment</td>\n",
       "      <td>-11454</td>\n",
       "      <td>-1678</td>\n",
       "      <td>0</td>\n",
       "      <td>1</td>\n",
       "      <td>Cooking staff</td>\n",
       "      <td>3.0</td>\n",
       "      <td>0</td>\n",
       "      <td>11454</td>\n",
       "      <td>1678</td>\n",
       "    </tr>\n",
       "  </tbody>\n",
       "</table>\n",
       "</div>"
      ],
      "text/plain": [
       "        ID CODE_GENDER FLAG_OWN_CAR FLAG_OWN_REALTY  CNT_CHILDREN  \\\n",
       "0  5009355           F            N               N             0   \n",
       "1  5009429           M            N               N             0   \n",
       "2  5010236           M            Y               Y             0   \n",
       "3  5010511           F            Y               Y             1   \n",
       "4  5021819           F            Y               Y             1   \n",
       "\n",
       "   AMT_INCOME_TOTAL      NAME_INCOME_TYPE            NAME_EDUCATION_TYPE  \\\n",
       "0          135000.0  Commercial associate  Secondary / secondary special   \n",
       "1          198000.0               Working  Secondary / secondary special   \n",
       "2          225000.0               Working  Secondary / secondary special   \n",
       "3          157500.0  Commercial associate  Secondary / secondary special   \n",
       "4           67500.0               Working  Secondary / secondary special   \n",
       "\n",
       "     NAME_FAMILY_STATUS  NAME_HOUSING_TYPE  DAYS_BIRTH  DAYS_EMPLOYED  \\\n",
       "0               Married  House / apartment      -19692          -5273   \n",
       "1  Single / not married       With parents       -8657          -1164   \n",
       "2               Married  House / apartment      -16507          -4331   \n",
       "3               Married  House / apartment      -13830          -4239   \n",
       "4               Married  House / apartment      -11454          -1678   \n",
       "\n",
       "   FLAG_WORK_PHONE  FLAG_EMAIL OCCUPATION_TYPE  CNT_FAM_MEMBERS  DELINQUENT  \\\n",
       "0                1           0        Laborers              2.0           0   \n",
       "1                1           0        Laborers              1.0           0   \n",
       "2                0           0         Drivers              2.0           0   \n",
       "3                0           0        Laborers              3.0           0   \n",
       "4                0           1   Cooking staff              3.0           0   \n",
       "\n",
       "   DAYS_BIRTH_ABS  DAYS_EMPLOYED_ABS  \n",
       "0           19692               5273  \n",
       "1            8657               1164  \n",
       "2           16507               4331  \n",
       "3           13830               4239  \n",
       "4           11454               1678  "
      ]
     },
     "execution_count": 129,
     "metadata": {
      "tags": []
     },
     "output_type": "execute_result"
    }
   ],
   "source": [
    "# Let us look at values using pandas dataframe for better readability\n",
    "pd_train = df_merged.toPandas()\n",
    "pd_train.head()"
   ]
  },
  {
   "cell_type": "code",
   "execution_count": null,
   "metadata": {
    "id": "61iGkaHlU1Jp",
    "outputId": "d0c0679b-6f6a-4dd6-fc7a-2f1e5b936cb5"
   },
   "outputs": [
    {
     "name": "stdout",
     "output_type": "stream",
     "text": [
      "root\n",
      " |-- ID: integer (nullable = true)\n",
      " |-- CODE_GENDER: string (nullable = true)\n",
      " |-- FLAG_OWN_CAR: string (nullable = true)\n",
      " |-- FLAG_OWN_REALTY: string (nullable = true)\n",
      " |-- CNT_CHILDREN: integer (nullable = true)\n",
      " |-- AMT_INCOME_TOTAL: double (nullable = true)\n",
      " |-- NAME_INCOME_TYPE: string (nullable = true)\n",
      " |-- NAME_EDUCATION_TYPE: string (nullable = true)\n",
      " |-- NAME_FAMILY_STATUS: string (nullable = true)\n",
      " |-- NAME_HOUSING_TYPE: string (nullable = true)\n",
      " |-- DAYS_BIRTH: integer (nullable = true)\n",
      " |-- DAYS_EMPLOYED: integer (nullable = true)\n",
      " |-- FLAG_WORK_PHONE: integer (nullable = true)\n",
      " |-- FLAG_EMAIL: integer (nullable = true)\n",
      " |-- OCCUPATION_TYPE: string (nullable = true)\n",
      " |-- CNT_FAM_MEMBERS: double (nullable = true)\n",
      " |-- DELINQUENT: integer (nullable = false)\n",
      " |-- DAYS_BIRTH_ABS: integer (nullable = true)\n",
      " |-- DAYS_EMPLOYED_ABS: integer (nullable = true)\n",
      "\n"
     ]
    }
   ],
   "source": [
    "df_merged.printSchema()"
   ]
  },
  {
   "cell_type": "code",
   "execution_count": null,
   "metadata": {
    "id": "W3amzxuuU1Jq"
   },
   "outputs": [],
   "source": [
    "# Dropping columns with negative values\n",
    "df_merged = df_merged.drop('DAYS_BIRTH','DAYS_EMPLOYED')"
   ]
  },
  {
   "cell_type": "code",
   "execution_count": null,
   "metadata": {
    "id": "FaCxMOJpU1Jq",
    "outputId": "a22e1757-a72c-486f-cecf-51ec18d40253"
   },
   "outputs": [
    {
     "name": "stdout",
     "output_type": "stream",
     "text": [
      "root\n",
      " |-- ID: integer (nullable = true)\n",
      " |-- CODE_GENDER: string (nullable = true)\n",
      " |-- FLAG_OWN_CAR: string (nullable = true)\n",
      " |-- FLAG_OWN_REALTY: string (nullable = true)\n",
      " |-- CNT_CHILDREN: integer (nullable = true)\n",
      " |-- AMT_INCOME_TOTAL: double (nullable = true)\n",
      " |-- NAME_INCOME_TYPE: string (nullable = true)\n",
      " |-- NAME_EDUCATION_TYPE: string (nullable = true)\n",
      " |-- NAME_FAMILY_STATUS: string (nullable = true)\n",
      " |-- NAME_HOUSING_TYPE: string (nullable = true)\n",
      " |-- FLAG_WORK_PHONE: integer (nullable = true)\n",
      " |-- FLAG_EMAIL: integer (nullable = true)\n",
      " |-- OCCUPATION_TYPE: string (nullable = true)\n",
      " |-- CNT_FAM_MEMBERS: double (nullable = true)\n",
      " |-- DELINQUENT: integer (nullable = false)\n",
      " |-- DAYS_BIRTH_ABS: integer (nullable = true)\n",
      " |-- DAYS_EMPLOYED_ABS: integer (nullable = true)\n",
      "\n"
     ]
    }
   ],
   "source": [
    "df_merged.printSchema()"
   ]
  },
  {
   "cell_type": "markdown",
   "metadata": {
    "id": "TxniY_qgU1Jq"
   },
   "source": [
    "#### Nominal categorical variables represented with integers. - One-hot encoding\n",
    " - FLAG_WORK_PHONE\n",
    " - FLAG_EMAIL"
   ]
  },
  {
   "cell_type": "code",
   "execution_count": null,
   "metadata": {
    "id": "0bceXZ-BU1Jq",
    "outputId": "eb5635f1-49b5-49b4-e0c7-5ae86b3db7e0"
   },
   "outputs": [
    {
     "name": "stdout",
     "output_type": "stream",
     "text": [
      "+---------------+----------+-----+\n",
      "|FLAG_WORK_PHONE|FLAG_EMAIL|count|\n",
      "+---------------+----------+-----+\n",
      "|              0|         0|11129|\n",
      "|              1|         0| 4696|\n",
      "|              0|         1| 1251|\n",
      "|              1|         1|  277|\n",
      "+---------------+----------+-----+\n",
      "\n"
     ]
    }
   ],
   "source": [
    "df_merged.groupBy('FLAG_WORK_PHONE','FLAG_EMAIL').count().orderBy('count', ascending = 0).show()"
   ]
  },
  {
   "cell_type": "markdown",
   "metadata": {
    "id": "RnfmXUunU1Jq"
   },
   "source": [
    " - Since the values are already in 0's and 1's we do not need any encoding and can be sent for modelling as such"
   ]
  },
  {
   "cell_type": "markdown",
   "metadata": {
    "id": "Hdg-dNveU1Jq"
   },
   "source": [
    "#### Nominal Categorical variables represented with strings - String indexer + One hot encoding\n",
    " - NAME_INCOME_TYPE\n",
    " - NAME_EDUCATION_TYPE\n",
    " - NAME_FAMILY_STATUS\n",
    " - NAME_HOUSING_TYPE\n",
    " - CODE_GENDER\n",
    " - FLAG_OWN_CAR\n",
    " - FLAG_OWN_REALTY\n",
    " - OCCUPATION_TYPE"
   ]
  },
  {
   "cell_type": "code",
   "execution_count": null,
   "metadata": {
    "id": "gH9kd72eU1Jq"
   },
   "outputs": [],
   "source": [
    "stringCols = ['NAME_INCOME_TYPE',\n",
    "              'NAME_EDUCATION_TYPE',\n",
    "              'NAME_FAMILY_STATUS',\n",
    "              'NAME_HOUSING_TYPE',\n",
    "              'CODE_GENDER',\n",
    "              'FLAG_OWN_CAR',\n",
    "              'FLAG_OWN_REALTY',\n",
    "              'OCCUPATION_TYPE']\n",
    "\n",
    "from pyspark.ml.feature import StringIndexer, OneHotEncoderEstimator, VectorAssembler\n",
    "\n",
    "for c in stringCols:\n",
    "    outCol = c + '_ix'\n",
    "    si = StringIndexer(inputCol=c, outputCol=outCol)\n",
    "    df_merged = si.fit(df_merged).transform(df_merged)"
   ]
  },
  {
   "cell_type": "code",
   "execution_count": null,
   "metadata": {
    "id": "XOGwVBhjU1Jq",
    "outputId": "41770215-4f1d-45da-c7ee-cdaf60df065d"
   },
   "outputs": [
    {
     "name": "stdout",
     "output_type": "stream",
     "text": [
      "root\n",
      " |-- ID: integer (nullable = true)\n",
      " |-- CODE_GENDER: string (nullable = true)\n",
      " |-- FLAG_OWN_CAR: string (nullable = true)\n",
      " |-- FLAG_OWN_REALTY: string (nullable = true)\n",
      " |-- CNT_CHILDREN: integer (nullable = true)\n",
      " |-- AMT_INCOME_TOTAL: double (nullable = true)\n",
      " |-- NAME_INCOME_TYPE: string (nullable = true)\n",
      " |-- NAME_EDUCATION_TYPE: string (nullable = true)\n",
      " |-- NAME_FAMILY_STATUS: string (nullable = true)\n",
      " |-- NAME_HOUSING_TYPE: string (nullable = true)\n",
      " |-- FLAG_WORK_PHONE: integer (nullable = true)\n",
      " |-- FLAG_EMAIL: integer (nullable = true)\n",
      " |-- OCCUPATION_TYPE: string (nullable = true)\n",
      " |-- CNT_FAM_MEMBERS: double (nullable = true)\n",
      " |-- DELINQUENT: integer (nullable = false)\n",
      " |-- DAYS_BIRTH_ABS: integer (nullable = true)\n",
      " |-- DAYS_EMPLOYED_ABS: integer (nullable = true)\n",
      " |-- NAME_INCOME_TYPE_ix: double (nullable = false)\n",
      " |-- NAME_EDUCATION_TYPE_ix: double (nullable = false)\n",
      " |-- NAME_FAMILY_STATUS_ix: double (nullable = false)\n",
      " |-- NAME_HOUSING_TYPE_ix: double (nullable = false)\n",
      " |-- CODE_GENDER_ix: double (nullable = false)\n",
      " |-- FLAG_OWN_CAR_ix: double (nullable = false)\n",
      " |-- FLAG_OWN_REALTY_ix: double (nullable = false)\n",
      " |-- OCCUPATION_TYPE_ix: double (nullable = false)\n",
      "\n"
     ]
    }
   ],
   "source": [
    "df_merged.printSchema()"
   ]
  },
  {
   "cell_type": "code",
   "execution_count": null,
   "metadata": {
    "id": "7gABKlRkU1Jq",
    "outputId": "6f2c2c52-35d0-4c55-bb6f-ea4705782260"
   },
   "outputs": [
    {
     "name": "stdout",
     "output_type": "stream",
     "text": [
      "+-------------------+----------------------+---------------------+--------------------+--------------+---------------+------------------+------------------+\n",
      "|NAME_INCOME_TYPE_ix|NAME_EDUCATION_TYPE_ix|NAME_FAMILY_STATUS_ix|NAME_HOUSING_TYPE_ix|CODE_GENDER_ix|FLAG_OWN_CAR_ix|FLAG_OWN_REALTY_ix|OCCUPATION_TYPE_ix|\n",
      "+-------------------+----------------------+---------------------+--------------------+--------------+---------------+------------------+------------------+\n",
      "|                1.0|                   0.0|                  0.0|                 0.0|           0.0|            0.0|               1.0|               0.0|\n",
      "|                0.0|                   0.0|                  1.0|                 1.0|           1.0|            0.0|               1.0|               0.0|\n",
      "|                0.0|                   0.0|                  0.0|                 0.0|           1.0|            1.0|               0.0|               3.0|\n",
      "|                1.0|                   0.0|                  0.0|                 0.0|           0.0|            1.0|               0.0|               0.0|\n",
      "|                0.0|                   0.0|                  0.0|                 0.0|           0.0|            1.0|               0.0|               8.0|\n",
      "|                0.0|                   1.0|                  0.0|                 0.0|           1.0|            1.0|               0.0|               1.0|\n",
      "|                0.0|                   0.0|                  2.0|                 0.0|           0.0|            0.0|               1.0|               8.0|\n",
      "|                1.0|                   2.0|                  3.0|                 0.0|           0.0|            1.0|               1.0|               7.0|\n",
      "|                0.0|                   0.0|                  0.0|                 0.0|           0.0|            0.0|               0.0|               8.0|\n",
      "|                0.0|                   0.0|                  1.0|                 0.0|           0.0|            1.0|               0.0|               1.0|\n",
      "|                0.0|                   0.0|                  2.0|                 0.0|           1.0|            1.0|               1.0|               0.0|\n",
      "|                0.0|                   0.0|                  0.0|                 0.0|           1.0|            0.0|               1.0|               4.0|\n",
      "|                0.0|                   0.0|                  0.0|                 0.0|           0.0|            0.0|               0.0|               0.0|\n",
      "|                1.0|                   0.0|                  0.0|                 0.0|           0.0|            1.0|               0.0|              11.0|\n",
      "|                1.0|                   1.0|                  1.0|                 0.0|           0.0|            1.0|               0.0|               2.0|\n",
      "|                0.0|                   0.0|                  0.0|                 1.0|           0.0|            0.0|               0.0|               1.0|\n",
      "|                1.0|                   0.0|                  0.0|                 0.0|           0.0|            0.0|               0.0|               1.0|\n",
      "|                0.0|                   0.0|                  2.0|                 0.0|           0.0|            0.0|               0.0|               7.0|\n",
      "|                1.0|                   1.0|                  0.0|                 1.0|           1.0|            1.0|               0.0|               3.0|\n",
      "|                0.0|                   0.0|                  0.0|                 1.0|           0.0|            1.0|               0.0|               2.0|\n",
      "+-------------------+----------------------+---------------------+--------------------+--------------+---------------+------------------+------------------+\n",
      "only showing top 20 rows\n",
      "\n"
     ]
    }
   ],
   "source": [
    "# Let us view the columns\n",
    "indexedCols = [c+'_ix' for c in stringCols]\n",
    "df_merged.select(indexedCols).show()"
   ]
  },
  {
   "cell_type": "code",
   "execution_count": null,
   "metadata": {
    "id": "-T1u9Z6AU1Jq"
   },
   "outputs": [],
   "source": [
    "# Run all the catagorical columns through the one hot encoder\n",
    "ohe = OneHotEncoderEstimator(inputCols=indexedCols, outputCols=[c+'Enc' for c in indexedCols])\n",
    "enc_model = ohe.fit(df_merged)\n",
    "df_merged = enc_model.transform(df_merged)"
   ]
  },
  {
   "cell_type": "code",
   "execution_count": null,
   "metadata": {
    "id": "NIP_3JiAU1Jq",
    "outputId": "07e706a4-c7b1-4124-812f-18eeed1c99d7"
   },
   "outputs": [
    {
     "name": "stdout",
     "output_type": "stream",
     "text": [
      "root\n",
      " |-- ID: integer (nullable = true)\n",
      " |-- CODE_GENDER: string (nullable = true)\n",
      " |-- FLAG_OWN_CAR: string (nullable = true)\n",
      " |-- FLAG_OWN_REALTY: string (nullable = true)\n",
      " |-- CNT_CHILDREN: integer (nullable = true)\n",
      " |-- AMT_INCOME_TOTAL: double (nullable = true)\n",
      " |-- NAME_INCOME_TYPE: string (nullable = true)\n",
      " |-- NAME_EDUCATION_TYPE: string (nullable = true)\n",
      " |-- NAME_FAMILY_STATUS: string (nullable = true)\n",
      " |-- NAME_HOUSING_TYPE: string (nullable = true)\n",
      " |-- FLAG_WORK_PHONE: integer (nullable = true)\n",
      " |-- FLAG_EMAIL: integer (nullable = true)\n",
      " |-- OCCUPATION_TYPE: string (nullable = true)\n",
      " |-- CNT_FAM_MEMBERS: double (nullable = true)\n",
      " |-- DELINQUENT: integer (nullable = false)\n",
      " |-- DAYS_BIRTH_ABS: integer (nullable = true)\n",
      " |-- DAYS_EMPLOYED_ABS: integer (nullable = true)\n",
      " |-- NAME_INCOME_TYPE_ix: double (nullable = false)\n",
      " |-- NAME_EDUCATION_TYPE_ix: double (nullable = false)\n",
      " |-- NAME_FAMILY_STATUS_ix: double (nullable = false)\n",
      " |-- NAME_HOUSING_TYPE_ix: double (nullable = false)\n",
      " |-- CODE_GENDER_ix: double (nullable = false)\n",
      " |-- FLAG_OWN_CAR_ix: double (nullable = false)\n",
      " |-- FLAG_OWN_REALTY_ix: double (nullable = false)\n",
      " |-- OCCUPATION_TYPE_ix: double (nullable = false)\n",
      " |-- FLAG_OWN_CAR_ixEnc: vector (nullable = true)\n",
      " |-- FLAG_OWN_REALTY_ixEnc: vector (nullable = true)\n",
      " |-- CODE_GENDER_ixEnc: vector (nullable = true)\n",
      " |-- NAME_HOUSING_TYPE_ixEnc: vector (nullable = true)\n",
      " |-- NAME_EDUCATION_TYPE_ixEnc: vector (nullable = true)\n",
      " |-- NAME_FAMILY_STATUS_ixEnc: vector (nullable = true)\n",
      " |-- NAME_INCOME_TYPE_ixEnc: vector (nullable = true)\n",
      " |-- OCCUPATION_TYPE_ixEnc: vector (nullable = true)\n",
      "\n"
     ]
    }
   ],
   "source": [
    "df_merged.printSchema()"
   ]
  },
  {
   "cell_type": "code",
   "execution_count": null,
   "metadata": {
    "id": "Xn6TZ8xLU1Jq"
   },
   "outputs": [],
   "source": [
    "trainCols = [c+'Enc' for c in indexedCols]\n",
    "trainCols += ['AMT_INCOME_TOTAL',\n",
    "              'DAYS_BIRTH_ABS',\n",
    "              'DAYS_EMPLOYED_ABS',\n",
    "              'CNT_CHILDREN',\n",
    "              'CNT_FAM_MEMBERS',\n",
    "              'FLAG_WORK_PHONE',\n",
    "              'FLAG_EMAIL']\n",
    "\n",
    "assembler = VectorAssembler(inputCols=trainCols, outputCol='features')\n",
    "df_merged = assembler.transform(df_merged)"
   ]
  },
  {
   "cell_type": "code",
   "execution_count": null,
   "metadata": {
    "id": "vbHhfFpJU1Jr",
    "outputId": "6bce64f1-91f1-453b-81af-0b4aafa468bb"
   },
   "outputs": [
    {
     "name": "stdout",
     "output_type": "stream",
     "text": [
      "+--------------------+\n",
      "|            features|\n",
      "+--------------------+\n",
      "|(44,[1,4,8,12,17,...|\n",
      "|(44,[0,4,9,13,18,...|\n",
      "|(44,[0,4,8,12,19,...|\n",
      "|(44,[1,4,8,12,17,...|\n",
      "|(44,[0,4,8,12,17,...|\n",
      "|(44,[0,5,8,12,19,...|\n",
      "|(44,[0,4,10,12,17...|\n",
      "|(44,[1,6,11,12,17...|\n",
      "|(44,[0,4,8,12,17,...|\n",
      "|(44,[0,4,9,12,17,...|\n",
      "|(44,[0,4,10,12,20...|\n",
      "|(44,[0,4,8,12,18,...|\n",
      "|(44,[0,4,8,12,17,...|\n",
      "|(44,[1,4,8,12,17,...|\n",
      "|(44,[1,5,9,12,17,...|\n",
      "|(44,[0,4,8,13,17,...|\n",
      "|(44,[1,4,8,12,17,...|\n",
      "|(44,[0,4,10,12,17...|\n",
      "|(44,[1,5,8,13,19,...|\n",
      "|(44,[0,4,8,13,17,...|\n",
      "+--------------------+\n",
      "only showing top 20 rows\n",
      "\n"
     ]
    }
   ],
   "source": [
    "df_merged.select('features').show()"
   ]
  },
  {
   "cell_type": "markdown",
   "metadata": {
    "id": "clzZpIdVU1Jr"
   },
   "source": [
    "#### Let us split the dataset now with seed value 2018"
   ]
  },
  {
   "cell_type": "code",
   "execution_count": null,
   "metadata": {
    "id": "pSYzsiosU1Jr"
   },
   "outputs": [],
   "source": [
    "df_train, df_test = df_merged.randomSplit([0.7,0.3], 2018)"
   ]
  },
  {
   "cell_type": "code",
   "execution_count": null,
   "metadata": {
    "id": "ThcERMTVU1Jr"
   },
   "outputs": [],
   "source": [
    "# train model in the training dataset\n",
    "\n",
    "# import the logistic model\n",
    "from pyspark.ml.classification import LogisticRegression\n",
    "\n",
    "# create the logistic model, configure it and call fit it to the data. \n",
    "lr = LogisticRegression(featuresCol='features', labelCol='DELINQUENT')\n",
    "model_1 = lr.fit(df_train)"
   ]
  },
  {
   "cell_type": "markdown",
   "metadata": {
    "id": "70QOj2aXU1Jr"
   },
   "source": [
    "## Model Evaluation - Model 1"
   ]
  },
  {
   "cell_type": "code",
   "execution_count": null,
   "metadata": {
    "id": "7RNM1K_GU1Jr",
    "outputId": "e331aefb-50a6-44f7-f4b0-a0b8a22406c6"
   },
   "outputs": [
    {
     "data": {
      "text/plain": [
       "[1.0, 0.01]"
      ]
     },
     "execution_count": 143,
     "metadata": {
      "tags": []
     },
     "output_type": "execute_result"
    }
   ],
   "source": [
    "# use the model to predict the class labels of test data. \n",
    "\n",
    "result_test = model_1.evaluate(df_test)\n",
    "\n",
    "result_test.recallByLabel"
   ]
  },
  {
   "cell_type": "markdown",
   "metadata": {
    "id": "ry_-YxZ0U1Jr"
   },
   "source": [
    "#### The above model predicts all the non DELINQUENT cases correctly but DELINQUENT cases the recall value is very less 0.01 with a default threshold of 0.5"
   ]
  },
  {
   "cell_type": "code",
   "execution_count": null,
   "metadata": {
    "id": "9rjKoeq3U1Jr",
    "outputId": "76a8c3f6-2840-4f83-bdab-7ff15e627b27"
   },
   "outputs": [
    {
     "data": {
      "text/plain": [
       "[0.9808880308880309, 1.0]"
      ]
     },
     "execution_count": 144,
     "metadata": {
      "tags": []
     },
     "output_type": "execute_result"
    }
   ],
   "source": [
    "result_test.precisionByLabel"
   ]
  },
  {
   "cell_type": "markdown",
   "metadata": {
    "id": "oRMAM0VRU1Jr"
   },
   "source": [
    "#### Let us calculate F1 score of the model for DELINQUENT customers (target variable = 1)"
   ]
  },
  {
   "cell_type": "markdown",
   "metadata": {
    "id": "CuqAadznU1Jr"
   },
   "source": [
    "### F1 score = 2 * ((Recall * Precision)/(Recall * Precision))"
   ]
  },
  {
   "cell_type": "code",
   "execution_count": null,
   "metadata": {
    "id": "O5SPt6tyU1Jr",
    "outputId": "5a0e25c6-95ff-4a61-dd17-296757e89cc8"
   },
   "outputs": [
    {
     "data": {
      "text/plain": [
       "0.019801980198019802"
      ]
     },
     "execution_count": 145,
     "metadata": {
      "tags": []
     },
     "output_type": "execute_result"
    }
   ],
   "source": [
    "recall_for_delinquent = result_test.recallByLabel[1]\n",
    "precision_for_delinquent = result_test.precisionByLabel[1]\n",
    "f1score = 2 * ((recall_for_delinquent * precision_for_delinquent)/(recall_for_delinquent + precision_for_delinquent))\n",
    "f1score"
   ]
  },
  {
   "cell_type": "code",
   "execution_count": null,
   "metadata": {
    "id": "HWerTdGfU1Js",
    "outputId": "cd506901-3d66-4e1d-ce36-a52b77b12821"
   },
   "outputs": [
    {
     "data": {
      "image/png": "[encoded data removed]",
      "text/plain": [
       "<Figure size 432x288 with 1 Axes>"
      ]
     },
     "metadata": {
      "needs_background": "light",
      "tags": []
     },
     "output_type": "display_data"
    },
    {
     "name": "stdout",
     "output_type": "stream",
     "text": [
      "TestSet areaUnderROC: 0.684226538353612\n"
     ]
    }
   ],
   "source": [
    "testSet = model_1.summary\n",
    "roc = testSet.roc.toPandas()\n",
    "plt.plot(roc['FPR'],roc['TPR'])\n",
    "plt.ylabel('False Positive Rate')\n",
    "plt.xlabel('True Positive Rate')\n",
    "plt.title('ROC Curve')\n",
    "plt.show()\n",
    "print('TestSet areaUnderROC: ' + str(testSet.areaUnderROC))"
   ]
  },
  {
   "cell_type": "markdown",
   "metadata": {
    "id": "uINPqqC8U1Js"
   },
   "source": [
    "#### Calculation of KS Statistic"
   ]
  },
  {
   "cell_type": "markdown",
   "metadata": {
    "id": "tjfwCiIcU1Js"
   },
   "source": [
    "#### Let us take a look at preditions and probabilities to calculate KS Statistic"
   ]
  },
  {
   "cell_type": "code",
   "execution_count": null,
   "metadata": {
    "id": "_MnQubHlU1Js"
   },
   "outputs": [],
   "source": [
    "predict_test = model_1.transform(df_test)"
   ]
  },
  {
   "cell_type": "code",
   "execution_count": null,
   "metadata": {
    "id": "RhOof7TwU1Js",
    "outputId": "e9e99ea5-0036-4a1a-d827-3544e7ee5901"
   },
   "outputs": [
    {
     "name": "stdout",
     "output_type": "stream",
     "text": [
      "root\n",
      " |-- ID: integer (nullable = true)\n",
      " |-- CODE_GENDER: string (nullable = true)\n",
      " |-- FLAG_OWN_CAR: string (nullable = true)\n",
      " |-- FLAG_OWN_REALTY: string (nullable = true)\n",
      " |-- CNT_CHILDREN: integer (nullable = true)\n",
      " |-- AMT_INCOME_TOTAL: double (nullable = true)\n",
      " |-- NAME_INCOME_TYPE: string (nullable = true)\n",
      " |-- NAME_EDUCATION_TYPE: string (nullable = true)\n",
      " |-- NAME_FAMILY_STATUS: string (nullable = true)\n",
      " |-- NAME_HOUSING_TYPE: string (nullable = true)\n",
      " |-- FLAG_WORK_PHONE: integer (nullable = true)\n",
      " |-- FLAG_EMAIL: integer (nullable = true)\n",
      " |-- OCCUPATION_TYPE: string (nullable = true)\n",
      " |-- CNT_FAM_MEMBERS: double (nullable = true)\n",
      " |-- DELINQUENT: integer (nullable = false)\n",
      " |-- DAYS_BIRTH_ABS: integer (nullable = true)\n",
      " |-- DAYS_EMPLOYED_ABS: integer (nullable = true)\n",
      " |-- NAME_INCOME_TYPE_ix: double (nullable = false)\n",
      " |-- NAME_EDUCATION_TYPE_ix: double (nullable = false)\n",
      " |-- NAME_FAMILY_STATUS_ix: double (nullable = false)\n",
      " |-- NAME_HOUSING_TYPE_ix: double (nullable = false)\n",
      " |-- CODE_GENDER_ix: double (nullable = false)\n",
      " |-- FLAG_OWN_CAR_ix: double (nullable = false)\n",
      " |-- FLAG_OWN_REALTY_ix: double (nullable = false)\n",
      " |-- OCCUPATION_TYPE_ix: double (nullable = false)\n",
      " |-- FLAG_OWN_CAR_ixEnc: vector (nullable = true)\n",
      " |-- FLAG_OWN_REALTY_ixEnc: vector (nullable = true)\n",
      " |-- CODE_GENDER_ixEnc: vector (nullable = true)\n",
      " |-- NAME_HOUSING_TYPE_ixEnc: vector (nullable = true)\n",
      " |-- NAME_EDUCATION_TYPE_ixEnc: vector (nullable = true)\n",
      " |-- NAME_FAMILY_STATUS_ixEnc: vector (nullable = true)\n",
      " |-- NAME_INCOME_TYPE_ixEnc: vector (nullable = true)\n",
      " |-- OCCUPATION_TYPE_ixEnc: vector (nullable = true)\n",
      " |-- features: vector (nullable = true)\n",
      " |-- rawPrediction: vector (nullable = true)\n",
      " |-- probability: vector (nullable = true)\n",
      " |-- prediction: double (nullable = false)\n",
      "\n"
     ]
    }
   ],
   "source": [
    "predict_test.printSchema()"
   ]
  },
  {
   "cell_type": "code",
   "execution_count": null,
   "metadata": {
    "id": "r89qwa7dU1Js",
    "outputId": "35728a86-f812-4d4b-e4fc-51f46b1d2565"
   },
   "outputs": [
    {
     "name": "stdout",
     "output_type": "stream",
     "text": [
      "+--------------------+--------------------+----------+----------+\n",
      "|         probability|       rawPrediction|prediction|DELINQUENT|\n",
      "+--------------------+--------------------+----------+----------+\n",
      "|[0.99066999920984...|[4.66514638155528...|       0.0|         0|\n",
      "|[0.98556715369784...|[4.22371066375288...|       0.0|         0|\n",
      "|[0.98833646213669...|[4.43955563478744...|       0.0|         0|\n",
      "|[0.99227461251085...|[4.85548791416976...|       0.0|         0|\n",
      "|[0.97745529987506...|[3.76945255117963...|       0.0|         0|\n",
      "|[0.98604023755715...|[4.25751808245054...|       0.0|         0|\n",
      "|[0.99087554985133...|[4.68763130609950...|       0.0|         0|\n",
      "|[0.98996035700135...|[4.59112334316601...|       0.0|         0|\n",
      "|[0.99652039817687...|[5.65735174066701...|       0.0|         0|\n",
      "|[0.99433537526368...|[5.16783389961304...|       0.0|         0|\n",
      "|[0.98725133864092...|[4.34949838144748...|       0.0|         0|\n",
      "|[0.99015476035932...|[4.61087320135321...|       0.0|         0|\n",
      "|[0.98658212993709...|[4.29765917055745...|       0.0|         0|\n",
      "|[0.99195045200782...|[4.81405721865104...|       0.0|         0|\n",
      "|[0.99473861104184...|[5.24208494779864...|       0.0|         0|\n",
      "|[0.95433260645758...|[3.03962770075105...|       0.0|         0|\n",
      "|[0.98186884764488...|[3.99182615963913...|       0.0|         0|\n",
      "|[0.93083514304667...|[2.59958930032951...|       0.0|         0|\n",
      "|[0.97396799245710...|[3.62205160091738...|       0.0|         0|\n",
      "|[0.99653069794596...|[5.66032650838279...|       0.0|         0|\n",
      "+--------------------+--------------------+----------+----------+\n",
      "only showing top 20 rows\n",
      "\n"
     ]
    }
   ],
   "source": [
    "predict_test.select('probability','rawPrediction','prediction','DELINQUENT').show()"
   ]
  },
  {
   "cell_type": "code",
   "execution_count": null,
   "metadata": {
    "id": "DhZJoB0AU1Js"
   },
   "outputs": [],
   "source": [
    "# Let us create another datafram with only those columns which are needed for calculation of KS Metric\n",
    "df_ks_metric = predict_test.select('ID','DELINQUENT','probability')"
   ]
  },
  {
   "cell_type": "code",
   "execution_count": null,
   "metadata": {
    "id": "sx5eyssMU1Js",
    "outputId": "d19fa6b1-0cc2-4a26-a3b7-3b57759e2473"
   },
   "outputs": [
    {
     "name": "stdout",
     "output_type": "stream",
     "text": [
      "+-------+----------+--------------------+\n",
      "|     ID|DELINQUENT|         probability|\n",
      "+-------+----------+--------------------+\n",
      "|5010511|         0|[0.99066999920984...|\n",
      "|5021819|         0|[0.98556715369784...|\n",
      "|5026273|         0|[0.98833646213669...|\n",
      "|5041388|         0|[0.99227461251085...|\n",
      "|5045138|         0|[0.97745529987506...|\n",
      "|5050941|         0|[0.98604023755715...|\n",
      "|5054673|         0|[0.99087554985133...|\n",
      "|5058466|         0|[0.98996035700135...|\n",
      "|5062610|         0|[0.99652039817687...|\n",
      "|5062739|         0|[0.99433537526368...|\n",
      "|5065839|         0|[0.98725133864092...|\n",
      "|5068033|         0|[0.99015476035932...|\n",
      "|5068226|         0|[0.98658212993709...|\n",
      "|5074703|         0|[0.99195045200782...|\n",
      "|5085860|         0|[0.99473861104184...|\n",
      "|5085984|         0|[0.95433260645758...|\n",
      "|5088728|         0|[0.98186884764488...|\n",
      "|5089084|         0|[0.93083514304667...|\n",
      "|5089948|         0|[0.97396799245710...|\n",
      "|5112603|         0|[0.99653069794596...|\n",
      "+-------+----------+--------------------+\n",
      "only showing top 20 rows\n",
      "\n"
     ]
    }
   ],
   "source": [
    "df_ks_metric.show()"
   ]
  },
  {
   "cell_type": "markdown",
   "metadata": {
    "id": "HP9nozFLU1Js"
   },
   "source": [
    "#### However we only need the 1st value of the probability column"
   ]
  },
  {
   "cell_type": "code",
   "execution_count": null,
   "metadata": {
    "id": "Un9B4lq3U1Js"
   },
   "outputs": [],
   "source": [
    "pd_ks_metric = df_ks_metric.toPandas()"
   ]
  },
  {
   "cell_type": "code",
   "execution_count": null,
   "metadata": {
    "id": "_xxtx4CjU1Jt",
    "outputId": "87152010-c660-4b90-cafd-c6898d7a9764"
   },
   "outputs": [
    {
     "name": "stdout",
     "output_type": "stream",
     "text": [
      "<class 'pandas.core.frame.DataFrame'>\n",
      "RangeIndex: 5181 entries, 0 to 5180\n",
      "Data columns (total 3 columns):\n",
      " #   Column       Non-Null Count  Dtype \n",
      "---  ------       --------------  ----- \n",
      " 0   ID           5181 non-null   int32 \n",
      " 1   DELINQUENT   5181 non-null   int32 \n",
      " 2   probability  5181 non-null   object\n",
      "dtypes: int32(2), object(1)\n",
      "memory usage: 81.1+ KB\n"
     ]
    }
   ],
   "source": [
    "pd_ks_metric.info()"
   ]
  },
  {
   "cell_type": "code",
   "execution_count": null,
   "metadata": {
    "id": "cgUA-OWUU1Jt"
   },
   "outputs": [],
   "source": [
    "import numpy as np\n",
    "pd_ks_metric['probability_actual'] = pd_ks_metric['probability'].apply(lambda x : np.array(x.toArray()).tolist())"
   ]
  },
  {
   "cell_type": "code",
   "execution_count": null,
   "metadata": {
    "id": "5ps8o2eMU1Jt",
    "outputId": "61f5da9d-57f6-438b-bd7e-7b2dbf53e704"
   },
   "outputs": [
    {
     "data": {
      "text/html": [
       "<div>\n",
       "<style scoped>\n",
       "    .dataframe tbody tr th:only-of-type {\n",
       "        vertical-align: middle;\n",
       "    }\n",
       "\n",
       "    .dataframe tbody tr th {\n",
       "        vertical-align: top;\n",
       "    }\n",
       "\n",
       "    .dataframe thead th {\n",
       "        text-align: right;\n",
       "    }\n",
       "</style>\n",
       "<table border=\"1\" class=\"dataframe\">\n",
       "  <thead>\n",
       "    <tr style=\"text-align: right;\">\n",
       "      <th></th>\n",
       "      <th>ID</th>\n",
       "      <th>DELINQUENT</th>\n",
       "      <th>probability</th>\n",
       "      <th>probability_actual</th>\n",
       "      <th>p_final</th>\n",
       "    </tr>\n",
       "  </thead>\n",
       "  <tbody>\n",
       "    <tr>\n",
       "      <th>0</th>\n",
       "      <td>5010511</td>\n",
       "      <td>0</td>\n",
       "      <td>[0.9906699992098489, 0.00933000079015123]</td>\n",
       "      <td>[0.9906699992098489, 0.00933000079015123]</td>\n",
       "      <td>0.990670</td>\n",
       "    </tr>\n",
       "    <tr>\n",
       "      <th>1</th>\n",
       "      <td>5021819</td>\n",
       "      <td>0</td>\n",
       "      <td>[0.9855671536978413, 0.014432846302158608]</td>\n",
       "      <td>[0.9855671536978413, 0.014432846302158608]</td>\n",
       "      <td>0.985567</td>\n",
       "    </tr>\n",
       "    <tr>\n",
       "      <th>2</th>\n",
       "      <td>5026273</td>\n",
       "      <td>0</td>\n",
       "      <td>[0.9883364621366981, 0.011663537863301949]</td>\n",
       "      <td>[0.9883364621366981, 0.011663537863301949]</td>\n",
       "      <td>0.988336</td>\n",
       "    </tr>\n",
       "    <tr>\n",
       "      <th>3</th>\n",
       "      <td>5041388</td>\n",
       "      <td>0</td>\n",
       "      <td>[0.9922746125108513, 0.007725387489148746]</td>\n",
       "      <td>[0.9922746125108513, 0.007725387489148746]</td>\n",
       "      <td>0.992275</td>\n",
       "    </tr>\n",
       "    <tr>\n",
       "      <th>4</th>\n",
       "      <td>5045138</td>\n",
       "      <td>0</td>\n",
       "      <td>[0.9774552998750662, 0.022544700124933755]</td>\n",
       "      <td>[0.9774552998750662, 0.022544700124933755]</td>\n",
       "      <td>0.977455</td>\n",
       "    </tr>\n",
       "  </tbody>\n",
       "</table>\n",
       "</div>"
      ],
      "text/plain": [
       "        ID  DELINQUENT                                 probability  \\\n",
       "0  5010511           0   [0.9906699992098489, 0.00933000079015123]   \n",
       "1  5021819           0  [0.9855671536978413, 0.014432846302158608]   \n",
       "2  5026273           0  [0.9883364621366981, 0.011663537863301949]   \n",
       "3  5041388           0  [0.9922746125108513, 0.007725387489148746]   \n",
       "4  5045138           0  [0.9774552998750662, 0.022544700124933755]   \n",
       "\n",
       "                           probability_actual   p_final  \n",
       "0   [0.9906699992098489, 0.00933000079015123]  0.990670  \n",
       "1  [0.9855671536978413, 0.014432846302158608]  0.985567  \n",
       "2  [0.9883364621366981, 0.011663537863301949]  0.988336  \n",
       "3  [0.9922746125108513, 0.007725387489148746]  0.992275  \n",
       "4  [0.9774552998750662, 0.022544700124933755]  0.977455  "
      ]
     },
     "execution_count": 155,
     "metadata": {
      "tags": []
     },
     "output_type": "execute_result"
    }
   ],
   "source": [
    "pd_ks_metric['p_final'] = pd_ks_metric['probability_actual'].apply(lambda x : x[0])\n",
    "pd_ks_metric.head()"
   ]
  },
  {
   "cell_type": "markdown",
   "metadata": {
    "id": "Nn16Y2SYU1Jt"
   },
   "source": [
    " - Dropping columns which are not needed"
   ]
  },
  {
   "cell_type": "code",
   "execution_count": null,
   "metadata": {
    "id": "_2DIB48qU1Jt",
    "outputId": "1ed46e53-3ddd-4081-ded8-2e73b4a66b0f"
   },
   "outputs": [
    {
     "data": {
      "text/html": [
       "<div>\n",
       "<style scoped>\n",
       "    .dataframe tbody tr th:only-of-type {\n",
       "        vertical-align: middle;\n",
       "    }\n",
       "\n",
       "    .dataframe tbody tr th {\n",
       "        vertical-align: top;\n",
       "    }\n",
       "\n",
       "    .dataframe thead th {\n",
       "        text-align: right;\n",
       "    }\n",
       "</style>\n",
       "<table border=\"1\" class=\"dataframe\">\n",
       "  <thead>\n",
       "    <tr style=\"text-align: right;\">\n",
       "      <th></th>\n",
       "      <th>ID</th>\n",
       "      <th>DELINQUENT</th>\n",
       "      <th>p_final</th>\n",
       "    </tr>\n",
       "  </thead>\n",
       "  <tbody>\n",
       "    <tr>\n",
       "      <th>0</th>\n",
       "      <td>5010511</td>\n",
       "      <td>0</td>\n",
       "      <td>0.990670</td>\n",
       "    </tr>\n",
       "    <tr>\n",
       "      <th>1</th>\n",
       "      <td>5021819</td>\n",
       "      <td>0</td>\n",
       "      <td>0.985567</td>\n",
       "    </tr>\n",
       "    <tr>\n",
       "      <th>2</th>\n",
       "      <td>5026273</td>\n",
       "      <td>0</td>\n",
       "      <td>0.988336</td>\n",
       "    </tr>\n",
       "    <tr>\n",
       "      <th>3</th>\n",
       "      <td>5041388</td>\n",
       "      <td>0</td>\n",
       "      <td>0.992275</td>\n",
       "    </tr>\n",
       "    <tr>\n",
       "      <th>4</th>\n",
       "      <td>5045138</td>\n",
       "      <td>0</td>\n",
       "      <td>0.977455</td>\n",
       "    </tr>\n",
       "  </tbody>\n",
       "</table>\n",
       "</div>"
      ],
      "text/plain": [
       "        ID  DELINQUENT   p_final\n",
       "0  5010511           0  0.990670\n",
       "1  5021819           0  0.985567\n",
       "2  5026273           0  0.988336\n",
       "3  5041388           0  0.992275\n",
       "4  5045138           0  0.977455"
      ]
     },
     "execution_count": 156,
     "metadata": {
      "tags": []
     },
     "output_type": "execute_result"
    }
   ],
   "source": [
    "pd_ks_metric_calc = pd_ks_metric.drop(columns=['probability','probability_actual'])\n",
    "pd_ks_metric_calc.head()"
   ]
  },
  {
   "cell_type": "markdown",
   "metadata": {
    "id": "awY4ndmnU1Jt"
   },
   "source": [
    "#### Separate the probability into bins"
   ]
  },
  {
   "cell_type": "code",
   "execution_count": null,
   "metadata": {
    "id": "rt0VFzWIU1Jt",
    "outputId": "a9a4d4c2-1668-4612-8260-697ebd77f39f"
   },
   "outputs": [
    {
     "data": {
      "text/html": [
       "<div>\n",
       "<style scoped>\n",
       "    .dataframe tbody tr th:only-of-type {\n",
       "        vertical-align: middle;\n",
       "    }\n",
       "\n",
       "    .dataframe tbody tr th {\n",
       "        vertical-align: top;\n",
       "    }\n",
       "\n",
       "    .dataframe thead th {\n",
       "        text-align: right;\n",
       "    }\n",
       "</style>\n",
       "<table border=\"1\" class=\"dataframe\">\n",
       "  <thead>\n",
       "    <tr style=\"text-align: right;\">\n",
       "      <th></th>\n",
       "      <th>ID</th>\n",
       "      <th>DELINQUENT</th>\n",
       "      <th>p_final</th>\n",
       "      <th>good</th>\n",
       "      <th>bucket</th>\n",
       "    </tr>\n",
       "  </thead>\n",
       "  <tbody>\n",
       "    <tr>\n",
       "      <th>0</th>\n",
       "      <td>5010511</td>\n",
       "      <td>0</td>\n",
       "      <td>0.990670</td>\n",
       "      <td>1</td>\n",
       "      <td>(0.99, 0.992]</td>\n",
       "    </tr>\n",
       "    <tr>\n",
       "      <th>1</th>\n",
       "      <td>5021819</td>\n",
       "      <td>0</td>\n",
       "      <td>0.985567</td>\n",
       "      <td>1</td>\n",
       "      <td>(0.984, 0.987]</td>\n",
       "    </tr>\n",
       "    <tr>\n",
       "      <th>2</th>\n",
       "      <td>5026273</td>\n",
       "      <td>0</td>\n",
       "      <td>0.988336</td>\n",
       "      <td>1</td>\n",
       "      <td>(0.987, 0.988]</td>\n",
       "    </tr>\n",
       "    <tr>\n",
       "      <th>3</th>\n",
       "      <td>5041388</td>\n",
       "      <td>0</td>\n",
       "      <td>0.992275</td>\n",
       "      <td>1</td>\n",
       "      <td>(0.992, 0.994]</td>\n",
       "    </tr>\n",
       "    <tr>\n",
       "      <th>4</th>\n",
       "      <td>5045138</td>\n",
       "      <td>0</td>\n",
       "      <td>0.977455</td>\n",
       "      <td>1</td>\n",
       "      <td>(0.977, 0.981]</td>\n",
       "    </tr>\n",
       "  </tbody>\n",
       "</table>\n",
       "</div>"
      ],
      "text/plain": [
       "        ID  DELINQUENT   p_final  good          bucket\n",
       "0  5010511           0  0.990670     1   (0.99, 0.992]\n",
       "1  5021819           0  0.985567     1  (0.984, 0.987]\n",
       "2  5026273           0  0.988336     1  (0.987, 0.988]\n",
       "3  5041388           0  0.992275     1  (0.992, 0.994]\n",
       "4  5045138           0  0.977455     1  (0.977, 0.981]"
      ]
     },
     "execution_count": 157,
     "metadata": {
      "tags": []
     },
     "output_type": "execute_result"
    }
   ],
   "source": [
    "import pandas as pd\n",
    "pd_ks_metric_calc['good'] = 1 - pd_ks_metric_calc.DELINQUENT\n",
    "pd_ks_metric_calc['bucket'] = pd.qcut(pd_ks_metric_calc.p_final, 10)\n",
    "pd_ks_metric_calc.head()"
   ]
  },
  {
   "cell_type": "markdown",
   "metadata": {
    "id": "g3rmOUgPU1Jt"
   },
   "source": [
    "#### Calculate good, bad and total for each bucket with DELINQUENT being 1 as bad"
   ]
  },
  {
   "cell_type": "code",
   "execution_count": null,
   "metadata": {
    "id": "WCd2TQWrU1Jt",
    "outputId": "9b65c72f-6432-44a9-e198-f5bfcee91f03"
   },
   "outputs": [
    {
     "data": {
      "text/html": [
       "<div>\n",
       "<style scoped>\n",
       "    .dataframe tbody tr th:only-of-type {\n",
       "        vertical-align: middle;\n",
       "    }\n",
       "\n",
       "    .dataframe tbody tr th {\n",
       "        vertical-align: top;\n",
       "    }\n",
       "\n",
       "    .dataframe thead th {\n",
       "        text-align: right;\n",
       "    }\n",
       "</style>\n",
       "<table border=\"1\" class=\"dataframe\">\n",
       "  <thead>\n",
       "    <tr style=\"text-align: right;\">\n",
       "      <th></th>\n",
       "      <th>min_scr</th>\n",
       "      <th>max_scr</th>\n",
       "      <th>bads</th>\n",
       "      <th>goods</th>\n",
       "      <th>total</th>\n",
       "    </tr>\n",
       "  </thead>\n",
       "  <tbody>\n",
       "    <tr>\n",
       "      <th>0</th>\n",
       "      <td>0.437306</td>\n",
       "      <td>0.969606</td>\n",
       "      <td>25.0</td>\n",
       "      <td>496.0</td>\n",
       "      <td>521.0</td>\n",
       "    </tr>\n",
       "    <tr>\n",
       "      <th>1</th>\n",
       "      <td>0.969619</td>\n",
       "      <td>0.977147</td>\n",
       "      <td>4.0</td>\n",
       "      <td>515.0</td>\n",
       "      <td>519.0</td>\n",
       "    </tr>\n",
       "    <tr>\n",
       "      <th>2</th>\n",
       "      <td>0.977150</td>\n",
       "      <td>0.981274</td>\n",
       "      <td>11.0</td>\n",
       "      <td>504.0</td>\n",
       "      <td>515.0</td>\n",
       "    </tr>\n",
       "    <tr>\n",
       "      <th>3</th>\n",
       "      <td>0.981277</td>\n",
       "      <td>0.984153</td>\n",
       "      <td>10.0</td>\n",
       "      <td>508.0</td>\n",
       "      <td>518.0</td>\n",
       "    </tr>\n",
       "    <tr>\n",
       "      <th>4</th>\n",
       "      <td>0.984154</td>\n",
       "      <td>0.986552</td>\n",
       "      <td>12.0</td>\n",
       "      <td>506.0</td>\n",
       "      <td>518.0</td>\n",
       "    </tr>\n",
       "    <tr>\n",
       "      <th>5</th>\n",
       "      <td>0.986555</td>\n",
       "      <td>0.988448</td>\n",
       "      <td>12.0</td>\n",
       "      <td>506.0</td>\n",
       "      <td>518.0</td>\n",
       "    </tr>\n",
       "    <tr>\n",
       "      <th>6</th>\n",
       "      <td>0.988449</td>\n",
       "      <td>0.990064</td>\n",
       "      <td>9.0</td>\n",
       "      <td>510.0</td>\n",
       "      <td>519.0</td>\n",
       "    </tr>\n",
       "    <tr>\n",
       "      <th>7</th>\n",
       "      <td>0.990091</td>\n",
       "      <td>0.991730</td>\n",
       "      <td>4.0</td>\n",
       "      <td>513.0</td>\n",
       "      <td>517.0</td>\n",
       "    </tr>\n",
       "    <tr>\n",
       "      <th>8</th>\n",
       "      <td>0.991730</td>\n",
       "      <td>0.993544</td>\n",
       "      <td>6.0</td>\n",
       "      <td>512.0</td>\n",
       "      <td>518.0</td>\n",
       "    </tr>\n",
       "    <tr>\n",
       "      <th>9</th>\n",
       "      <td>0.993547</td>\n",
       "      <td>1.000000</td>\n",
       "      <td>7.0</td>\n",
       "      <td>511.0</td>\n",
       "      <td>518.0</td>\n",
       "    </tr>\n",
       "  </tbody>\n",
       "</table>\n",
       "</div>"
      ],
      "text/plain": [
       "    min_scr   max_scr  bads  goods  total\n",
       "0  0.437306  0.969606  25.0  496.0  521.0\n",
       "1  0.969619  0.977147   4.0  515.0  519.0\n",
       "2  0.977150  0.981274  11.0  504.0  515.0\n",
       "3  0.981277  0.984153  10.0  508.0  518.0\n",
       "4  0.984154  0.986552  12.0  506.0  518.0\n",
       "5  0.986555  0.988448  12.0  506.0  518.0\n",
       "6  0.988449  0.990064   9.0  510.0  519.0\n",
       "7  0.990091  0.991730   4.0  513.0  517.0\n",
       "8  0.991730  0.993544   6.0  512.0  518.0\n",
       "9  0.993547  1.000000   7.0  511.0  518.0"
      ]
     },
     "execution_count": 158,
     "metadata": {
      "tags": []
     },
     "output_type": "execute_result"
    }
   ],
   "source": [
    "pd_prob_grouping = pd_ks_metric_calc.groupby('bucket', as_index = False)\n",
    "pd_final_grouping = pd.DataFrame()\n",
    "pd_final_grouping['min_scr'] = pd_prob_grouping.min().p_final\n",
    "pd_final_grouping['max_scr'] = pd_prob_grouping.max().p_final\n",
    "pd_final_grouping['bads'] = pd_prob_grouping.sum().DELINQUENT\n",
    "pd_final_grouping['goods'] = pd_prob_grouping.sum().good\n",
    "pd_final_grouping['total'] = pd_final_grouping.bads + pd_final_grouping.goods\n",
    "pd_final_grouping"
   ]
  },
  {
   "cell_type": "markdown",
   "metadata": {
    "id": "DVkKd4o-U1Jt"
   },
   "source": [
    "#### Calculate cumulative good percentage, bad percentage and KS Statistic"
   ]
  },
  {
   "cell_type": "code",
   "execution_count": null,
   "metadata": {
    "id": "OZZv-PBYU1Ju",
    "outputId": "cb110dbd-b9a5-450a-e6d3-63ee7f7009c4"
   },
   "outputs": [
    {
     "data": {
      "text/html": [
       "<div>\n",
       "<style scoped>\n",
       "    .dataframe tbody tr th:only-of-type {\n",
       "        vertical-align: middle;\n",
       "    }\n",
       "\n",
       "    .dataframe tbody tr th {\n",
       "        vertical-align: top;\n",
       "    }\n",
       "\n",
       "    .dataframe thead th {\n",
       "        text-align: right;\n",
       "    }\n",
       "</style>\n",
       "<table border=\"1\" class=\"dataframe\">\n",
       "  <thead>\n",
       "    <tr style=\"text-align: right;\">\n",
       "      <th></th>\n",
       "      <th>min_scr</th>\n",
       "      <th>max_scr</th>\n",
       "      <th>bads</th>\n",
       "      <th>goods</th>\n",
       "      <th>total</th>\n",
       "      <th>odds</th>\n",
       "      <th>bad_rate</th>\n",
       "      <th>ks</th>\n",
       "      <th>max_ks</th>\n",
       "    </tr>\n",
       "  </thead>\n",
       "  <tbody>\n",
       "    <tr>\n",
       "      <th>0</th>\n",
       "      <td>0.437306</td>\n",
       "      <td>0.969606</td>\n",
       "      <td>25.0</td>\n",
       "      <td>496.0</td>\n",
       "      <td>521.0</td>\n",
       "      <td>19.84</td>\n",
       "      <td>4.80%</td>\n",
       "      <td>15.24</td>\n",
       "      <td>&lt;----</td>\n",
       "    </tr>\n",
       "    <tr>\n",
       "      <th>1</th>\n",
       "      <td>0.969619</td>\n",
       "      <td>0.977147</td>\n",
       "      <td>4.0</td>\n",
       "      <td>515.0</td>\n",
       "      <td>519.0</td>\n",
       "      <td>128.75</td>\n",
       "      <td>0.77%</td>\n",
       "      <td>9.10</td>\n",
       "      <td></td>\n",
       "    </tr>\n",
       "    <tr>\n",
       "      <th>2</th>\n",
       "      <td>0.977150</td>\n",
       "      <td>0.981274</td>\n",
       "      <td>11.0</td>\n",
       "      <td>504.0</td>\n",
       "      <td>515.0</td>\n",
       "      <td>45.82</td>\n",
       "      <td>2.14%</td>\n",
       "      <td>10.18</td>\n",
       "      <td></td>\n",
       "    </tr>\n",
       "    <tr>\n",
       "      <th>3</th>\n",
       "      <td>0.981277</td>\n",
       "      <td>0.984153</td>\n",
       "      <td>10.0</td>\n",
       "      <td>508.0</td>\n",
       "      <td>518.0</td>\n",
       "      <td>50.80</td>\n",
       "      <td>1.93%</td>\n",
       "      <td>10.19</td>\n",
       "      <td></td>\n",
       "    </tr>\n",
       "    <tr>\n",
       "      <th>4</th>\n",
       "      <td>0.984154</td>\n",
       "      <td>0.986552</td>\n",
       "      <td>12.0</td>\n",
       "      <td>506.0</td>\n",
       "      <td>518.0</td>\n",
       "      <td>42.17</td>\n",
       "      <td>2.32%</td>\n",
       "      <td>12.23</td>\n",
       "      <td></td>\n",
       "    </tr>\n",
       "    <tr>\n",
       "      <th>5</th>\n",
       "      <td>0.986555</td>\n",
       "      <td>0.988448</td>\n",
       "      <td>12.0</td>\n",
       "      <td>506.0</td>\n",
       "      <td>518.0</td>\n",
       "      <td>42.17</td>\n",
       "      <td>2.32%</td>\n",
       "      <td>14.27</td>\n",
       "      <td></td>\n",
       "    </tr>\n",
       "    <tr>\n",
       "      <th>6</th>\n",
       "      <td>0.988449</td>\n",
       "      <td>0.990064</td>\n",
       "      <td>9.0</td>\n",
       "      <td>510.0</td>\n",
       "      <td>519.0</td>\n",
       "      <td>56.67</td>\n",
       "      <td>1.73%</td>\n",
       "      <td>13.23</td>\n",
       "      <td></td>\n",
       "    </tr>\n",
       "    <tr>\n",
       "      <th>7</th>\n",
       "      <td>0.990091</td>\n",
       "      <td>0.991730</td>\n",
       "      <td>4.0</td>\n",
       "      <td>513.0</td>\n",
       "      <td>517.0</td>\n",
       "      <td>128.25</td>\n",
       "      <td>0.77%</td>\n",
       "      <td>7.13</td>\n",
       "      <td></td>\n",
       "    </tr>\n",
       "    <tr>\n",
       "      <th>8</th>\n",
       "      <td>0.991730</td>\n",
       "      <td>0.993544</td>\n",
       "      <td>6.0</td>\n",
       "      <td>512.0</td>\n",
       "      <td>518.0</td>\n",
       "      <td>85.33</td>\n",
       "      <td>1.16%</td>\n",
       "      <td>3.06</td>\n",
       "      <td></td>\n",
       "    </tr>\n",
       "    <tr>\n",
       "      <th>9</th>\n",
       "      <td>0.993547</td>\n",
       "      <td>1.000000</td>\n",
       "      <td>7.0</td>\n",
       "      <td>511.0</td>\n",
       "      <td>518.0</td>\n",
       "      <td>73.00</td>\n",
       "      <td>1.35%</td>\n",
       "      <td>0.00</td>\n",
       "      <td></td>\n",
       "    </tr>\n",
       "  </tbody>\n",
       "</table>\n",
       "</div>"
      ],
      "text/plain": [
       "    min_scr   max_scr  bads  goods  total    odds bad_rate     ks max_ks\n",
       "0  0.437306  0.969606  25.0  496.0  521.0   19.84    4.80%  15.24  <----\n",
       "1  0.969619  0.977147   4.0  515.0  519.0  128.75    0.77%   9.10       \n",
       "2  0.977150  0.981274  11.0  504.0  515.0   45.82    2.14%  10.18       \n",
       "3  0.981277  0.984153  10.0  508.0  518.0   50.80    1.93%  10.19       \n",
       "4  0.984154  0.986552  12.0  506.0  518.0   42.17    2.32%  12.23       \n",
       "5  0.986555  0.988448  12.0  506.0  518.0   42.17    2.32%  14.27       \n",
       "6  0.988449  0.990064   9.0  510.0  519.0   56.67    1.73%  13.23       \n",
       "7  0.990091  0.991730   4.0  513.0  517.0  128.25    0.77%   7.13       \n",
       "8  0.991730  0.993544   6.0  512.0  518.0   85.33    1.16%   3.06       \n",
       "9  0.993547  1.000000   7.0  511.0  518.0   73.00    1.35%   0.00       "
      ]
     },
     "execution_count": 159,
     "metadata": {
      "tags": []
     },
     "output_type": "execute_result"
    }
   ],
   "source": [
    "pd_ks_calc = (pd_final_grouping.sort_values(by = 'min_scr')).reset_index(drop = True)\n",
    "pd_ks_calc['odds'] = (pd_ks_calc.goods / pd_ks_calc.bads).apply('{0:.2f}'.format)\n",
    "pd_ks_calc['bad_rate'] = (pd_ks_calc.bads / pd_ks_calc.total).apply('{0:.2%}'.format)\n",
    "pd_ks_calc['ks'] = np.round(((pd_ks_calc.bads / pd_ks_metric_calc.DELINQUENT.sum()).cumsum() - (pd_ks_calc.goods / pd_ks_metric_calc.good.sum()).cumsum()), 4) * 100\n",
    "flag = lambda x: '<----' if x == pd_ks_calc.ks.max() else ''\n",
    "pd_ks_calc['max_ks'] = pd_ks_calc.ks.apply(flag)\n",
    "pd_ks_calc"
   ]
  },
  {
   "cell_type": "markdown",
   "metadata": {
    "id": "XotHqCZIU1Ju"
   },
   "source": [
    "#### From above calculations the highest KS value is 15.24 with probability 0.4373"
   ]
  },
  {
   "cell_type": "markdown",
   "metadata": {
    "id": "I6Li66eSU1Ju"
   },
   "source": [
    "## Model Building - (Model 2)"
   ]
  },
  {
   "cell_type": "markdown",
   "metadata": {
    "id": "i2puDYlTU1Ju"
   },
   "source": [
    "#### For building the 2nd model, let us consider identification of Variance Inflation Factor (VIF) as one of the elimination techniques since it avoids multicollinearity in the model. We will identify VIF using statsmodels"
   ]
  },
  {
   "cell_type": "code",
   "execution_count": null,
   "metadata": {
    "id": "PMQF51RNU1Ju",
    "outputId": "f4d90d51-8f94-435a-f21d-d0781ed3f559"
   },
   "outputs": [
    {
     "name": "stdout",
     "output_type": "stream",
     "text": [
      "\u001b[33mWARNING: Running pip install with root privileges is generally not a good idea. Try `pip3 install --user` instead.\u001b[0m\n",
      "Requirement already satisfied: statsmodels in /usr/local/lib64/python3.7/site-packages\n",
      "Requirement already satisfied: numpy>=1.15 in /usr/local/lib64/python3.7/site-packages (from statsmodels)\n",
      "Requirement already satisfied: pandas>=0.21 in /usr/local/lib64/python3.7/site-packages (from statsmodels)\n",
      "Requirement already satisfied: patsy>=0.5 in /usr/local/lib/python3.7/site-packages (from statsmodels)\n",
      "Requirement already satisfied: scipy>=1.1 in /usr/local/lib64/python3.7/site-packages (from statsmodels)\n",
      "Requirement already satisfied: pytz>=2017.3 in /usr/local/lib/python3.7/site-packages (from pandas>=0.21->statsmodels)\n",
      "Requirement already satisfied: python-dateutil>=2.7.3 in /usr/local/lib/python3.7/site-packages (from pandas>=0.21->statsmodels)\n",
      "Requirement already satisfied: six in /usr/local/lib/python3.7/site-packages (from patsy>=0.5->statsmodels)\n"
     ]
    }
   ],
   "source": [
    "! sudo pip3 install statsmodels"
   ]
  },
  {
   "cell_type": "code",
   "execution_count": null,
   "metadata": {
    "id": "EXxgrlgmU1Ju"
   },
   "outputs": [],
   "source": [
    "import statsmodels.api as sm"
   ]
  },
  {
   "cell_type": "code",
   "execution_count": null,
   "metadata": {
    "id": "HdvySNOHU1Ju"
   },
   "outputs": [],
   "source": [
    "# Check for the VIF values of the feature variables. \n",
    "from statsmodels.stats.outliers_influence import variance_inflation_factor"
   ]
  },
  {
   "cell_type": "code",
   "execution_count": null,
   "metadata": {
    "id": "kqA6G67BU1Ju",
    "outputId": "5baa17c9-ab2c-4995-cea5-163810f91bf2"
   },
   "outputs": [
    {
     "data": {
      "text/html": [
       "<div>\n",
       "<style scoped>\n",
       "    .dataframe tbody tr th:only-of-type {\n",
       "        vertical-align: middle;\n",
       "    }\n",
       "\n",
       "    .dataframe tbody tr th {\n",
       "        vertical-align: top;\n",
       "    }\n",
       "\n",
       "    .dataframe thead th {\n",
       "        text-align: right;\n",
       "    }\n",
       "</style>\n",
       "<table border=\"1\" class=\"dataframe\">\n",
       "  <thead>\n",
       "    <tr style=\"text-align: right;\">\n",
       "      <th></th>\n",
       "      <th>Features</th>\n",
       "      <th>VIF</th>\n",
       "    </tr>\n",
       "  </thead>\n",
       "  <tbody>\n",
       "    <tr>\n",
       "      <th>14</th>\n",
       "      <td>CNT_FAM_MEMBERS</td>\n",
       "      <td>32.595114</td>\n",
       "    </tr>\n",
       "    <tr>\n",
       "      <th>9</th>\n",
       "      <td>DAYS_BIRTH_ABS</td>\n",
       "      <td>18.640025</td>\n",
       "    </tr>\n",
       "    <tr>\n",
       "      <th>4</th>\n",
       "      <td>AMT_INCOME_TOTAL</td>\n",
       "      <td>11.419453</td>\n",
       "    </tr>\n",
       "    <tr>\n",
       "      <th>3</th>\n",
       "      <td>CNT_CHILDREN</td>\n",
       "      <td>7.238635</td>\n",
       "    </tr>\n",
       "    <tr>\n",
       "      <th>10</th>\n",
       "      <td>DAYS_EMPLOYED_ABS</td>\n",
       "      <td>2.562024</td>\n",
       "    </tr>\n",
       "    <tr>\n",
       "      <th>13</th>\n",
       "      <td>OCCUPATION_TYPE_ix</td>\n",
       "      <td>1.956255</td>\n",
       "    </tr>\n",
       "    <tr>\n",
       "      <th>0</th>\n",
       "      <td>CODE_GENDER_ix</td>\n",
       "      <td>1.854224</td>\n",
       "    </tr>\n",
       "    <tr>\n",
       "      <th>1</th>\n",
       "      <td>FLAG_OWN_CAR_ix</td>\n",
       "      <td>1.843226</td>\n",
       "    </tr>\n",
       "    <tr>\n",
       "      <th>7</th>\n",
       "      <td>NAME_FAMILY_STATUS_ix</td>\n",
       "      <td>1.818486</td>\n",
       "    </tr>\n",
       "    <tr>\n",
       "      <th>2</th>\n",
       "      <td>FLAG_OWN_REALTY_ix</td>\n",
       "      <td>1.658214</td>\n",
       "    </tr>\n",
       "    <tr>\n",
       "      <th>11</th>\n",
       "      <td>FLAG_WORK_PHONE</td>\n",
       "      <td>1.484085</td>\n",
       "    </tr>\n",
       "    <tr>\n",
       "      <th>5</th>\n",
       "      <td>NAME_INCOME_TYPE_ix</td>\n",
       "      <td>1.473667</td>\n",
       "    </tr>\n",
       "    <tr>\n",
       "      <th>6</th>\n",
       "      <td>NAME_EDUCATION_TYPE_ix</td>\n",
       "      <td>1.417253</td>\n",
       "    </tr>\n",
       "    <tr>\n",
       "      <th>8</th>\n",
       "      <td>NAME_HOUSING_TYPE_ix</td>\n",
       "      <td>1.133927</td>\n",
       "    </tr>\n",
       "    <tr>\n",
       "      <th>12</th>\n",
       "      <td>FLAG_EMAIL</td>\n",
       "      <td>1.123933</td>\n",
       "    </tr>\n",
       "  </tbody>\n",
       "</table>\n",
       "</div>"
      ],
      "text/plain": [
       "                  Features        VIF\n",
       "14         CNT_FAM_MEMBERS  32.595114\n",
       "9           DAYS_BIRTH_ABS  18.640025\n",
       "4         AMT_INCOME_TOTAL  11.419453\n",
       "3             CNT_CHILDREN   7.238635\n",
       "10       DAYS_EMPLOYED_ABS   2.562024\n",
       "13      OCCUPATION_TYPE_ix   1.956255\n",
       "0           CODE_GENDER_ix   1.854224\n",
       "1          FLAG_OWN_CAR_ix   1.843226\n",
       "7    NAME_FAMILY_STATUS_ix   1.818486\n",
       "2       FLAG_OWN_REALTY_ix   1.658214\n",
       "11         FLAG_WORK_PHONE   1.484085\n",
       "5      NAME_INCOME_TYPE_ix   1.473667\n",
       "6   NAME_EDUCATION_TYPE_ix   1.417253\n",
       "8     NAME_HOUSING_TYPE_ix   1.133927\n",
       "12              FLAG_EMAIL   1.123933"
      ]
     },
     "execution_count": 163,
     "metadata": {
      "tags": []
     },
     "output_type": "execute_result"
    }
   ],
   "source": [
    "# Create a dataframe that will contain the names of all the feature variables and their respective VIFs\n",
    "vif = pd.DataFrame()\n",
    "pd_dataset = df_merged.toPandas()\n",
    "cols = ['CODE_GENDER_ix',\n",
    "        'FLAG_OWN_CAR_ix',\n",
    "        'FLAG_OWN_REALTY_ix',\n",
    "        'CNT_CHILDREN',\n",
    "        'AMT_INCOME_TOTAL',\n",
    "        'NAME_INCOME_TYPE_ix',\n",
    "        'NAME_EDUCATION_TYPE_ix',\n",
    "        'NAME_FAMILY_STATUS_ix',\n",
    "        'NAME_HOUSING_TYPE_ix',\n",
    "        'DAYS_BIRTH_ABS',\n",
    "        'DAYS_EMPLOYED_ABS',\n",
    "        'FLAG_WORK_PHONE',\n",
    "        'FLAG_EMAIL',\n",
    "        'OCCUPATION_TYPE_ix',\n",
    "        'CNT_FAM_MEMBERS']\n",
    "vif['Features'] = pd_dataset[cols].columns\n",
    "vif['VIF'] = [variance_inflation_factor(pd_dataset[cols].values, i) for i in range(pd_dataset[cols].shape[1])]\n",
    "vif = vif.sort_values(by = \"VIF\", ascending = False)\n",
    "vif"
   ]
  },
  {
   "cell_type": "markdown",
   "metadata": {
    "id": "ViJqYK2wU1Ju"
   },
   "source": [
    "#### General rules for VIF\n",
    " - greater than 10: VIF value is definitely high, and the variable should be eliminated.\n",
    "\n",
    " - greater than 5: Can be okay, but it is worth inspecting.\n",
    "\n",
    " - less than 5: Good VIF value. No need to eliminate this variable. "
   ]
  },
  {
   "cell_type": "markdown",
   "metadata": {
    "id": "Ro6MEVn1U1Ju"
   },
   "source": [
    "#### From above list we can see that CNT_FAM_MEMBERS, DAYS_BIRTH_ABS and AMT_INCOME_TOTAL have high VIF. But AMT_INCOME_TOTAL seems to be a very crucial variable to permit Credit card from a business point of view. Hence we will leave that and eliminate CNT_FAM_MEMBERS and DAYS_BIRTH_ABS alone."
   ]
  },
  {
   "cell_type": "code",
   "execution_count": null,
   "metadata": {
    "id": "BbdWsETCU1Ju"
   },
   "outputs": [],
   "source": [
    "trainCols_model2 = [c+'Enc' for c in indexedCols]\n",
    "trainCols_model2 += ['AMT_INCOME_TOTAL',\n",
    "              'DAYS_EMPLOYED_ABS',\n",
    "              'CNT_CHILDREN',\n",
    "              'FLAG_WORK_PHONE',\n",
    "              'FLAG_EMAIL']\n",
    "df_merged_model2 = df_merged.drop('features')\n",
    "assembler_model2 = VectorAssembler(inputCols=trainCols_model2, outputCol='features')\n",
    "df_merged_model2 = assembler_model2.transform(df_merged_model2)"
   ]
  },
  {
   "cell_type": "code",
   "execution_count": null,
   "metadata": {
    "id": "R__MuumOU1Ju",
    "outputId": "f7784f1f-1ad7-4909-a2a4-bbe27e15be46"
   },
   "outputs": [
    {
     "name": "stdout",
     "output_type": "stream",
     "text": [
      "+--------------------+\n",
      "|            features|\n",
      "+--------------------+\n",
      "|(42,[1,4,8,12,17,...|\n",
      "|(42,[0,4,9,13,18,...|\n",
      "|(42,[0,4,8,12,19,...|\n",
      "|(42,[1,4,8,12,17,...|\n",
      "|(42,[0,4,8,12,17,...|\n",
      "|(42,[0,5,8,12,19,...|\n",
      "|(42,[0,4,10,12,17...|\n",
      "|(42,[1,6,11,12,17...|\n",
      "|(42,[0,4,8,12,17,...|\n",
      "|(42,[0,4,9,12,17,...|\n",
      "|(42,[0,4,10,12,20...|\n",
      "|(42,[0,4,8,12,18,...|\n",
      "|(42,[0,4,8,12,17,...|\n",
      "|(42,[1,4,8,12,17,...|\n",
      "|(42,[1,5,9,12,17,...|\n",
      "|(42,[0,4,8,13,17,...|\n",
      "|(42,[1,4,8,12,17,...|\n",
      "|(42,[0,4,10,12,17...|\n",
      "|(42,[1,5,8,13,19,...|\n",
      "|(42,[0,4,8,13,17,...|\n",
      "+--------------------+\n",
      "only showing top 20 rows\n",
      "\n"
     ]
    }
   ],
   "source": [
    "df_merged_model2.select('features').show()"
   ]
  },
  {
   "cell_type": "code",
   "execution_count": null,
   "metadata": {
    "id": "xvJlfqp3U1Jv"
   },
   "outputs": [],
   "source": [
    "# Train test split\n",
    "df_train_model2, df_test_model2 = df_merged_model2.randomSplit([0.7,0.3], 2018)"
   ]
  },
  {
   "cell_type": "code",
   "execution_count": null,
   "metadata": {
    "id": "fvaS2_L3U1Jv"
   },
   "outputs": [],
   "source": [
    "# train model in the training dataset\n",
    "\n",
    "# import the logistic model\n",
    "from pyspark.ml.classification import LogisticRegression\n",
    "\n",
    "# create the logistic model, configure it and call fit it to the data. \n",
    "# Set Threshold identified using KS Statistic\n",
    "lr = LogisticRegression(featuresCol='features', labelCol='DELINQUENT')\n",
    "lr.setThreshold(0.4373)\n",
    "model_2 = lr.fit(df_train_model2)"
   ]
  },
  {
   "cell_type": "markdown",
   "metadata": {
    "id": "cnsDLn9wU1Jv"
   },
   "source": [
    "## Model Evaluation (Model 2)"
   ]
  },
  {
   "cell_type": "markdown",
   "metadata": {
    "id": "TqBksohKU1Jv"
   },
   "source": [
    "#### Recall"
   ]
  },
  {
   "cell_type": "code",
   "execution_count": null,
   "metadata": {
    "id": "6vmn8BiIU1Jv",
    "outputId": "8f9b2883-f302-4f11-e9bc-ab35e3dab147"
   },
   "outputs": [
    {
     "data": {
      "text/plain": [
       "[0.9998031883487503, 0.02]"
      ]
     },
     "execution_count": 168,
     "metadata": {
      "tags": []
     },
     "output_type": "execute_result"
    }
   ],
   "source": [
    "# use the model to predict the class labels of test data. \n",
    "\n",
    "result_test_model2 = model_2.evaluate(df_test_model2)\n",
    "\n",
    "result_test_model2.recallByLabel"
   ]
  },
  {
   "cell_type": "markdown",
   "metadata": {
    "id": "BnwlXAXxU1Jv"
   },
   "source": [
    "#### We can see that recall has improved slightly by 0.01. Let us calculate other parameters"
   ]
  },
  {
   "cell_type": "markdown",
   "metadata": {
    "id": "TTSbvOLSU1Jv"
   },
   "source": [
    "#### Precision"
   ]
  },
  {
   "cell_type": "code",
   "execution_count": null,
   "metadata": {
    "id": "EQUbwPaMU1Jv",
    "outputId": "13fe4830-c320-4a58-b02b-ed2975c227ad"
   },
   "outputs": [
    {
     "data": {
      "text/plain": [
       "[0.9810737736577829, 0.6666666666666666]"
      ]
     },
     "execution_count": 169,
     "metadata": {
      "tags": []
     },
     "output_type": "execute_result"
    }
   ],
   "source": [
    "result_test_model2.precisionByLabel"
   ]
  },
  {
   "cell_type": "markdown",
   "metadata": {
    "id": "fXHz_DCJU1Jv"
   },
   "source": [
    "#### F1 score"
   ]
  },
  {
   "cell_type": "code",
   "execution_count": null,
   "metadata": {
    "id": "qW9f3EdPU1Jv",
    "outputId": "d1aa3c66-5200-43df-99ed-7115f924c537"
   },
   "outputs": [
    {
     "data": {
      "text/plain": [
       "0.038834951456310676"
      ]
     },
     "execution_count": 170,
     "metadata": {
      "tags": []
     },
     "output_type": "execute_result"
    }
   ],
   "source": [
    "recall_for_delinquent_2 = result_test_model2.recallByLabel[1]\n",
    "precision_for_delinquent_2 = result_test_model2.precisionByLabel[1]\n",
    "f1score_2 = 2 * ((recall_for_delinquent_2 * precision_for_delinquent_2)/(recall_for_delinquent_2 + precision_for_delinquent_2))\n",
    "f1score_2"
   ]
  },
  {
   "cell_type": "markdown",
   "metadata": {
    "id": "2-7wQotjU1Jv"
   },
   "source": [
    "#### F1 score has improved by 0.02"
   ]
  },
  {
   "cell_type": "markdown",
   "metadata": {
    "id": "6wkfwEDuU1Jv"
   },
   "source": [
    "#### ROC Curve"
   ]
  },
  {
   "cell_type": "code",
   "execution_count": null,
   "metadata": {
    "id": "C4rVPHw-U1Jw",
    "outputId": "0892cb53-e239-4892-a82e-d403aa55f025"
   },
   "outputs": [
    {
     "data": {
      "image/png": "[encoded data removed]",
      "text/plain": [
       "<Figure size 432x288 with 1 Axes>"
      ]
     },
     "metadata": {
      "needs_background": "light",
      "tags": []
     },
     "output_type": "display_data"
    },
    {
     "name": "stdout",
     "output_type": "stream",
     "text": [
      "TestSet areaUnderROC: 0.6731071502833345\n"
     ]
    }
   ],
   "source": [
    "testSet_2 = model_2.summary\n",
    "roc_2 = testSet_2.roc.toPandas()\n",
    "plt.plot(roc_2['FPR'],roc_2['TPR'])\n",
    "plt.ylabel('False Positive Rate')\n",
    "plt.xlabel('True Positive Rate')\n",
    "plt.title('ROC Curve')\n",
    "plt.show()\n",
    "print('TestSet areaUnderROC: ' + str(testSet_2.areaUnderROC))"
   ]
  },
  {
   "cell_type": "markdown",
   "metadata": {
    "id": "RO3vkNQMU1Jw"
   },
   "source": [
    "## Model Building - (Model 3)"
   ]
  },
  {
   "cell_type": "markdown",
   "metadata": {
    "id": "KuktXPcFU1Jw"
   },
   "source": [
    "#### For Model 3 let us use GLM algorithm in statsmodel and check the significance of each of the independent variables. Here we will check which independent variable has a high chance of having their coefficient to be close to 0 (hence insignificant as per null hypothesis) and eliminate that."
   ]
  },
  {
   "cell_type": "code",
   "execution_count": null,
   "metadata": {
    "id": "l_A2IK9sU1Jw"
   },
   "outputs": [],
   "source": [
    "import statsmodels.api as sm"
   ]
  },
  {
   "cell_type": "code",
   "execution_count": null,
   "metadata": {
    "id": "Fe4XrEcJU1Jw",
    "outputId": "f2dc3197-14c1-4d73-e607-513c026276f2"
   },
   "outputs": [
    {
     "data": {
      "text/html": [
       "<table class=\"simpletable\">\n",
       "<caption>Generalized Linear Model Regression Results</caption>\n",
       "<tr>\n",
       "  <th>Dep. Variable:</th>      <td>DELINQUENT</td>    <th>  No. Observations:  </th>  <td> 12172</td> \n",
       "</tr>\n",
       "<tr>\n",
       "  <th>Model:</th>                  <td>GLM</td>       <th>  Df Residuals:      </th>  <td> 12158</td> \n",
       "</tr>\n",
       "<tr>\n",
       "  <th>Model Family:</th>        <td>Binomial</td>     <th>  Df Model:          </th>  <td>    13</td> \n",
       "</tr>\n",
       "<tr>\n",
       "  <th>Link Function:</th>         <td>logit</td>      <th>  Scale:             </th> <td>  1.0000</td>\n",
       "</tr>\n",
       "<tr>\n",
       "  <th>Method:</th>                <td>IRLS</td>       <th>  Log-Likelihood:    </th> <td> -1029.3</td>\n",
       "</tr>\n",
       "<tr>\n",
       "  <th>Date:</th>            <td>Sun, 03 Jan 2021</td> <th>  Deviance:          </th> <td>  2058.5</td>\n",
       "</tr>\n",
       "<tr>\n",
       "  <th>Time:</th>                <td>08:58:12</td>     <th>  Pearson chi2:      </th> <td>1.23e+04</td>\n",
       "</tr>\n",
       "<tr>\n",
       "  <th>No. Iterations:</th>          <td>7</td>        <th>                     </th>     <td> </td>   \n",
       "</tr>\n",
       "<tr>\n",
       "  <th>Covariance Type:</th>     <td>nonrobust</td>    <th>                     </th>     <td> </td>   \n",
       "</tr>\n",
       "</table>\n",
       "<table class=\"simpletable\">\n",
       "<tr>\n",
       "             <td></td>               <th>coef</th>     <th>std err</th>      <th>z</th>      <th>P>|z|</th>  <th>[0.025</th>    <th>0.975]</th>  \n",
       "</tr>\n",
       "<tr>\n",
       "  <th>const</th>                  <td>   -4.5932</td> <td>    0.301</td> <td>  -15.236</td> <td> 0.000</td> <td>   -5.184</td> <td>   -4.002</td>\n",
       "</tr>\n",
       "<tr>\n",
       "  <th>CODE_GENDER_ix</th>         <td>    0.2375</td> <td>    0.158</td> <td>    1.503</td> <td> 0.133</td> <td>   -0.072</td> <td>    0.547</td>\n",
       "</tr>\n",
       "<tr>\n",
       "  <th>FLAG_OWN_CAR_ix</th>        <td>    0.2721</td> <td>    0.152</td> <td>    1.791</td> <td> 0.073</td> <td>   -0.026</td> <td>    0.570</td>\n",
       "</tr>\n",
       "<tr>\n",
       "  <th>FLAG_OWN_REALTY_ix</th>     <td>    0.4201</td> <td>    0.146</td> <td>    2.870</td> <td> 0.004</td> <td>    0.133</td> <td>    0.707</td>\n",
       "</tr>\n",
       "<tr>\n",
       "  <th>CNT_CHILDREN</th>           <td>   -0.0738</td> <td>    0.104</td> <td>   -0.711</td> <td> 0.477</td> <td>   -0.277</td> <td>    0.130</td>\n",
       "</tr>\n",
       "<tr>\n",
       "  <th>AMT_INCOME_TOTAL</th>       <td> 1.046e-06</td> <td> 1.63e-06</td> <td>    0.641</td> <td> 0.521</td> <td>-2.15e-06</td> <td> 4.24e-06</td>\n",
       "</tr>\n",
       "<tr>\n",
       "  <th>NAME_INCOME_TYPE_ix</th>    <td>   -0.0080</td> <td>    0.110</td> <td>   -0.072</td> <td> 0.942</td> <td>   -0.224</td> <td>    0.208</td>\n",
       "</tr>\n",
       "<tr>\n",
       "  <th>NAME_EDUCATION_TYPE_ix</th> <td>    0.2108</td> <td>    0.104</td> <td>    2.017</td> <td> 0.044</td> <td>    0.006</td> <td>    0.416</td>\n",
       "</tr>\n",
       "<tr>\n",
       "  <th>NAME_FAMILY_STATUS_ix</th>  <td>    0.0793</td> <td>    0.068</td> <td>    1.171</td> <td> 0.242</td> <td>   -0.053</td> <td>    0.212</td>\n",
       "</tr>\n",
       "<tr>\n",
       "  <th>NAME_HOUSING_TYPE_ix</th>   <td>    0.1431</td> <td>    0.077</td> <td>    1.861</td> <td> 0.063</td> <td>   -0.008</td> <td>    0.294</td>\n",
       "</tr>\n",
       "<tr>\n",
       "  <th>DAYS_EMPLOYED_ABS</th>      <td>-7.683e-05</td> <td> 3.59e-05</td> <td>   -2.140</td> <td> 0.032</td> <td>   -0.000</td> <td>-6.46e-06</td>\n",
       "</tr>\n",
       "<tr>\n",
       "  <th>FLAG_WORK_PHONE</th>        <td>    0.0957</td> <td>    0.156</td> <td>    0.614</td> <td> 0.539</td> <td>   -0.210</td> <td>    0.401</td>\n",
       "</tr>\n",
       "<tr>\n",
       "  <th>FLAG_EMAIL</th>             <td>   -0.2095</td> <td>    0.273</td> <td>   -0.769</td> <td> 0.442</td> <td>   -0.744</td> <td>    0.325</td>\n",
       "</tr>\n",
       "<tr>\n",
       "  <th>OCCUPATION_TYPE_ix</th>     <td>    0.0120</td> <td>    0.020</td> <td>    0.591</td> <td> 0.554</td> <td>   -0.028</td> <td>    0.052</td>\n",
       "</tr>\n",
       "</table>"
      ],
      "text/plain": [
       "<class 'statsmodels.iolib.summary.Summary'>\n",
       "\"\"\"\n",
       "                 Generalized Linear Model Regression Results                  \n",
       "==============================================================================\n",
       "Dep. Variable:             DELINQUENT   No. Observations:                12172\n",
       "Model:                            GLM   Df Residuals:                    12158\n",
       "Model Family:                Binomial   Df Model:                           13\n",
       "Link Function:                  logit   Scale:                          1.0000\n",
       "Method:                          IRLS   Log-Likelihood:                -1029.3\n",
       "Date:                Sun, 03 Jan 2021   Deviance:                       2058.5\n",
       "Time:                        08:58:12   Pearson chi2:                 1.23e+04\n",
       "No. Iterations:                     7                                         \n",
       "Covariance Type:            nonrobust                                         \n",
       "==========================================================================================\n",
       "                             coef    std err          z      P>|z|      [0.025      0.975]\n",
       "------------------------------------------------------------------------------------------\n",
       "const                     -4.5932      0.301    -15.236      0.000      -5.184      -4.002\n",
       "CODE_GENDER_ix             0.2375      0.158      1.503      0.133      -0.072       0.547\n",
       "FLAG_OWN_CAR_ix            0.2721      0.152      1.791      0.073      -0.026       0.570\n",
       "FLAG_OWN_REALTY_ix         0.4201      0.146      2.870      0.004       0.133       0.707\n",
       "CNT_CHILDREN              -0.0738      0.104     -0.711      0.477      -0.277       0.130\n",
       "AMT_INCOME_TOTAL        1.046e-06   1.63e-06      0.641      0.521   -2.15e-06    4.24e-06\n",
       "NAME_INCOME_TYPE_ix       -0.0080      0.110     -0.072      0.942      -0.224       0.208\n",
       "NAME_EDUCATION_TYPE_ix     0.2108      0.104      2.017      0.044       0.006       0.416\n",
       "NAME_FAMILY_STATUS_ix      0.0793      0.068      1.171      0.242      -0.053       0.212\n",
       "NAME_HOUSING_TYPE_ix       0.1431      0.077      1.861      0.063      -0.008       0.294\n",
       "DAYS_EMPLOYED_ABS      -7.683e-05   3.59e-05     -2.140      0.032      -0.000   -6.46e-06\n",
       "FLAG_WORK_PHONE            0.0957      0.156      0.614      0.539      -0.210       0.401\n",
       "FLAG_EMAIL                -0.2095      0.273     -0.769      0.442      -0.744       0.325\n",
       "OCCUPATION_TYPE_ix         0.0120      0.020      0.591      0.554      -0.028       0.052\n",
       "==========================================================================================\n",
       "\"\"\""
      ]
     },
     "execution_count": 173,
     "metadata": {
      "tags": []
     },
     "output_type": "execute_result"
    }
   ],
   "source": [
    "# Logistic regression model. Taking columns from 2nd model\n",
    "cols_2 = ['CODE_GENDER_ix',\n",
    "        'FLAG_OWN_CAR_ix',\n",
    "        'FLAG_OWN_REALTY_ix',\n",
    "        'CNT_CHILDREN',\n",
    "        'AMT_INCOME_TOTAL',\n",
    "        'NAME_INCOME_TYPE_ix',\n",
    "        'NAME_EDUCATION_TYPE_ix',\n",
    "        'NAME_FAMILY_STATUS_ix',\n",
    "        'NAME_HOUSING_TYPE_ix',\n",
    "        'DAYS_EMPLOYED_ABS',\n",
    "        'FLAG_WORK_PHONE',\n",
    "        'FLAG_EMAIL',\n",
    "        'OCCUPATION_TYPE_ix']\n",
    "pd_train_model2 = df_train_model2.toPandas()\n",
    "y_train_model2 = df_train_model2.select('DELINQUENT').toPandas()\n",
    "logm1 = sm.GLM(y_train_model2,(sm.add_constant(pd_train_model2[cols_2])), family = sm.families.Binomial())\n",
    "logm1.fit().summary()"
   ]
  },
  {
   "cell_type": "markdown",
   "metadata": {
    "id": "mbBkUsiVU1Jw"
   },
   "source": [
    "#### From the above statistics the below can be inferred.\n",
    " - There are multiple columns (listed below) which has high p value and also confidence interval containing 0.\n",
    "  - CODE_GENDER\n",
    "  - FLAG_OWN_CAR\n",
    "  - CNT_CHILDREN\n",
    "  - AMT_INCOME_TOTAL\n",
    "  - NAME_INCOME_TYPE\n",
    "  - NAME_FAMILY_STATUS\n",
    "  - NAME_HOUSING_TYPE\n",
    "  - FLAG_WORK_PHONE\n",
    "  - FLAG_EMAIL\n",
    "  - OCCUPATION_TYPE\n",
    " "
   ]
  },
  {
   "cell_type": "markdown",
   "metadata": {
    "id": "a1VZqeNkU1Jw"
   },
   "source": [
    " - We cannot remove everything from above since there are columns (give below) which are important from an business perspective.\n",
    "  - AMT_INCOME_TOTAL\n",
    "  - CODE_GENDER\n",
    "  - NAME_INCOME_TYPE\n",
    "  - OCCUPATION_TYPE\n",
    " - These columns might be used to pick customers. Hence these are needed. Let us remove some columns though and re-run the model.\n",
    " - Below are the columns we will be removing this time.\n",
    "  - FLAG_OWN_CAR\n",
    "  - CNT_CHILDREN\n",
    "  - NAME_FAMILY_STATUS\n",
    "  - NAME_HOUSING_TYPE\n",
    "  - FLAG_WORK_PHONE\n",
    "  - FLAG_EMAIL"
   ]
  },
  {
   "cell_type": "code",
   "execution_count": null,
   "metadata": {
    "id": "giwb0b7lU1Jw",
    "outputId": "c7fe0a94-f3c1-47ce-f9aa-186ef5023e38"
   },
   "outputs": [
    {
     "name": "stdout",
     "output_type": "stream",
     "text": [
      "root\n",
      " |-- ID: integer (nullable = true)\n",
      " |-- CODE_GENDER: string (nullable = true)\n",
      " |-- FLAG_OWN_CAR: string (nullable = true)\n",
      " |-- FLAG_OWN_REALTY: string (nullable = true)\n",
      " |-- CNT_CHILDREN: integer (nullable = true)\n",
      " |-- AMT_INCOME_TOTAL: double (nullable = true)\n",
      " |-- NAME_INCOME_TYPE: string (nullable = true)\n",
      " |-- NAME_EDUCATION_TYPE: string (nullable = true)\n",
      " |-- NAME_FAMILY_STATUS: string (nullable = true)\n",
      " |-- NAME_HOUSING_TYPE: string (nullable = true)\n",
      " |-- FLAG_WORK_PHONE: integer (nullable = true)\n",
      " |-- FLAG_EMAIL: integer (nullable = true)\n",
      " |-- OCCUPATION_TYPE: string (nullable = true)\n",
      " |-- CNT_FAM_MEMBERS: double (nullable = true)\n",
      " |-- DELINQUENT: integer (nullable = false)\n",
      " |-- DAYS_BIRTH_ABS: integer (nullable = true)\n",
      " |-- DAYS_EMPLOYED_ABS: integer (nullable = true)\n",
      " |-- NAME_INCOME_TYPE_ix: double (nullable = false)\n",
      " |-- NAME_EDUCATION_TYPE_ix: double (nullable = false)\n",
      " |-- NAME_FAMILY_STATUS_ix: double (nullable = false)\n",
      " |-- NAME_HOUSING_TYPE_ix: double (nullable = false)\n",
      " |-- CODE_GENDER_ix: double (nullable = false)\n",
      " |-- FLAG_OWN_CAR_ix: double (nullable = false)\n",
      " |-- FLAG_OWN_REALTY_ix: double (nullable = false)\n",
      " |-- OCCUPATION_TYPE_ix: double (nullable = false)\n",
      " |-- FLAG_OWN_CAR_ixEnc: vector (nullable = true)\n",
      " |-- FLAG_OWN_REALTY_ixEnc: vector (nullable = true)\n",
      " |-- CODE_GENDER_ixEnc: vector (nullable = true)\n",
      " |-- NAME_HOUSING_TYPE_ixEnc: vector (nullable = true)\n",
      " |-- NAME_EDUCATION_TYPE_ixEnc: vector (nullable = true)\n",
      " |-- NAME_FAMILY_STATUS_ixEnc: vector (nullable = true)\n",
      " |-- NAME_INCOME_TYPE_ixEnc: vector (nullable = true)\n",
      " |-- OCCUPATION_TYPE_ixEnc: vector (nullable = true)\n",
      " |-- features: vector (nullable = true)\n",
      "\n"
     ]
    }
   ],
   "source": [
    "df_merged.printSchema()"
   ]
  },
  {
   "cell_type": "code",
   "execution_count": null,
   "metadata": {
    "id": "QqN9bj75U1Jw"
   },
   "outputs": [],
   "source": [
    "trainCols_model3 = ['NAME_INCOME_TYPE_ixEnc',\n",
    "                    'NAME_EDUCATION_TYPE_ixEnc',\n",
    "                    'CODE_GENDER_ixEnc',\n",
    "                    'FLAG_OWN_REALTY_ixEnc',\n",
    "                    'OCCUPATION_TYPE_ixEnc',\n",
    "                    'AMT_INCOME_TOTAL',\n",
    "                    'DAYS_EMPLOYED_ABS']\n",
    "\n",
    "df_merged_model3 = df_merged.drop('features')\n",
    "assembler_model3 = VectorAssembler(inputCols=trainCols_model3, outputCol='features')\n",
    "df_merged_model3 = assembler_model3.transform(df_merged_model3)"
   ]
  },
  {
   "cell_type": "code",
   "execution_count": null,
   "metadata": {
    "id": "PdQYO5FDU1Jw",
    "outputId": "6230b264-7b75-4c92-c0ab-4e037bd2da47"
   },
   "outputs": [
    {
     "name": "stdout",
     "output_type": "stream",
     "text": [
      "+--------------------+\n",
      "|            features|\n",
      "+--------------------+\n",
      "|(29,[1,4,8,10,27,...|\n",
      "|(29,[0,4,10,27,28...|\n",
      "|(29,[0,4,9,13,27,...|\n",
      "|(29,[1,4,8,9,10,2...|\n",
      "|(29,[0,4,8,9,18,2...|\n",
      "|(29,[0,5,9,11,27,...|\n",
      "|(29,[0,4,8,18,27,...|\n",
      "|(29,[1,6,8,17,27,...|\n",
      "|(29,[0,4,8,9,18,2...|\n",
      "|(29,[0,4,8,9,11,2...|\n",
      "|(29,[0,4,10,27,28...|\n",
      "|(29,[0,4,14,27,28...|\n",
      "|(29,[0,4,8,9,10,2...|\n",
      "|(29,[1,4,8,9,21,2...|\n",
      "|(29,[1,5,8,9,12,2...|\n",
      "|(29,[0,4,8,9,11,2...|\n",
      "|(29,[1,4,8,9,11,2...|\n",
      "|(29,[0,4,8,9,17,2...|\n",
      "|(29,[1,5,9,13,27,...|\n",
      "|(29,[0,4,8,9,12,2...|\n",
      "+--------------------+\n",
      "only showing top 20 rows\n",
      "\n"
     ]
    }
   ],
   "source": [
    "df_merged_model3.select('features').show()"
   ]
  },
  {
   "cell_type": "code",
   "execution_count": null,
   "metadata": {
    "id": "T98txULhU1Jw"
   },
   "outputs": [],
   "source": [
    "# Train test split\n",
    "df_train_model3, df_test_model3 = df_merged_model3.randomSplit([0.7,0.3], 2018)"
   ]
  },
  {
   "cell_type": "code",
   "execution_count": null,
   "metadata": {
    "id": "48KVZZT3U1Jw"
   },
   "outputs": [],
   "source": [
    "# train model in the training dataset\n",
    "\n",
    "# import the logistic model\n",
    "from pyspark.ml.classification import LogisticRegression\n",
    "\n",
    "# create the logistic model, configure it and call fit it to the data. \n",
    "# Set Threshold identified using KS Statistic\n",
    "lr = LogisticRegression(featuresCol='features', labelCol='DELINQUENT')\n",
    "lr.setThreshold(0.4373)\n",
    "model_3 = lr.fit(df_train_model3)"
   ]
  },
  {
   "cell_type": "markdown",
   "metadata": {
    "id": "oEgW4vkuU1Jx"
   },
   "source": [
    "## Model Evaluation (Model 3)"
   ]
  },
  {
   "cell_type": "markdown",
   "metadata": {
    "id": "0pJS95z3U1Jx"
   },
   "source": [
    "#### Recall"
   ]
  },
  {
   "cell_type": "code",
   "execution_count": null,
   "metadata": {
    "id": "DYyBnKEcU1Jx",
    "outputId": "9b0ff6a0-8a77-4dc7-84ab-48af63d16b15"
   },
   "outputs": [
    {
     "data": {
      "text/plain": [
       "[0.9998031883487503, 0.02]"
      ]
     },
     "execution_count": 179,
     "metadata": {
      "tags": []
     },
     "output_type": "execute_result"
    }
   ],
   "source": [
    "# use the model to predict the class labels of test data. \n",
    "\n",
    "result_test_model3 = model_3.evaluate(df_test_model3)\n",
    "\n",
    "result_test_model3.recallByLabel"
   ]
  },
  {
   "cell_type": "markdown",
   "metadata": {
    "id": "y6FxOND_U1Jx"
   },
   "source": [
    "#### Even after removing so many features the recall stays the same and has not gone down. Let us proceed with other metrics"
   ]
  },
  {
   "cell_type": "markdown",
   "metadata": {
    "id": "lHu_9HyTU1Jx"
   },
   "source": [
    "#### Precision"
   ]
  },
  {
   "cell_type": "code",
   "execution_count": null,
   "metadata": {
    "id": "I8YeDoS2U1Jx",
    "outputId": "d2f55033-762b-4980-a966-d84567171406"
   },
   "outputs": [
    {
     "data": {
      "text/plain": [
       "[0.9810737736577829, 0.6666666666666666]"
      ]
     },
     "execution_count": 180,
     "metadata": {
      "tags": []
     },
     "output_type": "execute_result"
    }
   ],
   "source": [
    "result_test_model3.precisionByLabel"
   ]
  },
  {
   "cell_type": "markdown",
   "metadata": {
    "id": "Q9S91NTaU1Jx"
   },
   "source": [
    "#### F1 score"
   ]
  },
  {
   "cell_type": "code",
   "execution_count": null,
   "metadata": {
    "id": "NP2BC37AU1Jx",
    "outputId": "82d1f92c-18eb-478c-ca77-7203b7c16865"
   },
   "outputs": [
    {
     "data": {
      "text/plain": [
       "0.038834951456310676"
      ]
     },
     "execution_count": 181,
     "metadata": {
      "tags": []
     },
     "output_type": "execute_result"
    }
   ],
   "source": [
    "recall_for_delinquent_3 = result_test_model3.recallByLabel[1]\n",
    "precision_for_delinquent_3 = result_test_model3.precisionByLabel[1]\n",
    "f1score_3 = 2 * ((recall_for_delinquent_3 * precision_for_delinquent_3)/(recall_for_delinquent_3 + precision_for_delinquent_3))\n",
    "f1score_3"
   ]
  },
  {
   "cell_type": "markdown",
   "metadata": {
    "id": "9ZtRxd31U1Jx"
   },
   "source": [
    "#### There is no descrease in F1 score which is good as we have eliminated many features"
   ]
  },
  {
   "cell_type": "markdown",
   "metadata": {
    "id": "sFDr2TkHU1Jx"
   },
   "source": [
    "#### ROC Curve"
   ]
  },
  {
   "cell_type": "code",
   "execution_count": null,
   "metadata": {
    "id": "4fABTTB3U1Jx",
    "outputId": "4c290722-29b1-4891-be54-44c7feac501d"
   },
   "outputs": [
    {
     "data": {
      "image/png": "[encoded data removed]",
      "text/plain": [
       "<Figure size 432x288 with 1 Axes>"
      ]
     },
     "metadata": {
      "needs_background": "light",
      "tags": []
     },
     "output_type": "display_data"
    },
    {
     "name": "stdout",
     "output_type": "stream",
     "text": [
      "TestSet areaUnderROC: 0.6555121519891958\n"
     ]
    }
   ],
   "source": [
    "testSet_3 = model_3.summary\n",
    "roc_3 = testSet_3.roc.toPandas()\n",
    "plt.plot(roc_3['FPR'],roc_3['TPR'])\n",
    "plt.ylabel('False Positive Rate')\n",
    "plt.xlabel('True Positive Rate')\n",
    "plt.title('ROC Curve')\n",
    "plt.show()\n",
    "print('TestSet areaUnderROC: ' + str(testSet_3.areaUnderROC))"
   ]
  },
  {
   "cell_type": "code",
   "execution_count": null,
   "metadata": {
    "id": "UjgWioZ6U1Jy"
   },
   "outputs": [],
   "source": []
  }
 ],
 "metadata": {
  "colab": {
   "include_colab_link": true,
   "name": "MLIAssignment.ipynb",
   "provenance": []
  },
  "kernelspec": {
   "display_name": "Python 3",
   "language": "python",
   "name": "python3"
  },
  "language_info": {
   "codemirror_mode": {
    "name": "ipython",
    "version": 3
   },
   "file_extension": ".py",
   "mimetype": "text/x-python",
   "name": "python",
   "nbconvert_exporter": "python",
   "pygments_lexer": "ipython3",
   "version": "3.8.8"
  }
 },
 "nbformat": 4,
 "nbformat_minor": 1
}
