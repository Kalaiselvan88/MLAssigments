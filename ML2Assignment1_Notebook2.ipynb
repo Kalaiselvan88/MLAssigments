{
  "nbformat": 4,
  "nbformat_minor": 0,
  "metadata": {
    "kernelspec": {
      "display_name": "Python 3",
      "language": "python",
      "name": "python3"
    },
    "language_info": {
      "codemirror_mode": {
        "name": "ipython",
        "version": 3
      },
      "file_extension": ".py",
      "mimetype": "text/x-python",
      "name": "python",
      "nbconvert_exporter": "python",
      "pygments_lexer": "ipython3",
      "version": "3.8.3"
    },
    "colab": {
      "name": "ML2Assignment1_Notebook2.ipynb",
      "provenance": [],
      "include_colab_link": true
    }
  },
  "cells": [
    {
      "cell_type": "markdown",
      "metadata": {
        "id": "view-in-github",
        "colab_type": "text"
      },
      "source": [
        "<a href=\"https://colab.research.google.com/github/Kalaiselvan88/MLAssignments/blob/main/ML2Assignment1_Notebook2.ipynb\" target=\"_parent\"><img src=\"https://colab.research.google.com/assets/colab-badge.svg\" alt=\"Open In Colab\"/></a>"
      ]
    },
    {
      "cell_type": "code",
      "metadata": {
        "id": "AjmMpmrVSfe4"
      },
      "source": [
        "# Setting the environment variables"
      ],
      "execution_count": null,
      "outputs": []
    },
    {
      "cell_type": "code",
      "metadata": {
        "id": "-E-llxFFSfe6"
      },
      "source": [
        "import os\n",
        "import sys\n",
        "os.environ[\"PYSPARK_PYTHON\"]=\"/usr/bin/python3\"\n",
        "os.environ[\"PYSPARK_DRIVER_PYTHON\"]=\"/usr/bin/python3\"\n",
        "os.environ[\"PYSPARK_DRIVER_PYTHON_OPTS\"]=\"notebook --no-browser\"\n",
        "os.environ[\"JAVA_HOME\"] = \"/usr/java/jdk1.8.0_161/jre\"\n",
        "os.environ[\"SPARK_HOME\"] = \"/home/ec2-user/spark-2.4.4-bin-hadoop2.7\"\n",
        "os.environ[\"PYLIB\"] = os.environ[\"SPARK_HOME\"] + \"/python/lib\"\n",
        "sys.path.insert(0, os.environ[\"PYLIB\"] + \"/py4j-0.10.7-src.zip\")\n",
        "sys.path.insert(0, os.environ[\"PYLIB\"] + \"/pyspark.zip\")"
      ],
      "execution_count": null,
      "outputs": []
    },
    {
      "cell_type": "markdown",
      "metadata": {
        "id": "G9qoPSFeSfe6"
      },
      "source": [
        "# Ecommerce Churn Assignment"
      ]
    },
    {
      "cell_type": "markdown",
      "metadata": {
        "id": "fgy2_GFqSfe7"
      },
      "source": [
        "The aim of the assignment is to build a model that predicts whether a person purchases an item after it has been added to the cart or not. Being a classification problem, you are expected to use your understanding of all the three models covered till now. You must select the most robust model and provide a solution that predicts the churn in the most suitable manner. \n",
        "\n",
        "For this assignment, you are provided the data associated with an e-commerce company for the month of October 2019. Your task is to first analyse the data, and then perform multiple steps towards the model building process.\n",
        "\n",
        "The broad tasks are:\n",
        "- Data Exploration\n",
        "- Feature Engineering\n",
        "- Model Selection\n",
        "- Model Inference"
      ]
    },
    {
      "cell_type": "markdown",
      "metadata": {
        "id": "Wc5TRmHYSfe7"
      },
      "source": [
        "### Data description"
      ]
    },
    {
      "cell_type": "markdown",
      "metadata": {
        "id": "R7wKKDcmSfe7"
      },
      "source": [
        "The dataset stores the information of a customer session on the e-commerce platform. It records the activity and the associated parameters with it.\n",
        "\n",
        "- **event_time**: Date and time when user accesses the platform\n",
        "- **event_type**: Action performed by the customer\n",
        "            - View\n",
        "            - Cart\n",
        "            - Purchase\n",
        "            - Remove from cart\n",
        "- **product_id**: Unique number to identify the product in the event\n",
        "- **category_id**: Unique number to identify the category of the product\n",
        "- **category_code**: Stores primary and secondary categories of the product\n",
        "- **brand**: Brand associated with the product\n",
        "- **price**: Price of the product\n",
        "- **user_id**: Unique ID for a customer\n",
        "- **user_session**: Session ID for a user\n"
      ]
    },
    {
      "cell_type": "markdown",
      "metadata": {
        "id": "c4g-vuq-Sfe8"
      },
      "source": [
        "### Initialising the SparkSession"
      ]
    },
    {
      "cell_type": "markdown",
      "metadata": {
        "id": "Z4MrmRSISfe8"
      },
      "source": [
        "The dataset provided is 5 GBs in size. Therefore, it is expected that you increase the driver memory to a greater number. You can refer to notebook 1 for the steps involved here."
      ]
    },
    {
      "cell_type": "code",
      "metadata": {
        "id": "Z8Tf2EzfSfe9",
        "outputId": "35412459-c136-42fe-df70-cf1fc19057aa"
      },
      "source": [
        "# initialising the session with 14 GB driver memory\n",
        "from pyspark import SparkConf\n",
        "from pyspark.sql import SparkSession\n",
        "\n",
        "MAX_MEMORY = \"14G\"\n",
        "\n",
        "spark = SparkSession \\\n",
        "    .builder \\\n",
        "    .appName(\"logistic regression\") \\\n",
        "    .config(\"spark.driver.memory\", MAX_MEMORY) \\\n",
        "    .getOrCreate()\n",
        "\n",
        "spark"
      ],
      "execution_count": null,
      "outputs": [
        {
          "output_type": "execute_result",
          "data": {
            "text/html": [
              "\n",
              "            <div>\n",
              "                <p><b>SparkSession - in-memory</b></p>\n",
              "                \n",
              "        <div>\n",
              "            <p><b>SparkContext</b></p>\n",
              "\n",
              "            <p><a href=\"http://ip-172-31-90-29.ec2.internal:4040\">Spark UI</a></p>\n",
              "\n",
              "            <dl>\n",
              "              <dt>Version</dt>\n",
              "                <dd><code>v2.4.4</code></dd>\n",
              "              <dt>Master</dt>\n",
              "                <dd><code>local[*]</code></dd>\n",
              "              <dt>AppName</dt>\n",
              "                <dd><code>logistic regression</code></dd>\n",
              "            </dl>\n",
              "        </div>\n",
              "        \n",
              "            </div>\n",
              "        "
            ],
            "text/plain": [
              "<pyspark.sql.session.SparkSession at 0x7f5730119750>"
            ]
          },
          "metadata": {
            "tags": []
          },
          "execution_count": 3
        }
      ]
    },
    {
      "cell_type": "code",
      "metadata": {
        "id": "X32oHSnGSfe9",
        "outputId": "153e56cd-82ff-47b9-ed88-94767f97412c"
      },
      "source": [
        "# Loading the clean data\n",
        "df = spark.read.parquet('cleaned_df.parquet')\n",
        "df.count()"
      ],
      "execution_count": null,
      "outputs": [
        {
          "output_type": "execute_result",
          "data": {
            "text/plain": [
              "28650604"
            ]
          },
          "metadata": {
            "tags": []
          },
          "execution_count": 4
        }
      ]
    },
    {
      "cell_type": "markdown",
      "metadata": {
        "id": "8PxUOiuWSfe-"
      },
      "source": [
        "<hr>"
      ]
    },
    {
      "cell_type": "markdown",
      "metadata": {
        "id": "L5-IciDvSfe-"
      },
      "source": [
        "## Task 3: Model Selection\n",
        "3 models for classification:\t\n",
        "- Logistic Regression\n",
        "- Decision Tree\n",
        "- Random Forest"
      ]
    },
    {
      "cell_type": "markdown",
      "metadata": {
        "id": "V4RKcmDTSfe-"
      },
      "source": [
        "### Model 1: Logistic Regression"
      ]
    },
    {
      "cell_type": "code",
      "metadata": {
        "id": "NgHMa6iqSfe_",
        "outputId": "aa280ec5-ef09-445c-c640-e735541a4812"
      },
      "source": [
        "# Additional steps for Logistic regression - Feature selection, Correlation, etc.\n",
        "df.printSchema()"
      ],
      "execution_count": null,
      "outputs": [
        {
          "output_type": "stream",
          "text": [
            "root\n",
            " |-- product_id: integer (nullable = true)\n",
            " |-- category_id: long (nullable = true)\n",
            " |-- price: double (nullable = true)\n",
            " |-- user_id: integer (nullable = true)\n",
            " |-- user_session: string (nullable = true)\n",
            " |-- day_of_week: integer (nullable = true)\n",
            " |-- cat_l1: string (nullable = true)\n",
            " |-- cat_l2: string (nullable = true)\n",
            " |-- hour_bucket: double (nullable = true)\n",
            " |-- brand_red: string (nullable = true)\n",
            " |-- is_purchased: integer (nullable = true)\n",
            "\n"
          ],
          "name": "stdout"
        }
      ]
    },
    {
      "cell_type": "code",
      "metadata": {
        "id": "uxRPwijCSfe_",
        "outputId": "353b2635-a51d-48f8-f937-0fd2f3921260"
      },
      "source": [
        "df.stat.corr(\"hour_bucket\",\"price\")"
      ],
      "execution_count": null,
      "outputs": [
        {
          "output_type": "execute_result",
          "data": {
            "text/plain": [
              "0.011142546204611062"
            ]
          },
          "metadata": {
            "tags": []
          },
          "execution_count": 6
        }
      ]
    },
    {
      "cell_type": "markdown",
      "metadata": {
        "id": "Xghv9Do7SffA"
      },
      "source": [
        "#### There are no columns which might have any correlation"
      ]
    },
    {
      "cell_type": "markdown",
      "metadata": {
        "id": "wx_2mjJ_SffA"
      },
      "source": [
        "#### Feature Transformation"
      ]
    },
    {
      "cell_type": "code",
      "metadata": {
        "id": "0ASVIY5ZSffA",
        "outputId": "e095448e-8764-4fec-a827-61b24c682bec"
      },
      "source": [
        "# Check if only the required columns are present to build the model\n",
        "# If not, drop the redundant columns\n",
        "\n",
        "# Here we are dropping category_id since we have the category details in cat_l1 and cat_l2\n",
        "# We are also dropping user_session since it has many unique values which might take a lot of time\n",
        "# to do OneHotEncoder and moreover it is not very much helpful for Churn prediction and has already been used for EDA\n",
        "df_logistic = df.drop('category_id', 'user_session')\n",
        "df_logistic = df_logistic.dropDuplicates()\n",
        "df_logistic.printSchema()"
      ],
      "execution_count": null,
      "outputs": [
        {
          "output_type": "stream",
          "text": [
            "root\n",
            " |-- product_id: integer (nullable = true)\n",
            " |-- price: double (nullable = true)\n",
            " |-- user_id: integer (nullable = true)\n",
            " |-- day_of_week: integer (nullable = true)\n",
            " |-- cat_l1: string (nullable = true)\n",
            " |-- cat_l2: string (nullable = true)\n",
            " |-- hour_bucket: double (nullable = true)\n",
            " |-- brand_red: string (nullable = true)\n",
            " |-- is_purchased: integer (nullable = true)\n",
            "\n"
          ],
          "name": "stdout"
        }
      ]
    },
    {
      "cell_type": "code",
      "metadata": {
        "id": "JsX4K4NnSffB"
      },
      "source": [
        "# Categorising the attributes into its type - Continuous and Categorical"
      ],
      "execution_count": null,
      "outputs": []
    },
    {
      "cell_type": "markdown",
      "metadata": {
        "id": "jCzTaAepSffB"
      },
      "source": [
        "#### The above list of features can be split based on the transformations required as follows"
      ]
    },
    {
      "cell_type": "markdown",
      "metadata": {
        "id": "IvmSi7c7SffB"
      },
      "source": [
        "#### Continuous columns with numerical data - No processing required\n",
        " - product_id\n",
        " - price\n",
        " - user_id\n",
        " \n",
        "#### Here product_id and user_id are just identifiers and we do not need them"
      ]
    },
    {
      "cell_type": "markdown",
      "metadata": {
        "id": "bDFbzXroSffC"
      },
      "source": [
        "#### Nominal categorical variables represented with integers. - One-hot encoding\n",
        " - day_of_week\n",
        " - hour_bucket"
      ]
    },
    {
      "cell_type": "markdown",
      "metadata": {
        "id": "cymocTwUSffC"
      },
      "source": [
        "#### Nominal Categorical variables represented with strings - String indexer + One hot encoding\n",
        " - cat_l1\n",
        " - cat_l2\n",
        " - brand_red"
      ]
    },
    {
      "cell_type": "code",
      "metadata": {
        "id": "URzvskihSffC"
      },
      "source": [
        "# Feature transformation for categorical features\n",
        "#import the string indexer\n",
        "from pyspark.ml.feature import StringIndexer\n",
        "#import the onehot encoder\n",
        "from pyspark.ml.feature import OneHotEncoderEstimator\n",
        "\n",
        "\n",
        "si1 = StringIndexer(inputCol= 'cat_l1', outputCol='cat_l1_ix')\n",
        "si2 = StringIndexer(inputCol= 'cat_l2', outputCol='cat_l2_ix')\n",
        "si3 = StringIndexer(inputCol= 'brand_red', outputCol='brand_red_ix')\n",
        "\n",
        "cat_indx = ['cat_l1_ix','cat_l2_ix','brand_red_ix','day_of_week','hour_bucket']\n",
        "\n",
        "ohe = OneHotEncoderEstimator(inputCols=cat_indx,\n",
        "                             outputCols=['cat_l1_en','cat_l2_en','brand_red_en','day_of_week_en','hour_bucket_en'])"
      ],
      "execution_count": null,
      "outputs": []
    },
    {
      "cell_type": "code",
      "metadata": {
        "id": "XQgzhSfoSffD"
      },
      "source": [
        "# Vector assembler to combine all the features\n",
        "#import the vector assembler \n",
        "from pyspark.ml.feature import VectorAssembler\n",
        "cols = ['price','cat_l1_en','cat_l2_en','brand_red_en','day_of_week_en','hour_bucket_en']\n",
        "assembler = VectorAssembler(inputCols=cols,\n",
        "                            outputCol=\"features\")"
      ],
      "execution_count": null,
      "outputs": []
    },
    {
      "cell_type": "code",
      "metadata": {
        "id": "OaJ9dveESffD"
      },
      "source": [
        "# Pipeline for the tasks\n",
        "# import pipline API\n",
        "from pyspark.ml import Pipeline"
      ],
      "execution_count": null,
      "outputs": []
    },
    {
      "cell_type": "code",
      "metadata": {
        "id": "UR64EZfDSffD",
        "outputId": "5d222e8b-0e48-4b95-90f6-c579d658e998"
      },
      "source": [
        "# Transforming the dataframe df\n",
        "#create the pipeline object\n",
        "pipeline = Pipeline(stages=[si1, si2, si3, ohe, assembler])\n",
        "\n",
        "#use the object to transform the dataframe \n",
        "df_logistic_encoded = pipeline.fit(df_logistic).transform(df_logistic)\n",
        "df_logistic_encoded.select(\"features\").show()"
      ],
      "execution_count": null,
      "outputs": [
        {
          "output_type": "stream",
          "text": [
            "+--------------------+\n",
            "|            features|\n",
            "+--------------------+\n",
            "|(101,[0,2,14,71,9...|\n",
            "|(101,[0,4,20,84,9...|\n",
            "|(101,[0,7,22,71,9...|\n",
            "|(101,[0,2,14,71,9...|\n",
            "|(101,[0,1,17,80,9...|\n",
            "|(101,[0,9,39,71,9...|\n",
            "|(101,[0,1,15,73,9...|\n",
            "|(101,[0,1,15,74,9...|\n",
            "|(101,[0,3,35,71,9...|\n",
            "|(101,[0,3,16,72,9...|\n",
            "|(101,[0,2,14,77,9...|\n",
            "|(101,[0,1,15,75,9...|\n",
            "|(101,[0,1,15,72,9...|\n",
            "|(101,[0,2,14,77,9...|\n",
            "|(101,[0,3,21,71,9...|\n",
            "|(101,[0,11,37,71,...|\n",
            "|(101,[0,6,25,71,9...|\n",
            "|(101,[0,2,14,71,9...|\n",
            "|(101,[0,3,16,78,9...|\n",
            "|(101,[0,1,15,73,9...|\n",
            "+--------------------+\n",
            "only showing top 20 rows\n",
            "\n"
          ],
          "name": "stdout"
        }
      ]
    },
    {
      "cell_type": "code",
      "metadata": {
        "id": "j533ppu-SffE",
        "outputId": "2cb5522b-688a-4c14-d64d-c40b64841cc7"
      },
      "source": [
        "# Schema of the transformed df\n",
        "df_logistic_encoded.printSchema()"
      ],
      "execution_count": null,
      "outputs": [
        {
          "output_type": "stream",
          "text": [
            "root\n",
            " |-- product_id: integer (nullable = true)\n",
            " |-- price: double (nullable = true)\n",
            " |-- user_id: integer (nullable = true)\n",
            " |-- day_of_week: integer (nullable = true)\n",
            " |-- cat_l1: string (nullable = true)\n",
            " |-- cat_l2: string (nullable = true)\n",
            " |-- hour_bucket: double (nullable = true)\n",
            " |-- brand_red: string (nullable = true)\n",
            " |-- is_purchased: integer (nullable = true)\n",
            " |-- cat_l1_ix: double (nullable = false)\n",
            " |-- cat_l2_ix: double (nullable = false)\n",
            " |-- brand_red_ix: double (nullable = false)\n",
            " |-- cat_l1_en: vector (nullable = true)\n",
            " |-- day_of_week_en: vector (nullable = true)\n",
            " |-- hour_bucket_en: vector (nullable = true)\n",
            " |-- brand_red_en: vector (nullable = true)\n",
            " |-- cat_l2_en: vector (nullable = true)\n",
            " |-- features: vector (nullable = true)\n",
            "\n"
          ],
          "name": "stdout"
        }
      ]
    },
    {
      "cell_type": "code",
      "metadata": {
        "id": "Rk1nm7MkSffE",
        "outputId": "033ee053-cf67-4f78-9f14-f687c6fd8d8f"
      },
      "source": [
        "# Checking the elements of the transformed df - Top 20 rows\n",
        "df_logistic_encoded.show()"
      ],
      "execution_count": null,
      "outputs": [
        {
          "output_type": "stream",
          "text": [
            "+----------+-------+---------+-----------+-----------+-----------+-----------+---------+------------+---------+---------+------------+---------------+--------------+--------------+---------------+---------------+--------------------+\n",
            "|product_id|  price|  user_id|day_of_week|     cat_l1|     cat_l2|hour_bucket|brand_red|is_purchased|cat_l1_ix|cat_l2_ix|brand_red_ix|      cat_l1_en|day_of_week_en|hour_bucket_en|   brand_red_en|      cat_l2_en|            features|\n",
            "+----------+-------+---------+-----------+-----------+-----------+-----------+---------+------------+---------+---------+------------+---------------+--------------+--------------+---------------+---------------+--------------------+\n",
            "|  18001431|  13.15|541090104|          2|         NA|         NA|        3.0|   others|           0|      1.0|      0.0|         0.0| (13,[1],[1.0])| (7,[2],[1.0])|     (3,[],[])| (20,[0],[1.0])| (57,[0],[1.0])|(101,[0,2,14,71,9...|\n",
            "|   1307520| 848.67|548553561|          3|  computers|   notebook|        3.0|   lenovo|           0|      3.0|      6.0|        13.0| (13,[3],[1.0])| (7,[3],[1.0])|     (3,[],[])|(20,[13],[1.0])| (57,[6],[1.0])|(101,[0,4,20,84,9...|\n",
            "|  50600019| 116.26|547027560|          1|       auto|accessories|        3.0|   others|           0|      6.0|      8.0|         0.0| (13,[6],[1.0])| (7,[1],[1.0])|     (3,[],[])| (20,[0],[1.0])| (57,[8],[1.0])|(101,[0,7,22,71,9...|\n",
            "|   8500239| 353.81|543313113|          2|         NA|         NA|        3.0|   others|           0|      1.0|      0.0|         0.0| (13,[1],[1.0])| (7,[2],[1.0])|     (3,[],[])| (20,[0],[1.0])| (57,[0],[1.0])|(101,[0,2,14,71,9...|\n",
            "|   4803014|  38.46|514559745|          3|electronics|      audio|        0.0|     sony|           0|      0.0|      3.0|         9.0| (13,[0],[1.0])| (7,[3],[1.0])| (3,[0],[1.0])| (20,[9],[1.0])| (57,[3],[1.0])|(101,[0,1,17,80,9...|\n",
            "|   8900866|  51.46|558467479|          3|       kids|       toys|        0.0|   others|           0|      8.0|     25.0|         0.0| (13,[8],[1.0])| (7,[3],[1.0])| (3,[0],[1.0])| (20,[0],[1.0])|(57,[25],[1.0])|(101,[0,9,39,71,9...|\n",
            "|   1005105|1357.42|530851366|          4|electronics| smartphone|        1.0|    apple|           0|      0.0|      1.0|         2.0| (13,[0],[1.0])| (7,[4],[1.0])| (3,[1],[1.0])| (20,[2],[1.0])| (57,[1],[1.0])|(101,[0,1,15,73,9...|\n",
            "|   1004140| 176.53|557056166|          5|electronics| smartphone|        2.0|   xiaomi|           0|      0.0|      1.0|         3.0| (13,[0],[1.0])| (7,[5],[1.0])| (3,[2],[1.0])| (20,[3],[1.0])| (57,[1],[1.0])|(101,[0,1,15,74,9...|\n",
            "|   3800249|  69.47|518740512|          1| appliances|       iron|        3.0|   others|           0|      2.0|     21.0|         0.0| (13,[2],[1.0])| (7,[1],[1.0])|     (3,[],[])| (20,[0],[1.0])|(57,[21],[1.0])|(101,[0,3,35,71,9...|\n",
            "|   3600661| 305.57|565139209|          2| appliances|    kitchen|        3.0|  samsung|           0|      2.0|      2.0|         1.0| (13,[2],[1.0])| (7,[2],[1.0])|     (3,[],[])| (20,[1],[1.0])| (57,[2],[1.0])|(101,[0,3,16,72,9...|\n",
            "|  12500136| 310.02|549050376|          1|         NA|         NA|        1.0|    bosch|           0|      1.0|      0.0|         6.0| (13,[1],[1.0])| (7,[1],[1.0])| (3,[1],[1.0])| (20,[6],[1.0])| (57,[0],[1.0])|(101,[0,2,14,77,9...|\n",
            "|   1004905| 110.07|523144769|          2|electronics| smartphone|        1.0|   huawei|           0|      0.0|      1.0|         4.0| (13,[0],[1.0])| (7,[2],[1.0])| (3,[1],[1.0])| (20,[4],[1.0])| (57,[1],[1.0])|(101,[0,1,15,75,9...|\n",
            "|   1004873| 378.58|521493662|          1|electronics| smartphone|        0.0|  samsung|           0|      0.0|      1.0|         1.0| (13,[0],[1.0])| (7,[1],[1.0])| (3,[0],[1.0])| (20,[1],[1.0])| (57,[1],[1.0])|(101,[0,1,15,72,9...|\n",
            "|  22700323|  20.57|512855587|          3|         NA|         NA|        1.0|    bosch|           0|      1.0|      0.0|         6.0| (13,[1],[1.0])| (7,[3],[1.0])| (3,[1],[1.0])| (20,[6],[1.0])| (57,[0],[1.0])|(101,[0,2,14,77,9...|\n",
            "|   3900962|  61.75|556438507|          3| appliances|environment|        2.0|   others|           0|      2.0|      7.0|         0.0| (13,[2],[1.0])| (7,[3],[1.0])| (3,[2],[1.0])| (20,[0],[1.0])| (57,[7],[1.0])|(101,[0,3,21,71,9...|\n",
            "|  12202300| 231.38|550521000|          3|      sport|    bicycle|        3.0|   others|           0|     10.0|     23.0|         0.0|(13,[10],[1.0])| (7,[3],[1.0])|     (3,[],[])| (20,[0],[1.0])|(57,[23],[1.0])|(101,[0,11,37,71,...|\n",
            "|  14700405| 189.17|557079019|          6|  furniture|living_room|        2.0|   others|           0|      5.0|     11.0|         0.0| (13,[5],[1.0])| (7,[6],[1.0])| (3,[2],[1.0])| (20,[0],[1.0])|(57,[11],[1.0])|(101,[0,6,25,71,9...|\n",
            "|  16400250|  22.51|512871532|          5|         NA|         NA|        1.0|   others|           0|      1.0|      0.0|         0.0| (13,[1],[1.0])| (7,[5],[1.0])| (3,[1],[1.0])| (20,[0],[1.0])| (57,[0],[1.0])|(101,[0,2,14,71,9...|\n",
            "|   3601497| 385.82|516701252|          6| appliances|    kitchen|        1.0|       lg|           0|      2.0|      2.0|         7.0| (13,[2],[1.0])| (7,[6],[1.0])| (3,[1],[1.0])| (20,[7],[1.0])| (57,[2],[1.0])|(101,[0,3,16,78,9...|\n",
            "|   1005105|1415.48|555937976|          4|electronics| smartphone|        1.0|    apple|           0|      0.0|      1.0|         2.0| (13,[0],[1.0])| (7,[4],[1.0])| (3,[1],[1.0])| (20,[2],[1.0])| (57,[1],[1.0])|(101,[0,1,15,73,9...|\n",
            "+----------+-------+---------+-----------+-----------+-----------+-----------+---------+------------+---------+---------+------------+---------------+--------------+--------------+---------------+---------------+--------------------+\n",
            "only showing top 20 rows\n",
            "\n"
          ],
          "name": "stdout"
        }
      ]
    },
    {
      "cell_type": "code",
      "metadata": {
        "id": "wJOyLGGSSffE",
        "outputId": "636dd29a-12c7-438f-e6c2-7c4da7fbae99"
      },
      "source": [
        "# Checking positive class count\n",
        "df_logistic_encoded.filter(df_logistic_encoded.is_purchased == 1).count()"
      ],
      "execution_count": null,
      "outputs": [
        {
          "output_type": "execute_result",
          "data": {
            "text/plain": [
              "662102"
            ]
          },
          "metadata": {
            "tags": []
          },
          "execution_count": 15
        }
      ]
    },
    {
      "cell_type": "markdown",
      "metadata": {
        "id": "c2kucAXzSffF"
      },
      "source": [
        "#### Train-test split"
      ]
    },
    {
      "cell_type": "code",
      "metadata": {
        "id": "Brh1muvKSffF"
      },
      "source": [
        "# Splitting the data into train and test (Remember you are expected to compare the model later)\n",
        "df_log_train, df_log_test = df_logistic_encoded.randomSplit([0.7,0.3])"
      ],
      "execution_count": null,
      "outputs": []
    },
    {
      "cell_type": "code",
      "metadata": {
        "id": "ZuBt8OmVSffF",
        "outputId": "12f70b18-6e07-4986-e45e-67f93bd2c56d"
      },
      "source": [
        "# Number of rows in train and test data\n",
        "df_log_train.count()"
      ],
      "execution_count": null,
      "outputs": [
        {
          "output_type": "execute_result",
          "data": {
            "text/plain": [
              "19253924"
            ]
          },
          "metadata": {
            "tags": []
          },
          "execution_count": 17
        }
      ]
    },
    {
      "cell_type": "code",
      "metadata": {
        "id": "PC3o8e6oSffG",
        "outputId": "3c5944f4-7652-460d-f506-9f6dca91ad59"
      },
      "source": [
        "df_log_test.count()"
      ],
      "execution_count": null,
      "outputs": [
        {
          "output_type": "execute_result",
          "data": {
            "text/plain": [
              "8253697"
            ]
          },
          "metadata": {
            "tags": []
          },
          "execution_count": 18
        }
      ]
    },
    {
      "cell_type": "markdown",
      "metadata": {
        "id": "i3yL4YXeSffG"
      },
      "source": [
        "#### Model Fitting"
      ]
    },
    {
      "cell_type": "code",
      "metadata": {
        "id": "ttOJKeypSffH"
      },
      "source": [
        "# Building the model\n",
        "# import the logistic model\n",
        "from pyspark.ml.classification import LogisticRegression\n",
        "\n",
        "# create the logistic model, configure it and call fit it to the data. \n",
        "lr1 = LogisticRegression(featuresCol='features', labelCol='is_purchased')"
      ],
      "execution_count": null,
      "outputs": []
    },
    {
      "cell_type": "code",
      "metadata": {
        "id": "sVD2FbztSffH"
      },
      "source": [
        "# Fitting the model on transformed df\n",
        "model1 = lr1.fit(df_log_train)"
      ],
      "execution_count": null,
      "outputs": []
    },
    {
      "cell_type": "markdown",
      "metadata": {
        "id": "lacrf8JxSffH"
      },
      "source": [
        "#### Model Analysis"
      ]
    },
    {
      "cell_type": "markdown",
      "metadata": {
        "id": "3Lky2CBySffI"
      },
      "source": [
        "Required Steps:\n",
        "- Fit on test data\n",
        "- Performance analysis\n",
        "    - Appropriate Metric with reasoning\n",
        "    - Threshold selection"
      ]
    },
    {
      "cell_type": "code",
      "metadata": {
        "id": "XnfS4spiSffI"
      },
      "source": [
        "# use the model to predict the class labels of test data. \n",
        "model1_result = model1.evaluate(df_log_test)"
      ],
      "execution_count": null,
      "outputs": []
    },
    {
      "cell_type": "code",
      "metadata": {
        "id": "UGsA8UQcSffI",
        "outputId": "8aea3b92-69fb-4aca-8df4-42f5acebddf7"
      },
      "source": [
        "model1_result.recallByLabel"
      ],
      "execution_count": null,
      "outputs": [
        {
          "output_type": "execute_result",
          "data": {
            "text/plain": [
              "[1.0, 0.0]"
            ]
          },
          "metadata": {
            "tags": []
          },
          "execution_count": 22
        }
      ]
    },
    {
      "cell_type": "code",
      "metadata": {
        "id": "QROHOKtlSffJ",
        "outputId": "018fab80-389a-4ffb-819c-7a169c035403"
      },
      "source": [
        "model1_result.precisionByLabel"
      ],
      "execution_count": null,
      "outputs": [
        {
          "output_type": "execute_result",
          "data": {
            "text/plain": [
              "[0.9759523520187378, 0.0]"
            ]
          },
          "metadata": {
            "tags": []
          },
          "execution_count": 23
        }
      ]
    },
    {
      "cell_type": "markdown",
      "metadata": {
        "id": "TDOZMkYMSffJ"
      },
      "source": [
        "#### The label we are interested in is 1, where the customer purchases the product. \n",
        "#### We should be able to identify if a customer will purchase a product more accurately\n",
        "#### But as we can see above, we are not doing it as the recall for purchase=1 is 0"
      ]
    },
    {
      "cell_type": "code",
      "metadata": {
        "id": "JQogZBoQSffJ",
        "outputId": "f88dfe3b-27e2-4712-ffde-75bd366624ef"
      },
      "source": [
        "# Checking ROC curve\n",
        "import matplotlib.pyplot as plt\n",
        "lr_model_sum = model1.summary\n",
        "lr_roc = lr_model_sum.roc.toPandas()\n",
        "plt.plot(lr_roc['FPR'],lr_roc['TPR'])\n",
        "plt.ylabel('False Positive Rate')\n",
        "plt.xlabel('True Positive Rate')\n",
        "plt.title('ROC Curve')\n",
        "plt.show()\n",
        "print('TestSet areaUnderROC: ' + str(lr_model_sum.areaUnderROC))"
      ],
      "execution_count": null,
      "outputs": [
        {
          "output_type": "display_data",
          "data": {
            "image/png": "[encoded data removed]",
            "text/plain": [
              "<Figure size 432x288 with 1 Axes>"
            ]
          },
          "metadata": {
            "tags": [],
            "needs_background": "light"
          }
        },
        {
          "output_type": "stream",
          "text": [
            "TestSet areaUnderROC: 0.6815226653139731\n"
          ],
          "name": "stdout"
        }
      ]
    },
    {
      "cell_type": "code",
      "metadata": {
        "id": "_7mX_gnwSffK"
      },
      "source": [
        "# Create a new data frame with only the columns y and probabilities \n",
        "thresh = model1_result.predictions.select('is_purchased','probability')"
      ],
      "execution_count": null,
      "outputs": []
    },
    {
      "cell_type": "code",
      "metadata": {
        "id": "_1S1zVgQSffK"
      },
      "source": [
        "# the probability is a dense vector column. \n",
        "# You will have to find a way to access the value of the probability referring to the positive class. \n",
        "# create a function to access the probability of the positive class form the 'probability' column\n",
        "\n",
        "from pyspark.sql.functions import udf, when\n",
        "from pyspark.sql.types import FloatType\n",
        "\n",
        "element_extrac=udf(lambda v:float(v[1]),FloatType())"
      ],
      "execution_count": null,
      "outputs": []
    },
    {
      "cell_type": "code",
      "metadata": {
        "id": "VMVpH4kWSffK"
      },
      "source": [
        "# create a list of all the thresholds you want to check the metrics for. \n",
        "\n",
        "result_list = []       # to store the values of precision and recall\n",
        "\n",
        "threshold_list = [0.1,0.3,0.5,0.7,0.9]"
      ],
      "execution_count": null,
      "outputs": []
    },
    {
      "cell_type": "code",
      "metadata": {
        "id": "yvEgXRh8SffL"
      },
      "source": [
        "# Now you have the probabilities, your task is to add a class column. \n",
        "# To create this column, compare the probabilities with the threshold and decide the class. \n",
        "# You can make a loop which will repeat the same action for different thresholds\n",
        "# Use the filter and count functions to find the true positives, false positives, false negatives. (inside the loop)\n",
        "# Using these values, find the precision and recall for different thresholds. (inside the loop)\n",
        "\n",
        "\n",
        "for i in threshold_list:\n",
        "    test_pred = thresh.withColumn('label_p',when(element_extrac(thresh[\"probability\"]) >= i, 1).otherwise(0))\n",
        "    TP = test_pred.filter(\"is_purchased==1 AND label_p==1\").count()\n",
        "    FP = test_pred.filter(\"is_purchased==0 AND label_p==1\").count()\n",
        "    FN = test_pred.filter(\"is_purchased==1 AND label_p==0\").count()\n",
        "    TN = test_pred.filter(\"is_purchased==0 AND label_p==0\").count()    \n",
        "    recall = (TP/(TP+FN))\n",
        "    if TP == 0:\n",
        "        presession = 0.0\n",
        "    else:\n",
        "        presession = ((TP/(TP+FP)))\n",
        "    list1 = []\n",
        "    list1.append(i)\n",
        "    list1.append(presession)\n",
        "    list1.append(recall)\n",
        "    list1.append(TP)\n",
        "    list1.append(TN)\n",
        "    list1.append(FP)\n",
        "    list1.append(FN)\n",
        "    result_list.append(list1)"
      ],
      "execution_count": null,
      "outputs": []
    },
    {
      "cell_type": "code",
      "metadata": {
        "id": "0O9HCM1XSffL"
      },
      "source": [
        "# Create a panadas datafarme for the list of the output. \n",
        "\n",
        "# create a schema for the dataframes \n",
        "from pyspark.sql.types import *\n",
        "\n",
        "schema = StructType([StructField('threshold', FloatType(), True),\n",
        "                      StructField('precision', FloatType(), True),\n",
        "                      StructField('recall', FloatType(), True),\n",
        "                      StructField('TP', IntegerType(), True),\n",
        "                      StructField('TN', IntegerType(), True),\n",
        "                      StructField('FP', IntegerType(), True),\n",
        "                      StructField('FN', IntegerType(), True)])\n",
        "\n",
        "\n",
        "# create a rdd from the list\n",
        "rdd = spark.sparkContext.parallelize(result_list)\n",
        "\n",
        "\n",
        "# create a spark dataframe form rdd\n",
        "thresh_df = spark.createDataFrame(rdd,schema)\n",
        "\n",
        "# create pandas dataframe form the spark dataframe \n",
        "pandas_df = thresh_df.toPandas()"
      ],
      "execution_count": null,
      "outputs": []
    },
    {
      "cell_type": "code",
      "metadata": {
        "id": "JKeE45EaSffL",
        "outputId": "2172e571-2590-4eac-b7e8-094b0545c020"
      },
      "source": [
        "# create the plot\n",
        "pandas_df.plot.line(x='threshold', y=['precision','recall'])\n",
        "\n",
        "# display the plot\n",
        "plt.show()"
      ],
      "execution_count": null,
      "outputs": [
        {
          "output_type": "display_data",
          "data": {
            "image/png": "[encoded data removed]",
            "text/plain": [
              "<Figure size 432x288 with 1 Axes>"
            ]
          },
          "metadata": {
            "tags": [],
            "needs_background": "light"
          }
        }
      ]
    },
    {
      "cell_type": "markdown",
      "metadata": {
        "id": "AdaQIdlaSffM"
      },
      "source": [
        "#### We can see that for the positive class the prediction is very poor at varying thresholds too. \n",
        "#### We can say that Logistic Regression is not able to predict the positive class of this dataset"
      ]
    },
    {
      "cell_type": "markdown",
      "metadata": {
        "id": "tU6dY99DSffM"
      },
      "source": [
        "#### Updated model, if any\n",
        "Repeat the steps "
      ]
    },
    {
      "cell_type": "markdown",
      "metadata": {
        "id": "s-o_fc_qSffM"
      },
      "source": [
        "#### Let us try setting a low threshold to verify how recall improves"
      ]
    },
    {
      "cell_type": "code",
      "metadata": {
        "id": "K-l_q3wTSffM"
      },
      "source": [
        "# create the logistic model, configure it and call fit it to the data. \n",
        "lr2 = LogisticRegression(featuresCol='features', labelCol='is_purchased')\n",
        "lr2.setThreshold(0.1)\n",
        "# Fitting the model on transformed df\n",
        "model2 = lr2.fit(df_log_train)"
      ],
      "execution_count": null,
      "outputs": []
    },
    {
      "cell_type": "code",
      "metadata": {
        "id": "lExDmn4FSffM"
      },
      "source": [
        "# use the model to predict the class labels of test data. \n",
        "model2_result = model2.evaluate(df_log_test)"
      ],
      "execution_count": null,
      "outputs": []
    },
    {
      "cell_type": "code",
      "metadata": {
        "id": "O3D2NofmSffN",
        "outputId": "001a1eef-72e1-4041-c78e-2c3246e8afc3"
      },
      "source": [
        "model2_result.recallByLabel"
      ],
      "execution_count": null,
      "outputs": [
        {
          "output_type": "execute_result",
          "data": {
            "text/plain": [
              "[0.9999993792841035, 0.0]"
            ]
          },
          "metadata": {
            "tags": []
          },
          "execution_count": 33
        }
      ]
    },
    {
      "cell_type": "code",
      "metadata": {
        "id": "vxBx3QZMSffN",
        "outputId": "7119888c-af9b-4281-eea7-fb7435590e82"
      },
      "source": [
        "model2_result.precisionByLabel"
      ],
      "execution_count": null,
      "outputs": [
        {
          "output_type": "execute_result",
          "data": {
            "text/plain": [
              "[0.975952337450925, 0.0]"
            ]
          },
          "metadata": {
            "tags": []
          },
          "execution_count": 34
        }
      ]
    },
    {
      "cell_type": "code",
      "metadata": {
        "id": "47WgGM02SffN",
        "outputId": "e54ceb3f-9cdf-4899-a5de-847dee6fe3e9"
      },
      "source": [
        "# Checking ROC curve\n",
        "lr_mode2_sum = model2.summary\n",
        "lr2_roc = lr_mode2_sum.roc.toPandas()\n",
        "plt.plot(lr2_roc['FPR'],lr2_roc['TPR'])\n",
        "plt.ylabel('False Positive Rate')\n",
        "plt.xlabel('True Positive Rate')\n",
        "plt.title('ROC Curve')\n",
        "plt.show()\n",
        "print('TestSet areaUnderROC: ' + str(lr_mode2_sum.areaUnderROC))"
      ],
      "execution_count": null,
      "outputs": [
        {
          "output_type": "display_data",
          "data": {
            "image/png": "[encoded data removed]",
            "text/plain": [
              "<Figure size 432x288 with 1 Axes>"
            ]
          },
          "metadata": {
            "tags": [],
            "needs_background": "light"
          }
        },
        {
          "output_type": "stream",
          "text": [
            "TestSet areaUnderROC: 0.6817025749252578\n"
          ],
          "name": "stdout"
        }
      ]
    },
    {
      "cell_type": "markdown",
      "metadata": {
        "id": "Lc44WM9BSffN"
      },
      "source": [
        "#### We can see that even after reducing the threshold there is no improvement in the metrics"
      ]
    }
  ]
}